{
 "cells": [
  {
   "cell_type": "markdown",
   "metadata": {},
   "source": [
    "# W1M2 - SQL Tutorial"
   ]
  },
  {
   "cell_type": "markdown",
   "metadata": {},
   "source": [
    "#### 학습 목표\n",
    "SQL의 기초에 대해서 공부합니다.\n",
    "Tutorial의 Home에서부터 Operators까지 읽고 Example을 실행합니다.\n",
    "Jupyter Notebook에서 SQL을 사용해서 데이터를 처리하는 것을 공부합니다.\n",
    "\n",
    "#### 기능요구사항\n",
    "Jupyter Notebook을 만듭니다.\n",
    "SQL Tutorials에서 Example을 하나씩 수행하고 그 결과를 노트북에 출력하세요.\n",
    "원하는 출력결과를 얻기 위해 필요하다면 적합한 Demo Table을 만들어야 합니다.\n",
    "\n",
    "#### 프로그래밍 요구사항\n",
    "sqlite3 라이브러리를 사용하세요\n",
    "\n",
    "#### pandas와 같은 라이브러리는 사용해서는 안됩니다. SQL 명령어로만 원하는 결과를 얻어야 합니다.\n",
    "\n",
    "#### 예상결과 및 동작예시\n",
    "Query의 결과가 출력된 Jupyter notebook을 제출하세요.\n",
    "\n",
    "#### 팀 활동 요구사항\n",
    "각자가 이해하기 어려웠던, 또는 이해하지 못한 keyword에 대해서 함께 토의해 봅시다. 그 결과를 개인 위키에 기록하세요.\n",
    "\n"
   ]
  },
  {
   "cell_type": "markdown",
   "metadata": {},
   "source": [
    "---"
   ]
  },
  {
   "cell_type": "markdown",
   "metadata": {},
   "source": [
    "# SQL Tutorial Example"
   ]
  },
  {
   "cell_type": "code",
   "execution_count": 2,
   "metadata": {},
   "outputs": [],
   "source": [
    "\n",
    "import sqlite3\n",
    "\n",
    "conn = sqlite3.connect('./M2.db')\n",
    "cur = conn.cursor()\n",
    "sql = open('/Users/admin/Documents/GitHub/Daily_Softeer/Missions/Week1/W1M2/hjw_sql.sql', 'r').read()\n",
    "\n",
    "# init db\n",
    "cur.executescript(sql)\n",
    "\n",
    "# 6줄만 나오도록 제한\n",
    "# def print_query(query, limit=6):\n",
    "#     cur.execute(query)\n",
    "#     print(query)\n",
    "#     i = 0\n",
    "#     for row in cur:\n",
    "#         if i >= limit:\n",
    "#             print('...')\n",
    "#             break\n",
    "#         print(row)\n",
    "#         i += 1\n",
    "#     print('-' * 50)\n",
    "    \n",
    "\n",
    "def print_query(query, limit=6):\n",
    "    print(query)\n",
    "    \"\"\"Execute a query and print the result with an optional limit.\"\"\"\n",
    "    cur.execute(query)\n",
    "    results = cur.fetchall()\n",
    "    \n",
    "    # 프린트 줄의 제한\n",
    "    print(\"Query Results:\")\n",
    "    for idx, row in enumerate(results):\n",
    "        if idx >= limit:\n",
    "            print(f\"...and {len(results) - limit} more rows.\")\n",
    "            break\n",
    "        print(row)\n",
    "    \n",
    "    # Calculate and print the total rows if no limit is applied\n",
    "    if limit:\n",
    "        print(f\"Total rows (if limit is removed): {len(results)}\")\n",
    "    \n",
    "    print('-' * 50)\n",
    "\n"
   ]
  },
  {
   "cell_type": "markdown",
   "metadata": {},
   "source": [
    "#### SQL SELECT Statement"
   ]
  },
  {
   "cell_type": "code",
   "execution_count": 3,
   "metadata": {},
   "outputs": [
    {
     "name": "stdout",
     "output_type": "stream",
     "text": [
      "SELECT * FROM Customers\n",
      "Query Results:\n",
      "(1, 'Alfreds Futterkiste', 'Maria Anders', 'Obere Str. 57', 'Berlin', '12209', 'Germany')\n",
      "(2, 'Ana Trujillo Emparedados y helados', 'Ana Trujillo', 'Avda. de la Constitución 2222', 'México D.F.', '5021', 'Mexico')\n",
      "(3, 'Antonio Moreno Taquería', 'Antonio Moreno', 'Mataderos 2312', 'México D.F.', '5023', 'Mexico')\n",
      "(4, 'Around the Horn', 'Thomas Hardy', '120 Hanover Sq.', 'London', 'WA1 1DP', 'UK')\n",
      "(5, 'Berglunds snabbköp', 'Christina Berglund', 'Berguvsvägen 8', 'Luleå', 'S-958 22', 'Sweden')\n",
      "(6, 'Blauer See Delikatessen', 'Hanna Moos', 'Forsterstr. 57', 'Mannheim', '68306', 'Germany')\n",
      "...and 85 more rows.\n",
      "Total rows (if limit is removed): 91\n",
      "--------------------------------------------------\n"
     ]
    }
   ],
   "source": [
    "print_query('SELECT * FROM Customers')"
   ]
  },
  {
   "cell_type": "code",
   "execution_count": 4,
   "metadata": {},
   "outputs": [
    {
     "name": "stdout",
     "output_type": "stream",
     "text": [
      "SELECT Address FROM Customers\n",
      "Query Results:\n",
      "('Obere Str. 57',)\n",
      "('Avda. de la Constitución 2222',)\n",
      "('Mataderos 2312',)\n",
      "('120 Hanover Sq.',)\n",
      "('Berguvsvägen 8',)\n",
      "('Forsterstr. 57',)\n",
      "...and 85 more rows.\n",
      "Total rows (if limit is removed): 91\n",
      "--------------------------------------------------\n"
     ]
    }
   ],
   "source": [
    "print_query('SELECT Address FROM Customers')"
   ]
  },
  {
   "cell_type": "markdown",
   "metadata": {},
   "source": [
    "#### SQL SELECT DISTINCT"
   ]
  },
  {
   "cell_type": "code",
   "execution_count": 5,
   "metadata": {},
   "outputs": [
    {
     "name": "stdout",
     "output_type": "stream",
     "text": [
      "SELECT DISTINCT Country FROM Customers\n",
      "Query Results:\n",
      "('Germany',)\n",
      "('Mexico',)\n",
      "('UK',)\n",
      "('Sweden',)\n",
      "('France',)\n",
      "('Spain',)\n",
      "...and 15 more rows.\n",
      "Total rows (if limit is removed): 21\n",
      "--------------------------------------------------\n",
      "SELECT Country FROM Customers\n",
      "Query Results:\n",
      "('Germany',)\n",
      "('Mexico',)\n",
      "('Mexico',)\n",
      "('UK',)\n",
      "('Sweden',)\n",
      "('Germany',)\n",
      "...and 85 more rows.\n",
      "Total rows (if limit is removed): 91\n",
      "--------------------------------------------------\n",
      "SELECT COUNT(DISTINCT Country) FROM Customers\n",
      "Query Results:\n",
      "(21,)\n",
      "Total rows (if limit is removed): 1\n",
      "--------------------------------------------------\n"
     ]
    }
   ],
   "source": [
    "print_query('SELECT DISTINCT Country FROM Customers')\n",
    "print_query('SELECT Country FROM Customers')\n",
    "print_query('SELECT COUNT(DISTINCT Country) FROM Customers')\n"
   ]
  },
  {
   "cell_type": "markdown",
   "metadata": {},
   "source": [
    "#### SQL WHERE"
   ]
  },
  {
   "cell_type": "code",
   "execution_count": 6,
   "metadata": {},
   "outputs": [
    {
     "name": "stdout",
     "output_type": "stream",
     "text": [
      "\n",
      "              SELECT * FROM Customers\n",
      "              WHERE Country=\"Mexico\"\n",
      "              \n",
      "Query Results:\n",
      "(2, 'Ana Trujillo Emparedados y helados', 'Ana Trujillo', 'Avda. de la Constitución 2222', 'México D.F.', '5021', 'Mexico')\n",
      "(3, 'Antonio Moreno Taquería', 'Antonio Moreno', 'Mataderos 2312', 'México D.F.', '5023', 'Mexico')\n",
      "(13, 'Centro comercial Moctezuma', 'Francisco Chang', 'Sierras de Granada 9993', 'México D.F.', '5022', 'Mexico')\n",
      "(58, 'Pericles Comidas clásicas', 'Guillermo Fernández', 'Calle Dr. Jorge Cash 321', 'México D.F.', '5033', 'Mexico')\n",
      "(80, 'Tortuga Restaurante', 'Miguel Angel Paolino', 'Avda. Azteca 123', 'México D.F.', '5033', 'Mexico')\n",
      "Total rows (if limit is removed): 5\n",
      "--------------------------------------------------\n",
      "\n",
      "              SELECT * FROM Customers\n",
      "              WHERE CustomerID=1;\n",
      "              \n",
      "Query Results:\n",
      "(1, 'Alfreds Futterkiste', 'Maria Anders', 'Obere Str. 57', 'Berlin', '12209', 'Germany')\n",
      "Total rows (if limit is removed): 1\n",
      "--------------------------------------------------\n",
      "\n",
      "              SELECT * FROM Customers\n",
      "              WHERE CustomerID > 80\n",
      "              \n",
      "Query Results:\n",
      "(81, 'Tradição Hipermercados', 'Anabela Domingues', 'Av. Inês de Castro, 414', 'São Paulo', '05634-030', 'Brazil')\n",
      "(82, \"Trail''s Head Gourmet Provisioners\", 'Helvetius Nagy', '722 DaVinci Blvd.', 'Kirkland', '98034', 'USA')\n",
      "(83, 'Vaffeljernet', 'Palle Ibsen', 'Smagsløget 45', 'Århus', '8200', 'Denmark')\n",
      "(84, 'Victuailles en stock', 'Mary Saveley', '2, rue du Commerce', 'Lyon', '69004', 'France')\n",
      "(85, 'Vins et alcools Chevalier', 'Paul Henriot', \"59 rue de l''Abbaye\", 'Reims', '51100', 'France')\n",
      "(86, 'Die Wandernde Kuh', 'Rita Müller', 'Adenauerallee 900', 'Stuttgart', '70563', 'Germany')\n",
      "...and 5 more rows.\n",
      "Total rows (if limit is removed): 11\n",
      "--------------------------------------------------\n"
     ]
    }
   ],
   "source": [
    "WHERE_query_1 = '''\n",
    "              SELECT * FROM Customers\n",
    "              WHERE Country=\"Mexico\"\n",
    "              '''\n",
    "print_query(WHERE_query_1)\n",
    "\n",
    "WHERE_query_2 = '''\n",
    "              SELECT * FROM Customers\n",
    "              WHERE CustomerID=1;\n",
    "              '''\n",
    "print_query(WHERE_query_2)\n",
    "\n",
    "WHERE_query_3 = '''\n",
    "              SELECT * FROM Customers\n",
    "              WHERE CustomerID > 80\n",
    "              '''\n",
    "print_query(WHERE_query_3)\n",
    "\n"
   ]
  },
  {
   "cell_type": "markdown",
   "metadata": {},
   "source": [
    "#### SQL ORDER BY"
   ]
  },
  {
   "cell_type": "code",
   "execution_count": 7,
   "metadata": {},
   "outputs": [
    {
     "name": "stdout",
     "output_type": "stream",
     "text": [
      "\n",
      "SELECT * FROM Products\n",
      "ORDER BY Price\n",
      "\n",
      "Query Results:\n",
      "(33, 'Geitost', 15, 4, '500 g', 2.5)\n",
      "(24, 'Guaraná Fantástica', 10, 1, '12 - 355 ml cans', 4.5)\n",
      "(13, 'Konbu', 6, 8, '2 kg box', 6)\n",
      "(52, 'Filo Mix', 24, 5, '16 - 2 kg boxes', 7)\n",
      "(54, 'Tourtière', 25, 6, '16 pies', 7.45)\n",
      "(75, 'Rhönbräu Klosterbier', 12, 1, '24 - 0.5 l bottles', 7.75)\n",
      "...and 71 more rows.\n",
      "Total rows (if limit is removed): 77\n",
      "--------------------------------------------------\n",
      "\n",
      "SELECT * FROM Products\n",
      "ORDER BY Price DESC\n",
      "\n",
      "Query Results:\n",
      "(38, 'Côte de Blaye', 18, 1, '12 - 75 cl bottles', 263.5)\n",
      "(29, 'Thüringer Rostbratwurst', 12, 6, '50 bags x 30 sausgs.', 123.79)\n",
      "(9, 'Mishi Kobe Niku', 4, 6, '18 - 500 g pkgs.', 97)\n",
      "(20, \"Sir Rodney's Marmalade\", 8, 3, '30 gift boxes', 81)\n",
      "(18, 'Carnarvon Tigers', 7, 8, '16 kg pkg.', 62.5)\n",
      "(59, 'Raclette Courdavault', 28, 4, '5 kg pkg.', 55)\n",
      "...and 71 more rows.\n",
      "Total rows (if limit is removed): 77\n",
      "--------------------------------------------------\n",
      " \n",
      "SELECT * FROM Products\n",
      "ORDER BY ProductName\n",
      "\n",
      "Query Results:\n",
      "(17, 'Alice Mutton', 7, 6, '20 - 1 kg tins', 39)\n",
      "(3, 'Aniseed Syrup', 1, 2, '12 - 550 ml bottles', 10)\n",
      "(40, 'Boston Crab Meat', 19, 8, '24 - 4 oz tins', 18.4)\n",
      "(60, 'Camembert Pierrot', 28, 4, '15 - 300 g rounds', 34)\n",
      "(18, 'Carnarvon Tigers', 7, 8, '16 kg pkg.', 62.5)\n",
      "(1, 'Chais', 1, 1, '10 boxes x 20 bags', 18)\n",
      "...and 71 more rows.\n",
      "Total rows (if limit is removed): 77\n",
      "--------------------------------------------------\n"
     ]
    }
   ],
   "source": [
    "ORDER_BY_query = '''\n",
    "SELECT * FROM Products\n",
    "ORDER BY Price\n",
    "'''\n",
    "                 \n",
    "print_query(ORDER_BY_query)\n",
    "\n",
    "\n",
    "ORDER_BY_DESC_query = '''\n",
    "SELECT * FROM Products\n",
    "ORDER BY Price DESC\n",
    "'''\n",
    "                 \n",
    "print_query(ORDER_BY_DESC_query)\n",
    "\n",
    "\n",
    "# Alphabetically\n",
    "ORDER_BY_Alp = ''' \n",
    "SELECT * FROM Products\n",
    "ORDER BY ProductName\n",
    "'''\n",
    "print_query(ORDER_BY_Alp)\n"
   ]
  },
  {
   "cell_type": "code",
   "execution_count": 8,
   "metadata": {},
   "outputs": [
    {
     "name": "stdout",
     "output_type": "stream",
     "text": [
      " \n",
      "SELECT * FROM Customers\n",
      "ORDER BY Country ASC, CustomerName DESC\n",
      "\n",
      "Query Results:\n",
      "(64, 'Rancho grande', 'Sergio Gutiérrez', 'Av. del Libertador 900', 'Buenos Aires', '1010', 'Argentina')\n",
      "(54, 'Océano Atlántico Ltda.', 'Yvonne Moncada', 'Ing. Gustavo Moncada 8585 Piso 20-A', 'Buenos Aires', '1010', 'Argentina')\n",
      "(12, 'Cactus Comidas para llevar', 'Patricio Simpson', 'Cerrito 333', 'Buenos Aires', '1010', 'Argentina')\n",
      "(59, 'Piccolo und mehr', 'Georg Pipps', 'Geislweg 14', 'Salzburg', '5020', 'Austria')\n",
      "(20, 'Ernst Handel', 'Roland Mendel', 'Kirchgasse 6', 'Graz', '8010', 'Austria')\n",
      "(76, 'Suprêmes délices', 'Pascale Cartrain', 'Boulevard Tirou, 255', 'Charleroi', 'B-6000', 'Belgium')\n",
      "...and 85 more rows.\n",
      "Total rows (if limit is removed): 91\n",
      "--------------------------------------------------\n"
     ]
    }
   ],
   "source": [
    "# ORDER BY Several Columns\n",
    "ORDER_BY_sev = ''' \n",
    "SELECT * FROM Customers\n",
    "ORDER BY Country ASC, CustomerName DESC\n",
    "'''\n",
    "print_query(ORDER_BY_sev)"
   ]
  },
  {
   "cell_type": "markdown",
   "metadata": {},
   "source": [
    "#### SQL AND"
   ]
  },
  {
   "cell_type": "markdown",
   "metadata": {},
   "source": [
    "**AND vs OR**  \n",
    "AND\t모든 조건이 TRUE일 경우 레코드 반환\t(모든 조건 만족해야)  \n",
    "OR\t하나 이상의 조건이 TRUE일 경우 레코드 반환 (하나만 만족)  "
   ]
  },
  {
   "cell_type": "code",
   "execution_count": 9,
   "metadata": {},
   "outputs": [
    {
     "name": "stdout",
     "output_type": "stream",
     "text": [
      " \n",
      "SELECT *\n",
      "FROM Customers\n",
      "WHERE Country = \"Spain\" AND CustomerName LIKE \"G%\"\n",
      "\n",
      "Query Results:\n",
      "(29, 'Galería del gastrónomo', 'Eduardo Saavedra', 'Rambla de Cataluña, 23', 'Barcelona', '8022', 'Spain')\n",
      "(30, 'Godos Cocina Típica', 'José Pedro Freyre', 'C/ Romero, 33', 'Sevilla', '41101', 'Spain')\n",
      "Total rows (if limit is removed): 2\n",
      "--------------------------------------------------\n",
      " \n",
      "SELECT * FROM Customers\n",
      "WHERE Country = 'Germany'\n",
      "AND City = 'Berlin'\n",
      "AND PostalCode > 12000\n",
      "\n",
      "Query Results:\n",
      "(1, 'Alfreds Futterkiste', 'Maria Anders', 'Obere Str. 57', 'Berlin', '12209', 'Germany')\n",
      "Total rows (if limit is removed): 1\n",
      "--------------------------------------------------\n",
      " \n",
      "SELECT * FROM Customers\n",
      "WHERE Country = 'Spain' AND (CustomerName LIKE 'G%' OR CustomerName LIKE 'R%')\n",
      "\n",
      "Query Results:\n",
      "(29, 'Galería del gastrónomo', 'Eduardo Saavedra', 'Rambla de Cataluña, 23', 'Barcelona', '8022', 'Spain')\n",
      "(30, 'Godos Cocina Típica', 'José Pedro Freyre', 'C/ Romero, 33', 'Sevilla', '41101', 'Spain')\n",
      "(69, 'Romero y tomillo', 'Alejandra Camino', 'Gran Vía, 1', 'Madrid', '28001', 'Spain')\n",
      "Total rows (if limit is removed): 3\n",
      "--------------------------------------------------\n",
      " \n",
      "SELECT * FROM Customers\n",
      "WHERE Country = 'Spain' AND CustomerName LIKE 'G%' OR CustomerName LIKE 'R%'\n",
      "\n",
      "Query Results:\n",
      "(29, 'Galería del gastrónomo', 'Eduardo Saavedra', 'Rambla de Cataluña, 23', 'Barcelona', '8022', 'Spain')\n",
      "(30, 'Godos Cocina Típica', 'José Pedro Freyre', 'C/ Romero, 33', 'Sevilla', '41101', 'Spain')\n",
      "(64, 'Rancho grande', 'Sergio Gutiérrez', 'Av. del Libertador 900', 'Buenos Aires', '1010', 'Argentina')\n",
      "(65, 'Rattlesnake Canyon Grocery', 'Paula Wilson', '2817 Milton Dr.', 'Albuquerque', '87110', 'USA')\n",
      "(66, 'Reggiani Caseifici', 'Maurizio Moroni', 'Strada Provinciale 124', 'Reggio Emilia', '42100', 'Italy')\n",
      "(67, 'Ricardo Adocicados', 'Janete Limeira', 'Av. Copacabana, 267', 'Rio de Janeiro', '02389-890', 'Brazil')\n",
      "...and 2 more rows.\n",
      "Total rows (if limit is removed): 8\n",
      "--------------------------------------------------\n"
     ]
    }
   ],
   "source": [
    "AND_qu = ''' \n",
    "SELECT *\n",
    "FROM Customers\n",
    "WHERE Country = \"Spain\" AND CustomerName LIKE \"G%\"\n",
    "'''\n",
    "print_query(AND_qu)\n",
    "\n",
    "\n",
    "AND_qu = ''' \n",
    "SELECT * FROM Customers\n",
    "WHERE Country = 'Germany'\n",
    "AND City = 'Berlin'\n",
    "AND PostalCode > 12000\n",
    "'''\n",
    "print_query(AND_qu)\n",
    "\n",
    "# 괄호를 사용하여 연산의 우선순위를 명확히 지정해야 올바른 결과를 얻을 수 있다\n",
    "AND_qu = ''' \n",
    "SELECT * FROM Customers\n",
    "WHERE Country = 'Spain' AND (CustomerName LIKE 'G%' OR CustomerName LIKE 'R%')\n",
    "'''\n",
    "print_query(AND_qu)\n",
    "\n",
    "\n",
    "AND_qu = ''' \n",
    "SELECT * FROM Customers\n",
    "WHERE Country = 'Spain' AND CustomerName LIKE 'G%' OR CustomerName LIKE 'R%'\n",
    "'''\n",
    "print_query(AND_qu)\n"
   ]
  },
  {
   "cell_type": "markdown",
   "metadata": {},
   "source": [
    "#### SQL OR Operator"
   ]
  },
  {
   "cell_type": "code",
   "execution_count": 10,
   "metadata": {},
   "outputs": [
    {
     "name": "stdout",
     "output_type": "stream",
     "text": [
      " \n",
      "SELECT *\n",
      "FROM Customers\n",
      "WHERE Country = 'Germany' OR Country = 'Spain'\n",
      "\n",
      "Query Results:\n",
      "(1, 'Alfreds Futterkiste', 'Maria Anders', 'Obere Str. 57', 'Berlin', '12209', 'Germany')\n",
      "(6, 'Blauer See Delikatessen', 'Hanna Moos', 'Forsterstr. 57', 'Mannheim', '68306', 'Germany')\n",
      "(8, 'Bólido Comidas preparadas', 'Martín Sommer', 'C/ Araquil, 67', 'Madrid', '28023', 'Spain')\n",
      "(17, 'Drachenblut Delikatessend', 'Sven Ottlieb', 'Walserweg 21', 'Aachen', '52066', 'Germany')\n",
      "(22, 'FISSA Fabrica Inter. Salchichas S.A.', 'Diego Roel', 'C/ Moralzarzal, 86', 'Madrid', '28034', 'Spain')\n",
      "(25, 'Frankenversand', 'Peter Franken', 'Berliner Platz 43', 'München', '80805', 'Germany')\n",
      "...and 10 more rows.\n",
      "Total rows (if limit is removed): 16\n",
      "--------------------------------------------------\n",
      " \n",
      "SELECT * FROM Customers\n",
      "WHERE City = 'Berlin' OR CustomerName LIKE 'G%' OR Country = 'Norway'\n",
      "\n",
      "Query Results:\n",
      "(1, 'Alfreds Futterkiste', 'Maria Anders', 'Obere Str. 57', 'Berlin', '12209', 'Germany')\n",
      "(29, 'Galería del gastrónomo', 'Eduardo Saavedra', 'Rambla de Cataluña, 23', 'Barcelona', '8022', 'Spain')\n",
      "(30, 'Godos Cocina Típica', 'José Pedro Freyre', 'C/ Romero, 33', 'Sevilla', '41101', 'Spain')\n",
      "(31, 'Gourmet Lanchonetes', 'André Fonseca', 'Av. Brasil, 442', 'Campinas', '04876-786', 'Brazil')\n",
      "(32, 'Great Lakes Food Market', 'Howard Snyder', '2732 Baker Blvd.', 'Eugene', '97403', 'USA')\n",
      "(33, 'GROSELLA-Restaurante', 'Manuel Pereira', '5ª Ave. Los Palos Grandes', 'Caracas', '1081', 'Venezuela')\n",
      "...and 1 more rows.\n",
      "Total rows (if limit is removed): 7\n",
      "--------------------------------------------------\n",
      " \n",
      "SELECT * FROM Customers\n",
      "WHERE Country = 'Spain' AND (CustomerName LIKE 'G%' OR CustomerName LIKE 'R%')\n",
      "\n",
      "Query Results:\n",
      "(29, 'Galería del gastrónomo', 'Eduardo Saavedra', 'Rambla de Cataluña, 23', 'Barcelona', '8022', 'Spain')\n",
      "(30, 'Godos Cocina Típica', 'José Pedro Freyre', 'C/ Romero, 33', 'Sevilla', '41101', 'Spain')\n",
      "(69, 'Romero y tomillo', 'Alejandra Camino', 'Gran Vía, 1', 'Madrid', '28001', 'Spain')\n",
      "Total rows (if limit is removed): 3\n",
      "--------------------------------------------------\n",
      " \n",
      "SELECT * FROM Customers\n",
      "WHERE Country = 'Spain' AND CustomerName LIKE 'G%' OR CustomerName LIKE 'R%'\n",
      "\n",
      "Query Results:\n",
      "(29, 'Galería del gastrónomo', 'Eduardo Saavedra', 'Rambla de Cataluña, 23', 'Barcelona', '8022', 'Spain')\n",
      "(30, 'Godos Cocina Típica', 'José Pedro Freyre', 'C/ Romero, 33', 'Sevilla', '41101', 'Spain')\n",
      "(64, 'Rancho grande', 'Sergio Gutiérrez', 'Av. del Libertador 900', 'Buenos Aires', '1010', 'Argentina')\n",
      "(65, 'Rattlesnake Canyon Grocery', 'Paula Wilson', '2817 Milton Dr.', 'Albuquerque', '87110', 'USA')\n",
      "(66, 'Reggiani Caseifici', 'Maurizio Moroni', 'Strada Provinciale 124', 'Reggio Emilia', '42100', 'Italy')\n",
      "(67, 'Ricardo Adocicados', 'Janete Limeira', 'Av. Copacabana, 267', 'Rio de Janeiro', '02389-890', 'Brazil')\n",
      "...and 2 more rows.\n",
      "Total rows (if limit is removed): 8\n",
      "--------------------------------------------------\n"
     ]
    }
   ],
   "source": [
    "OR_query = ''' \n",
    "SELECT *\n",
    "FROM Customers\n",
    "WHERE Country = 'Germany' OR Country = 'Spain'\n",
    "'''\n",
    "print_query(OR_query)\n",
    "\n",
    "\n",
    "OR_query = ''' \n",
    "SELECT * FROM Customers\n",
    "WHERE City = 'Berlin' OR CustomerName LIKE 'G%' OR Country = 'Norway'\n",
    "'''\n",
    "print_query(OR_query)\n",
    "\n",
    "\n",
    "# Combining AND and OR\n",
    "AND_OR_query = ''' \n",
    "SELECT * FROM Customers\n",
    "WHERE Country = 'Spain' AND (CustomerName LIKE 'G%' OR CustomerName LIKE 'R%')\n",
    "'''\n",
    "print_query(AND_OR_query)\n",
    "\n",
    "\n",
    "AND_OR_query = ''' \n",
    "SELECT * FROM Customers\n",
    "WHERE Country = 'Spain' AND CustomerName LIKE 'G%' OR CustomerName LIKE 'R%'\n",
    "'''\n",
    "print_query(AND_OR_query)\n",
    "\n",
    "\n"
   ]
  },
  {
   "cell_type": "markdown",
   "metadata": {},
   "source": [
    "#### SQL NOT Operator"
   ]
  },
  {
   "cell_type": "code",
   "execution_count": 11,
   "metadata": {},
   "outputs": [
    {
     "name": "stdout",
     "output_type": "stream",
     "text": [
      " \n",
      "SELECT * FROM Customers\n",
      "WHERE NOT Country = 'Spain'\n",
      "\n",
      "Query Results:\n",
      "(1, 'Alfreds Futterkiste', 'Maria Anders', 'Obere Str. 57', 'Berlin', '12209', 'Germany')\n",
      "(2, 'Ana Trujillo Emparedados y helados', 'Ana Trujillo', 'Avda. de la Constitución 2222', 'México D.F.', '5021', 'Mexico')\n",
      "(3, 'Antonio Moreno Taquería', 'Antonio Moreno', 'Mataderos 2312', 'México D.F.', '5023', 'Mexico')\n",
      "(4, 'Around the Horn', 'Thomas Hardy', '120 Hanover Sq.', 'London', 'WA1 1DP', 'UK')\n",
      "(5, 'Berglunds snabbköp', 'Christina Berglund', 'Berguvsvägen 8', 'Luleå', 'S-958 22', 'Sweden')\n",
      "(6, 'Blauer See Delikatessen', 'Hanna Moos', 'Forsterstr. 57', 'Mannheim', '68306', 'Germany')\n",
      "...and 80 more rows.\n",
      "Total rows (if limit is removed): 86\n",
      "--------------------------------------------------\n",
      " \n",
      "SELECT * FROM Customers\n",
      "WHERE CustomerName NOT LIKE 'A%'\n",
      "\n",
      "Query Results:\n",
      "(5, 'Berglunds snabbköp', 'Christina Berglund', 'Berguvsvägen 8', 'Luleå', 'S-958 22', 'Sweden')\n",
      "(6, 'Blauer See Delikatessen', 'Hanna Moos', 'Forsterstr. 57', 'Mannheim', '68306', 'Germany')\n",
      "(7, 'Blondel père et fils', 'Frédérique Citeaux', '24, place Kléber', 'Strasbourg', '67000', 'France')\n",
      "(8, 'Bólido Comidas preparadas', 'Martín Sommer', 'C/ Araquil, 67', 'Madrid', '28023', 'Spain')\n",
      "(9, \"Bon app''\", 'Laurence Lebihans', '12, rue des Bouchers', 'Marseille', '13008', 'France')\n",
      "(10, 'Bottom-Dollar Marketse', 'Elizabeth Lincoln', '23 Tsawassen Blvd.', 'Tsawassen', 'T2F 8M4', 'Canada')\n",
      "...and 81 more rows.\n",
      "Total rows (if limit is removed): 87\n",
      "--------------------------------------------------\n"
     ]
    }
   ],
   "source": [
    "NOT_query = ''' \n",
    "SELECT * FROM Customers\n",
    "WHERE NOT Country = 'Spain'\n",
    "'''\n",
    "print_query(NOT_query)\n",
    "\n",
    "\n",
    "# NOT LIKE\n",
    "NOT_query = ''' \n",
    "SELECT * FROM Customers\n",
    "WHERE CustomerName NOT LIKE 'A%'\n",
    "'''\n",
    "print_query(NOT_query)\n"
   ]
  },
  {
   "cell_type": "code",
   "execution_count": 12,
   "metadata": {},
   "outputs": [
    {
     "name": "stdout",
     "output_type": "stream",
     "text": [
      " \n",
      "SELECT * FROM Customers\n",
      "WHERE CustomerID NOT BETWEEN 10 AND 60\n",
      "\n",
      "Query Results:\n",
      "(1, 'Alfreds Futterkiste', 'Maria Anders', 'Obere Str. 57', 'Berlin', '12209', 'Germany')\n",
      "(2, 'Ana Trujillo Emparedados y helados', 'Ana Trujillo', 'Avda. de la Constitución 2222', 'México D.F.', '5021', 'Mexico')\n",
      "(3, 'Antonio Moreno Taquería', 'Antonio Moreno', 'Mataderos 2312', 'México D.F.', '5023', 'Mexico')\n",
      "(4, 'Around the Horn', 'Thomas Hardy', '120 Hanover Sq.', 'London', 'WA1 1DP', 'UK')\n",
      "(5, 'Berglunds snabbköp', 'Christina Berglund', 'Berguvsvägen 8', 'Luleå', 'S-958 22', 'Sweden')\n",
      "(6, 'Blauer See Delikatessen', 'Hanna Moos', 'Forsterstr. 57', 'Mannheim', '68306', 'Germany')\n",
      "...and 34 more rows.\n",
      "Total rows (if limit is removed): 40\n",
      "--------------------------------------------------\n",
      " \n",
      "SELECT * FROM Customers\n",
      "WHERE City NOT IN ('Paris', 'London')\n",
      "\n",
      "Query Results:\n",
      "(1, 'Alfreds Futterkiste', 'Maria Anders', 'Obere Str. 57', 'Berlin', '12209', 'Germany')\n",
      "(2, 'Ana Trujillo Emparedados y helados', 'Ana Trujillo', 'Avda. de la Constitución 2222', 'México D.F.', '5021', 'Mexico')\n",
      "(3, 'Antonio Moreno Taquería', 'Antonio Moreno', 'Mataderos 2312', 'México D.F.', '5023', 'Mexico')\n",
      "(5, 'Berglunds snabbköp', 'Christina Berglund', 'Berguvsvägen 8', 'Luleå', 'S-958 22', 'Sweden')\n",
      "(6, 'Blauer See Delikatessen', 'Hanna Moos', 'Forsterstr. 57', 'Mannheim', '68306', 'Germany')\n",
      "(7, 'Blondel père et fils', 'Frédérique Citeaux', '24, place Kléber', 'Strasbourg', '67000', 'France')\n",
      "...and 77 more rows.\n",
      "Total rows (if limit is removed): 83\n",
      "--------------------------------------------------\n"
     ]
    }
   ],
   "source": [
    "# NOT BETWEEN\n",
    "NOT_query = ''' \n",
    "SELECT * FROM Customers\n",
    "WHERE CustomerID NOT BETWEEN 10 AND 60\n",
    "'''\n",
    "print_query(NOT_query)\n",
    "\n",
    "\n",
    "# NOT IN\n",
    "NOT_query = ''' \n",
    "SELECT * FROM Customers\n",
    "WHERE City NOT IN ('Paris', 'London')\n",
    "'''\n",
    "print_query(NOT_query)\n"
   ]
  },
  {
   "cell_type": "code",
   "execution_count": 13,
   "metadata": {},
   "outputs": [
    {
     "name": "stdout",
     "output_type": "stream",
     "text": [
      " \n",
      "SELECT * FROM Customers\n",
      "WHERE NOT CustomerID > 50\n",
      "\n",
      "Query Results:\n",
      "(1, 'Alfreds Futterkiste', 'Maria Anders', 'Obere Str. 57', 'Berlin', '12209', 'Germany')\n",
      "(2, 'Ana Trujillo Emparedados y helados', 'Ana Trujillo', 'Avda. de la Constitución 2222', 'México D.F.', '5021', 'Mexico')\n",
      "(3, 'Antonio Moreno Taquería', 'Antonio Moreno', 'Mataderos 2312', 'México D.F.', '5023', 'Mexico')\n",
      "(4, 'Around the Horn', 'Thomas Hardy', '120 Hanover Sq.', 'London', 'WA1 1DP', 'UK')\n",
      "(5, 'Berglunds snabbköp', 'Christina Berglund', 'Berguvsvägen 8', 'Luleå', 'S-958 22', 'Sweden')\n",
      "(6, 'Blauer See Delikatessen', 'Hanna Moos', 'Forsterstr. 57', 'Mannheim', '68306', 'Germany')\n",
      "...and 44 more rows.\n",
      "Total rows (if limit is removed): 50\n",
      "--------------------------------------------------\n",
      " \n",
      "SELECT * FROM Customers\n",
      "WHERE NOT CustomerId < 50\n",
      "\n",
      "Query Results:\n",
      "(50, 'Maison Dewey', 'Catherine Dewey', 'Rue Joseph-Bens 532', 'Bruxelles', 'B-1180', 'Belgium')\n",
      "(51, 'Mère Paillarde', 'Jean Fresnière', '43 rue St. Laurent', 'Montréal', 'H1J 1C3', 'Canada')\n",
      "(52, 'Morgenstern Gesundkost', 'Alexander Feuer', 'Heerstr. 22', 'Leipzig', '4179', 'Germany')\n",
      "(53, 'North/South', 'Simon Crowther', 'South House 300 Queensbridge', 'London', 'SW7 1RZ', 'UK')\n",
      "(54, 'Océano Atlántico Ltda.', 'Yvonne Moncada', 'Ing. Gustavo Moncada 8585 Piso 20-A', 'Buenos Aires', '1010', 'Argentina')\n",
      "(55, 'Old World Delicatessen', 'Rene Phillips', '2743 Bering St.', 'Anchorage', '99508', 'USA')\n",
      "...and 36 more rows.\n",
      "Total rows (if limit is removed): 42\n",
      "--------------------------------------------------\n"
     ]
    }
   ],
   "source": [
    "# NOT GREATER Than\n",
    "NOT_query = ''' \n",
    "SELECT * FROM Customers\n",
    "WHERE NOT CustomerID > 50\n",
    "'''\n",
    "print_query(NOT_query)\n",
    "\n",
    "\n",
    "# NOT Less Than\n",
    "NOT_query = ''' \n",
    "SELECT * FROM Customers\n",
    "WHERE NOT CustomerId < 50\n",
    "'''\n",
    "print_query(NOT_query)"
   ]
  },
  {
   "cell_type": "markdown",
   "metadata": {},
   "source": [
    "#### SQL INSERT INTO Statement"
   ]
  },
  {
   "cell_type": "code",
   "execution_count": 14,
   "metadata": {},
   "outputs": [
    {
     "name": "stdout",
     "output_type": "stream",
     "text": [
      " \n",
      "INSERT INTO Customers (CustomerName, ContactName, Address, City, PostalCode, Country)\n",
      "VALUES ('Cardinal', 'Tom B. Erichsen', 'Skagen 21', 'Stavanger', '4006', 'Norway')\n",
      "\n",
      "Query Results:\n",
      "Total rows (if limit is removed): 0\n",
      "--------------------------------------------------\n",
      " \n",
      "INSERT INTO Customers (CustomerName, City, Country)\n",
      "VALUES ('Cardinal', 'Stavanger', 'Norway')\n",
      "\n",
      "Query Results:\n",
      "Total rows (if limit is removed): 0\n",
      "--------------------------------------------------\n",
      " \n",
      "INSERT INTO Customers (CustomerName, ContactName, Address, City, PostalCode, Country)\n",
      "VALUES\n",
      "('Cardinal', 'Tom B. Erichsen', 'Skagen 21', 'Stavanger', '4006', 'Norway'),\n",
      "('Greasy Burger', 'Per Olsen', 'Gateveien 15', 'Sandnes', '4306', 'Norway'),\n",
      "('Tasty Tee', 'Finn Egan', 'Streetroad 19B', 'Liverpool', 'L1 0AA', 'UK')\n",
      "\n",
      "Query Results:\n",
      "Total rows (if limit is removed): 0\n",
      "--------------------------------------------------\n"
     ]
    }
   ],
   "source": [
    "INSERT_INTO_query = ''' \n",
    "INSERT INTO Customers (CustomerName, ContactName, Address, City, PostalCode, Country)\n",
    "VALUES ('Cardinal', 'Tom B. Erichsen', 'Skagen 21', 'Stavanger', '4006', 'Norway')\n",
    "'''\n",
    "print_query(INSERT_INTO_query)\n",
    "\n",
    "INSERT_INTO_query = ''' \n",
    "INSERT INTO Customers (CustomerName, City, Country)\n",
    "VALUES ('Cardinal', 'Stavanger', 'Norway')\n",
    "'''\n",
    "print_query(INSERT_INTO_query)\n",
    "\n",
    "# Insert Multiple Rows\n",
    "INSERT_INTO_query = ''' \n",
    "INSERT INTO Customers (CustomerName, ContactName, Address, City, PostalCode, Country)\n",
    "VALUES\n",
    "('Cardinal', 'Tom B. Erichsen', 'Skagen 21', 'Stavanger', '4006', 'Norway'),\n",
    "('Greasy Burger', 'Per Olsen', 'Gateveien 15', 'Sandnes', '4306', 'Norway'),\n",
    "('Tasty Tee', 'Finn Egan', 'Streetroad 19B', 'Liverpool', 'L1 0AA', 'UK')\n",
    "'''\n",
    "print_query(INSERT_INTO_query)\n",
    "\n",
    "\n"
   ]
  },
  {
   "cell_type": "markdown",
   "metadata": {},
   "source": [
    "#### SQL NULL Values"
   ]
  },
  {
   "cell_type": "code",
   "execution_count": 15,
   "metadata": {},
   "outputs": [
    {
     "name": "stdout",
     "output_type": "stream",
     "text": [
      " \n",
      "SELECT CustomerName, ContactName, Address\n",
      "FROM Customers\n",
      "WHERE Address IS NULL\n",
      "\n",
      "Query Results:\n",
      "('Cardinal', None, None)\n",
      "Total rows (if limit is removed): 1\n",
      "--------------------------------------------------\n",
      " \n",
      "SELECT CustomerName, ContactName, Address\n",
      "FROM Customers\n",
      "WHERE Address IS NOT NULL\n",
      "\n",
      "Query Results:\n",
      "('Alfreds Futterkiste', 'Maria Anders', 'Obere Str. 57')\n",
      "('Ana Trujillo Emparedados y helados', 'Ana Trujillo', 'Avda. de la Constitución 2222')\n",
      "('Antonio Moreno Taquería', 'Antonio Moreno', 'Mataderos 2312')\n",
      "('Around the Horn', 'Thomas Hardy', '120 Hanover Sq.')\n",
      "('Berglunds snabbköp', 'Christina Berglund', 'Berguvsvägen 8')\n",
      "('Blauer See Delikatessen', 'Hanna Moos', 'Forsterstr. 57')\n",
      "...and 89 more rows.\n",
      "Total rows (if limit is removed): 95\n",
      "--------------------------------------------------\n"
     ]
    }
   ],
   "source": [
    "NULL_query = ''' \n",
    "SELECT CustomerName, ContactName, Address\n",
    "FROM Customers\n",
    "WHERE Address IS NULL\n",
    "'''\n",
    "print_query(NULL_query)\n",
    "\n",
    "NULL_query = ''' \n",
    "SELECT CustomerName, ContactName, Address\n",
    "FROM Customers\n",
    "WHERE Address IS NOT NULL\n",
    "'''\n",
    "print_query(NULL_query)"
   ]
  },
  {
   "cell_type": "markdown",
   "metadata": {},
   "source": [
    "#### SQL UPDATE Statement"
   ]
  },
  {
   "cell_type": "code",
   "execution_count": 16,
   "metadata": {},
   "outputs": [
    {
     "name": "stdout",
     "output_type": "stream",
     "text": [
      " \n",
      "SELECT * \n",
      "FROM Customers\n",
      "WHERE CustomerID = 1\n",
      "\n",
      "Query Results:\n",
      "(1, 'Alfreds Futterkiste', 'Maria Anders', 'Obere Str. 57', 'Berlin', '12209', 'Germany')\n",
      "Total rows (if limit is removed): 1\n",
      "--------------------------------------------------\n",
      "\n",
      "UPDATE Customers\n",
      "SET ContactName = 'Alfred Schmidt', City= 'Frankfurt'\n",
      "WHERE CustomerID = 1\n",
      "\n",
      "Query Results:\n",
      "Total rows (if limit is removed): 0\n",
      "--------------------------------------------------\n",
      " \n",
      "SELECT * \n",
      "FROM Customers\n",
      "WHERE CustomerID = 1\n",
      "\n",
      "Query Results:\n",
      "(1, 'Alfreds Futterkiste', 'Alfred Schmidt', 'Obere Str. 57', 'Frankfurt', '12209', 'Germany')\n",
      "Total rows (if limit is removed): 1\n",
      "--------------------------------------------------\n"
     ]
    }
   ],
   "source": [
    "before_Update_query = ''' \n",
    "SELECT * \n",
    "FROM Customers\n",
    "WHERE CustomerID = 1\n",
    "'''\n",
    "print_query(before_Update_query)\n",
    "\n",
    "UPDATE_query = '''\n",
    "UPDATE Customers\n",
    "SET ContactName = 'Alfred Schmidt', City= 'Frankfurt'\n",
    "WHERE CustomerID = 1\n",
    "'''\n",
    "print_query(UPDATE_query)\n",
    "\n",
    "after_Update_query = ''' \n",
    "SELECT * \n",
    "FROM Customers\n",
    "WHERE CustomerID = 1\n",
    "'''\n",
    "print_query(after_Update_query)"
   ]
  },
  {
   "cell_type": "code",
   "execution_count": 17,
   "metadata": {},
   "outputs": [
    {
     "name": "stdout",
     "output_type": "stream",
     "text": [
      "\n",
      "UPDATE Customers\n",
      "SET ContactName='Juan'\n",
      "WHERE Country='Mexico'\n",
      "\n"
     ]
    }
   ],
   "source": [
    "UPDATE_query = '''\n",
    "UPDATE Customers\n",
    "SET ContactName='Juan'\n",
    "WHERE Country='Mexico'\n",
    "'''\n",
    "print(UPDATE_query)\n",
    "\n",
    "\n",
    "# UPDATE_query = '''\n",
    "# UPDATE Customers\n",
    "# SET ContactName='Juan'\n",
    "# '''\n",
    "# print(UPDATE_query)"
   ]
  },
  {
   "cell_type": "markdown",
   "metadata": {},
   "source": [
    "#### SQL DELETE Statement\n"
   ]
  },
  {
   "cell_type": "code",
   "execution_count": 18,
   "metadata": {},
   "outputs": [
    {
     "name": "stdout",
     "output_type": "stream",
     "text": [
      " \n",
      "SELECT * FROM Customers\n",
      "WHERE CustomerName = 'Alfreds Futterkiste'\n",
      "\n",
      "Query Results:\n",
      "(1, 'Alfreds Futterkiste', 'Alfred Schmidt', 'Obere Str. 57', 'Frankfurt', '12209', 'Germany')\n",
      "Total rows (if limit is removed): 1\n",
      "--------------------------------------------------\n",
      " \n",
      "DELETE FROM Customers \n",
      "WHERE CustomerName = 'Alfreds Futterkiste'\n",
      "\n"
     ]
    }
   ],
   "source": [
    "before_Delete_query = ''' \n",
    "SELECT * FROM Customers\n",
    "WHERE CustomerName = 'Alfreds Futterkiste'\n",
    "'''\n",
    "print_query(before_Delete_query)\n",
    "\n",
    "after_Delete_query = ''' \n",
    "DELETE FROM Customers \n",
    "WHERE CustomerName = 'Alfreds Futterkiste'\n",
    "'''\n",
    "print(after_Delete_query)\n",
    "\n",
    "\n",
    "# DELETE FROM Customers\n",
    "# DROP TABLE Customers"
   ]
  },
  {
   "cell_type": "markdown",
   "metadata": {},
   "source": [
    "\n",
    "                DELETE\t            DROP TABLE\n",
    "데이터 삭제 여부:\t테이블의 데이터만 삭제\t테이블과 데이터 모두 삭제"
   ]
  },
  {
   "cell_type": "markdown",
   "metadata": {},
   "source": [
    "#### SQL TOP, LIMIT, FETCH FIRST or ROWNUM Clause\n",
    "\n",
    "- SELECT TOP 절은 반환할 레코드의 최대 개수를 지정하는 데 사용\n",
    "- Top은 SQLite에서 지원되지 않으므로, limit 사용"
   ]
  },
  {
   "cell_type": "code",
   "execution_count": 19,
   "metadata": {},
   "outputs": [
    {
     "name": "stdout",
     "output_type": "stream",
     "text": [
      "SELECT * FROM Customers LIMIT 3\n",
      "Query Results:\n",
      "(1, 'Alfreds Futterkiste', 'Alfred Schmidt', 'Obere Str. 57', 'Frankfurt', '12209', 'Germany')\n",
      "(2, 'Ana Trujillo Emparedados y helados', 'Ana Trujillo', 'Avda. de la Constitución 2222', 'México D.F.', '5021', 'Mexico')\n",
      "(3, 'Antonio Moreno Taquería', 'Antonio Moreno', 'Mataderos 2312', 'México D.F.', '5023', 'Mexico')\n",
      "Total rows (if limit is removed): 3\n",
      "--------------------------------------------------\n"
     ]
    }
   ],
   "source": [
    "print_query(\"SELECT * FROM Customers LIMIT 3\")\n",
    "#print_query(\"SELECT TOP 3 * FROM Customers\")"
   ]
  },
  {
   "cell_type": "code",
   "execution_count": 20,
   "metadata": {},
   "outputs": [
    {
     "name": "stdout",
     "output_type": "stream",
     "text": [
      "SELECT * FROM Customers LIMIT 3\n",
      "Query Results:\n",
      "(1, 'Alfreds Futterkiste', 'Alfred Schmidt', 'Obere Str. 57', 'Frankfurt', '12209', 'Germany')\n",
      "(2, 'Ana Trujillo Emparedados y helados', 'Ana Trujillo', 'Avda. de la Constitución 2222', 'México D.F.', '5021', 'Mexico')\n",
      "(3, 'Antonio Moreno Taquería', 'Antonio Moreno', 'Mataderos 2312', 'México D.F.', '5023', 'Mexico')\n",
      "Total rows (if limit is removed): 3\n",
      "--------------------------------------------------\n"
     ]
    }
   ],
   "source": [
    "print_query(\"SELECT * FROM Customers LIMIT 3\")"
   ]
  },
  {
   "cell_type": "code",
   "execution_count": 21,
   "metadata": {},
   "outputs": [
    {
     "name": "stdout",
     "output_type": "stream",
     "text": [
      " \n",
      "SELECT * FROM Customers\n",
      "ORDER BY CustomerName\n",
      "LIMIT (SELECT CAST(COUNT(*) * 0.5 AS INT) FROM Customers);\n",
      "\n",
      "Query Results:\n",
      "(1, 'Alfreds Futterkiste', 'Alfred Schmidt', 'Obere Str. 57', 'Frankfurt', '12209', 'Germany')\n",
      "(2, 'Ana Trujillo Emparedados y helados', 'Ana Trujillo', 'Avda. de la Constitución 2222', 'México D.F.', '5021', 'Mexico')\n",
      "(3, 'Antonio Moreno Taquería', 'Antonio Moreno', 'Mataderos 2312', 'México D.F.', '5023', 'Mexico')\n",
      "(4, 'Around the Horn', 'Thomas Hardy', '120 Hanover Sq.', 'London', 'WA1 1DP', 'UK')\n",
      "(11, \"B''s Beverages\", 'Victoria Ashworth', 'Fauntleroy Circus', 'London', 'EC2 5NT', 'UK')\n",
      "(5, 'Berglunds snabbköp', 'Christina Berglund', 'Berguvsvägen 8', 'Luleå', 'S-958 22', 'Sweden')\n",
      "...and 42 more rows.\n",
      "Total rows (if limit is removed): 48\n",
      "--------------------------------------------------\n"
     ]
    }
   ],
   "source": [
    "# Top Percent 바꿔서 진행해보기\n",
    "TOP_query = ''' \n",
    "SELECT * FROM Customers\n",
    "ORDER BY CustomerName\n",
    "LIMIT (SELECT CAST(COUNT(*) * 0.5 AS INT) FROM Customers);\n",
    "'''\n",
    "print_query(TOP_query)"
   ]
  },
  {
   "cell_type": "code",
   "execution_count": 22,
   "metadata": {},
   "outputs": [
    {
     "name": "stdout",
     "output_type": "stream",
     "text": [
      " \n",
      "SELECT * FROM Customers\n",
      "WHERE Country = 'Germany'\n",
      "LIMIT 3\n",
      "\n",
      "Query Results:\n",
      "(1, 'Alfreds Futterkiste', 'Alfred Schmidt', 'Obere Str. 57', 'Frankfurt', '12209', 'Germany')\n",
      "(6, 'Blauer See Delikatessen', 'Hanna Moos', 'Forsterstr. 57', 'Mannheim', '68306', 'Germany')\n",
      "(17, 'Drachenblut Delikatessend', 'Sven Ottlieb', 'Walserweg 21', 'Aachen', '52066', 'Germany')\n",
      "Total rows (if limit is removed): 3\n",
      "--------------------------------------------------\n"
     ]
    }
   ],
   "source": [
    "TOP_query = ''' \n",
    "SELECT * FROM Customers\n",
    "WHERE Country = 'Germany'\n",
    "LIMIT 3\n",
    "'''\n",
    "print_query(TOP_query)"
   ]
  },
  {
   "cell_type": "code",
   "execution_count": 23,
   "metadata": {},
   "outputs": [
    {
     "name": "stdout",
     "output_type": "stream",
     "text": [
      "SELECT * FROM Customers ORDER BY CustomerName DESC LIMIT 3;\n",
      "Query Results:\n",
      "(91, 'Wolski', 'Zbyszek', 'ul. Filtrowa 68', 'Walla', '01-012', 'Poland')\n",
      "(90, 'Wilman Kala', 'Matti Karttunen', 'Keskuskatu 45', 'Helsinki', '21240', 'Finland')\n",
      "(89, 'White Clover Markets', 'Karl Jablonski', '305 - 14th Ave. S. Suite 3B', 'Seattle', '98128', 'USA')\n",
      "Total rows (if limit is removed): 3\n",
      "--------------------------------------------------\n"
     ]
    }
   ],
   "source": [
    "print_query(\"SELECT * FROM Customers ORDER BY CustomerName DESC LIMIT 3;\")"
   ]
  },
  {
   "cell_type": "markdown",
   "metadata": {},
   "source": [
    "#### SQL Aggregate Functions"
   ]
  },
  {
   "cell_type": "markdown",
   "metadata": {},
   "source": [
    "#### SQL MIN() and MAX() Functions"
   ]
  },
  {
   "cell_type": "code",
   "execution_count": 24,
   "metadata": {},
   "outputs": [
    {
     "name": "stdout",
     "output_type": "stream",
     "text": [
      "SELECT MIN(Price) FROM Products\n",
      "Query Results:\n",
      "(2.5,)\n",
      "Total rows (if limit is removed): 1\n",
      "--------------------------------------------------\n"
     ]
    }
   ],
   "source": [
    "print_query(\"SELECT MIN(Price) FROM Products\")"
   ]
  },
  {
   "cell_type": "code",
   "execution_count": 25,
   "metadata": {},
   "outputs": [
    {
     "name": "stdout",
     "output_type": "stream",
     "text": [
      "SELECT MAX(Price) FROM Products\n",
      "Query Results:\n",
      "(263.5,)\n",
      "Total rows (if limit is removed): 1\n",
      "--------------------------------------------------\n"
     ]
    }
   ],
   "source": [
    "print_query(\"SELECT MAX(Price) FROM Products\")"
   ]
  },
  {
   "cell_type": "code",
   "execution_count": 26,
   "metadata": {},
   "outputs": [
    {
     "name": "stdout",
     "output_type": "stream",
     "text": [
      "SELECT MIN(Price) AS SmallestPrice FROM Products\n",
      "Query Results:\n",
      "(2.5,)\n",
      "Total rows (if limit is removed): 1\n",
      "--------------------------------------------------\n"
     ]
    }
   ],
   "source": [
    "print_query(\"SELECT MIN(Price) AS SmallestPrice FROM Products\")"
   ]
  },
  {
   "cell_type": "code",
   "execution_count": 27,
   "metadata": {},
   "outputs": [
    {
     "name": "stdout",
     "output_type": "stream",
     "text": [
      "SELECT MIN(Price) AS SmallestPrice, CategoryID FROM Products GROUP BY CategoryID\n",
      "Query Results:\n",
      "(4.5, 1)\n",
      "(10, 2)\n",
      "(9.2, 3)\n",
      "(2.5, 4)\n",
      "(7, 5)\n",
      "(7.45, 6)\n",
      "...and 2 more rows.\n",
      "Total rows (if limit is removed): 8\n",
      "--------------------------------------------------\n"
     ]
    }
   ],
   "source": [
    "# 그룹별로 가장 작은 값을 구한 것\n",
    "print_query(\"SELECT MIN(Price) AS SmallestPrice, CategoryID FROM Products GROUP BY CategoryID\")"
   ]
  },
  {
   "cell_type": "markdown",
   "metadata": {},
   "source": [
    "#### SQL COUNT() Function"
   ]
  },
  {
   "cell_type": "code",
   "execution_count": 28,
   "metadata": {},
   "outputs": [
    {
     "name": "stdout",
     "output_type": "stream",
     "text": [
      "SELECT COUNT(*) FROM Products\n",
      "(77,)\n",
      "--------------------------------------------------\n",
      "SELECT COUNT(ProductName) FROM Products\n",
      "(77,)\n",
      "--------------------------------------------------\n",
      "SELECT COUNT(ProductID) FROM Products WHERE Price > 20\n",
      "(37,)\n",
      "--------------------------------------------------\n",
      "SELECT COUNT(DISTINCT Price) FROM Products\n",
      "(62,)\n",
      "--------------------------------------------------\n",
      "SELECT COUNT(*) AS [Number of records] FROM Products\n",
      "(77,)\n",
      "--------------------------------------------------\n",
      "SELECT COUNT(*) AS [Number of records], CategoryID FROM Products GROUP BY CategoryID\n",
      "(12, 1)\n",
      "(12, 2)\n",
      "(13, 3)\n",
      "(10, 4)\n",
      "(7, 5)\n",
      "(6, 6)\n",
      "...\n",
      "--------------------------------------------------\n"
     ]
    }
   ],
   "source": [
    "# 6줄만 나오도록 제한\n",
    "def print_query(query, limit=6):\n",
    "    cur.execute(query)\n",
    "    print(query)\n",
    "    i = 0\n",
    "    for row in cur:\n",
    "        if i >= limit:\n",
    "            print('...')\n",
    "            break\n",
    "        print(row)\n",
    "        i += 1\n",
    "    print('-' * 50)\n",
    "\n",
    "print_query(\"SELECT COUNT(*) FROM Products\")\n",
    "print_query(\"SELECT COUNT(ProductName) FROM Products\")\n",
    "print_query(\"SELECT COUNT(ProductID) FROM Products WHERE Price > 20\")\n",
    "print_query(\"SELECT COUNT(DISTINCT Price) FROM Products\")\n",
    "print_query(\"SELECT COUNT(*) AS [Number of records] FROM Products\")\n",
    "print_query(\"SELECT COUNT(*) AS [Number of records], CategoryID FROM Products GROUP BY CategoryID\")\n",
    "\n"
   ]
  },
  {
   "cell_type": "code",
   "execution_count": 29,
   "metadata": {},
   "outputs": [],
   "source": [
    "def print_query(query, limit=6):\n",
    "    print(query)\n",
    "    \"\"\"Execute a query and print the result with an optional limit.\"\"\"\n",
    "    cur.execute(query)\n",
    "    results = cur.fetchall()\n",
    "    \n",
    "    # 프린트 줄의 제한\n",
    "    print(\"Query Results:\")\n",
    "    for idx, row in enumerate(results):\n",
    "        if idx >= limit:\n",
    "            print(f\"...and {len(results) - limit} more rows.\")\n",
    "            break\n",
    "        print(row)\n",
    "    \n",
    "    # Calculate and print the total rows if no limit is applied\n",
    "    if limit:\n",
    "        print(f\"Total rows (if limit is removed): {len(results)}\")\n",
    "    \n",
    "    print('-' * 50)"
   ]
  },
  {
   "cell_type": "markdown",
   "metadata": {},
   "source": [
    "#### SQL SUM() Function"
   ]
  },
  {
   "cell_type": "code",
   "execution_count": 30,
   "metadata": {},
   "outputs": [
    {
     "name": "stdout",
     "output_type": "stream",
     "text": [
      "SELECT SUM(Quantity) FROM OrderDetails\n",
      "Query Results:\n",
      "(12743,)\n",
      "Total rows (if limit is removed): 1\n",
      "--------------------------------------------------\n"
     ]
    }
   ],
   "source": [
    "print_query(\"SELECT SUM(Quantity) FROM OrderDetails\")"
   ]
  },
  {
   "cell_type": "code",
   "execution_count": 31,
   "metadata": {},
   "outputs": [
    {
     "name": "stdout",
     "output_type": "stream",
     "text": [
      "SELECT SUM(Quantity) FROM OrderDetails WHERE ProductID = 11\n",
      "Query Results:\n",
      "(182,)\n",
      "Total rows (if limit is removed): 1\n",
      "--------------------------------------------------\n"
     ]
    }
   ],
   "source": [
    "print_query(\"SELECT SUM(Quantity) FROM OrderDetails WHERE ProductID = 11\")"
   ]
  },
  {
   "cell_type": "code",
   "execution_count": 32,
   "metadata": {},
   "outputs": [
    {
     "name": "stdout",
     "output_type": "stream",
     "text": [
      "SELECT SUM(Quantity) AS total FROM OrderDetails\n",
      "Query Results:\n",
      "(12743,)\n",
      "Total rows (if limit is removed): 1\n",
      "--------------------------------------------------\n"
     ]
    }
   ],
   "source": [
    "print_query(\"SELECT SUM(Quantity) AS total FROM OrderDetails\")"
   ]
  },
  {
   "cell_type": "code",
   "execution_count": 33,
   "metadata": {},
   "outputs": [
    {
     "name": "stdout",
     "output_type": "stream",
     "text": [
      "SELECT OrderID, SUM(Quantity) AS [Total Quantity] FROM OrderDetails GROUP BY OrderID\n",
      "Query Results:\n",
      "(10248, 27)\n",
      "(10249, 49)\n",
      "(10250, 60)\n",
      "(10251, 41)\n",
      "(10252, 105)\n",
      "(10253, 102)\n",
      "...and 190 more rows.\n",
      "Total rows (if limit is removed): 196\n",
      "--------------------------------------------------\n"
     ]
    }
   ],
   "source": [
    "print_query(\"SELECT OrderID, SUM(Quantity) AS [Total Quantity] FROM OrderDetails GROUP BY OrderID\")"
   ]
  },
  {
   "cell_type": "code",
   "execution_count": 34,
   "metadata": {},
   "outputs": [
    {
     "name": "stdout",
     "output_type": "stream",
     "text": [
      "SELECT SUM(Quantity * 10) FROM OrderDetails\n",
      "Query Results:\n",
      "(127430,)\n",
      "Total rows (if limit is removed): 1\n",
      "--------------------------------------------------\n",
      "SELECT SUM(Quantity) FROM OrderDetails\n",
      "Query Results:\n",
      "(12743,)\n",
      "Total rows (if limit is removed): 1\n",
      "--------------------------------------------------\n"
     ]
    }
   ],
   "source": [
    "print_query(\"SELECT SUM(Quantity * 10) FROM OrderDetails\")\n",
    "print_query(\"SELECT SUM(Quantity) FROM OrderDetails\")\n"
   ]
  },
  {
   "cell_type": "code",
   "execution_count": 35,
   "metadata": {},
   "outputs": [
    {
     "name": "stdout",
     "output_type": "stream",
     "text": [
      "SELECT SUM(Price * Quantity) FROM OrderDetails LEFT JOIN Products ON OrderDetails.ProductID = Products.ProductID\n",
      "Query Results:\n",
      "(386424.23,)\n",
      "Total rows (if limit is removed): 1\n",
      "--------------------------------------------------\n"
     ]
    }
   ],
   "source": [
    "print_query(\"SELECT SUM(Price * Quantity) FROM OrderDetails LEFT JOIN Products ON OrderDetails.ProductID = Products.ProductID\")"
   ]
  },
  {
   "cell_type": "markdown",
   "metadata": {},
   "source": [
    "#### SQL AVG() Function"
   ]
  },
  {
   "cell_type": "code",
   "execution_count": 36,
   "metadata": {},
   "outputs": [
    {
     "name": "stdout",
     "output_type": "stream",
     "text": [
      "SELECT AVG(Price) FROM Products\n",
      "Query Results:\n",
      "(28.866363636363637,)\n",
      "Total rows (if limit is removed): 1\n",
      "--------------------------------------------------\n",
      "SELECT AVG(Price) FROM Products WHERE CategoryID = 1\n",
      "Query Results:\n",
      "(37.979166666666664,)\n",
      "Total rows (if limit is removed): 1\n",
      "--------------------------------------------------\n",
      "SELECT AVG(Price) AS [average price] FROM Products\n",
      "Query Results:\n",
      "(28.866363636363637,)\n",
      "Total rows (if limit is removed): 1\n",
      "--------------------------------------------------\n"
     ]
    }
   ],
   "source": [
    "print_query(\"SELECT AVG(Price) FROM Products\")\n",
    "print_query(\"SELECT AVG(Price) FROM Products WHERE CategoryID = 1\")\n",
    "print_query(\"SELECT AVG(Price) AS [average price] FROM Products\")"
   ]
  },
  {
   "cell_type": "code",
   "execution_count": 37,
   "metadata": {},
   "outputs": [
    {
     "name": "stdout",
     "output_type": "stream",
     "text": [
      "SELECT * FROM Products WHERE price > (SELECT AVG(price) FROM Products)\n",
      "Query Results:\n",
      "(7, \"Uncle Bob's Organic Dried Pears\", 3, 7, '12 - 1 lb pkgs.', 30)\n",
      "(8, 'Northwoods Cranberry Sauce', 3, 2, '12 - 12 oz jars', 40)\n",
      "(9, 'Mishi Kobe Niku', 4, 6, '18 - 500 g pkgs.', 97)\n",
      "(10, 'Ikura', 4, 8, '12 - 200 ml jars', 31)\n",
      "(12, 'Queso Manchego La Pastora', 5, 4, '10 - 500 g pkgs.', 38)\n",
      "(17, 'Alice Mutton', 7, 6, '20 - 1 kg tins', 39)\n",
      "...and 19 more rows.\n",
      "Total rows (if limit is removed): 25\n",
      "--------------------------------------------------\n"
     ]
    }
   ],
   "source": [
    "print_query(\"SELECT * FROM Products WHERE price > (SELECT AVG(price) FROM Products)\")"
   ]
  },
  {
   "cell_type": "code",
   "execution_count": 38,
   "metadata": {},
   "outputs": [
    {
     "name": "stdout",
     "output_type": "stream",
     "text": [
      "SELECT AVG(Price) AS AveragePrice, CategoryID FROM Products GROUP BY CategoryID\n",
      "Query Results:\n",
      "(37.979166666666664, 1)\n",
      "(23.0625, 2)\n",
      "(25.16, 3)\n",
      "(28.73, 4)\n",
      "(20.25, 5)\n",
      "(54.00666666666667, 6)\n",
      "...and 2 more rows.\n",
      "Total rows (if limit is removed): 8\n",
      "--------------------------------------------------\n"
     ]
    }
   ],
   "source": [
    "print_query(\"SELECT AVG(Price) AS AveragePrice, CategoryID FROM Products GROUP BY CategoryID\")"
   ]
  },
  {
   "cell_type": "markdown",
   "metadata": {},
   "source": [
    "#### SQL LIKE Operator"
   ]
  },
  {
   "cell_type": "code",
   "execution_count": 39,
   "metadata": {},
   "outputs": [
    {
     "name": "stdout",
     "output_type": "stream",
     "text": [
      "SELECT * FROM  Customers WHERE CustomerName LIKE 'a%'\n",
      "Query Results:\n",
      "(1, 'Alfreds Futterkiste', 'Alfred Schmidt', 'Obere Str. 57', 'Frankfurt', '12209', 'Germany')\n",
      "(2, 'Ana Trujillo Emparedados y helados', 'Ana Trujillo', 'Avda. de la Constitución 2222', 'México D.F.', '5021', 'Mexico')\n",
      "(3, 'Antonio Moreno Taquería', 'Antonio Moreno', 'Mataderos 2312', 'México D.F.', '5023', 'Mexico')\n",
      "(4, 'Around the Horn', 'Thomas Hardy', '120 Hanover Sq.', 'London', 'WA1 1DP', 'UK')\n",
      "Total rows (if limit is removed): 4\n",
      "--------------------------------------------------\n"
     ]
    }
   ],
   "source": [
    "print_query(\"SELECT * FROM  Customers WHERE CustomerName LIKE 'a%'\")"
   ]
  },
  {
   "cell_type": "code",
   "execution_count": 40,
   "metadata": {},
   "outputs": [
    {
     "name": "stdout",
     "output_type": "stream",
     "text": [
      "SELECT * FROM Customers WHERE city LIKE 'L_nd__'\n",
      "Query Results:\n",
      "(4, 'Around the Horn', 'Thomas Hardy', '120 Hanover Sq.', 'London', 'WA1 1DP', 'UK')\n",
      "(11, \"B''s Beverages\", 'Victoria Ashworth', 'Fauntleroy Circus', 'London', 'EC2 5NT', 'UK')\n",
      "(16, 'Consolidated Holdings', 'Elizabeth Brown', 'Berkeley Gardens 12 Brewery', 'London', 'WX1 6LT', 'UK')\n",
      "(19, 'Eastern Connection', 'Ann Devon', '35 King George', 'London', 'WX3 6FW', 'UK')\n",
      "(53, 'North/South', 'Simon Crowther', 'South House 300 Queensbridge', 'London', 'SW7 1RZ', 'UK')\n",
      "(72, 'Seven Seas Imports', 'Hari Kumar', '90 Wadhurst Rd.', 'London', 'OX15 4NB', 'UK')\n",
      "...and 1 more rows.\n",
      "Total rows (if limit is removed): 7\n",
      "--------------------------------------------------\n"
     ]
    }
   ],
   "source": [
    "print_query(\"SELECT * FROM Customers WHERE city LIKE 'L_nd__'\")"
   ]
  },
  {
   "cell_type": "code",
   "execution_count": 41,
   "metadata": {},
   "outputs": [
    {
     "name": "stdout",
     "output_type": "stream",
     "text": [
      "SELECT * FROM Customers WHERE city LIKE '%L%'\n",
      "Query Results:\n",
      "(4, 'Around the Horn', 'Thomas Hardy', '120 Hanover Sq.', 'London', 'WA1 1DP', 'UK')\n",
      "(5, 'Berglunds snabbköp', 'Christina Berglund', 'Berguvsvägen 8', 'Luleå', 'S-958 22', 'Sweden')\n",
      "(9, \"Bon app''\", 'Laurence Lebihans', '12, rue des Bouchers', 'Marseille', '13008', 'France')\n",
      "(11, \"B''s Beverages\", 'Victoria Ashworth', 'Fauntleroy Circus', 'London', 'EC2 5NT', 'UK')\n",
      "(15, 'Comércio Mineiro', 'Pedro Afonso', 'Av. dos Lusíadas, 23', 'São Paulo', '05432-043', 'Brazil')\n",
      "(16, 'Consolidated Holdings', 'Elizabeth Brown', 'Berkeley Gardens 12 Brewery', 'London', 'WX1 6LT', 'UK')\n",
      "...and 35 more rows.\n",
      "Total rows (if limit is removed): 41\n",
      "--------------------------------------------------\n"
     ]
    }
   ],
   "source": [
    "print_query(\"SELECT * FROM Customers WHERE city LIKE '%L%'\")\n",
    "# L이 포함된 모든 것"
   ]
  },
  {
   "cell_type": "code",
   "execution_count": 42,
   "metadata": {},
   "outputs": [
    {
     "name": "stdout",
     "output_type": "stream",
     "text": [
      "SELECT * FROM Customers WHERE CustomerName LIKE 'La%'\n",
      "Query Results:\n",
      "(40, \"La corne d''abondance\", 'Daniel Tonini', \"67, avenue de l''Europe\", 'Versailles', '78000', 'France')\n",
      "(41, \"La maison d''Asie\", 'Annette Roulet', '1 rue Alsace-Lorraine', 'Toulouse', '31000', 'France')\n",
      "(42, 'Laughing Bacchus Wine Cellars', 'Yoshi Tannamuri', '1900 Oak St.', 'Vancouver', 'V3F 2K1', 'Canada')\n",
      "(43, 'Lazy K Kountry Store', 'John Steel', '12 Orchestra Terrace', 'Walla Walla', '99362', 'USA')\n",
      "Total rows (if limit is removed): 4\n",
      "--------------------------------------------------\n"
     ]
    }
   ],
   "source": [
    "print_query(\"SELECT * FROM Customers WHERE CustomerName LIKE 'La%'\")"
   ]
  },
  {
   "cell_type": "code",
   "execution_count": 43,
   "metadata": {},
   "outputs": [
    {
     "name": "stdout",
     "output_type": "stream",
     "text": [
      "SELECT * FROM Customers WHERE CustomerName LIKE 'a%' OR CustomerName LIKE 'b%'\n",
      "Query Results:\n",
      "(1, 'Alfreds Futterkiste', 'Alfred Schmidt', 'Obere Str. 57', 'Frankfurt', '12209', 'Germany')\n",
      "(2, 'Ana Trujillo Emparedados y helados', 'Ana Trujillo', 'Avda. de la Constitución 2222', 'México D.F.', '5021', 'Mexico')\n",
      "(3, 'Antonio Moreno Taquería', 'Antonio Moreno', 'Mataderos 2312', 'México D.F.', '5023', 'Mexico')\n",
      "(4, 'Around the Horn', 'Thomas Hardy', '120 Hanover Sq.', 'London', 'WA1 1DP', 'UK')\n",
      "(5, 'Berglunds snabbköp', 'Christina Berglund', 'Berguvsvägen 8', 'Luleå', 'S-958 22', 'Sweden')\n",
      "(6, 'Blauer See Delikatessen', 'Hanna Moos', 'Forsterstr. 57', 'Mannheim', '68306', 'Germany')\n",
      "...and 5 more rows.\n",
      "Total rows (if limit is removed): 11\n",
      "--------------------------------------------------\n"
     ]
    }
   ],
   "source": [
    "print_query(\"SELECT * FROM Customers WHERE CustomerName LIKE 'a%' OR CustomerName LIKE 'b%'\")"
   ]
  },
  {
   "cell_type": "code",
   "execution_count": 44,
   "metadata": {},
   "outputs": [
    {
     "name": "stdout",
     "output_type": "stream",
     "text": [
      "SELECT * FROM Customers WHERE CustomerName LIKE '%a'\n",
      "Query Results:\n",
      "(3, 'Antonio Moreno Taquería', 'Antonio Moreno', 'Mataderos 2312', 'México D.F.', '5023', 'Mexico')\n",
      "(13, 'Centro comercial Moctezuma', 'Francisco Chang', 'Sierras de Granada 9993', 'México D.F.', '5022', 'Mexico')\n",
      "(30, 'Godos Cocina Típica', 'José Pedro Freyre', 'C/ Romero, 33', 'Sevilla', '41101', 'Spain')\n",
      "(61, 'Que Delícia', 'Bernardo Batista', 'Rua da Panificadora, 12', 'Rio de Janeiro', '02389-673', 'Brazil')\n",
      "(62, 'Queen Cozinha', 'Lúcia Carvalho', 'Alameda dos Canàrios, 891', 'São Paulo', '05487-020', 'Brazil')\n",
      "(88, 'Wellington Importadora', 'Paula Parente', 'Rua do Mercado, 12', 'Resende', '08737-363', 'Brazil')\n",
      "...and 1 more rows.\n",
      "Total rows (if limit is removed): 7\n",
      "--------------------------------------------------\n"
     ]
    }
   ],
   "source": [
    "print_query(\"SELECT * FROM Customers WHERE CustomerName LIKE '%a'\")"
   ]
  },
  {
   "cell_type": "code",
   "execution_count": 45,
   "metadata": {},
   "outputs": [
    {
     "name": "stdout",
     "output_type": "stream",
     "text": [
      "SELECT * FROM Customers WHERE CustomerName LIKE 'b%s'\n",
      "Query Results:\n",
      "(7, 'Blondel père et fils', 'Frédérique Citeaux', '24, place Kléber', 'Strasbourg', '67000', 'France')\n",
      "(8, 'Bólido Comidas preparadas', 'Martín Sommer', 'C/ Araquil, 67', 'Madrid', '28023', 'Spain')\n",
      "(11, \"B''s Beverages\", 'Victoria Ashworth', 'Fauntleroy Circus', 'London', 'EC2 5NT', 'UK')\n",
      "Total rows (if limit is removed): 3\n",
      "--------------------------------------------------\n"
     ]
    }
   ],
   "source": [
    "print_query(\"SELECT * FROM Customers WHERE CustomerName LIKE 'b%s'\")"
   ]
  },
  {
   "cell_type": "code",
   "execution_count": 46,
   "metadata": {},
   "outputs": [
    {
     "name": "stdout",
     "output_type": "stream",
     "text": [
      "SELECT * FROM Customers WHERE CustomerName LIKE '%or%'\n",
      "Query Results:\n",
      "(3, 'Antonio Moreno Taquería', 'Antonio Moreno', 'Mataderos 2312', 'México D.F.', '5023', 'Mexico')\n",
      "(4, 'Around the Horn', 'Thomas Hardy', '120 Hanover Sq.', 'London', 'WA1 1DP', 'UK')\n",
      "(36, 'Hungry Coyote Import Store', 'Yoshi Latimer', 'City Center Plaza 516 Main St.', 'Elgin', '97827', 'USA')\n",
      "(40, \"La corne d''abondance\", 'Daniel Tonini', \"67, avenue de l''Europe\", 'Versailles', '78000', 'France')\n",
      "(43, 'Lazy K Kountry Store', 'John Steel', '12 Orchestra Terrace', 'Walla Walla', '99362', 'USA')\n",
      "(52, 'Morgenstern Gesundkost', 'Alexander Feuer', 'Heerstr. 22', 'Leipzig', '4179', 'Germany')\n",
      "...and 5 more rows.\n",
      "Total rows (if limit is removed): 11\n",
      "--------------------------------------------------\n"
     ]
    }
   ],
   "source": [
    "print_query(\"SELECT * FROM Customers WHERE CustomerName LIKE '%or%'\")"
   ]
  },
  {
   "cell_type": "code",
   "execution_count": 47,
   "metadata": {},
   "outputs": [
    {
     "name": "stdout",
     "output_type": "stream",
     "text": [
      "SELECT * FROM Customers WHERE CustomerName LIKE 'a___%'\n",
      "Query Results:\n",
      "(1, 'Alfreds Futterkiste', 'Alfred Schmidt', 'Obere Str. 57', 'Frankfurt', '12209', 'Germany')\n",
      "(2, 'Ana Trujillo Emparedados y helados', 'Ana Trujillo', 'Avda. de la Constitución 2222', 'México D.F.', '5021', 'Mexico')\n",
      "(3, 'Antonio Moreno Taquería', 'Antonio Moreno', 'Mataderos 2312', 'México D.F.', '5023', 'Mexico')\n",
      "(4, 'Around the Horn', 'Thomas Hardy', '120 Hanover Sq.', 'London', 'WA1 1DP', 'UK')\n",
      "Total rows (if limit is removed): 4\n",
      "--------------------------------------------------\n",
      "SELECT * FROM Customers WHERE CustomerName LIKE '_r%'\n",
      "Query Results:\n",
      "(4, 'Around the Horn', 'Thomas Hardy', '120 Hanover Sq.', 'London', 'WA1 1DP', 'UK')\n",
      "(17, 'Drachenblut Delikatessend', 'Sven Ottlieb', 'Walserweg 21', 'Aachen', '52066', 'Germany')\n",
      "(20, 'Ernst Handel', 'Roland Mendel', 'Kirchgasse 6', 'Graz', '8010', 'Austria')\n",
      "(25, 'Frankenversand', 'Peter Franken', 'Berliner Platz 43', 'München', '80805', 'Germany')\n",
      "(26, 'France restauration', 'Carine Schmitt', '54, rue Royale', 'Nantes', '44000', 'France')\n",
      "(27, 'Franchi S.p.A.', 'Paolo Accorti', 'Via Monte Bianco 34', 'Torino', '10100', 'Italy')\n",
      "...and 6 more rows.\n",
      "Total rows (if limit is removed): 12\n",
      "--------------------------------------------------\n"
     ]
    }
   ],
   "source": [
    "print_query(\"SELECT * FROM Customers WHERE CustomerName LIKE 'a___%'\")\n",
    "# 3글자 이상\n",
    "\n",
    "print_query(\"SELECT * FROM Customers WHERE CustomerName LIKE '_r%'\")\n",
    "# 2번째에 r"
   ]
  },
  {
   "cell_type": "code",
   "execution_count": 48,
   "metadata": {},
   "outputs": [
    {
     "name": "stdout",
     "output_type": "stream",
     "text": [
      "SELECT * FROM Customers WHERE Country LIKE 'Spain'\n",
      "Query Results:\n",
      "(8, 'Bólido Comidas preparadas', 'Martín Sommer', 'C/ Araquil, 67', 'Madrid', '28023', 'Spain')\n",
      "(22, 'FISSA Fabrica Inter. Salchichas S.A.', 'Diego Roel', 'C/ Moralzarzal, 86', 'Madrid', '28034', 'Spain')\n",
      "(29, 'Galería del gastrónomo', 'Eduardo Saavedra', 'Rambla de Cataluña, 23', 'Barcelona', '8022', 'Spain')\n",
      "(30, 'Godos Cocina Típica', 'José Pedro Freyre', 'C/ Romero, 33', 'Sevilla', '41101', 'Spain')\n",
      "(69, 'Romero y tomillo', 'Alejandra Camino', 'Gran Vía, 1', 'Madrid', '28001', 'Spain')\n",
      "Total rows (if limit is removed): 5\n",
      "--------------------------------------------------\n"
     ]
    }
   ],
   "source": [
    "print_query(\"SELECT * FROM Customers WHERE Country LIKE 'Spain'\")"
   ]
  },
  {
   "cell_type": "markdown",
   "metadata": {},
   "source": [
    "#### SQL Wildcards"
   ]
  },
  {
   "cell_type": "code",
   "execution_count": 49,
   "metadata": {},
   "outputs": [
    {
     "name": "stdout",
     "output_type": "stream",
     "text": [
      "SELECT * FROM Customers WHERE CustomerName LIKE 'a%'\n",
      "Query Results:\n",
      "(1, 'Alfreds Futterkiste', 'Alfred Schmidt', 'Obere Str. 57', 'Frankfurt', '12209', 'Germany')\n",
      "(2, 'Ana Trujillo Emparedados y helados', 'Ana Trujillo', 'Avda. de la Constitución 2222', 'México D.F.', '5021', 'Mexico')\n",
      "(3, 'Antonio Moreno Taquería', 'Antonio Moreno', 'Mataderos 2312', 'México D.F.', '5023', 'Mexico')\n",
      "(4, 'Around the Horn', 'Thomas Hardy', '120 Hanover Sq.', 'London', 'WA1 1DP', 'UK')\n",
      "Total rows (if limit is removed): 4\n",
      "--------------------------------------------------\n"
     ]
    }
   ],
   "source": [
    "print_query(\"SELECT * FROM Customers WHERE CustomerName LIKE 'a%'\")"
   ]
  },
  {
   "cell_type": "code",
   "execution_count": 50,
   "metadata": {},
   "outputs": [
    {
     "name": "stdout",
     "output_type": "stream",
     "text": [
      "SELECT * FROM Customers WHERE CustomerName LIKE '%es'\n",
      "Query Results:\n",
      "(11, \"B''s Beverages\", 'Victoria Ashworth', 'Fauntleroy Circus', 'London', 'EC2 5NT', 'UK')\n",
      "(23, 'Folies gourmandes', 'Martine Rancé', '184, chaussée de Tournai', 'Lille', '59000', 'France')\n",
      "(31, 'Gourmet Lanchonetes', 'André Fonseca', 'Av. Brasil, 442', 'Campinas', '04876-786', 'Brazil')\n",
      "(34, 'Hanari Carnes', 'Mario Pontes', 'Rua do Paço, 67', 'Rio de Janeiro', '05454-876', 'Brazil')\n",
      "(47, 'LINO-Delicateses', 'Felipe Izquierdo', 'Ave. 5 de Mayo Porlamar', 'I. de Margarita', '4980', 'Venezuela')\n",
      "(76, 'Suprêmes délices', 'Pascale Cartrain', 'Boulevard Tirou, 255', 'Charleroi', 'B-6000', 'Belgium')\n",
      "Total rows (if limit is removed): 6\n",
      "--------------------------------------------------\n",
      "SELECT * FROM Customers WHERE CustomerName LIKE '%mer%'\n",
      "Query Results:\n",
      "(13, 'Centro comercial Moctezuma', 'Francisco Chang', 'Sierras de Granada 9993', 'México D.F.', '5022', 'Mexico')\n",
      "(46, 'LILA-Supermercado', 'Carlos González', 'Carrera 52 con Ave. Bolívar #65-98 Llano Largo', 'Barquisimeto', '3508', 'Venezuela')\n",
      "(69, 'Romero y tomillo', 'Alejandra Camino', 'Gran Vía, 1', 'Madrid', '28001', 'Spain')\n",
      "(81, 'Tradição Hipermercados', 'Anabela Domingues', 'Av. Inês de Castro, 414', 'São Paulo', '05634-030', 'Brazil')\n",
      "Total rows (if limit is removed): 4\n",
      "--------------------------------------------------\n"
     ]
    }
   ],
   "source": [
    "print_query(\"SELECT * FROM Customers WHERE CustomerName LIKE '%es'\")\n",
    "print_query(\"SELECT * FROM Customers WHERE CustomerName LIKE '%mer%'\")"
   ]
  },
  {
   "cell_type": "code",
   "execution_count": 51,
   "metadata": {},
   "outputs": [
    {
     "name": "stdout",
     "output_type": "stream",
     "text": [
      "SELECT * FROM Customers WHERE City LIKE '_ondon'\n",
      "Query Results:\n",
      "(4, 'Around the Horn', 'Thomas Hardy', '120 Hanover Sq.', 'London', 'WA1 1DP', 'UK')\n",
      "(11, \"B''s Beverages\", 'Victoria Ashworth', 'Fauntleroy Circus', 'London', 'EC2 5NT', 'UK')\n",
      "(16, 'Consolidated Holdings', 'Elizabeth Brown', 'Berkeley Gardens 12 Brewery', 'London', 'WX1 6LT', 'UK')\n",
      "(19, 'Eastern Connection', 'Ann Devon', '35 King George', 'London', 'WX3 6FW', 'UK')\n",
      "(53, 'North/South', 'Simon Crowther', 'South House 300 Queensbridge', 'London', 'SW7 1RZ', 'UK')\n",
      "(72, 'Seven Seas Imports', 'Hari Kumar', '90 Wadhurst Rd.', 'London', 'OX15 4NB', 'UK')\n",
      "Total rows (if limit is removed): 6\n",
      "--------------------------------------------------\n"
     ]
    }
   ],
   "source": [
    "print_query(\"SELECT * FROM Customers WHERE City LIKE '_ondon'\")"
   ]
  },
  {
   "cell_type": "code",
   "execution_count": 52,
   "metadata": {},
   "outputs": [
    {
     "name": "stdout",
     "output_type": "stream",
     "text": [
      "SELECT * FROM Customers WHERE City LIKE 'L___on'\n",
      "Query Results:\n",
      "(4, 'Around the Horn', 'Thomas Hardy', '120 Hanover Sq.', 'London', 'WA1 1DP', 'UK')\n",
      "(11, \"B''s Beverages\", 'Victoria Ashworth', 'Fauntleroy Circus', 'London', 'EC2 5NT', 'UK')\n",
      "(16, 'Consolidated Holdings', 'Elizabeth Brown', 'Berkeley Gardens 12 Brewery', 'London', 'WX1 6LT', 'UK')\n",
      "(19, 'Eastern Connection', 'Ann Devon', '35 King George', 'London', 'WX3 6FW', 'UK')\n",
      "(53, 'North/South', 'Simon Crowther', 'South House 300 Queensbridge', 'London', 'SW7 1RZ', 'UK')\n",
      "(72, 'Seven Seas Imports', 'Hari Kumar', '90 Wadhurst Rd.', 'London', 'OX15 4NB', 'UK')\n",
      "Total rows (if limit is removed): 6\n",
      "--------------------------------------------------\n"
     ]
    }
   ],
   "source": [
    "print_query(\"SELECT * FROM Customers WHERE City LIKE 'L___on'\") "
   ]
  },
  {
   "cell_type": "code",
   "execution_count": 53,
   "metadata": {},
   "outputs": [
    {
     "name": "stdout",
     "output_type": "stream",
     "text": [
      "SELECT * FROM Customers WHERE CustomerName LIKE 'a__%'\n",
      "Query Results:\n",
      "(1, 'Alfreds Futterkiste', 'Alfred Schmidt', 'Obere Str. 57', 'Frankfurt', '12209', 'Germany')\n",
      "(2, 'Ana Trujillo Emparedados y helados', 'Ana Trujillo', 'Avda. de la Constitución 2222', 'México D.F.', '5021', 'Mexico')\n",
      "(3, 'Antonio Moreno Taquería', 'Antonio Moreno', 'Mataderos 2312', 'México D.F.', '5023', 'Mexico')\n",
      "(4, 'Around the Horn', 'Thomas Hardy', '120 Hanover Sq.', 'London', 'WA1 1DP', 'UK')\n",
      "Total rows (if limit is removed): 4\n",
      "--------------------------------------------------\n",
      "SELECT * FROM Customers WHERE CustomerName LIKE '_r%'\n",
      "Query Results:\n",
      "(4, 'Around the Horn', 'Thomas Hardy', '120 Hanover Sq.', 'London', 'WA1 1DP', 'UK')\n",
      "(17, 'Drachenblut Delikatessend', 'Sven Ottlieb', 'Walserweg 21', 'Aachen', '52066', 'Germany')\n",
      "(20, 'Ernst Handel', 'Roland Mendel', 'Kirchgasse 6', 'Graz', '8010', 'Austria')\n",
      "(25, 'Frankenversand', 'Peter Franken', 'Berliner Platz 43', 'München', '80805', 'Germany')\n",
      "(26, 'France restauration', 'Carine Schmitt', '54, rue Royale', 'Nantes', '44000', 'France')\n",
      "(27, 'Franchi S.p.A.', 'Paolo Accorti', 'Via Monte Bianco 34', 'Torino', '10100', 'Italy')\n",
      "...and 6 more rows.\n",
      "Total rows (if limit is removed): 12\n",
      "--------------------------------------------------\n",
      "SELECT * FROM Customers WHERE Country LIKE 'Spain'\n",
      "Query Results:\n",
      "(8, 'Bólido Comidas preparadas', 'Martín Sommer', 'C/ Araquil, 67', 'Madrid', '28023', 'Spain')\n",
      "(22, 'FISSA Fabrica Inter. Salchichas S.A.', 'Diego Roel', 'C/ Moralzarzal, 86', 'Madrid', '28034', 'Spain')\n",
      "(29, 'Galería del gastrónomo', 'Eduardo Saavedra', 'Rambla de Cataluña, 23', 'Barcelona', '8022', 'Spain')\n",
      "(30, 'Godos Cocina Típica', 'José Pedro Freyre', 'C/ Romero, 33', 'Sevilla', '41101', 'Spain')\n",
      "(69, 'Romero y tomillo', 'Alejandra Camino', 'Gran Vía, 1', 'Madrid', '28001', 'Spain')\n",
      "Total rows (if limit is removed): 5\n",
      "--------------------------------------------------\n"
     ]
    }
   ],
   "source": [
    "#print_query(\"SELECT * FROM Customers WHERE CustomerName LIKE '[bsp]%'\")\n",
    "#print_query(\"SELECT * FROM Customers WHERE CustomerName LIKE '[a-f]%'\")\n",
    "print_query(\"SELECT * FROM Customers WHERE CustomerName LIKE 'a__%'\")\n",
    "print_query(\"SELECT * FROM Customers WHERE CustomerName LIKE '_r%'\")\n",
    "print_query(\"SELECT * FROM Customers WHERE Country LIKE 'Spain'\")\n"
   ]
  },
  {
   "cell_type": "markdown",
   "metadata": {},
   "source": [
    "#### SQL IN Operator"
   ]
  },
  {
   "cell_type": "code",
   "execution_count": 54,
   "metadata": {},
   "outputs": [
    {
     "name": "stdout",
     "output_type": "stream",
     "text": [
      "SELECT * FROM Customers WHERE Country IN ('Germany', 'France', 'UK')\n",
      "Query Results:\n",
      "(1, 'Alfreds Futterkiste', 'Alfred Schmidt', 'Obere Str. 57', 'Frankfurt', '12209', 'Germany')\n",
      "(4, 'Around the Horn', 'Thomas Hardy', '120 Hanover Sq.', 'London', 'WA1 1DP', 'UK')\n",
      "(6, 'Blauer See Delikatessen', 'Hanna Moos', 'Forsterstr. 57', 'Mannheim', '68306', 'Germany')\n",
      "(7, 'Blondel père et fils', 'Frédérique Citeaux', '24, place Kléber', 'Strasbourg', '67000', 'France')\n",
      "(9, \"Bon app''\", 'Laurence Lebihans', '12, rue des Bouchers', 'Marseille', '13008', 'France')\n",
      "(11, \"B''s Beverages\", 'Victoria Ashworth', 'Fauntleroy Circus', 'London', 'EC2 5NT', 'UK')\n",
      "...and 24 more rows.\n",
      "Total rows (if limit is removed): 30\n",
      "--------------------------------------------------\n",
      "SELECT * FROM Customers WHERE Country NOT IN ('Germany', 'France', 'UK')\n",
      "Query Results:\n",
      "(2, 'Ana Trujillo Emparedados y helados', 'Ana Trujillo', 'Avda. de la Constitución 2222', 'México D.F.', '5021', 'Mexico')\n",
      "(3, 'Antonio Moreno Taquería', 'Antonio Moreno', 'Mataderos 2312', 'México D.F.', '5023', 'Mexico')\n",
      "(5, 'Berglunds snabbköp', 'Christina Berglund', 'Berguvsvägen 8', 'Luleå', 'S-958 22', 'Sweden')\n",
      "(8, 'Bólido Comidas preparadas', 'Martín Sommer', 'C/ Araquil, 67', 'Madrid', '28023', 'Spain')\n",
      "(10, 'Bottom-Dollar Marketse', 'Elizabeth Lincoln', '23 Tsawassen Blvd.', 'Tsawassen', 'T2F 8M4', 'Canada')\n",
      "(12, 'Cactus Comidas para llevar', 'Patricio Simpson', 'Cerrito 333', 'Buenos Aires', '1010', 'Argentina')\n",
      "...and 60 more rows.\n",
      "Total rows (if limit is removed): 66\n",
      "--------------------------------------------------\n"
     ]
    }
   ],
   "source": [
    "print_query(\"SELECT * FROM Customers WHERE Country IN ('Germany', 'France', 'UK')\")\n",
    "print_query(\"SELECT * FROM Customers WHERE Country NOT IN ('Germany', 'France', 'UK')\")"
   ]
  },
  {
   "cell_type": "code",
   "execution_count": 55,
   "metadata": {},
   "outputs": [
    {
     "name": "stdout",
     "output_type": "stream",
     "text": [
      "SELECT * FROM Customers WHERE CustomerID IN (SELECT CustomerID FROM Orders)\n",
      "Query Results:\n",
      "(2, 'Ana Trujillo Emparedados y helados', 'Ana Trujillo', 'Avda. de la Constitución 2222', 'México D.F.', '5021', 'Mexico')\n",
      "(3, 'Antonio Moreno Taquería', 'Antonio Moreno', 'Mataderos 2312', 'México D.F.', '5023', 'Mexico')\n",
      "(4, 'Around the Horn', 'Thomas Hardy', '120 Hanover Sq.', 'London', 'WA1 1DP', 'UK')\n",
      "(5, 'Berglunds snabbköp', 'Christina Berglund', 'Berguvsvägen 8', 'Luleå', 'S-958 22', 'Sweden')\n",
      "(7, 'Blondel père et fils', 'Frédérique Citeaux', '24, place Kléber', 'Strasbourg', '67000', 'France')\n",
      "(8, 'Bólido Comidas preparadas', 'Martín Sommer', 'C/ Araquil, 67', 'Madrid', '28023', 'Spain')\n",
      "...and 68 more rows.\n",
      "Total rows (if limit is removed): 74\n",
      "--------------------------------------------------\n",
      "SELECT * FROM Customers WHERE CustomerID NOT IN (SELECT CustomerID FROM Orders)\n",
      "Query Results:\n",
      "(1, 'Alfreds Futterkiste', 'Alfred Schmidt', 'Obere Str. 57', 'Frankfurt', '12209', 'Germany')\n",
      "(6, 'Blauer See Delikatessen', 'Hanna Moos', 'Forsterstr. 57', 'Mannheim', '68306', 'Germany')\n",
      "(12, 'Cactus Comidas para llevar', 'Patricio Simpson', 'Cerrito 333', 'Buenos Aires', '1010', 'Argentina')\n",
      "(22, 'FISSA Fabrica Inter. Salchichas S.A.', 'Diego Roel', 'C/ Moralzarzal, 86', 'Madrid', '28034', 'Spain')\n",
      "(26, 'France restauration', 'Carine Schmitt', '54, rue Royale', 'Nantes', '44000', 'France')\n",
      "(32, 'Great Lakes Food Market', 'Howard Snyder', '2732 Baker Blvd.', 'Eugene', '97403', 'USA')\n",
      "...and 16 more rows.\n",
      "Total rows (if limit is removed): 22\n",
      "--------------------------------------------------\n"
     ]
    }
   ],
   "source": [
    "print_query(\"SELECT * FROM Customers WHERE CustomerID IN (SELECT CustomerID FROM Orders)\")\n",
    "print_query(\"SELECT * FROM Customers WHERE CustomerID NOT IN (SELECT CustomerID FROM Orders)\")"
   ]
  },
  {
   "cell_type": "markdown",
   "metadata": {},
   "source": [
    "#### SQL BETWEEN Operator"
   ]
  },
  {
   "cell_type": "code",
   "execution_count": 56,
   "metadata": {},
   "outputs": [
    {
     "name": "stdout",
     "output_type": "stream",
     "text": [
      "SELECT * FROM Products WHERE Price BETWEEN 10 AND 20\n",
      "Query Results:\n",
      "(1, 'Chais', 1, 1, '10 boxes x 20 bags', 18)\n",
      "(2, 'Chang', 1, 1, '24 - 12 oz bottles', 19)\n",
      "(3, 'Aniseed Syrup', 1, 2, '12 - 550 ml bottles', 10)\n",
      "(15, 'Genen Shouyu', 6, 2, '24 - 250 ml bottles', 15.5)\n",
      "(16, 'Pavlova', 7, 3, '32 - 500 g boxes', 17.45)\n",
      "(21, \"Sir Rodney's Scones\", 8, 3, '24 pkgs. x 4 pieces', 10)\n",
      "...and 23 more rows.\n",
      "Total rows (if limit is removed): 29\n",
      "--------------------------------------------------\n",
      "SELECT * FROM Products WHERE Price NOT BETWEEN 10 AND 20\n",
      "Query Results:\n",
      "(4, \"Chef Anton's Cajun Seasoning\", 2, 2, '48 - 6 oz jars', 22)\n",
      "(5, \"Chef Anton's Gumbo Mix\", 2, 2, '36 boxes', 21.35)\n",
      "(6, \"Grandma's Boysenberry Spread\", 3, 2, '12 - 8 oz jars', 25)\n",
      "(7, \"Uncle Bob's Organic Dried Pears\", 3, 7, '12 - 1 lb pkgs.', 30)\n",
      "(8, 'Northwoods Cranberry Sauce', 3, 2, '12 - 12 oz jars', 40)\n",
      "(9, 'Mishi Kobe Niku', 4, 6, '18 - 500 g pkgs.', 97)\n",
      "...and 42 more rows.\n",
      "Total rows (if limit is removed): 48\n",
      "--------------------------------------------------\n"
     ]
    }
   ],
   "source": [
    "print_query(\"SELECT * FROM Products WHERE Price BETWEEN 10 AND 20\")\n",
    "print_query(\"SELECT * FROM Products WHERE Price NOT BETWEEN 10 AND 20\")"
   ]
  },
  {
   "cell_type": "code",
   "execution_count": 57,
   "metadata": {},
   "outputs": [
    {
     "name": "stdout",
     "output_type": "stream",
     "text": [
      "SELECT * FROM Products WHERE Price BETWEEN 10 AND 20 AND CategoryID IN (1, 4, 3)\n",
      "Query Results:\n",
      "(1, 'Chais', 1, 1, '10 boxes x 20 bags', 18)\n",
      "(2, 'Chang', 1, 1, '24 - 12 oz bottles', 19)\n",
      "(16, 'Pavlova', 7, 3, '32 - 500 g boxes', 17.45)\n",
      "(21, \"Sir Rodney's Scones\", 8, 3, '24 pkgs. x 4 pieces', 10)\n",
      "(25, 'NuNuCa Nuß-Nougat-Creme', 11, 3, '20 - 450 g glasses', 14)\n",
      "(31, 'Gorgonzola Telino', 14, 4, '12 - 100 g pkgs', 12.5)\n",
      "...and 10 more rows.\n",
      "Total rows (if limit is removed): 16\n",
      "--------------------------------------------------\n"
     ]
    }
   ],
   "source": [
    "print_query(\"SELECT * FROM Products WHERE Price BETWEEN 10 AND 20 AND CategoryID IN (1, 4, 3)\")"
   ]
  },
  {
   "cell_type": "code",
   "execution_count": 58,
   "metadata": {},
   "outputs": [
    {
     "name": "stdout",
     "output_type": "stream",
     "text": [
      "SELECT * FROM Products WHERE ProductName BETWEEN 'Carnarvon Tigers' AND 'Mozzarella di Giovanni' ORDER BY ProductName\n",
      "Query Results:\n",
      "(18, 'Carnarvon Tigers', 7, 8, '16 kg pkg.', 62.5)\n",
      "(1, 'Chais', 1, 1, '10 boxes x 20 bags', 18)\n",
      "(2, 'Chang', 1, 1, '24 - 12 oz bottles', 19)\n",
      "(39, 'Chartreuse verte', 18, 1, '750 cc per bottle', 18)\n",
      "(4, \"Chef Anton's Cajun Seasoning\", 2, 2, '48 - 6 oz jars', 22)\n",
      "(5, \"Chef Anton's Gumbo Mix\", 2, 2, '36 boxes', 21.35)\n",
      "...and 31 more rows.\n",
      "Total rows (if limit is removed): 37\n",
      "--------------------------------------------------\n"
     ]
    }
   ],
   "source": [
    "print_query(\"SELECT * FROM Products WHERE ProductName BETWEEN 'Carnarvon Tigers' AND 'Mozzarella di Giovanni' ORDER BY ProductName\")"
   ]
  },
  {
   "cell_type": "code",
   "execution_count": 59,
   "metadata": {},
   "outputs": [
    {
     "name": "stdout",
     "output_type": "stream",
     "text": [
      " \n",
      "SELECT * FROM Products\n",
      "WHERE ProductName BETWEEN \"Carnarvon Tigers\" AND \"Chef Anton's Cajun Seasoning\"\n",
      "ORDER BY ProductName\n",
      "\n",
      "Query Results:\n",
      "(18, 'Carnarvon Tigers', 7, 8, '16 kg pkg.', 62.5)\n",
      "(1, 'Chais', 1, 1, '10 boxes x 20 bags', 18)\n",
      "(2, 'Chang', 1, 1, '24 - 12 oz bottles', 19)\n",
      "(39, 'Chartreuse verte', 18, 1, '750 cc per bottle', 18)\n",
      "(4, \"Chef Anton's Cajun Seasoning\", 2, 2, '48 - 6 oz jars', 22)\n",
      "Total rows (if limit is removed): 5\n",
      "--------------------------------------------------\n"
     ]
    }
   ],
   "source": [
    "query = ''' \n",
    "SELECT * FROM Products\n",
    "WHERE ProductName BETWEEN \"Carnarvon Tigers\" AND \"Chef Anton's Cajun Seasoning\"\n",
    "ORDER BY ProductName\n",
    "'''\n",
    "print_query(query)"
   ]
  },
  {
   "cell_type": "code",
   "execution_count": 60,
   "metadata": {},
   "outputs": [
    {
     "name": "stdout",
     "output_type": "stream",
     "text": [
      " \n",
      "SELECT * FROM Products\n",
      "WHERE ProductName NOT BETWEEN 'Carnarvon Tigers' AND 'Mozzarella di Giovanni'\n",
      "ORDER BY ProductName\n",
      "\n",
      "Query Results:\n",
      "(17, 'Alice Mutton', 7, 6, '20 - 1 kg tins', 39)\n",
      "(3, 'Aniseed Syrup', 1, 2, '12 - 550 ml bottles', 10)\n",
      "(40, 'Boston Crab Meat', 19, 8, '24 - 4 oz tins', 18.4)\n",
      "(60, 'Camembert Pierrot', 28, 4, '15 - 300 g rounds', 34)\n",
      "(30, 'Nord-Ost Matjeshering', 13, 8, '10 - 200 g glasses', 25.89)\n",
      "(8, 'Northwoods Cranberry Sauce', 3, 2, '12 - 12 oz jars', 40)\n",
      "...and 34 more rows.\n",
      "Total rows (if limit is removed): 40\n",
      "--------------------------------------------------\n"
     ]
    }
   ],
   "source": [
    "query = ''' \n",
    "SELECT * FROM Products\n",
    "WHERE ProductName NOT BETWEEN 'Carnarvon Tigers' AND 'Mozzarella di Giovanni'\n",
    "ORDER BY ProductName\n",
    "'''\n",
    "print_query(query)"
   ]
  },
  {
   "cell_type": "code",
   "execution_count": 61,
   "metadata": {},
   "outputs": [
    {
     "name": "stdout",
     "output_type": "stream",
     "text": [
      " \n",
      "SELECT * FROM Orders\n",
      "WHERE OrderDate BETWEEN '1996-07-01' AND '1996-07-31'\n",
      "\n",
      "Query Results:\n",
      "(10248, 90, 5, '1996-07-04', 3)\n",
      "(10249, 81, 6, '1996-07-05', 1)\n",
      "(10250, 34, 4, '1996-07-08', 2)\n",
      "(10251, 84, 3, '1996-07-08', 1)\n",
      "(10252, 76, 4, '1996-07-09', 2)\n",
      "(10253, 34, 3, '1996-07-10', 2)\n",
      "...and 16 more rows.\n",
      "Total rows (if limit is removed): 22\n",
      "--------------------------------------------------\n"
     ]
    }
   ],
   "source": [
    "# query = ''' \n",
    "# SELECT * FROM Orders\n",
    "# WHERE OrderDate BETWEEN #07/01/1996# AND #07/31/1996#\n",
    "# '''\n",
    "\n",
    "query = ''' \n",
    "SELECT * FROM Orders\n",
    "WHERE OrderDate BETWEEN '1996-07-01' AND '1996-07-31'\n",
    "'''\n",
    "print_query(query)"
   ]
  },
  {
   "cell_type": "markdown",
   "metadata": {},
   "source": [
    "#### SQL Aliases"
   ]
  },
  {
   "cell_type": "code",
   "execution_count": 62,
   "metadata": {},
   "outputs": [
    {
     "name": "stdout",
     "output_type": "stream",
     "text": [
      " \n",
      "SELECT CustomerID AS ID\n",
      "FROM Customers\n",
      "\n",
      "Query Results:\n",
      "(1,)\n",
      "(2,)\n",
      "(3,)\n",
      "(4,)\n",
      "(5,)\n",
      "(6,)\n",
      "...and 90 more rows.\n",
      "Total rows (if limit is removed): 96\n",
      "--------------------------------------------------\n"
     ]
    }
   ],
   "source": [
    "query = ''' \n",
    "SELECT CustomerID AS ID\n",
    "FROM Customers\n",
    "'''\n",
    "print_query(query)"
   ]
  },
  {
   "cell_type": "code",
   "execution_count": 63,
   "metadata": {},
   "outputs": [
    {
     "name": "stdout",
     "output_type": "stream",
     "text": [
      " \n",
      "SELECT CustomerID ID\n",
      "FROM Customers\n",
      "\n",
      "Query Results:\n",
      "(1,)\n",
      "(2,)\n",
      "(3,)\n",
      "(4,)\n",
      "(5,)\n",
      "(6,)\n",
      "...and 90 more rows.\n",
      "Total rows (if limit is removed): 96\n",
      "--------------------------------------------------\n"
     ]
    }
   ],
   "source": [
    "# 생략가능\n",
    "query = ''' \n",
    "SELECT CustomerID ID\n",
    "FROM Customers\n",
    "'''\n",
    "print_query(query)"
   ]
  },
  {
   "cell_type": "code",
   "execution_count": 64,
   "metadata": {},
   "outputs": [
    {
     "name": "stdout",
     "output_type": "stream",
     "text": [
      " \n",
      "SELECT CustomerID AS ID, CustomerName AS Customer\n",
      "FROM Customers\n",
      "\n",
      "Query Results:\n",
      "(1, 'Alfreds Futterkiste')\n",
      "(2, 'Ana Trujillo Emparedados y helados')\n",
      "(3, 'Antonio Moreno Taquería')\n",
      "(4, 'Around the Horn')\n",
      "(5, 'Berglunds snabbköp')\n",
      "(6, 'Blauer See Delikatessen')\n",
      "...and 90 more rows.\n",
      "Total rows (if limit is removed): 96\n",
      "--------------------------------------------------\n"
     ]
    }
   ],
   "source": [
    "query = ''' \n",
    "SELECT CustomerID AS ID, CustomerName AS Customer\n",
    "FROM Customers\n",
    "'''\n",
    "print_query(query)"
   ]
  },
  {
   "cell_type": "code",
   "execution_count": 65,
   "metadata": {},
   "outputs": [
    {
     "name": "stdout",
     "output_type": "stream",
     "text": [
      " \n",
      "SELECT ProductName AS [My Great Products]\n",
      "FROM Products\n",
      "\n",
      "Query Results:\n",
      "('Chais',)\n",
      "('Chang',)\n",
      "('Aniseed Syrup',)\n",
      "(\"Chef Anton's Cajun Seasoning\",)\n",
      "(\"Chef Anton's Gumbo Mix\",)\n",
      "(\"Grandma's Boysenberry Spread\",)\n",
      "...and 71 more rows.\n",
      "Total rows (if limit is removed): 77\n",
      "--------------------------------------------------\n",
      " \n",
      "SELECT ProductName AS \"My Great Products\"\n",
      "FROM Products;\n",
      "\n",
      "Query Results:\n",
      "('Chais',)\n",
      "('Chang',)\n",
      "('Aniseed Syrup',)\n",
      "(\"Chef Anton's Cajun Seasoning\",)\n",
      "(\"Chef Anton's Gumbo Mix\",)\n",
      "(\"Grandma's Boysenberry Spread\",)\n",
      "...and 71 more rows.\n",
      "Total rows (if limit is removed): 77\n",
      "--------------------------------------------------\n"
     ]
    }
   ],
   "source": [
    "query = ''' \n",
    "SELECT ProductName AS [My Great Products]\n",
    "FROM Products\n",
    "'''\n",
    "print_query(query)\n",
    "\n",
    "query = ''' \n",
    "SELECT ProductName AS \"My Great Products\"\n",
    "FROM Products;\n",
    "'''\n",
    "print_query(query)"
   ]
  },
  {
   "cell_type": "code",
   "execution_count": 66,
   "metadata": {},
   "outputs": [
    {
     "name": "stdout",
     "output_type": "stream",
     "text": [
      " \n",
      "SELECT CustomerName, Address = ', ' + PostalCode + ' ' + City + ', ' + Country AS Address\n",
      "FROM Customers\n",
      "\n",
      "Query Results:\n",
      "('Alfreds Futterkiste', 0)\n",
      "('Ana Trujillo Emparedados y helados', 0)\n",
      "('Antonio Moreno Taquería', 0)\n",
      "('Around the Horn', 0)\n",
      "('Berglunds snabbköp', 0)\n",
      "('Blauer See Delikatessen', 0)\n",
      "...and 90 more rows.\n",
      "Total rows (if limit is removed): 96\n",
      "--------------------------------------------------\n"
     ]
    }
   ],
   "source": [
    "query = ''' \n",
    "SELECT CustomerName, Address = ', ' + PostalCode + ' ' + City + ', ' + Country AS Address\n",
    "FROM Customers\n",
    "'''\n",
    "print_query(query)"
   ]
  },
  {
   "cell_type": "code",
   "execution_count": 67,
   "metadata": {},
   "outputs": [
    {
     "name": "stdout",
     "output_type": "stream",
     "text": [
      " \n",
      "SELECT * FROM Customers AS Persons;\n",
      "\n",
      "Query Results:\n",
      "(1, 'Alfreds Futterkiste', 'Alfred Schmidt', 'Obere Str. 57', 'Frankfurt', '12209', 'Germany')\n",
      "(2, 'Ana Trujillo Emparedados y helados', 'Ana Trujillo', 'Avda. de la Constitución 2222', 'México D.F.', '5021', 'Mexico')\n",
      "(3, 'Antonio Moreno Taquería', 'Antonio Moreno', 'Mataderos 2312', 'México D.F.', '5023', 'Mexico')\n",
      "(4, 'Around the Horn', 'Thomas Hardy', '120 Hanover Sq.', 'London', 'WA1 1DP', 'UK')\n",
      "(5, 'Berglunds snabbköp', 'Christina Berglund', 'Berguvsvägen 8', 'Luleå', 'S-958 22', 'Sweden')\n",
      "(6, 'Blauer See Delikatessen', 'Hanna Moos', 'Forsterstr. 57', 'Mannheim', '68306', 'Germany')\n",
      "...and 90 more rows.\n",
      "Total rows (if limit is removed): 96\n",
      "--------------------------------------------------\n"
     ]
    }
   ],
   "source": [
    "# Alias for Tables\n",
    "query = ''' \n",
    "SELECT * FROM Customers AS Persons;\n",
    "'''\n",
    "print_query(query)"
   ]
  },
  {
   "cell_type": "code",
   "execution_count": 68,
   "metadata": {},
   "outputs": [
    {
     "name": "stdout",
     "output_type": "stream",
     "text": [
      " \n",
      "SELECT o.OrderID, o.OrderDate, c.CustomerName\n",
      "FROM Customers AS c, Orders AS o\n",
      "WHERE c.CustomerName='Around the Horn' AND c.CustomerID=o.CustomerID\n",
      "\n",
      "Query Results:\n",
      "(10355, '1996-11-15', 'Around the Horn')\n",
      "(10383, '1996-12-16', 'Around the Horn')\n",
      "Total rows (if limit is removed): 2\n",
      "--------------------------------------------------\n",
      " \n",
      "SELECT Orders.OrderID, Orders.OrderDate, Customers.CustomerName\n",
      "FROM Customers, Orders\n",
      "WHERE Customers.CustomerName='Around the Horn' AND Customers.CustomerID=Orders.CustomerID\n",
      "\n",
      "Query Results:\n",
      "(10355, '1996-11-15', 'Around the Horn')\n",
      "(10383, '1996-12-16', 'Around the Horn')\n",
      "Total rows (if limit is removed): 2\n",
      "--------------------------------------------------\n"
     ]
    }
   ],
   "source": [
    "query = ''' \n",
    "SELECT o.OrderID, o.OrderDate, c.CustomerName\n",
    "FROM Customers AS c, Orders AS o\n",
    "WHERE c.CustomerName='Around the Horn' AND c.CustomerID=o.CustomerID\n",
    "'''\n",
    "print_query(query)\n",
    "\n",
    "\n",
    "query = ''' \n",
    "SELECT Orders.OrderID, Orders.OrderDate, Customers.CustomerName\n",
    "FROM Customers, Orders\n",
    "WHERE Customers.CustomerName='Around the Horn' AND Customers.CustomerID=Orders.CustomerID\n",
    "'''\n",
    "print_query(query)\n"
   ]
  },
  {
   "cell_type": "markdown",
   "metadata": {},
   "source": [
    "#### SQL Joins"
   ]
  },
  {
   "cell_type": "code",
   "execution_count": 69,
   "metadata": {},
   "outputs": [
    {
     "name": "stdout",
     "output_type": "stream",
     "text": [
      " \n",
      "SELECT Orders.OrderID, Customers.CustomerName, Orders.OrderDate\n",
      "FROM Orders\n",
      "INNER JOIN Customers\n",
      "ON Orders.CustomerID=Customers.CustomerID\n",
      "\n",
      "Query Results:\n",
      "(10248, 'Wilman Kala', '1996-07-04')\n",
      "(10249, 'Tradição Hipermercados', '1996-07-05')\n",
      "(10250, 'Hanari Carnes', '1996-07-08')\n",
      "(10251, 'Victuailles en stock', '1996-07-08')\n",
      "(10252, 'Suprêmes délices', '1996-07-09')\n",
      "(10253, 'Hanari Carnes', '1996-07-10')\n",
      "...and 190 more rows.\n",
      "Total rows (if limit is removed): 196\n",
      "--------------------------------------------------\n"
     ]
    }
   ],
   "source": [
    "query = ''' \n",
    "SELECT Orders.OrderID, Customers.CustomerName, Orders.OrderDate\n",
    "FROM Orders\n",
    "INNER JOIN Customers\n",
    "ON Orders.CustomerID=Customers.CustomerID\n",
    "'''\n",
    "print_query(query)"
   ]
  },
  {
   "cell_type": "markdown",
   "metadata": {},
   "source": [
    "#### SQL INNER JOIN"
   ]
  },
  {
   "cell_type": "code",
   "execution_count": 70,
   "metadata": {},
   "outputs": [
    {
     "name": "stdout",
     "output_type": "stream",
     "text": [
      " \n",
      "SELECT ProductID, ProductName, CategoryName\n",
      "FROM Products\n",
      "INNER JOIN Categories ON Products.CategoryID = Categories.CategoryID\n",
      "\n",
      "Query Results:\n",
      "(1, 'Chais', 'Beverages')\n",
      "(2, 'Chang', 'Beverages')\n",
      "(3, 'Aniseed Syrup', 'Condiments')\n",
      "(4, \"Chef Anton's Cajun Seasoning\", 'Condiments')\n",
      "(5, \"Chef Anton's Gumbo Mix\", 'Condiments')\n",
      "(6, \"Grandma's Boysenberry Spread\", 'Condiments')\n",
      "...and 71 more rows.\n",
      "Total rows (if limit is removed): 77\n",
      "--------------------------------------------------\n"
     ]
    }
   ],
   "source": [
    "query = ''' \n",
    "SELECT ProductID, ProductName, CategoryName\n",
    "FROM Products\n",
    "INNER JOIN Categories ON Products.CategoryID = Categories.CategoryID\n",
    "'''\n",
    "print_query(query)"
   ]
  },
  {
   "cell_type": "code",
   "execution_count": 71,
   "metadata": {},
   "outputs": [
    {
     "name": "stdout",
     "output_type": "stream",
     "text": [
      " \n",
      "SELECT Products.ProductID, Products.ProductName, Categories.CategoryName\n",
      "FROM Products\n",
      "INNER JOIN Categories ON Products.CategoryID = Categories.CategoryID\n",
      "\n",
      "Query Results:\n",
      "(1, 'Chais', 'Beverages')\n",
      "(2, 'Chang', 'Beverages')\n",
      "(3, 'Aniseed Syrup', 'Condiments')\n",
      "(4, \"Chef Anton's Cajun Seasoning\", 'Condiments')\n",
      "(5, \"Chef Anton's Gumbo Mix\", 'Condiments')\n",
      "(6, \"Grandma's Boysenberry Spread\", 'Condiments')\n",
      "...and 71 more rows.\n",
      "Total rows (if limit is removed): 77\n",
      "--------------------------------------------------\n"
     ]
    }
   ],
   "source": [
    "query = ''' \n",
    "SELECT Products.ProductID, Products.ProductName, Categories.CategoryName\n",
    "FROM Products\n",
    "INNER JOIN Categories ON Products.CategoryID = Categories.CategoryID\n",
    "'''\n",
    "print_query(query)"
   ]
  },
  {
   "cell_type": "code",
   "execution_count": 72,
   "metadata": {},
   "outputs": [
    {
     "name": "stdout",
     "output_type": "stream",
     "text": [
      " \n",
      "SELECT Products.ProductID, Products.ProductName, Categories.CategoryName\n",
      "FROM Products\n",
      "JOIN Categories ON Products.CategoryID = Categories.CategoryID\n",
      "\n",
      "Query Results:\n",
      "(1, 'Chais', 'Beverages')\n",
      "(2, 'Chang', 'Beverages')\n",
      "(3, 'Aniseed Syrup', 'Condiments')\n",
      "(4, \"Chef Anton's Cajun Seasoning\", 'Condiments')\n",
      "(5, \"Chef Anton's Gumbo Mix\", 'Condiments')\n",
      "(6, \"Grandma's Boysenberry Spread\", 'Condiments')\n",
      "...and 71 more rows.\n",
      "Total rows (if limit is removed): 77\n",
      "--------------------------------------------------\n",
      " \n",
      "SELECT Orders.OrderID, Customers.CustomerName, Shippers.ShipperName\n",
      "FROM ((Orders INNER JOIN Customers ON Orders.CustomerID = Customers.CustomerID) INNER JOIN Shippers ON Orders.ShipperID = Shippers.ShipperID)\n",
      "\n",
      "Query Results:\n",
      "(10248, 'Wilman Kala', 'Federal Shipping')\n",
      "(10249, 'Tradição Hipermercados', 'Speedy Express')\n",
      "(10250, 'Hanari Carnes', 'United Package')\n",
      "(10251, 'Victuailles en stock', 'Speedy Express')\n",
      "(10252, 'Suprêmes délices', 'United Package')\n",
      "(10253, 'Hanari Carnes', 'United Package')\n",
      "...and 190 more rows.\n",
      "Total rows (if limit is removed): 196\n",
      "--------------------------------------------------\n"
     ]
    }
   ],
   "source": [
    "# JOIN and INNER JOIN will return the same result\n",
    "query = ''' \n",
    "SELECT Products.ProductID, Products.ProductName, Categories.CategoryName\n",
    "FROM Products\n",
    "JOIN Categories ON Products.CategoryID = Categories.CategoryID\n",
    "'''\n",
    "print_query(query)\n",
    "\n",
    "\n",
    "query = ''' \n",
    "SELECT Orders.OrderID, Customers.CustomerName, Shippers.ShipperName\n",
    "FROM ((Orders INNER JOIN Customers ON Orders.CustomerID = Customers.CustomerID) INNER JOIN Shippers ON Orders.ShipperID = Shippers.ShipperID)\n",
    "'''\n",
    "print_query(query)\n"
   ]
  },
  {
   "cell_type": "markdown",
   "metadata": {},
   "source": [
    "#### SQL LEFT JOIN Keyword"
   ]
  },
  {
   "cell_type": "code",
   "execution_count": 73,
   "metadata": {},
   "outputs": [
    {
     "name": "stdout",
     "output_type": "stream",
     "text": [
      " \n",
      "SELECT Customers.CustomerName, Orders.OrderID\n",
      "FROM Customers\n",
      "LEFT JOIN Orders ON Customers.CustomerID = Orders.CustomerID\n",
      "ORDER BY Customers.CustomerName\n",
      "\n",
      "Query Results:\n",
      "('Alfreds Futterkiste', None)\n",
      "('Ana Trujillo Emparedados y helados', 10308)\n",
      "('Antonio Moreno Taquería', 10365)\n",
      "('Around the Horn', 10355)\n",
      "('Around the Horn', 10383)\n",
      "(\"B''s Beverages\", 10289)\n",
      "...and 212 more rows.\n",
      "Total rows (if limit is removed): 218\n",
      "--------------------------------------------------\n"
     ]
    }
   ],
   "source": [
    "query = ''' \n",
    "SELECT Customers.CustomerName, Orders.OrderID\n",
    "FROM Customers\n",
    "LEFT JOIN Orders ON Customers.CustomerID = Orders.CustomerID\n",
    "ORDER BY Customers.CustomerName\n",
    "'''\n",
    "print_query(query)"
   ]
  },
  {
   "cell_type": "markdown",
   "metadata": {},
   "source": [
    "#### SQL RIGHT JOIN Keyword"
   ]
  },
  {
   "cell_type": "code",
   "execution_count": 74,
   "metadata": {},
   "outputs": [
    {
     "name": "stdout",
     "output_type": "stream",
     "text": [
      " \n",
      "SELECT Orders.OrderID, Employees.LastName, Employees.FirstName\n",
      "FROM Orders\n",
      "RIGHT JOIN Employees ON Orders.EmployeeID = Employees.EmployeeID\n",
      "ORDER BY Orders.OrderID\n",
      "\n",
      "Query Results:\n",
      "(None, 'West', 'Adam')\n",
      "(10248, 'Buchanan', 'Steven')\n",
      "(10249, 'Suyama', 'Michael')\n",
      "(10250, 'Peacock', 'Margaret')\n",
      "(10251, 'Leverling', 'Janet')\n",
      "(10252, 'Peacock', 'Margaret')\n",
      "...and 191 more rows.\n",
      "Total rows (if limit is removed): 197\n",
      "--------------------------------------------------\n"
     ]
    }
   ],
   "source": [
    "# SQLite3은 RIGHT JOIN을 지원하지 않습니다.\n",
    "\n",
    "query = ''' \n",
    "SELECT Orders.OrderID, Employees.LastName, Employees.FirstName\n",
    "FROM Orders\n",
    "RIGHT JOIN Employees ON Orders.EmployeeID = Employees.EmployeeID\n",
    "ORDER BY Orders.OrderID\n",
    "'''\n",
    "print_query(query)"
   ]
  },
  {
   "cell_type": "markdown",
   "metadata": {},
   "source": [
    "#### SQL FULL OUTER JOIN Keyword"
   ]
  },
  {
   "cell_type": "code",
   "execution_count": 75,
   "metadata": {},
   "outputs": [
    {
     "name": "stdout",
     "output_type": "stream",
     "text": [
      " \n",
      "SELECT Customers.CustomerName, Orders.OrderID\n",
      "FROM Customers\n",
      "FULL OUTER JOIN Orders ON Customers.CustomerID=Orders.CustomerID\n",
      "ORDER BY Customers.CustomerName\n",
      "\n",
      "Query Results:\n",
      "('Alfreds Futterkiste', None)\n",
      "('Ana Trujillo Emparedados y helados', 10308)\n",
      "('Antonio Moreno Taquería', 10365)\n",
      "('Around the Horn', 10355)\n",
      "('Around the Horn', 10383)\n",
      "(\"B''s Beverages\", 10289)\n",
      "...and 212 more rows.\n",
      "Total rows (if limit is removed): 218\n",
      "--------------------------------------------------\n"
     ]
    }
   ],
   "source": [
    "query = ''' \n",
    "SELECT Customers.CustomerName, Orders.OrderID\n",
    "FROM Customers\n",
    "FULL OUTER JOIN Orders ON Customers.CustomerID=Orders.CustomerID\n",
    "ORDER BY Customers.CustomerName\n",
    "'''\n",
    "print_query(query)"
   ]
  },
  {
   "cell_type": "markdown",
   "metadata": {},
   "source": [
    "#### SQL Self Join"
   ]
  },
  {
   "cell_type": "code",
   "execution_count": 76,
   "metadata": {},
   "outputs": [
    {
     "name": "stdout",
     "output_type": "stream",
     "text": [
      " \n",
      "SELECT A.CustomerName AS CustomerName1, B.CustomerName AS CustomerName2, A.City\n",
      "FROM Customers A, Customers B \n",
      "WHERE A.CustomerID <> B.CustomerID AND A.City = B.City\n",
      "ORDER BY A.City\n",
      "\n",
      "Query Results:\n",
      "('Cactus Comidas para llevar', 'Océano Atlántico Ltda.', 'Buenos Aires')\n",
      "('Cactus Comidas para llevar', 'Rancho grande', 'Buenos Aires')\n",
      "('Océano Atlántico Ltda.', 'Cactus Comidas para llevar', 'Buenos Aires')\n",
      "('Océano Atlántico Ltda.', 'Rancho grande', 'Buenos Aires')\n",
      "('Rancho grande', 'Cactus Comidas para llevar', 'Buenos Aires')\n",
      "('Rancho grande', 'Océano Atlántico Ltda.', 'Buenos Aires')\n",
      "...and 88 more rows.\n",
      "Total rows (if limit is removed): 94\n",
      "--------------------------------------------------\n"
     ]
    }
   ],
   "source": [
    "# <>는 같지 않다는 것\n",
    "# 같은 테이블을 사용하므로 별칭 사용\n",
    "query = ''' \n",
    "SELECT A.CustomerName AS CustomerName1, B.CustomerName AS CustomerName2, A.City\n",
    "FROM Customers A, Customers B \n",
    "WHERE A.CustomerID <> B.CustomerID AND A.City = B.City\n",
    "ORDER BY A.City\n",
    "'''\n",
    "print_query(query)"
   ]
  },
  {
   "cell_type": "markdown",
   "metadata": {},
   "source": [
    "#### SQL UNION Operator"
   ]
  },
  {
   "cell_type": "code",
   "execution_count": 77,
   "metadata": {},
   "outputs": [
    {
     "name": "stdout",
     "output_type": "stream",
     "text": [
      " \n",
      "SELECT City FROM Customers\n",
      "UNION\n",
      "SELECT City FROM Suppliers\n",
      "ORDER BY City\n",
      "\n",
      "Query Results:\n",
      "('Aachen',)\n",
      "('Albuquerque',)\n",
      "('Anchorage',)\n",
      "('Ann Arbor',)\n",
      "('Annecy',)\n",
      "('Barcelona',)\n",
      "...and 91 more rows.\n",
      "Total rows (if limit is removed): 97\n",
      "--------------------------------------------------\n"
     ]
    }
   ],
   "source": [
    "query = ''' \n",
    "SELECT City FROM Customers\n",
    "UNION\n",
    "SELECT City FROM Suppliers\n",
    "ORDER BY City\n",
    "'''\n",
    "print_query(query)"
   ]
  },
  {
   "cell_type": "code",
   "execution_count": 78,
   "metadata": {},
   "outputs": [
    {
     "name": "stdout",
     "output_type": "stream",
     "text": [
      " \n",
      "SELECT City FROM Customers\n",
      "UNION ALL\n",
      "SELECT City FROM Suppliers\n",
      "ORDER BY City\n",
      "\n",
      "Query Results:\n",
      "('Aachen',)\n",
      "('Albuquerque',)\n",
      "('Anchorage',)\n",
      "('Ann Arbor',)\n",
      "('Annecy',)\n",
      "('Barcelona',)\n",
      "...and 119 more rows.\n",
      "Total rows (if limit is removed): 125\n",
      "--------------------------------------------------\n"
     ]
    }
   ],
   "source": [
    "# 중복 포함\n",
    "query = ''' \n",
    "SELECT City FROM Customers\n",
    "UNION ALL\n",
    "SELECT City FROM Suppliers\n",
    "ORDER BY City\n",
    "'''\n",
    "print_query(query)"
   ]
  },
  {
   "cell_type": "code",
   "execution_count": 79,
   "metadata": {},
   "outputs": [
    {
     "name": "stdout",
     "output_type": "stream",
     "text": [
      " \n",
      "SELECT City, Country FROM Customers\n",
      "WHERE Country = 'Germany'\n",
      "UNION\n",
      "SELECT City, Country FROM Suppliers\n",
      "WHERE Country = 'Germany'\n",
      "ORDER BY City\n",
      "\n",
      "Query Results:\n",
      "('Aachen', 'Germany')\n",
      "('Berlin', 'Germany')\n",
      "('Brandenburg', 'Germany')\n",
      "('Cunewalde', 'Germany')\n",
      "('Cuxhaven', 'Germany')\n",
      "('Frankfurt', 'Germany')\n",
      "...and 7 more rows.\n",
      "Total rows (if limit is removed): 13\n",
      "--------------------------------------------------\n"
     ]
    }
   ],
   "source": [
    "query = ''' \n",
    "SELECT City, Country FROM Customers\n",
    "WHERE Country = 'Germany'\n",
    "UNION\n",
    "SELECT City, Country FROM Suppliers\n",
    "WHERE Country = 'Germany'\n",
    "ORDER BY City\n",
    "'''\n",
    "print_query(query)"
   ]
  },
  {
   "cell_type": "code",
   "execution_count": 80,
   "metadata": {},
   "outputs": [
    {
     "name": "stdout",
     "output_type": "stream",
     "text": [
      " \n",
      "SELECT City, Country FROM Customers\n",
      "WHERE Country = 'Germany'\n",
      "UNION ALL\n",
      "SELECT City, Country FROM Suppliers\n",
      "WHERE Country = 'Germany'\n",
      "ORDER BY City\n",
      "\n",
      "Query Results:\n",
      "('Aachen', 'Germany')\n",
      "('Berlin', 'Germany')\n",
      "('Brandenburg', 'Germany')\n",
      "('Cunewalde', 'Germany')\n",
      "('Cuxhaven', 'Germany')\n",
      "('Frankfurt', 'Germany')\n",
      "...and 8 more rows.\n",
      "Total rows (if limit is removed): 14\n",
      "--------------------------------------------------\n"
     ]
    }
   ],
   "source": [
    "query = ''' \n",
    "SELECT City, Country FROM Customers\n",
    "WHERE Country = 'Germany'\n",
    "UNION ALL\n",
    "SELECT City, Country FROM Suppliers\n",
    "WHERE Country = 'Germany'\n",
    "ORDER BY City\n",
    "'''\n",
    "print_query(query)"
   ]
  },
  {
   "cell_type": "code",
   "execution_count": 81,
   "metadata": {},
   "outputs": [
    {
     "name": "stdout",
     "output_type": "stream",
     "text": [
      " \n",
      "SELECT 'Customer' AS Type, ContactName, City, Country\n",
      "FROM Customers\n",
      "UNION\n",
      "SELECT 'Supplier', ContactName, City, Country\n",
      "FROM Suppliers\n",
      "\n",
      "Query Results:\n",
      "('Customer', None, 'Stavanger', 'Norway')\n",
      "('Customer', 'Alejandra Camino', 'Madrid', 'Spain')\n",
      "('Customer', 'Alexander Feuer', 'Leipzig', 'Germany')\n",
      "('Customer', 'Alfred Schmidt', 'Frankfurt', 'Germany')\n",
      "('Customer', 'Ana Trujillo', 'México D.F.', 'Mexico')\n",
      "('Customer', 'Anabela Domingues', 'São Paulo', 'Brazil')\n",
      "...and 118 more rows.\n",
      "Total rows (if limit is removed): 124\n",
      "--------------------------------------------------\n"
     ]
    }
   ],
   "source": [
    "query = ''' \n",
    "SELECT 'Customer' AS Type, ContactName, City, Country\n",
    "FROM Customers\n",
    "UNION\n",
    "SELECT 'Supplier', ContactName, City, Country\n",
    "FROM Suppliers\n",
    "'''\n",
    "print_query(query)"
   ]
  },
  {
   "cell_type": "markdown",
   "metadata": {},
   "source": [
    "#### SQL GROUP BY Statement"
   ]
  },
  {
   "cell_type": "code",
   "execution_count": 82,
   "metadata": {},
   "outputs": [
    {
     "name": "stdout",
     "output_type": "stream",
     "text": [
      " \n",
      "SELECT COUNT(CustomerID), Country\n",
      "FROM Customers\n",
      "GROUP BY Country\n",
      "\n",
      "Query Results:\n",
      "(3, 'Argentina')\n",
      "(2, 'Austria')\n",
      "(2, 'Belgium')\n",
      "(9, 'Brazil')\n",
      "(3, 'Canada')\n",
      "(2, 'Denmark')\n",
      "...and 15 more rows.\n",
      "Total rows (if limit is removed): 21\n",
      "--------------------------------------------------\n"
     ]
    }
   ],
   "source": [
    "query = ''' \n",
    "SELECT COUNT(CustomerID), Country\n",
    "FROM Customers\n",
    "GROUP BY Country\n",
    "'''\n",
    "print_query(query)"
   ]
  },
  {
   "cell_type": "code",
   "execution_count": 83,
   "metadata": {},
   "outputs": [
    {
     "name": "stdout",
     "output_type": "stream",
     "text": [
      " \n",
      "SELECT COUNT(CustomerID), Country\n",
      "FROM Customers\n",
      "GROUP BY Country\n",
      "ORDER BY COUNT(CustomerID) DESC\n",
      "\n",
      "Query Results:\n",
      "(13, 'USA')\n",
      "(11, 'Germany')\n",
      "(11, 'France')\n",
      "(9, 'Brazil')\n",
      "(8, 'UK')\n",
      "(5, 'Spain')\n",
      "...and 15 more rows.\n",
      "Total rows (if limit is removed): 21\n",
      "--------------------------------------------------\n"
     ]
    }
   ],
   "source": [
    "query = ''' \n",
    "SELECT COUNT(CustomerID), Country\n",
    "FROM Customers\n",
    "GROUP BY Country\n",
    "ORDER BY COUNT(CustomerID) DESC\n",
    "'''\n",
    "print_query(query)"
   ]
  },
  {
   "cell_type": "code",
   "execution_count": 84,
   "metadata": {},
   "outputs": [
    {
     "name": "stdout",
     "output_type": "stream",
     "text": [
      " \n",
      "SELECT Shippers.ShipperName, COUNT(Orders.OrderID) AS NumberOfOrders \n",
      "FROM Orders\n",
      "LEFT JOIN Shippers ON Orders.ShipperID = Shippers.ShipperID\n",
      "GROUP BY ShipperName\n",
      "\n",
      "Query Results:\n",
      "('Federal Shipping', 68)\n",
      "('Speedy Express', 54)\n",
      "('United Package', 74)\n",
      "Total rows (if limit is removed): 3\n",
      "--------------------------------------------------\n"
     ]
    }
   ],
   "source": [
    "query = ''' \n",
    "SELECT Shippers.ShipperName, COUNT(Orders.OrderID) AS NumberOfOrders \n",
    "FROM Orders\n",
    "LEFT JOIN Shippers ON Orders.ShipperID = Shippers.ShipperID\n",
    "GROUP BY ShipperName\n",
    "'''\n",
    "print_query(query)"
   ]
  },
  {
   "cell_type": "markdown",
   "metadata": {},
   "source": [
    "#### SQL HAVING Clause"
   ]
  },
  {
   "cell_type": "code",
   "execution_count": 85,
   "metadata": {},
   "outputs": [
    {
     "name": "stdout",
     "output_type": "stream",
     "text": [
      " \n",
      "SELECT COUNT(CustomerID), Country\n",
      "FROM Customers\n",
      "GROUP BY Country\n",
      "HAVING COUNT(CustomerID) > 5\n",
      "\n",
      "Query Results:\n",
      "(9, 'Brazil')\n",
      "(11, 'France')\n",
      "(11, 'Germany')\n",
      "(8, 'UK')\n",
      "(13, 'USA')\n",
      "Total rows (if limit is removed): 5\n",
      "--------------------------------------------------\n"
     ]
    }
   ],
   "source": [
    "query = ''' \n",
    "SELECT COUNT(CustomerID), Country\n",
    "FROM Customers\n",
    "GROUP BY Country\n",
    "HAVING COUNT(CustomerID) > 5\n",
    "'''\n",
    "print_query(query)"
   ]
  },
  {
   "cell_type": "code",
   "execution_count": 86,
   "metadata": {},
   "outputs": [
    {
     "name": "stdout",
     "output_type": "stream",
     "text": [
      " \n",
      "SELECT COUNT(CustomerID), Country\n",
      "FROM Customers\n",
      "GROUP BY Country\n",
      "HAVING COUNT(CustomerID) > 5\n",
      "ORDER BY COUNT(CustomerID) DESC\n",
      "\n",
      "Query Results:\n",
      "(13, 'USA')\n",
      "(11, 'Germany')\n",
      "(11, 'France')\n",
      "(9, 'Brazil')\n",
      "(8, 'UK')\n",
      "Total rows (if limit is removed): 5\n",
      "--------------------------------------------------\n"
     ]
    }
   ],
   "source": [
    "query = ''' \n",
    "SELECT COUNT(CustomerID), Country\n",
    "FROM Customers\n",
    "GROUP BY Country\n",
    "HAVING COUNT(CustomerID) > 5\n",
    "ORDER BY COUNT(CustomerID) DESC\n",
    "'''\n",
    "print_query(query)"
   ]
  },
  {
   "cell_type": "code",
   "execution_count": 87,
   "metadata": {},
   "outputs": [
    {
     "name": "stdout",
     "output_type": "stream",
     "text": [
      " \n",
      "SELECT Employees.LastName, COUNT(Orders.OrderID) AS NumberOfOrders\n",
      "FROM (Orders INNER JOIN Employees ON Orders.EmployeeID = Employees.EmployeeID)\n",
      "GROUP BY LastName\n",
      "HAVING COUNT(Orders.OrderID) > 10\n",
      "\n",
      "Query Results:\n",
      "('Buchanan', 11)\n",
      "('Callahan', 27)\n",
      "('Davolio', 29)\n",
      "('Fuller', 20)\n",
      "('King', 14)\n",
      "('Leverling', 31)\n",
      "...and 2 more rows.\n",
      "Total rows (if limit is removed): 8\n",
      "--------------------------------------------------\n"
     ]
    }
   ],
   "source": [
    "query = ''' \n",
    "SELECT Employees.LastName, COUNT(Orders.OrderID) AS NumberOfOrders\n",
    "FROM (Orders INNER JOIN Employees ON Orders.EmployeeID = Employees.EmployeeID)\n",
    "GROUP BY LastName\n",
    "HAVING COUNT(Orders.OrderID) > 10\n",
    "'''\n",
    "print_query(query)"
   ]
  },
  {
   "cell_type": "code",
   "execution_count": 88,
   "metadata": {},
   "outputs": [
    {
     "name": "stdout",
     "output_type": "stream",
     "text": [
      " \n",
      "SELECT Employees.LastName, COUNT(Orders.OrderID) AS NumberOfOrders\n",
      "FROM Orders \n",
      "INNER JOIN Employees ON Orders.EmployeeID = Employees.EmployeeID\n",
      "WHERE LastName = 'Davolio' OR LastName = 'Fuller'\n",
      "GROUP BY LastName\n",
      "HAVING COUNT(Orders.OrderID) > 25\n",
      "\n",
      "Query Results:\n",
      "('Davolio', 29)\n",
      "Total rows (if limit is removed): 1\n",
      "--------------------------------------------------\n"
     ]
    }
   ],
   "source": [
    "query = ''' \n",
    "SELECT Employees.LastName, COUNT(Orders.OrderID) AS NumberOfOrders\n",
    "FROM Orders \n",
    "INNER JOIN Employees ON Orders.EmployeeID = Employees.EmployeeID\n",
    "WHERE LastName = 'Davolio' OR LastName = 'Fuller'\n",
    "GROUP BY LastName\n",
    "HAVING COUNT(Orders.OrderID) > 25\n",
    "'''\n",
    "print_query(query)"
   ]
  },
  {
   "cell_type": "markdown",
   "metadata": {},
   "source": [
    "#### SQL EXISTS Operator"
   ]
  },
  {
   "cell_type": "code",
   "execution_count": 89,
   "metadata": {},
   "outputs": [
    {
     "name": "stdout",
     "output_type": "stream",
     "text": [
      " \n",
      "SELECT SupplierName\n",
      "FROM Suppliers\n",
      "WHERE EXISTS (SELECT ProductName FROM Products WHERE Products.SupplierID = Suppliers.supplierID AND Price < 20)\n",
      "\n",
      "Query Results:\n",
      "('Exotic Liquid',)\n",
      "('New Orleans Cajun Delights',)\n",
      "('Tokyo Traders',)\n",
      "(\"Mayumi's\",)\n",
      "('Pavlova, Ltd.',)\n",
      "('Specialty Biscuits, Ltd.',)\n",
      "...and 18 more rows.\n",
      "Total rows (if limit is removed): 24\n",
      "--------------------------------------------------\n"
     ]
    }
   ],
   "source": [
    "query = ''' \n",
    "SELECT SupplierName\n",
    "FROM Suppliers\n",
    "WHERE EXISTS (SELECT ProductName FROM Products WHERE Products.SupplierID = Suppliers.supplierID AND Price < 20)\n",
    "'''\n",
    "print_query(query)"
   ]
  },
  {
   "cell_type": "code",
   "execution_count": 90,
   "metadata": {},
   "outputs": [
    {
     "name": "stdout",
     "output_type": "stream",
     "text": [
      " \n",
      "SELECT SupplierName\n",
      "FROM Suppliers\n",
      "WHERE EXISTS (SELECT ProductName FROM Products WHERE Products.SupplierID = Suppliers.supplierID AND Price = 22)\n",
      "Query Results:\n",
      "('New Orleans Cajun Delights',)\n",
      "Total rows (if limit is removed): 1\n",
      "--------------------------------------------------\n"
     ]
    }
   ],
   "source": [
    "query = ''' \n",
    "SELECT SupplierName\n",
    "FROM Suppliers\n",
    "WHERE EXISTS (SELECT ProductName FROM Products WHERE Products.SupplierID = Suppliers.supplierID AND Price = 22)'''\n",
    "print_query(query)"
   ]
  },
  {
   "cell_type": "markdown",
   "metadata": {},
   "source": [
    "#### SQL ANY and ALL Operators"
   ]
  },
  {
   "cell_type": "code",
   "execution_count": 91,
   "metadata": {},
   "outputs": [],
   "source": [
    "#SQLite3는 ANY와 ALL 연산자를 기본적으로 지원하지 않습니다\n",
    "\n",
    "# query = ''' \n",
    "# SELECT ProductName\n",
    "# FROM Products\n",
    "# WHERE ProductID = ANY\n",
    "#   (SELECT ProductID\n",
    "#   FROM OrderDetails\n",
    "#   WHERE Quantity = 10)\n",
    "# '''\n",
    "# print_query(query)\n",
    "\n",
    "# query = ''' \n",
    "# SELECT ProductName\n",
    "# FROM Products\n",
    "# WHERE ProductID = ANY\n",
    "#   (SELECT ProductID\n",
    "#   FROM OrderDetails\n",
    "#   WHERE Quantity > 1000)\n",
    "# '''\n",
    "# print_query(query)\n",
    "\n",
    "# query = ''' \n",
    "# SELECT ProductName\n",
    "# FROM Products\n",
    "# WHERE ProductID = ALL\n",
    "#   (SELECT ProductID\n",
    "#   FROM OrderDetails\n",
    "#   WHERE Quantity = 10)\n",
    "# '''  \n",
    "# print_query(query)\n"
   ]
  },
  {
   "cell_type": "markdown",
   "metadata": {},
   "source": [
    "#### SQL SELECT INTO Statement"
   ]
  },
  {
   "cell_type": "code",
   "execution_count": 92,
   "metadata": {},
   "outputs": [],
   "source": [
    "# SQLite는 SELECT INTO를 지원하지 않습니다. \n",
    "# 대신, CREATE TABLE ... AS 구문을 사용하여 동일한 작업을 수행할 수 있습니다."
   ]
  },
  {
   "cell_type": "code",
   "execution_count": 93,
   "metadata": {},
   "outputs": [],
   "source": [
    "# CREATE TABLE CustomersBackup AS\n",
    "# SELECT *\n",
    "# FROM Customers;\n",
    "\n",
    "# CREATE TABLE CustomersMinimalBackup AS\n",
    "# SELECT CustomerName, Country\n",
    "# FROM Customers;\n",
    "\n",
    "# CREATE TABLE CustomersGermany AS\n",
    "# SELECT *\n",
    "# FROM Customers\n",
    "# WHERE Country = 'Germany';"
   ]
  },
  {
   "cell_type": "markdown",
   "metadata": {},
   "source": [
    "#### SQL INSERT INTO SELECT Statement"
   ]
  },
  {
   "cell_type": "code",
   "execution_count": 94,
   "metadata": {},
   "outputs": [
    {
     "name": "stdout",
     "output_type": "stream",
     "text": [
      " \n",
      "INSERT INTO Customers (CustomerName, City, Country)\n",
      "SELECT SupplierName, City, Country FROM Suppliers\n",
      "\n",
      "Query Results:\n",
      "Total rows (if limit is removed): 0\n",
      "--------------------------------------------------\n"
     ]
    }
   ],
   "source": [
    "query = ''' \n",
    "INSERT INTO Customers (CustomerName, City, Country)\n",
    "SELECT SupplierName, City, Country FROM Suppliers\n",
    "'''\n",
    "print_query(query)\n",
    "\n",
    "\n",
    "query = ''' \n",
    "INSERT INO Customers (CustomerName, ContactName, Address, City, PostalCode, Country)\n",
    "SELECT SupplierName, ContactName, Address, City, PostalCode, Country FROM Suppliers\n",
    "'''\n",
    "\n",
    "query = '''\n",
    "INSERT INTO Customers (CustomerName, City, Country)\n",
    "SELECT SupplierName, City, Country FROM Suppliers\n",
    "WHERE Country='Germany\n",
    "'''"
   ]
  },
  {
   "cell_type": "markdown",
   "metadata": {},
   "source": [
    "#### SQL CASE Expression"
   ]
  },
  {
   "cell_type": "code",
   "execution_count": 95,
   "metadata": {},
   "outputs": [
    {
     "name": "stdout",
     "output_type": "stream",
     "text": [
      "\n",
      "SELECT OrderID, Quantity,\n",
      "CASE\n",
      "    WHEN Quantity > 30 THEN 'The quantity is greater than 30'\n",
      "    WHEN Quantity = 30 THEN 'The quantity is 30'\n",
      "    ELSE 'The quantity is under 30'\n",
      "END AS QuantityText\n",
      "FROM OrderDetails\n",
      "\n",
      "Query Results:\n",
      "(10248, 12, 'The quantity is under 30')\n",
      "(10248, 10, 'The quantity is under 30')\n",
      "(10248, 5, 'The quantity is under 30')\n",
      "(10249, 9, 'The quantity is under 30')\n",
      "(10249, 40, 'The quantity is greater than 30')\n",
      "(10250, 10, 'The quantity is under 30')\n",
      "...and 512 more rows.\n",
      "Total rows (if limit is removed): 518\n",
      "--------------------------------------------------\n"
     ]
    }
   ],
   "source": [
    "query = '''\n",
    "SELECT OrderID, Quantity,\n",
    "CASE\n",
    "    WHEN Quantity > 30 THEN 'The quantity is greater than 30'\n",
    "    WHEN Quantity = 30 THEN 'The quantity is 30'\n",
    "    ELSE 'The quantity is under 30'\n",
    "END AS QuantityText\n",
    "FROM OrderDetails\n",
    "'''\n",
    "\n",
    "print_query(query)"
   ]
  },
  {
   "cell_type": "code",
   "execution_count": 96,
   "metadata": {},
   "outputs": [
    {
     "name": "stdout",
     "output_type": "stream",
     "text": [
      "\n",
      "SELECT CustomerName, City, Country\n",
      "FROM Customers\n",
      "ORDER BY\n",
      "(CASE\n",
      "    WHEN City IS NULL THEN Country\n",
      "    ELSE City\n",
      "END)\n",
      "\n",
      "Query Results:\n",
      "('Drachenblut Delikatessend', 'Aachen', 'Germany')\n",
      "('Rattlesnake Canyon Grocery', 'Albuquerque', 'USA')\n",
      "('Old World Delicatessen', 'Anchorage', 'USA')\n",
      "(\"Grandma Kelly's Homestead\", 'Ann Arbor', 'USA')\n",
      "('Gai pâturage', 'Annecy', 'France')\n",
      "('Galería del gastrónomo', 'Barcelona', 'Spain')\n",
      "...and 119 more rows.\n",
      "Total rows (if limit is removed): 125\n",
      "--------------------------------------------------\n"
     ]
    }
   ],
   "source": [
    "query = '''\n",
    "SELECT CustomerName, City, Country\n",
    "FROM Customers\n",
    "ORDER BY\n",
    "(CASE\n",
    "    WHEN City IS NULL THEN Country\n",
    "    ELSE City\n",
    "END)\n",
    "'''\n",
    "\n",
    "print_query(query)"
   ]
  },
  {
   "cell_type": "markdown",
   "metadata": {},
   "source": [
    "#### SQL NULL Functions"
   ]
  },
  {
   "cell_type": "code",
   "execution_count": 97,
   "metadata": {},
   "outputs": [],
   "source": [
    "# IFNULL()\n",
    "query = ''' \n",
    "SELECT ProductName, UnitPrice * (UnitsInStock + IFNULL(UnitsOnOrder, 0))\n",
    "FROM Products;\n",
    "'''\n",
    "\n",
    "# COALESCE() 여러 값 중 첫 번째로 NULL이 아닌 값을 반환합니다.\n",
    "query = ''' \n",
    "SELECT ProductName, UnitPrice * (UnitsInStock + COALESCE(UnitsOnOrder, 0))\n",
    "FROM Products;\n",
    "'''"
   ]
  },
  {
   "cell_type": "markdown",
   "metadata": {},
   "source": [
    "#### SQL Stored Procedures for SQL Server"
   ]
  },
  {
   "cell_type": "code",
   "execution_count": 98,
   "metadata": {},
   "outputs": [],
   "source": [
    "# # 저장 프로시저 생성\n",
    "# print_query(\"CREATE PROCEDURE SelectAllCustomers AS SELECT * FROM Customers GO\")\n",
    "# # 저장 프로시저 실행\n",
    "# print_query(\"EXEC SelectAllCustomers\")\n",
    "\n",
    "\n",
    "# # 저장 프로시저 생성\n",
    "# print_query(\"CCREATE PROCEDURE SelectAllCustomers @City nvarchar(30), @PostalCode nvarchar(10) AS SELECT * FROM Customers WHERE City = @City AND PostalCode = @PostalCode GO\")\n",
    "# # 저장 프로시저 실행\n",
    "# print_query(\"EXEC SelectAllCustomers @City = 'London', @PostalCode = 'WA1 1DP'\")\n",
    "\n",
    "\n",
    "# # 저장 프로시저 생성\n",
    "# print_query(\"CREATE PROCEDURE SelectAllCustomers @City nvarchar(30) AS SELECT * FROM Customers WHERE City = @City GO\")\n",
    "# # 저장 프로시저 실행\n",
    "# print_query(\"EXEC SelectAllCustomers @City = 'London'\")"
   ]
  },
  {
   "cell_type": "markdown",
   "metadata": {},
   "source": [
    "#### SQL Comments"
   ]
  },
  {
   "cell_type": "code",
   "execution_count": 99,
   "metadata": {},
   "outputs": [
    {
     "name": "stdout",
     "output_type": "stream",
     "text": [
      " \n",
      "-- Select all:\n",
      "SELECT * FROM Customers\n",
      "\n",
      "Query Results:\n",
      "(1, 'Alfreds Futterkiste', 'Alfred Schmidt', 'Obere Str. 57', 'Frankfurt', '12209', 'Germany')\n",
      "(2, 'Ana Trujillo Emparedados y helados', 'Ana Trujillo', 'Avda. de la Constitución 2222', 'México D.F.', '5021', 'Mexico')\n",
      "(3, 'Antonio Moreno Taquería', 'Antonio Moreno', 'Mataderos 2312', 'México D.F.', '5023', 'Mexico')\n",
      "(4, 'Around the Horn', 'Thomas Hardy', '120 Hanover Sq.', 'London', 'WA1 1DP', 'UK')\n",
      "(5, 'Berglunds snabbköp', 'Christina Berglund', 'Berguvsvägen 8', 'Luleå', 'S-958 22', 'Sweden')\n",
      "(6, 'Blauer See Delikatessen', 'Hanna Moos', 'Forsterstr. 57', 'Mannheim', '68306', 'Germany')\n",
      "...and 119 more rows.\n",
      "Total rows (if limit is removed): 125\n",
      "--------------------------------------------------\n",
      " \n",
      "SELECT * FROM Customers -- WHERE City='Berlin'\n",
      "\n",
      "Query Results:\n",
      "(1, 'Alfreds Futterkiste', 'Alfred Schmidt', 'Obere Str. 57', 'Frankfurt', '12209', 'Germany')\n",
      "(2, 'Ana Trujillo Emparedados y helados', 'Ana Trujillo', 'Avda. de la Constitución 2222', 'México D.F.', '5021', 'Mexico')\n",
      "(3, 'Antonio Moreno Taquería', 'Antonio Moreno', 'Mataderos 2312', 'México D.F.', '5023', 'Mexico')\n",
      "(4, 'Around the Horn', 'Thomas Hardy', '120 Hanover Sq.', 'London', 'WA1 1DP', 'UK')\n",
      "(5, 'Berglunds snabbköp', 'Christina Berglund', 'Berguvsvägen 8', 'Luleå', 'S-958 22', 'Sweden')\n",
      "(6, 'Blauer See Delikatessen', 'Hanna Moos', 'Forsterstr. 57', 'Mannheim', '68306', 'Germany')\n",
      "...and 119 more rows.\n",
      "Total rows (if limit is removed): 125\n",
      "--------------------------------------------------\n",
      " \n",
      "-- SELECT * FROM Customers;\n",
      "SELECT * FROM Products\n",
      "\n",
      "Query Results:\n",
      "(1, 'Chais', 1, 1, '10 boxes x 20 bags', 18)\n",
      "(2, 'Chang', 1, 1, '24 - 12 oz bottles', 19)\n",
      "(3, 'Aniseed Syrup', 1, 2, '12 - 550 ml bottles', 10)\n",
      "(4, \"Chef Anton's Cajun Seasoning\", 2, 2, '48 - 6 oz jars', 22)\n",
      "(5, \"Chef Anton's Gumbo Mix\", 2, 2, '36 boxes', 21.35)\n",
      "(6, \"Grandma's Boysenberry Spread\", 3, 2, '12 - 8 oz jars', 25)\n",
      "...and 71 more rows.\n",
      "Total rows (if limit is removed): 77\n",
      "--------------------------------------------------\n"
     ]
    }
   ],
   "source": [
    "# Single Line\n",
    "query = ''' \n",
    "-- Select all:\n",
    "SELECT * FROM Customers\n",
    "'''\n",
    "print_query(query)\n",
    "\n",
    "query = ''' \n",
    "SELECT * FROM Customers -- WHERE City='Berlin'\n",
    "'''\n",
    "print_query(query)\n",
    "\n",
    "query = ''' \n",
    "-- SELECT * FROM Customers;\n",
    "SELECT * FROM Products\n",
    "'''\n",
    "print_query(query)"
   ]
  },
  {
   "cell_type": "code",
   "execution_count": 100,
   "metadata": {},
   "outputs": [
    {
     "name": "stdout",
     "output_type": "stream",
     "text": [
      " \n",
      "/*Select all the columns\n",
      "of all the records\n",
      "in the Customers table:*/\n",
      "SELECT * FROM Customers\n",
      "\n",
      "Query Results:\n",
      "(1, 'Alfreds Futterkiste', 'Alfred Schmidt', 'Obere Str. 57', 'Frankfurt', '12209', 'Germany')\n",
      "(2, 'Ana Trujillo Emparedados y helados', 'Ana Trujillo', 'Avda. de la Constitución 2222', 'México D.F.', '5021', 'Mexico')\n",
      "(3, 'Antonio Moreno Taquería', 'Antonio Moreno', 'Mataderos 2312', 'México D.F.', '5023', 'Mexico')\n",
      "(4, 'Around the Horn', 'Thomas Hardy', '120 Hanover Sq.', 'London', 'WA1 1DP', 'UK')\n",
      "(5, 'Berglunds snabbköp', 'Christina Berglund', 'Berguvsvägen 8', 'Luleå', 'S-958 22', 'Sweden')\n",
      "(6, 'Blauer See Delikatessen', 'Hanna Moos', 'Forsterstr. 57', 'Mannheim', '68306', 'Germany')\n",
      "...and 119 more rows.\n",
      "Total rows (if limit is removed): 125\n",
      "--------------------------------------------------\n"
     ]
    }
   ],
   "source": [
    "# Multiple Line\n",
    "query = ''' \n",
    "/*Select all the columns\n",
    "of all the records\n",
    "in the Customers table:*/\n",
    "SELECT * FROM Customers\n",
    "'''\n",
    "print_query(query)\n"
   ]
  },
  {
   "cell_type": "code",
   "execution_count": 101,
   "metadata": {},
   "outputs": [
    {
     "name": "stdout",
     "output_type": "stream",
     "text": [
      " \n",
      "/*SELECT * FROM Customers;\n",
      "SELECT * FROM Products;\n",
      "SELECT * FROM Orders;\n",
      "SELECT * FROM Categories;*/\n",
      "SELECT * FROM Suppliers\n",
      "\n",
      "Query Results:\n",
      "(1, 'Exotic Liquid', 'Charlotte Cooper', '49 Gilbert St.', 'Londona', 'EC1 4SD', 'UK', '(171) 555-2222')\n",
      "(2, 'New Orleans Cajun Delights', 'Shelley Burke', 'P.O. Box 78934', 'New Orleans', '70117', 'USA', '(100) 555-4822')\n",
      "(3, \"Grandma Kelly's Homestead\", 'Regina Murphy', '707 Oxford Rd.', 'Ann Arbor', '48104', 'USA', '(313) 555-5735')\n",
      "(4, 'Tokyo Traders', 'Yoshi Nagase', '9-8 Sekimai Musashino-shi', 'Tokyo', '100', 'Japan', '(03) 3555-5011')\n",
      "(5, \"Cooperativa de Quesos 'Las Cabras'\", 'Antonio del Valle Saavedra', 'Calle del Rosal 4', 'Oviedo', '33007', 'Spain', '(98) 598 76 54')\n",
      "(6, \"Mayumi's\", 'Mayumi Ohno', '92 Setsuko Chuo-ku', 'Osaka', '545', 'Japan', '(06) 431-7877')\n",
      "...and 23 more rows.\n",
      "Total rows (if limit is removed): 29\n",
      "--------------------------------------------------\n"
     ]
    }
   ],
   "source": [
    "query = ''' \n",
    "/*SELECT * FROM Customers;\n",
    "SELECT * FROM Products;\n",
    "SELECT * FROM Orders;\n",
    "SELECT * FROM Categories;*/\n",
    "SELECT * FROM Suppliers\n",
    "'''\n",
    "print_query(query)\n"
   ]
  },
  {
   "cell_type": "code",
   "execution_count": 102,
   "metadata": {},
   "outputs": [
    {
     "name": "stdout",
     "output_type": "stream",
     "text": [
      " \n",
      "SELECT * FROM Customers WHERE (CustomerName LIKE 'L%'\n",
      "OR CustomerName LIKE 'R%' /*OR CustomerName LIKE 'S%'\n",
      "OR CustomerName LIKE 'T%'*/ OR CustomerName LIKE 'W%')\n",
      "AND Country='USA'\n",
      "ORDER BY CustomerName\n",
      "\n",
      "Query Results:\n",
      "(43, 'Lazy K Kountry Store', 'John Steel', '12 Orchestra Terrace', 'Walla Walla', '99362', 'USA')\n",
      "(45, \"Let''s Stop N Shop\", 'Jaime Yorres', '87 Polk St. Suite 5', 'San Francisco', '94117', 'USA')\n",
      "(48, 'Lonesome Pine Restaurant', 'Fran Wilson', '89 Chiaroscuro Rd.', 'Portland', '97219', 'USA')\n",
      "(65, 'Rattlesnake Canyon Grocery', 'Paula Wilson', '2817 Milton Dr.', 'Albuquerque', '87110', 'USA')\n",
      "(89, 'White Clover Markets', 'Karl Jablonski', '305 - 14th Ave. S. Suite 3B', 'Seattle', '98128', 'USA')\n",
      "Total rows (if limit is removed): 5\n",
      "--------------------------------------------------\n",
      " \n",
      "SELECT * FROM Customers WHERE (CustomerName LIKE 'L%'\n",
      "OR CustomerName LIKE 'R%' /*OR CustomerName LIKE 'S%'\n",
      "OR CustomerName LIKE 'T%'*/ OR CustomerName LIKE 'W%')\n",
      "AND Country='USA'\n",
      "ORDER BY CustomerName\n",
      "\n",
      "Query Results:\n",
      "(43, 'Lazy K Kountry Store', 'John Steel', '12 Orchestra Terrace', 'Walla Walla', '99362', 'USA')\n",
      "(45, \"Let''s Stop N Shop\", 'Jaime Yorres', '87 Polk St. Suite 5', 'San Francisco', '94117', 'USA')\n",
      "(48, 'Lonesome Pine Restaurant', 'Fran Wilson', '89 Chiaroscuro Rd.', 'Portland', '97219', 'USA')\n",
      "(65, 'Rattlesnake Canyon Grocery', 'Paula Wilson', '2817 Milton Dr.', 'Albuquerque', '87110', 'USA')\n",
      "(89, 'White Clover Markets', 'Karl Jablonski', '305 - 14th Ave. S. Suite 3B', 'Seattle', '98128', 'USA')\n",
      "Total rows (if limit is removed): 5\n",
      "--------------------------------------------------\n"
     ]
    }
   ],
   "source": [
    "query = ''' \n",
    "SELECT * FROM Customers WHERE (CustomerName LIKE 'L%'\n",
    "OR CustomerName LIKE 'R%' /*OR CustomerName LIKE 'S%'\n",
    "OR CustomerName LIKE 'T%'*/ OR CustomerName LIKE 'W%')\n",
    "AND Country='USA'\n",
    "ORDER BY CustomerName\n",
    "'''\n",
    "print_query(query)\n",
    "\n",
    "query = ''' \n",
    "SELECT * FROM Customers WHERE (CustomerName LIKE 'L%'\n",
    "OR CustomerName LIKE 'R%' /*OR CustomerName LIKE 'S%'\n",
    "OR CustomerName LIKE 'T%'*/ OR CustomerName LIKE 'W%')\n",
    "AND Country='USA'\n",
    "ORDER BY CustomerName\n",
    "'''\n",
    "print_query(query)\n"
   ]
  },
  {
   "cell_type": "markdown",
   "metadata": {},
   "source": [
    "#### SQL Operators "
   ]
  },
  {
   "cell_type": "markdown",
   "metadata": {},
   "source": [
    "#### SQL Arithmetic Operators\n"
   ]
  },
  {
   "cell_type": "code",
   "execution_count": 105,
   "metadata": {},
   "outputs": [
    {
     "name": "stdout",
     "output_type": "stream",
     "text": [
      "SELECT 30 + 20\n",
      "Query Results:\n",
      "(50,)\n",
      "Total rows (if limit is removed): 1\n",
      "--------------------------------------------------\n",
      "SELECT 30 - 20\n",
      "Query Results:\n",
      "(10,)\n",
      "Total rows (if limit is removed): 1\n",
      "--------------------------------------------------\n",
      "SELECT 30 * 20\n",
      "Query Results:\n",
      "(600,)\n",
      "Total rows (if limit is removed): 1\n",
      "--------------------------------------------------\n",
      "SELECT 30 / 20\n",
      "Query Results:\n",
      "(1,)\n",
      "Total rows (if limit is removed): 1\n",
      "--------------------------------------------------\n",
      "SELECT 30 % 20\n",
      "Query Results:\n",
      "(10,)\n",
      "Total rows (if limit is removed): 1\n",
      "--------------------------------------------------\n"
     ]
    }
   ],
   "source": [
    "print_query(\"SELECT 30 + 20\")\n",
    "print_query(\"SELECT 30 - 20\")\n",
    "print_query(\"SELECT 30 * 20\")\n",
    "print_query(\"SELECT 30 / 20\")\n",
    "print_query(\"SELECT 30 % 20\")"
   ]
  },
  {
   "cell_type": "markdown",
   "metadata": {},
   "source": [
    "#### SQL Bitwise Operators\n"
   ]
  },
  {
   "cell_type": "code",
   "execution_count": 106,
   "metadata": {},
   "outputs": [],
   "source": [
    "# &: AND\n",
    "# &: OR\n",
    "# &: XOR"
   ]
  },
  {
   "cell_type": "markdown",
   "metadata": {},
   "source": [
    "#### SQL Comparison Operators"
   ]
  },
  {
   "cell_type": "code",
   "execution_count": 107,
   "metadata": {},
   "outputs": [
    {
     "name": "stdout",
     "output_type": "stream",
     "text": [
      "SELECT * FROM Products WHERE Price = 18\n",
      "Query Results:\n",
      "(1, 'Chais', 1, 1, '10 boxes x 20 bags', 18)\n",
      "(35, 'Steeleye Stout', 16, 1, '24 - 12 oz bottles', 18)\n",
      "(39, 'Chartreuse verte', 18, 1, '750 cc per bottle', 18)\n",
      "(76, 'Lakkalikööri', 23, 1, '500 ml', 18)\n",
      "Total rows (if limit is removed): 4\n",
      "--------------------------------------------------\n",
      "SELECT * FROM Products WHERE Price > 30\n",
      "Query Results:\n",
      "(8, 'Northwoods Cranberry Sauce', 3, 2, '12 - 12 oz jars', 40)\n",
      "(9, 'Mishi Kobe Niku', 4, 6, '18 - 500 g pkgs.', 97)\n",
      "(10, 'Ikura', 4, 8, '12 - 200 ml jars', 31)\n",
      "(12, 'Queso Manchego La Pastora', 5, 4, '10 - 500 g pkgs.', 38)\n",
      "(17, 'Alice Mutton', 7, 6, '20 - 1 kg tins', 39)\n",
      "(18, 'Carnarvon Tigers', 7, 8, '16 kg pkg.', 62.5)\n",
      "...and 18 more rows.\n",
      "Total rows (if limit is removed): 24\n",
      "--------------------------------------------------\n"
     ]
    }
   ],
   "source": [
    "# =\tEqual to\t\n",
    "print_query(\"SELECT * FROM Products WHERE Price = 18\")\n",
    "# >\tGreater than\n",
    "print_query(\"SELECT * FROM Products WHERE Price > 30\")\n"
   ]
  },
  {
   "cell_type": "code",
   "execution_count": 108,
   "metadata": {},
   "outputs": [
    {
     "name": "stdout",
     "output_type": "stream",
     "text": [
      "SELECT * FROM Products WHERE Price < 30\n",
      "Query Results:\n",
      "(1, 'Chais', 1, 1, '10 boxes x 20 bags', 18)\n",
      "(2, 'Chang', 1, 1, '24 - 12 oz bottles', 19)\n",
      "(3, 'Aniseed Syrup', 1, 2, '12 - 550 ml bottles', 10)\n",
      "(4, \"Chef Anton's Cajun Seasoning\", 2, 2, '48 - 6 oz jars', 22)\n",
      "(5, \"Chef Anton's Gumbo Mix\", 2, 2, '36 boxes', 21.35)\n",
      "(6, \"Grandma's Boysenberry Spread\", 3, 2, '12 - 8 oz jars', 25)\n",
      "...and 46 more rows.\n",
      "Total rows (if limit is removed): 52\n",
      "--------------------------------------------------\n",
      "SELECT * FROM Products WHERE Price >= 30\n",
      "Query Results:\n",
      "(7, \"Uncle Bob's Organic Dried Pears\", 3, 7, '12 - 1 lb pkgs.', 30)\n",
      "(8, 'Northwoods Cranberry Sauce', 3, 2, '12 - 12 oz jars', 40)\n",
      "(9, 'Mishi Kobe Niku', 4, 6, '18 - 500 g pkgs.', 97)\n",
      "(10, 'Ikura', 4, 8, '12 - 200 ml jars', 31)\n",
      "(12, 'Queso Manchego La Pastora', 5, 4, '10 - 500 g pkgs.', 38)\n",
      "(17, 'Alice Mutton', 7, 6, '20 - 1 kg tins', 39)\n",
      "...and 19 more rows.\n",
      "Total rows (if limit is removed): 25\n",
      "--------------------------------------------------\n"
     ]
    }
   ],
   "source": [
    "# <\tLess than\t\n",
    "print_query(\"SELECT * FROM Products WHERE Price < 30\")\n",
    "# >=\tGreater than or equal to\t\n",
    "print_query(\"SELECT * FROM Products WHERE Price >= 30\")"
   ]
  },
  {
   "cell_type": "code",
   "execution_count": 109,
   "metadata": {},
   "outputs": [
    {
     "name": "stdout",
     "output_type": "stream",
     "text": [
      "SELECT * FROM Products WHERE Price  <= 30\n",
      "Query Results:\n",
      "(1, 'Chais', 1, 1, '10 boxes x 20 bags', 18)\n",
      "(2, 'Chang', 1, 1, '24 - 12 oz bottles', 19)\n",
      "(3, 'Aniseed Syrup', 1, 2, '12 - 550 ml bottles', 10)\n",
      "(4, \"Chef Anton's Cajun Seasoning\", 2, 2, '48 - 6 oz jars', 22)\n",
      "(5, \"Chef Anton's Gumbo Mix\", 2, 2, '36 boxes', 21.35)\n",
      "(6, \"Grandma's Boysenberry Spread\", 3, 2, '12 - 8 oz jars', 25)\n",
      "...and 47 more rows.\n",
      "Total rows (if limit is removed): 53\n",
      "--------------------------------------------------\n",
      "SELECT * FROM Products WHERE Price <> 30\n",
      "Query Results:\n",
      "(1, 'Chais', 1, 1, '10 boxes x 20 bags', 18)\n",
      "(2, 'Chang', 1, 1, '24 - 12 oz bottles', 19)\n",
      "(3, 'Aniseed Syrup', 1, 2, '12 - 550 ml bottles', 10)\n",
      "(4, \"Chef Anton's Cajun Seasoning\", 2, 2, '48 - 6 oz jars', 22)\n",
      "(5, \"Chef Anton's Gumbo Mix\", 2, 2, '36 boxes', 21.35)\n",
      "(6, \"Grandma's Boysenberry Spread\", 3, 2, '12 - 8 oz jars', 25)\n",
      "...and 70 more rows.\n",
      "Total rows (if limit is removed): 76\n",
      "--------------------------------------------------\n"
     ]
    }
   ],
   "source": [
    "# <=\tLess than or equal to\t\n",
    "print_query(\"SELECT * FROM Products WHERE Price  <= 30\")\n",
    "# <>\tNot equal to\t\n",
    "print_query(\"SELECT * FROM Products WHERE Price <> 30\")"
   ]
  },
  {
   "cell_type": "markdown",
   "metadata": {},
   "source": [
    "#### SQL Compound Operators\n"
   ]
  },
  {
   "cell_type": "markdown",
   "metadata": {},
   "source": [
    "+=\tAdd equals  \n",
    "-=\tSubtract equals  \n",
    "*=\tMultiply equals  \n",
    "/=\tDivide equals  \n",
    "%=\tModulo equals   \n",
    "&=\tBitwise AND equals  \n",
    "^-=\tBitwise exclusive equals  \n",
    "|*=\tBitwise OR equals  "
   ]
  },
  {
   "cell_type": "markdown",
   "metadata": {},
   "source": [
    "#### SQL Logical Operators"
   ]
  },
  {
   "cell_type": "code",
   "execution_count": 112,
   "metadata": {},
   "outputs": [],
   "source": [
    "# ALL\tTRUE if all of the subquery values meet the condition\t\n",
    "# query = ''' \n",
    "# SELECT ProductName \n",
    "# FROM Products\n",
    "# WHERE ProductID = ALL (SELECT ProductID FROM OrderDetails WHERE Quantity = 10)\n",
    "# '''\n",
    "# print_query(query)"
   ]
  },
  {
   "cell_type": "code",
   "execution_count": 113,
   "metadata": {},
   "outputs": [
    {
     "name": "stdout",
     "output_type": "stream",
     "text": [
      " \n",
      "SELECT * FROM Customers\n",
      "WHERE City = \"London\" AND Country = \"UK\"\n",
      "\n",
      "Query Results:\n",
      "(4, 'Around the Horn', 'Thomas Hardy', '120 Hanover Sq.', 'London', 'WA1 1DP', 'UK')\n",
      "(11, \"B''s Beverages\", 'Victoria Ashworth', 'Fauntleroy Circus', 'London', 'EC2 5NT', 'UK')\n",
      "(16, 'Consolidated Holdings', 'Elizabeth Brown', 'Berkeley Gardens 12 Brewery', 'London', 'WX1 6LT', 'UK')\n",
      "(19, 'Eastern Connection', 'Ann Devon', '35 King George', 'London', 'WX3 6FW', 'UK')\n",
      "(53, 'North/South', 'Simon Crowther', 'South House 300 Queensbridge', 'London', 'SW7 1RZ', 'UK')\n",
      "(72, 'Seven Seas Imports', 'Hari Kumar', '90 Wadhurst Rd.', 'London', 'OX15 4NB', 'UK')\n",
      "Total rows (if limit is removed): 6\n",
      "--------------------------------------------------\n"
     ]
    }
   ],
   "source": [
    "# AND\tTRUE if all the conditions separated by AND is TRUE\t\n",
    "query = ''' \n",
    "SELECT * FROM Customers\n",
    "WHERE City = \"London\" AND Country = \"UK\"\n",
    "'''\n",
    "print_query(query)\n"
   ]
  },
  {
   "cell_type": "code",
   "execution_count": 115,
   "metadata": {},
   "outputs": [],
   "source": [
    "# ANY\tTRUE if any of the subquery values meet the condition\t\n",
    "# query = ''' \n",
    "# SELECT * FROM Products\n",
    "# WHERE Price > ANY (SELECT Price FROM Products WHERE Price > 50)\n",
    "# '''\n",
    "# print_query(query)"
   ]
  },
  {
   "cell_type": "code",
   "execution_count": 118,
   "metadata": {},
   "outputs": [],
   "source": [
    "# BETWEEN\tTRUE if the operand is within the range of comparisons\t\n",
    "# query = ''' \n",
    "# print_query(query)\n",
    "# SELECT * FROM Products\n",
    "# WHERE Price BETWEEN 50 AND 60\n",
    "# '''\n",
    "# print_query(query)"
   ]
  },
  {
   "cell_type": "code",
   "execution_count": 119,
   "metadata": {},
   "outputs": [
    {
     "name": "stdout",
     "output_type": "stream",
     "text": [
      " \n",
      "SELECT SupplierName\n",
      "FROM Suppliers\n",
      "WHERE EXISTS (SELECT ProductName FROM Products WHERE Products.SupplierID = Suppliers.supplierID AND Price < 20)\n",
      "\n",
      "Query Results:\n",
      "('Exotic Liquid',)\n",
      "('New Orleans Cajun Delights',)\n",
      "('Tokyo Traders',)\n",
      "(\"Mayumi's\",)\n",
      "('Pavlova, Ltd.',)\n",
      "('Specialty Biscuits, Ltd.',)\n",
      "...and 18 more rows.\n",
      "Total rows (if limit is removed): 24\n",
      "--------------------------------------------------\n"
     ]
    }
   ],
   "source": [
    "# EXISTS\tTRUE if the subquery returns one or more records\t\n",
    "query = ''' \n",
    "SELECT SupplierName\n",
    "FROM Suppliers\n",
    "WHERE EXISTS (SELECT ProductName FROM Products WHERE Products.SupplierID = Suppliers.supplierID AND Price < 20)\n",
    "'''\n",
    "print_query(query)"
   ]
  },
  {
   "cell_type": "code",
   "execution_count": 120,
   "metadata": {},
   "outputs": [],
   "source": [
    "# IN\tTRUE if the operand is equal to one of a list of expressions\t\n",
    "query = ''' \n",
    "SELECT SupplierName\n",
    "FROM Suppliers\n",
    "WHERE EXISTS (SELECT ProductName FROM Products WHERE Products.SupplierID = Suppliers.supplierID AND Price < 20)\n",
    "'''\n",
    "print_query(query)"
   ]
  },
  {
   "cell_type": "code",
   "execution_count": 127,
   "metadata": {},
   "outputs": [
    {
     "name": "stdout",
     "output_type": "stream",
     "text": [
      " \n",
      "SELECT * FROM Customers\n",
      "WHERE City LIKE 's%'\n",
      "\n",
      "Query Results:\n",
      "(7, 'Blondel père et fils', 'Frédérique Citeaux', '24, place Kléber', 'Strasbourg', '67000', 'France')\n",
      "(15, 'Comércio Mineiro', 'Pedro Afonso', 'Av. dos Lusíadas, 23', 'São Paulo', '05432-043', 'Brazil')\n",
      "(21, 'Familia Arquibaldo', 'Aria Cruz', 'Rua Orós, 92', 'São Paulo', '05442-030', 'Brazil')\n",
      "(30, 'Godos Cocina Típica', 'José Pedro Freyre', 'C/ Romero, 33', 'Sevilla', '41101', 'Spain')\n",
      "(35, 'HILARIÓN-Abastos', 'Carlos Hernández', 'Carrera 22 con Ave. Carlos Soublette #8-35', 'San Cristóbal', '5022', 'Venezuela')\n",
      "(45, \"Let''s Stop N Shop\", 'Jaime Yorres', '87 Polk St. Suite 5', 'San Francisco', '94117', 'USA')\n",
      "...and 17 more rows.\n",
      "Total rows (if limit is removed): 23\n",
      "--------------------------------------------------\n"
     ]
    }
   ],
   "source": [
    "# LIKE\tTRUE if the operand matches a pattern\t\n",
    "query = ''' \n",
    "SELECT * FROM Customers\n",
    "WHERE City LIKE 's%'\n",
    "'''\n",
    "print_query(query)"
   ]
  },
  {
   "cell_type": "code",
   "execution_count": 128,
   "metadata": {},
   "outputs": [
    {
     "name": "stdout",
     "output_type": "stream",
     "text": [
      " \n",
      "SELECT * FROM Customers\n",
      "WHERE City NOT LIKE 's%'\n",
      "\n",
      "Query Results:\n",
      "(1, 'Alfreds Futterkiste', 'Alfred Schmidt', 'Obere Str. 57', 'Frankfurt', '12209', 'Germany')\n",
      "(2, 'Ana Trujillo Emparedados y helados', 'Ana Trujillo', 'Avda. de la Constitución 2222', 'México D.F.', '5021', 'Mexico')\n",
      "(3, 'Antonio Moreno Taquería', 'Antonio Moreno', 'Mataderos 2312', 'México D.F.', '5023', 'Mexico')\n",
      "(4, 'Around the Horn', 'Thomas Hardy', '120 Hanover Sq.', 'London', 'WA1 1DP', 'UK')\n",
      "(5, 'Berglunds snabbköp', 'Christina Berglund', 'Berguvsvägen 8', 'Luleå', 'S-958 22', 'Sweden')\n",
      "(6, 'Blauer See Delikatessen', 'Hanna Moos', 'Forsterstr. 57', 'Mannheim', '68306', 'Germany')\n",
      "...and 96 more rows.\n",
      "Total rows (if limit is removed): 102\n",
      "--------------------------------------------------\n"
     ]
    }
   ],
   "source": [
    "# NOT\tDisplays a record if the condition(s) is NOT TRUE\t\n",
    "query = ''' \n",
    "SELECT * FROM Customers\n",
    "WHERE City NOT LIKE 's%'\n",
    "'''\n",
    "print_query(query)"
   ]
  },
  {
   "cell_type": "code",
   "execution_count": 129,
   "metadata": {},
   "outputs": [
    {
     "name": "stdout",
     "output_type": "stream",
     "text": [
      " \n",
      "SELECT * FROM Customers\n",
      "WHERE City = \"London\" OR Country = \"UK\"\n",
      "\n",
      "Query Results:\n",
      "(4, 'Around the Horn', 'Thomas Hardy', '120 Hanover Sq.', 'London', 'WA1 1DP', 'UK')\n",
      "(11, \"B''s Beverages\", 'Victoria Ashworth', 'Fauntleroy Circus', 'London', 'EC2 5NT', 'UK')\n",
      "(16, 'Consolidated Holdings', 'Elizabeth Brown', 'Berkeley Gardens 12 Brewery', 'London', 'WX1 6LT', 'UK')\n",
      "(19, 'Eastern Connection', 'Ann Devon', '35 King George', 'London', 'WX3 6FW', 'UK')\n",
      "(38, 'Island Trading', 'Helen Bennett', 'Garden House Crowther Way', 'Cowes', 'PO31 7PJ', 'UK')\n",
      "(53, 'North/South', 'Simon Crowther', 'South House 300 Queensbridge', 'London', 'SW7 1RZ', 'UK')\n",
      "...and 4 more rows.\n",
      "Total rows (if limit is removed): 10\n",
      "--------------------------------------------------\n"
     ]
    }
   ],
   "source": [
    "# OR\tTRUE if any of the conditions separated by OR is TRUE\n",
    "query = ''' \n",
    "SELECT * FROM Customers\n",
    "WHERE City = \"London\" OR Country = \"UK\"\n",
    "'''\n",
    "print_query(query)"
   ]
  },
  {
   "cell_type": "code",
   "execution_count": 131,
   "metadata": {},
   "outputs": [],
   "source": [
    "# SOME\tTRUE if any of the subquery values meet the condition\n",
    "# query = ''' \n",
    "# SELECT * FROM Products\n",
    "# WHERE Price > SOME (SELECT Price FROM Products WHERE Price > 20)\n",
    "# '''\n",
    "# print_query(query)"
   ]
  }
 ],
 "metadata": {
  "kernelspec": {
   "display_name": "venv",
   "language": "python",
   "name": "python3"
  },
  "language_info": {
   "codemirror_mode": {
    "name": "ipython",
    "version": 3
   },
   "file_extension": ".py",
   "mimetype": "text/x-python",
   "name": "python",
   "nbconvert_exporter": "python",
   "pygments_lexer": "ipython3",
   "version": "3.9.6"
  }
 },
 "nbformat": 4,
 "nbformat_minor": 2
}
