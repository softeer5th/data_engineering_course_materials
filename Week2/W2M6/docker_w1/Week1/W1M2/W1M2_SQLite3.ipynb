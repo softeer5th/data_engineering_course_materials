{
 "cells": [
  {
   "cell_type": "markdown",
   "metadata": {},
   "source": [
    "# W1M2 - SQL Tutorial"
   ]
  },
  {
   "cell_type": "markdown",
   "metadata": {},
   "source": [
    "#### 학습 목표\n",
    "SQL의 기초에 대해서 공부합니다.\n",
    "Tutorial의 Home에서부터 Operators까지 읽고 Example을 실행합니다.\n",
    "Jupyter Notebook에서 SQL을 사용해서 데이터를 처리하는 것을 공부합니다.\n",
    "\n",
    "#### 기능요구사항\n",
    "Jupyter Notebook을 만듭니다.\n",
    "SQL Tutorials에서 Example을 하나씩 수행하고 그 결과를 노트북에 출력하세요.\n",
    "원하는 출력결과를 얻기 위해 필요하다면 적합한 Demo Table을 만들어야 합니다.\n",
    "\n",
    "#### 프로그래밍 요구사항\n",
    "sqlite3 라이브러리를 사용하세요\n",
    "\n",
    "#### pandas와 같은 라이브러리는 사용해서는 안됩니다. SQL 명령어로만 원하는 결과를 얻어야 합니다.\n",
    "\n",
    "#### 예상결과 및 동작예시\n",
    "Query의 결과가 출력된 Jupyter notebook을 제출하세요.\n",
    "\n",
    "#### 팀 활동 요구사항\n",
    "각자가 이해하기 어려웠던, 또는 이해하지 못한 keyword에 대해서 함께 토의해 봅시다. 그 결과를 개인 위키에 기록하세요.\n",
    "\n"
   ]
  },
  {
   "cell_type": "markdown",
   "metadata": {},
   "source": [
    "---"
   ]
  },
  {
   "cell_type": "markdown",
   "metadata": {},
   "source": [
    "## SQLite Python: Creating a New Database"
   ]
  },
  {
   "cell_type": "markdown",
   "metadata": {},
   "source": [
    "### Creating an SQLite database file from Python"
   ]
  },
  {
   "cell_type": "code",
   "execution_count": null,
   "metadata": {},
   "outputs": [],
   "source": [
    "#import sqlite3\n",
    "import sqlite3\n",
    "\n",
    "# create a new SQLite database\n",
    "db_file = \"/Users/admin/Documents/GitHub/Daily_Softeer/missions/Week1/my.db\"  # SQLite DB 파일 경로\n",
    "conn = sqlite3.connect(db_file)\n",
    "\n",
    "# close\n",
    "conn.close()\n",
    "\n",
    "# with 사용하여 자동으로 닫기 \n",
    "with sqlite3.connect(db_file) as conn:\n",
    "    # interact with database\n",
    "    pass\n",
    "\n",
    "\n",
    "# Catch error\n",
    "try:\n",
    "    with sqlite3.connect(db_file) as conn:\n",
    "        #interact\n",
    "        pass\n",
    "except sqlite3.OperationalError as e:\n",
    "    print(\"Failed to open database:\", e)"
   ]
  },
  {
   "cell_type": "markdown",
   "metadata": {},
   "source": [
    "### Program to create a new SQLite database"
   ]
  },
  {
   "cell_type": "code",
   "execution_count": null,
   "metadata": {},
   "outputs": [
    {
     "name": "stdout",
     "output_type": "stream",
     "text": [
      "Opened SQLite database with version 3.43.2 succesfully.\n"
     ]
    }
   ],
   "source": [
    "try:\n",
    "    with sqlite3.connect(db_file) as conn:\n",
    "        print(f\"Opened SQLite database with version {sqlite3.sqlite_version} succesfully.\")\n",
    "\n",
    "except sqlite3.OperationalError as e:\n",
    "    print(\"Failed to open database:\", e)"
   ]
  },
  {
   "cell_type": "markdown",
   "metadata": {},
   "source": [
    "### Creating an SQLite database in the memory\n",
    "SQLite에서 메모리에 데이터베이스를 생성하려면 sqlite3.connect() 함수에 문자열 ':memory:'를 전달하면 됩니다. 메모리 데이터베이스는 프로그램 실행 동안에만 유지되며, 프로그램이 종료되면 데이터가 사라집니다."
   ]
  },
  {
   "cell_type": "code",
   "execution_count": null,
   "metadata": {},
   "outputs": [],
   "source": [
    "try:\n",
    "    with sqlite3.connect(':memory:') as conn:\n",
    "        # interact\n",
    "        pass\n",
    "except sqlite3.OperationalError as e:\n",
    "    print(\"Failed to open database:\", e)"
   ]
  },
  {
   "cell_type": "markdown",
   "metadata": {},
   "source": [
    "---"
   ]
  },
  {
   "cell_type": "markdown",
   "metadata": {},
   "source": [
    "## SQLite Python: Creating Tables"
   ]
  },
  {
   "cell_type": "markdown",
   "metadata": {},
   "source": [
    "### Creating new tables from Python"
   ]
  },
  {
   "cell_type": "code",
   "execution_count": null,
   "metadata": {},
   "outputs": [
    {
     "name": "stdout",
     "output_type": "stream",
     "text": [
      "Tables created successfully.\n"
     ]
    }
   ],
   "source": [
    "import sqlite3\n",
    "\n",
    "sql_statements = [ \n",
    "    \"\"\"CREATE TABLE IF NOT EXISTS projects (\n",
    "            id INTEGER PRIMARY KEY, \n",
    "            name text NOT NULL, \n",
    "            begin_date DATE, \n",
    "            end_date DATE\n",
    "        );\"\"\",\n",
    "\n",
    "    \"\"\"CREATE TABLE IF NOT EXISTS tasks (\n",
    "            id INTEGER PRIMARY KEY, \n",
    "            name TEXT NOT NULL, \n",
    "            priority INT, \n",
    "            project_id INT NOT NULL, \n",
    "            status_id INT NOT NULL, \n",
    "            begin_date DATE NOT NULL, \n",
    "            end_date DATE NOT NULL, \n",
    "            FOREIGN KEY (project_id) REFERENCES projects (id)\n",
    "        );\"\"\"\n",
    "]\n",
    "\n",
    "# create a database connection\n",
    "try:\n",
    "    with sqlite3.connect('my.db') as conn:\n",
    "        # create a cursor\n",
    "        cursor = conn.cursor()\n",
    "\n",
    "        # execute statements\n",
    "        for statement in sql_statements:\n",
    "            cursor.execute(statement)\n",
    "\n",
    "        # commit the changes\n",
    "        conn.commit()\n",
    "\n",
    "        print(\"Tables created successfully.\")\n",
    "except sqlite3.OperationalError as e:\n",
    "    print(\"Failed to create tables:\", e)\n"
   ]
  },
  {
   "cell_type": "markdown",
   "metadata": {},
   "source": [
    "---"
   ]
  },
  {
   "cell_type": "markdown",
   "metadata": {},
   "source": [
    "### SQLite Python: Inserting Data"
   ]
  },
  {
   "cell_type": "markdown",
   "metadata": {},
   "source": [
    "#### Inserting a new row into a table from Python\n"
   ]
  },
  {
   "cell_type": "code",
   "execution_count": null,
   "metadata": {},
   "outputs": [
    {
     "name": "stdout",
     "output_type": "stream",
     "text": [
      "Created a project with the id 1\n",
      "Created task with the id 1\n",
      "Created task with the id 2\n"
     ]
    }
   ],
   "source": [
    "import sqlite3\n",
    "\n",
    "def create_tables(conn):\n",
    "    cur = conn.cursor()\n",
    "    cur.execute('''\n",
    "        CREATE TABLE IF NOT EXISTS projects (\n",
    "            id INTEGER PRIMARY KEY AUTOINCREMENT,\n",
    "            name TEXT NOT NULL,\n",
    "            begin_date TEXT,\n",
    "            end_date TEXT\n",
    "        )\n",
    "    ''')\n",
    "    cur.execute('''\n",
    "        CREATE TABLE IF NOT EXISTS tasks (\n",
    "            id INTEGER PRIMARY KEY AUTOINCREMENT,\n",
    "            name TEXT NOT NULL,\n",
    "            priority INTEGER,\n",
    "            status_id INTEGER NOT NULL,\n",
    "            project_id INTEGER NOT NULL,\n",
    "            begin_date TEXT NOT NULL,\n",
    "            end_date TEXT NOT NULL,\n",
    "            FOREIGN KEY (project_id) REFERENCES projects (id)\n",
    "        )\n",
    "    ''')\n",
    "    conn.commit()\n",
    "\n",
    "def add_project(conn, project):\n",
    "    # insert table statement\n",
    "    sql = ''' INSERT INTO projects(name,begin_date,end_date)\n",
    "              VALUES(?,?,?) '''\n",
    "    \n",
    "    # Create  a cursor\n",
    "    cur = conn.cursor()\n",
    "\n",
    "    # execute the INSERT statement\n",
    "    cur.execute(sql, project)\n",
    "\n",
    "    # commit the changes\n",
    "    conn.commit()\n",
    "\n",
    "    # get the id of the last inserted row\n",
    "    return cur.lastrowid\n",
    "\n",
    "\n",
    "def add_task(conn, task):\n",
    "    # insert table statement\n",
    "    sql = '''INSERT INTO tasks(name,priority,status_id,project_id,begin_date,end_date)\n",
    "             VALUES(?,?,?,?,?,?) '''\n",
    "    \n",
    "    # create a cursor\n",
    "    cur = conn.cursor()\n",
    "\n",
    "    # execute the INSERT statement\n",
    "    cur.execute(sql, task)\n",
    "\n",
    "    # commit the changes\n",
    "    conn.commit()\n",
    "\n",
    "    # get the id of the last inserted row\n",
    "    return cur.lastrowid\n",
    "\n",
    "\n",
    "def main():\n",
    "    try:\n",
    "        with sqlite3.connect('my.sql') as conn:\n",
    "            create_tables(conn)\n",
    "            # add  a project\n",
    "            project = ('Cool App with SQLite & Python', '2015-01-01', '2015-01-30')\n",
    "            project_id = add_project(conn, project)\n",
    "            print(f'Created a project with the id {project_id}')\n",
    "\n",
    "            # add tasks to the project \n",
    "            tasks = [\n",
    "                ('Analyze the requirements of the app', 1, 1, project_id, '2015-01-01', '2015-01-02'),\n",
    "                ('Confirm with user about the top requirements', 1, 1, project_id, '2015-01-03', '2015-01-05')\n",
    "            ]\n",
    "\n",
    "            for task in tasks:\n",
    "                task_id = add_task(conn, task)\n",
    "                print(f'Created task with the id {task_id}')\n",
    "\n",
    "\n",
    "    except sqlite3.Error as e:\n",
    "        print(e)\n",
    "\n",
    "if __name__ == '__main__':\n",
    "    main()"
   ]
  },
  {
   "cell_type": "markdown",
   "metadata": {},
   "source": [
    "#### Updating data in SQLite using Python "
   ]
  },
  {
   "cell_type": "code",
   "execution_count": null,
   "metadata": {},
   "outputs": [
    {
     "name": "stdout",
     "output_type": "stream",
     "text": [
      "no such table: tasks\n"
     ]
    }
   ],
   "source": [
    "import sqlite3\n",
    "\n",
    "sql = 'UPDATE tasks SET priority = ? WHERE id = ?'\n",
    "\n",
    "try:\n",
    "    with sqlite3.connect('my.db') as conn:\n",
    "        cursor = conn.cursor()\n",
    "        cursor.execute(sql, (2,1) )\n",
    "        conn.commit()\n",
    "except sqlite3.OperationalError as e:\n",
    "    print(e)"
   ]
  },
  {
   "cell_type": "markdown",
   "metadata": {},
   "source": [
    "#### SQLite Python: Querying Data"
   ]
  },
  {
   "cell_type": "code",
   "execution_count": null,
   "metadata": {},
   "outputs": [
    {
     "name": "stdout",
     "output_type": "stream",
     "text": [
      "Error: no such table: tasks\n"
     ]
    }
   ],
   "source": [
    "import sqlite3\n",
    "\n",
    "def get_task_by_id(id: int) -> tuple:\n",
    "    try:\n",
    "        with sqlite3.connect('my.db') as conn:\n",
    "            cur = conn.cursor()\n",
    "            cur.execute('select id, name, priority from tasks where id =?', (id,))\n",
    "            row = cur.fetchone()\n",
    "            return row, None\n",
    "    except sqlite3.OperationalError as e:\n",
    "        return None, e      \n",
    "\n",
    "if __name__ == '__main__':\n",
    "    task, error = get_task_by_id(1)\n",
    "    if error is not None:\n",
    "        print(f'Error: {error}')\n",
    "    else:\n",
    "        print(task)"
   ]
  },
  {
   "cell_type": "markdown",
   "metadata": {},
   "source": [
    "**요약**  \n",
    "•\tfetchall(): 모든 결과 반환 (리스트 형태, 각 행은 튜플).  \n",
    "•\tfetchone(): 다음 한 행만 반환 (튜플 형태).  \n",
    "•\tfetchmany(size): 지정된 size 개수의 행 반환.  "
   ]
  },
  {
   "cell_type": "markdown",
   "metadata": {},
   "source": [
    "### SQLite Python: Deleting Data"
   ]
  },
  {
   "cell_type": "code",
   "execution_count": null,
   "metadata": {},
   "outputs": [
    {
     "name": "stdout",
     "output_type": "stream",
     "text": [
      "no such table: tasks\n"
     ]
    }
   ],
   "source": [
    "import sqlite3\n",
    "\n",
    "sql = 'DELETE FROM tasks WHERE id = ?'\n",
    "\n",
    "try:\n",
    "    with sqlite3.connect('my.db') as conn:\n",
    "        cur = conn.cursor()\n",
    "        cur.execute(sql, (1,))\n",
    "        conn.commit()\n",
    "except sqlite3.OperationalError as e:\n",
    "    print(e)"
   ]
  }
 ],
 "metadata": {
  "language_info": {
   "name": "python"
  }
 },
 "nbformat": 4,
 "nbformat_minor": 2
}
