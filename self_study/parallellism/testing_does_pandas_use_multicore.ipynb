{
 "cells": [
  {
   "cell_type": "code",
   "execution_count": 13,
   "metadata": {},
   "outputs": [
    {
     "name": "stdout",
     "output_type": "stream",
     "text": [
      "\n",
      "=== 단순 덧셈 연산 ===\n",
      "실행 시간: 0.04초\n",
      "각 CPU 코어 사용량: [0.0, 0.0, 0.0, 0.0, 0.0, 0.0, 0.0, 100.0]\n",
      "평균 CPU 사용량: 12.5%\n",
      "\n",
      "=== 행렬 곱셈 ===\n",
      "실행 시간: 0.96초\n",
      "각 CPU 코어 사용량: [88.4, 87.4, 88.4, 88.4, 87.5, 87.5, 87.4, 100.0]\n",
      "평균 CPU 사용량: 89.4%\n",
      "\n",
      "=== apply 연산 ===\n",
      "실행 시간: 0.14초\n",
      "각 CPU 코어 사용량: [0.0, 0.0, 0.0, 0.0, 0.0, 0.0, 0.0, 100.0]\n",
      "평균 CPU 사용량: 12.5%\n",
      "\n",
      "=== 평균 계산 ===\n",
      "실행 시간: 0.07초\n",
      "각 CPU 코어 사용량: [0.0, 0.0, 0.0, 0.0, 0.0, 0.0, 0.0, 100.0]\n",
      "평균 CPU 사용량: 12.5%\n"
     ]
    }
   ],
   "source": [
    "import psutil\n",
    "import pandas as pd\n",
    "import numpy as np\n",
    "import time\n",
    "from typing import Callable\n",
    "\n",
    "def monitor_operation(operation: Callable, operation_name: str):\n",
    "    \"\"\"\n",
    "    주어진 연산을 실행하고 실행 직후의 CPU 사용량을 모니터링한다.\n",
    "    \n",
    "    Args:\n",
    "        operation: 실행할 연산이 포함된 함수\n",
    "        operation_name: 연산의 이름 (출력용)\n",
    "    \"\"\"\n",
    "    # 시작 시간과 CPU 사용량 기록\n",
    "    start_time = time.time()\n",
    "    psutil.cpu_percent(percpu=True)\n",
    "    \n",
    "    # 연산 실행\n",
    "    result = operation()\n",
    "    \n",
    "    # 종료 시간과 CPU 사용량 기록\n",
    "    end_time = time.time()\n",
    "    cpu_usage = psutil.cpu_percent(percpu=True)\n",
    "    \n",
    "    # 결과 출력\n",
    "    print(f\"\\n=== {operation_name} ===\")\n",
    "    print(f\"실행 시간: {end_time - start_time:.2f}초\")\n",
    "    print(f\"각 CPU 코어 사용량: {cpu_usage}\")\n",
    "    print(f\"평균 CPU 사용량: {sum(cpu_usage)/len(cpu_usage):.1f}%\")\n",
    "    \n",
    "    return result\n",
    "\n",
    "# 테스트용 DataFrame 생성\n",
    "size = 5000\n",
    "df = pd.DataFrame(np.random.random((size, size)))\n",
    "\n",
    "# 테스트할 연산 목록\n",
    "operations = [\n",
    "    (lambda: df + df, \"단순 덧셈 연산\"),\n",
    "    (lambda: df.dot(df.T), \"행렬 곱셈\"),\n",
    "    (lambda: df.apply(np.sum, axis=1), \"apply 연산\"),\n",
    "    (lambda: df.mean(), \"평균 계산\")\n",
    "]\n",
    "\n",
    "# 각 연산 실행 및 모니터링\n",
    "for op, name in operations:\n",
    "    monitor_operation(op, name)\n",
    "    time.sleep(1)"
   ]
  }
 ],
 "metadata": {
  "kernelspec": {
   "display_name": ".venv",
   "language": "python",
   "name": "python3"
  },
  "language_info": {
   "codemirror_mode": {
    "name": "ipython",
    "version": 3
   },
   "file_extension": ".py",
   "mimetype": "text/x-python",
   "name": "python",
   "nbconvert_exporter": "python",
   "pygments_lexer": "ipython3",
   "version": "3.12.8"
  }
 },
 "nbformat": 4,
 "nbformat_minor": 2
}
