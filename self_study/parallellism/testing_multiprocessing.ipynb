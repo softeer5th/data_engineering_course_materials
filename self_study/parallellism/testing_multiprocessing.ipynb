{
 "cells": [
  {
   "cell_type": "markdown",
   "metadata": {},
   "source": [
    "# 파이썬 Multiprocessing"
   ]
  },
  {
   "cell_type": "code",
   "execution_count": 30,
   "metadata": {},
   "outputs": [
    {
     "name": "stdout",
     "output_type": "stream",
     "text": [
      "일반적인 처리 시작\n",
      "일반 처리 결과: [1, 4, 9, 16, 25]\n",
      "소요 시간: 5.02초\n",
      "\n",
      "병렬 처리 시작\n",
      "병렬 처리 결과: [1, 4, 9, 16, 25]\n",
      "소요 시간: 1.09초\n"
     ]
    }
   ],
   "source": [
    "from files import pool_test\n",
    "\n",
    "\n",
    "pool_test.main()"
   ]
  }
 ],
 "metadata": {
  "kernelspec": {
   "display_name": ".venv",
   "language": "python",
   "name": "python3"
  },
  "language_info": {
   "codemirror_mode": {
    "name": "ipython",
    "version": 3
   },
   "file_extension": ".py",
   "mimetype": "text/x-python",
   "name": "python",
   "nbconvert_exporter": "python",
   "pygments_lexer": "ipython3",
   "version": "3.12.8"
  }
 },
 "nbformat": 4,
 "nbformat_minor": 2
}
