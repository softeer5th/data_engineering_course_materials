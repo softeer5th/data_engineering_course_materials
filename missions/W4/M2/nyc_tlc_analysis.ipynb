{
 "cells": [
  {
   "cell_type": "code",
   "execution_count": 1,
   "id": "b9202c60-747f-4fdf-839f-9540ab3e07a3",
   "metadata": {},
   "outputs": [],
   "source": [
    "from pyspark.sql import SparkSession\n",
    "import os"
   ]
  },
  {
   "cell_type": "code",
   "execution_count": 2,
   "id": "a5b34ca3",
   "metadata": {},
   "outputs": [
    {
     "name": "stderr",
     "output_type": "stream",
     "text": [
      "Setting default log level to \"WARN\".\n",
      "To adjust logging level use sc.setLogLevel(newLevel). For SparkR, use setLogLevel(newLevel).\n",
      "25/01/30 19:08:21 WARN NativeCodeLoader: Unable to load native-hadoop library for your platform... using builtin-java classes where applicable\n"
     ]
    }
   ],
   "source": [
    "spark = (\n",
    "        SparkSession.builder\n",
    "        .appName(\"taxi-analysis\")\n",
    "        .config(\"spark.driver.bindAddress\", \"127.0.0.1\")\n",
    "        .config(\"spark.driver.host\", \"127.0.0.1\")\n",
    "        .config(\"spark.driver.memory\", \"4g\")\n",
    "        .config(\"spark.executor.memory\", \"4g\")\n",
    "        .getOrCreate()\n",
    "    )"
   ]
  },
  {
   "cell_type": "markdown",
   "id": "32e5b969",
   "metadata": {},
   "source": [
    "# Data Ingestion\n",
    "---"
   ]
  },
  {
   "cell_type": "code",
   "execution_count": 3,
   "id": "04834a27-6d29-432c-a0fd-7e5bb2e33259",
   "metadata": {},
   "outputs": [
    {
     "name": "stderr",
     "output_type": "stream",
     "text": [
      "                                                                                \r"
     ]
    }
   ],
   "source": [
    "data_dir = f'{os.getcwd()}/missions/W4/M2/data'\n",
    "trips_file = 'yellow_tripdata_2023-01.parquet'\n",
    "\n",
    "if not os.path.exists(f'{data_dir}/{trips_file}'):\n",
    "    ! wget -P \"{data_dir}\" \"https://d37ci6vzurychx.cloudfront.net/trip-data/{trips_file}\"\n",
    "\n",
    "trips_df = spark.read.parquet(f'file:///{data_dir}/{trips_file}', header = True)"
   ]
  },
  {
   "cell_type": "markdown",
   "id": "2851184c",
   "metadata": {},
   "source": [
    "# EDA\n",
    "---"
   ]
  },
  {
   "cell_type": "code",
   "execution_count": 4,
   "id": "69d648ac-8d92-4b5b-9cb4-33b59b14f908",
   "metadata": {},
   "outputs": [
    {
     "name": "stdout",
     "output_type": "stream",
     "text": [
      "root\n",
      " |-- VendorID: long (nullable = true)\n",
      " |-- tpep_pickup_datetime: timestamp_ntz (nullable = true)\n",
      " |-- tpep_dropoff_datetime: timestamp_ntz (nullable = true)\n",
      " |-- passenger_count: double (nullable = true)\n",
      " |-- trip_distance: double (nullable = true)\n",
      " |-- RatecodeID: double (nullable = true)\n",
      " |-- store_and_fwd_flag: string (nullable = true)\n",
      " |-- PULocationID: long (nullable = true)\n",
      " |-- DOLocationID: long (nullable = true)\n",
      " |-- payment_type: long (nullable = true)\n",
      " |-- fare_amount: double (nullable = true)\n",
      " |-- extra: double (nullable = true)\n",
      " |-- mta_tax: double (nullable = true)\n",
      " |-- tip_amount: double (nullable = true)\n",
      " |-- tolls_amount: double (nullable = true)\n",
      " |-- improvement_surcharge: double (nullable = true)\n",
      " |-- total_amount: double (nullable = true)\n",
      " |-- congestion_surcharge: double (nullable = true)\n",
      " |-- airport_fee: double (nullable = true)\n",
      "\n",
      "+--------+--------------------+---------------------+---------------+-------------+----------+------------------+------------+------------+------------+-----------+-----+-------+----------+------------+---------------------+------------+--------------------+-----------+\n",
      "|VendorID|tpep_pickup_datetime|tpep_dropoff_datetime|passenger_count|trip_distance|RatecodeID|store_and_fwd_flag|PULocationID|DOLocationID|payment_type|fare_amount|extra|mta_tax|tip_amount|tolls_amount|improvement_surcharge|total_amount|congestion_surcharge|airport_fee|\n",
      "+--------+--------------------+---------------------+---------------+-------------+----------+------------------+------------+------------+------------+-----------+-----+-------+----------+------------+---------------------+------------+--------------------+-----------+\n",
      "|       2| 2023-01-01 00:32:10|  2023-01-01 00:40:36|            1.0|         0.97|       1.0|                 N|         161|         141|           2|        9.3|  1.0|    0.5|       0.0|         0.0|                  1.0|        14.3|                 2.5|        0.0|\n",
      "|       2| 2023-01-01 00:55:08|  2023-01-01 01:01:27|            1.0|          1.1|       1.0|                 N|          43|         237|           1|        7.9|  1.0|    0.5|       4.0|         0.0|                  1.0|        16.9|                 2.5|        0.0|\n",
      "|       2| 2023-01-01 00:25:04|  2023-01-01 00:37:49|            1.0|         2.51|       1.0|                 N|          48|         238|           1|       14.9|  1.0|    0.5|      15.0|         0.0|                  1.0|        34.9|                 2.5|        0.0|\n",
      "|       1| 2023-01-01 00:03:48|  2023-01-01 00:13:25|            0.0|          1.9|       1.0|                 N|         138|           7|           1|       12.1| 7.25|    0.5|       0.0|         0.0|                  1.0|       20.85|                 0.0|       1.25|\n",
      "|       2| 2023-01-01 00:10:29|  2023-01-01 00:21:19|            1.0|         1.43|       1.0|                 N|         107|          79|           1|       11.4|  1.0|    0.5|      3.28|         0.0|                  1.0|       19.68|                 2.5|        0.0|\n",
      "+--------+--------------------+---------------------+---------------+-------------+----------+------------------+------------+------------+------------+-----------+-----+-------+----------+------------+---------------------+------------+--------------------+-----------+\n",
      "only showing top 5 rows\n",
      "\n"
     ]
    }
   ],
   "source": [
    "trips_df.printSchema()\n",
    "trips_df.show(5)"
   ]
  },
  {
   "cell_type": "code",
   "execution_count": 5,
   "id": "b46660b6",
   "metadata": {},
   "outputs": [
    {
     "name": "stdout",
     "output_type": "stream",
     "text": [
      "Row count: 3066766\n",
      "Colunm count: 19\n"
     ]
    }
   ],
   "source": [
    "print(f'Row count: {trips_df.count()}')\n",
    "print(f'Colunm count: {len(trips_df.columns)}')"
   ]
  },
  {
   "cell_type": "code",
   "execution_count": 7,
   "id": "e6c335a9",
   "metadata": {},
   "outputs": [],
   "source": [
    "# summary = trips_df.summary()\n",
    "# summary.show(10)"
   ]
  },
  {
   "cell_type": "markdown",
   "id": "912c19f3",
   "metadata": {},
   "source": [
    "# Data Cleaning and Transformation\n",
    "---"
   ]
  },
  {
   "cell_type": "code",
   "execution_count": 6,
   "id": "f6f797a8",
   "metadata": {},
   "outputs": [
    {
     "name": "stdout",
     "output_type": "stream",
     "text": [
      "결측값 필터링 ...\n"
     ]
    },
    {
     "name": "stderr",
     "output_type": "stream",
     "text": [
      "                                                                                \r"
     ]
    },
    {
     "name": "stdout",
     "output_type": "stream",
     "text": [
      "+--------+--------------------+---------------------+---------------+-------------+----------+------------------+------------+------------+------------+-----------+-----+-------+----------+------------+---------------------+------------+--------------------+-----------+\n",
      "|VendorID|tpep_pickup_datetime|tpep_dropoff_datetime|passenger_count|trip_distance|RatecodeID|store_and_fwd_flag|PULocationID|DOLocationID|payment_type|fare_amount|extra|mta_tax|tip_amount|tolls_amount|improvement_surcharge|total_amount|congestion_surcharge|airport_fee|\n",
      "+--------+--------------------+---------------------+---------------+-------------+----------+------------------+------------+------------+------------+-----------+-----+-------+----------+------------+---------------------+------------+--------------------+-----------+\n",
      "|       0|                   0|                    0|          71743|            0|     71743|             71743|           0|           0|           0|          0|    0|      0|         0|           0|                    0|           0|               71743|      71743|\n",
      "+--------+--------------------+---------------------+---------------+-------------+----------+------------------+------------+------------+------------+-----------+-----+-------+----------+------------+---------------------+------------+--------------------+-----------+\n",
      "\n",
      "이상치 필터링 ...\n",
      "+----------------------+----------------------+--------------------+-----------------------+\n",
      "|negative_trip_duration|negative_trip_distance|negative_fare_amount|invalid_passenger_count|\n",
      "+----------------------+----------------------+--------------------+-----------------------+\n",
      "|                 51164|                 38367|               26093|                  51164|\n",
      "+----------------------+----------------------+--------------------+-----------------------+\n",
      "\n",
      "Timestamp 정규화 ...\n",
      "+--------------------+\n",
      "|tpep_pickup_datetime|\n",
      "+--------------------+\n",
      "| 2023-01-01 00:32:10|\n",
      "| 2023-01-01 00:55:08|\n",
      "| 2023-01-01 00:25:04|\n",
      "| 2023-01-01 00:10:29|\n",
      "| 2023-01-01 00:50:34|\n",
      "+--------------------+\n",
      "only showing top 5 rows\n",
      "\n",
      "+---------------------+\n",
      "|tpep_dropoff_datetime|\n",
      "+---------------------+\n",
      "|  2023-01-01 00:40:36|\n",
      "|  2023-01-01 01:01:27|\n",
      "|  2023-01-01 00:37:49|\n",
      "|  2023-01-01 00:21:19|\n",
      "|  2023-01-01 01:02:52|\n",
      "+---------------------+\n",
      "only showing top 5 rows\n",
      "\n",
      "+--------------------+\n",
      "|tpep_pickup_datetime|\n",
      "+--------------------+\n",
      "| 2023-01-01 00:32:10|\n",
      "| 2023-01-01 00:55:08|\n",
      "| 2023-01-01 00:25:04|\n",
      "| 2023-01-01 00:10:29|\n",
      "| 2023-01-01 00:50:34|\n",
      "+--------------------+\n",
      "only showing top 5 rows\n",
      "\n",
      "+---------------------+\n",
      "|tpep_dropoff_datetime|\n",
      "+---------------------+\n",
      "|  2023-01-01 00:40:36|\n",
      "|  2023-01-01 01:01:27|\n",
      "|  2023-01-01 00:37:49|\n",
      "|  2023-01-01 00:21:19|\n",
      "|  2023-01-01 01:02:52|\n",
      "+---------------------+\n",
      "only showing top 5 rows\n",
      "\n"
     ]
    }
   ],
   "source": [
    "from pyspark.sql.functions import count, when, isnull, col, to_timestamp\n",
    "from functools import reduce\n",
    "\n",
    "def clean_null(df):\n",
    "    print('결측값 필터링 ...')\n",
    "\n",
    "    trips_df.select([count(when(col(c).isNull(), c)).alias(c) for c in trips_df.columns]).show()\n",
    "\n",
    "    df = df.dropna()\n",
    "    return df\n",
    "\n",
    "def clean_outlier(df):\n",
    "    print('이상치 필터링 ...')\n",
    "\n",
    "    df.select(\n",
    "        count(when(col(\"passenger_count\") < 1, \"passenger_count\")).alias(\"negative_trip_duration\"),\n",
    "        count(when(col(\"trip_distance\") <= 0, \"trip_distance\")).alias(\"negative_trip_distance\"),\n",
    "        count(when(col(\"fare_amount\") <= 0, \"fare_amount\")).alias(\"negative_fare_amount\"),\n",
    "        count(when(col(\"passenger_count\") < 1, \"passenger_count\")).alias(\"invalid_passenger_count\")\n",
    "    ).show()\n",
    "\n",
    "    df =  df.filter(\n",
    "                (col(\"tpep_dropoff_datetime\") >= col(\"tpep_pickup_datetime\")) &\n",
    "                (col(\"trip_distance\") > 0) & \n",
    "                (col(\"fare_amount\") > 0) & \n",
    "                (col(\"passenger_count\") >= 1)\n",
    "            )\n",
    "    return df\n",
    "\n",
    "def transform_timestamp(df):\n",
    "    print('Timestamp 정규화 ...')\n",
    "\n",
    "    df.select('tpep_pickup_datetime').show(5)\n",
    "    df.select('tpep_dropoff_datetime').show(5)\n",
    "\n",
    "    df = df.withColumn(\"tpep_pickup_datetime\", to_timestamp(col(\"tpep_pickup_datetime\")))\n",
    "    df = df.withColumn(\"tpep_dropoff_datetime\", to_timestamp(col(\"tpep_dropoff_datetime\")))\n",
    "\n",
    "    df.select('tpep_pickup_datetime').show(5)\n",
    "    df.select('tpep_dropoff_datetime').show(5)\n",
    "\n",
    "    return df\n",
    "\n",
    "trips_df = clean_null(trips_df)\n",
    "trips_df = clean_outlier(trips_df)\n",
    "trips_df = transform_timestamp(trips_df)"
   ]
  },
  {
   "cell_type": "markdown",
   "id": "3f66cbed",
   "metadata": {},
   "source": [
    "# Metrics Calculation\n",
    "---"
   ]
  },
  {
   "cell_type": "code",
   "execution_count": 7,
   "id": "44ce6835",
   "metadata": {},
   "outputs": [
    {
     "name": "stdout",
     "output_type": "stream",
     "text": [
      "+-------------+\n",
      "|trip_duration|\n",
      "+-------------+\n",
      "|          506|\n",
      "|          379|\n",
      "|          765|\n",
      "|          650|\n",
      "|          738|\n",
      "+-------------+\n",
      "only showing top 5 rows\n",
      "\n"
     ]
    },
    {
     "name": "stderr",
     "output_type": "stream",
     "text": [
      "[Stage 22:===================================================>     (9 + 1) / 10]\r"
     ]
    },
    {
     "name": "stdout",
     "output_type": "stream",
     "text": [
      "Average Trip Duration per minute: 15.78 minutes\n",
      "Average Trip Distance: 3.47 km\n"
     ]
    },
    {
     "name": "stderr",
     "output_type": "stream",
     "text": [
      "                                                                                \r"
     ]
    }
   ],
   "source": [
    "from pyspark.sql.functions import col, unix_timestamp, avg, round\n",
    "\n",
    "def get_trip_duration_unix(df):\n",
    "    df = df.withColumn(\"trip_duration\", (unix_timestamp(col(\"tpep_dropoff_datetime\")) - unix_timestamp(col(\"tpep_pickup_datetime\"))))\n",
    "    df.select('trip_duration').show(5) # by seconds\n",
    "    return df\n",
    "\n",
    "def calc_moving_metrics_avg(df):\n",
    "    metrics_df = df.select(\n",
    "    round(avg(\"trip_duration\"), 2).alias(\"average_trip_duration_minutes\"),\n",
    "    round(avg(\"trip_distance\"), 2).alias(\"average_trip_distance_km\")\n",
    ")\n",
    "\n",
    "    duration_metrics_row = metrics_df.collect()[0]\n",
    "    avg_duration = duration_metrics_row[\"average_trip_duration_minutes\"]\n",
    "    avg_distance = duration_metrics_row[\"average_trip_distance_km\"]\n",
    "\n",
    "    print(f\"Average Trip Duration per minute: {(avg_duration / 60):.2f} minutes\")\n",
    "    print(f\"Average Trip Distance: {avg_distance:.2f} km\")\n",
    "\n",
    "trips_df = get_trip_duration_unix(trips_df)\n",
    "calc_moving_metrics_avg(trips_df)"
   ]
  },
  {
   "cell_type": "markdown",
   "id": "c0684ea4",
   "metadata": {},
   "source": [
    "# Peak Hours Analysis\n",
    "---"
   ]
  },
  {
   "cell_type": "code",
   "execution_count": 8,
   "id": "04de264b",
   "metadata": {},
   "outputs": [
    {
     "name": "stderr",
     "output_type": "stream",
     "text": [
      "                                                                                \r"
     ]
    },
    {
     "data": {
      "image/png": "[encoded data removed]",
      "text/plain": [
       "<Figure size 900x600 with 1 Axes>"
      ]
     },
     "metadata": {},
     "output_type": "display_data"
    }
   ],
   "source": [
    "import matplotlib.pyplot as plt\n",
    "from pyspark.sql.functions import hour, count, col, max\n",
    "\n",
    "def get_pickup_hours(df):\n",
    "      df = df.withColumn(\"pickup_hour\", hour(col(\"tpep_pickup_datetime\")))\\\n",
    "                        .groupBy(\"pickup_hour\")\\\n",
    "                        .agg(count(\"*\").alias(\"trip_count\"))\\\n",
    "                        .orderBy(\"pickup_hour\")\n",
    "      return df\n",
    "\n",
    "def get_peek_hour(pandas_df):\n",
    "    max_trip_count = pandas_df['trip_count'].max()\n",
    "    peek_hour = pandas_df[pandas_df['trip_count'] == max_trip_count]['pickup_hour'].iloc[0]\n",
    "    return (peek_hour, max_trip_count)\n",
    "\n",
    "def visualize_pickup_hours(pandas_df):\n",
    "    plt.figure(figsize=(9, 6))\n",
    "    plt.bar(pandas_df[\"pickup_hour\"], pandas_df[\"trip_count\"], color=\"blue\", alpha=0.7)\n",
    "\n",
    "    peek_hour, max_trip_count = get_peek_hour(pandas_df)\n",
    "    for hour in pandas_df['pickup_hour']:\n",
    "            if hour == peek_hour:\n",
    "                plt.bar(hour, max_trip_count, color=\"red\", alpha=0.9, label=f\"Peak Hour ({hour}:00)\")\n",
    "\n",
    "    plt.xlabel(\"Hour of the Day\")\n",
    "    plt.ylabel(\"Number of Trips\")\n",
    "    plt.title(\"NYC Taxi Trips - Hourly Distribution\")\n",
    "    plt.xticks(range(24))\n",
    "    plt.legend()\n",
    "    plt.grid(axis=\"y\", linestyle=\"--\", alpha=0.6)\n",
    "\n",
    "\n",
    "trips_pickup_hours_df = get_pickup_hours(trips_df)\n",
    "trips_pd_df = trips_pickup_hours_df.toPandas()\n",
    "visualize_pickup_hours(trips_pd_df)"
   ]
  },
  {
   "cell_type": "markdown",
   "id": "d2ba7bdb",
   "metadata": {},
   "source": [
    "# Weather Condition Analysis\n",
    "---"
   ]
  },
  {
   "cell_type": "code",
   "execution_count": null,
   "id": "0e4ec831",
   "metadata": {},
   "outputs": [],
   "source": []
  },
  {
   "cell_type": "markdown",
   "id": "151eb685",
   "metadata": {},
   "source": [
    "# Output\n",
    "---"
   ]
  },
  {
   "cell_type": "code",
   "execution_count": 9,
   "id": "239df142",
   "metadata": {},
   "outputs": [
    {
     "name": "stderr",
     "output_type": "stream",
     "text": [
      "                                                                                \r"
     ]
    }
   ],
   "source": [
    "output_path = f'{os.getcwd()}/missions/W4/M2/data/output'\n",
    "analysis_file = f'analysis-{trips_file}'\n",
    "if not os.path.exists(output_path):\n",
    "    os.makedirs(output_path)\n",
    "\n",
    "trips_df.write.mode(\"overwrite\").parquet(f\"file://{output_path}/{analysis_file}\")"
   ]
  }
 ],
 "metadata": {
  "kernelspec": {
   "display_name": "venv_3_9",
   "language": "python",
   "name": "python3"
  },
  "language_info": {
   "codemirror_mode": {
    "name": "ipython",
    "version": 3
   },
   "file_extension": ".py",
   "mimetype": "text/x-python",
   "name": "python",
   "nbconvert_exporter": "python",
   "pygments_lexer": "ipython3",
   "version": "3.9.21"
  }
 },
 "nbformat": 4,
 "nbformat_minor": 5
}
