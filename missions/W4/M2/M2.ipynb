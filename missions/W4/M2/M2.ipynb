{
 "cells": [
  {
   "cell_type": "code",
   "execution_count": 20,
   "id": "6803009c-ad67-453f-9e0b-175d4905f807",
   "metadata": {},
   "outputs": [],
   "source": [
    "from pyspark.sql import SparkSession\n",
    "from pyspark import SparkContext\n",
    "from pyspark.sql import functions as F\n",
    "from pyspark.sql.functions import hour\n",
    "import matplotlib.pyplot as plt\n",
    "import requests\n",
    "from bs4 import BeautifulSoup\n",
    "import datetime"
   ]
  },
  {
   "cell_type": "code",
   "execution_count": 3,
   "id": "744361ab-1889-488a-ba7b-0ff22cb35d59",
   "metadata": {},
   "outputs": [],
   "source": [
    "if SparkContext._active_spark_context:\n",
    "    SparkContext._active_spark_context.stop()\n",
    "\n",
    "spark = SparkSession.builder \\\n",
    "        .appName(\"NYC Taxi Analysis\") \\\n",
    "        .config(\"spark.driver.bindAddress\", \"127.0.0.1\") \\\n",
    "        .getOrCreate()"
   ]
  },
  {
   "cell_type": "markdown",
   "id": "a083596e-d798-41c2-895c-b68ac1c092cf",
   "metadata": {},
   "source": [
    "## Data Loading"
   ]
  },
  {
   "cell_type": "code",
   "execution_count": 4,
   "id": "4c3ed304-9494-41a4-9aa1-6bf96e6bbca3",
   "metadata": {},
   "outputs": [],
   "source": [
    "# 2023년, 2024년 데이터"
   ]
  },
  {
   "cell_type": "code",
   "execution_count": 8,
   "id": "f18d5c4f-0ed5-4e14-b62a-e2fb8cfc4b24",
   "metadata": {},
   "outputs": [],
   "source": [
    "df = spark.read.parquet(\"data/yellow_tripdata_2023-12.parquet\")"
   ]
  },
  {
   "cell_type": "code",
   "execution_count": 17,
   "id": "73f8837f-6dfe-4830-a391-c1d22506ec2e",
   "metadata": {},
   "outputs": [
    {
     "data": {
      "text/plain": [
       "DataFrame[VendorID: int, tpep_pickup_datetime: timestamp_ntz, tpep_dropoff_datetime: timestamp_ntz, passenger_count: bigint, trip_distance: double, RatecodeID: bigint, store_and_fwd_flag: string, PULocationID: int, DOLocationID: int, payment_type: bigint, fare_amount: double, extra: double, mta_tax: double, tip_amount: double, tolls_amount: double, improvement_surcharge: double, total_amount: double, congestion_surcharge: double, Airport_fee: double, hour: int]"
      ]
     },
     "execution_count": 17,
     "metadata": {},
     "output_type": "execute_result"
    }
   ],
   "source": [
    "df"
   ]
  },
  {
   "cell_type": "markdown",
   "id": "79441257-a4fb-4080-810e-a2916b563819",
   "metadata": {},
   "source": [
    "## Data Cleaning"
   ]
  },
  {
   "cell_type": "markdown",
   "id": "861f24ab-5e18-4c28-a9d7-323e62e7685c",
   "metadata": {},
   "source": [
    "### 결측치 제거"
   ]
  },
  {
   "cell_type": "code",
   "execution_count": 10,
   "id": "0e880f69-6570-4708-931e-4c445dbc3bd1",
   "metadata": {},
   "outputs": [
    {
     "data": {
      "text/plain": [
       "3376567"
      ]
     },
     "execution_count": 10,
     "metadata": {},
     "output_type": "execute_result"
    }
   ],
   "source": [
    "df.count()"
   ]
  },
  {
   "cell_type": "code",
   "execution_count": 13,
   "id": "575bc2f2-17d9-4f5e-8b11-e97e99a5f82d",
   "metadata": {},
   "outputs": [],
   "source": [
    "df = df.dropna()"
   ]
  },
  {
   "cell_type": "code",
   "execution_count": 14,
   "id": "45c750bf-c41f-4ef2-bb0a-0cd137aecd2a",
   "metadata": {},
   "outputs": [
    {
     "name": "stderr",
     "output_type": "stream",
     "text": [
      "                                                                                "
     ]
    },
    {
     "data": {
      "text/plain": [
       "3196564"
      ]
     },
     "execution_count": 14,
     "metadata": {},
     "output_type": "execute_result"
    }
   ],
   "source": [
    "df.count()"
   ]
  },
  {
   "cell_type": "markdown",
   "id": "c2e4b6da-dd31-4882-8b9f-a90b4ba54e4f",
   "metadata": {},
   "source": [
    "### 비정상적인 값(음수의 여행시간 또는 거리) 필터링"
   ]
  },
  {
   "cell_type": "code",
   "execution_count": 35,
   "id": "53d0be2a-fadc-4a75-a0a5-ae89940cf368",
   "metadata": {},
   "outputs": [
    {
     "data": {
      "text/plain": [
       "0"
      ]
     },
     "execution_count": 35,
     "metadata": {},
     "output_type": "execute_result"
    }
   ],
   "source": [
    "# 음수의 거리를 움직인 행의 개수\n",
    "df[df['trip_distance'] < 0].count()"
   ]
  },
  {
   "cell_type": "code",
   "execution_count": 36,
   "id": "dbbec6f3-3988-4bfd-98c2-58a9885aea49",
   "metadata": {},
   "outputs": [],
   "source": [
    "# 택시 탑승 시간 계산\n",
    "df = df.withColumn(\n",
    "    \"trip_duration\",\n",
    "    (F.unix_timestamp(\"tpep_dropoff_datetime\") - F.unix_timestamp(\"tpep_pickup_datetime\"))\n",
    ")"
   ]
  },
  {
   "cell_type": "code",
   "execution_count": 37,
   "id": "b51e8f78-f86d-4a8f-9374-95cfa4d1bc6b",
   "metadata": {},
   "outputs": [
    {
     "data": {
      "text/plain": [
       "869"
      ]
     },
     "execution_count": 37,
     "metadata": {},
     "output_type": "execute_result"
    }
   ],
   "source": [
    "df[df['trip_duration'] < 0].count()"
   ]
  },
  {
   "cell_type": "code",
   "execution_count": 38,
   "id": "69f8c4d7-aae7-451f-92b1-bc5188cb0947",
   "metadata": {},
   "outputs": [
    {
     "data": {
      "text/plain": [
       "3271826"
      ]
     },
     "execution_count": 38,
     "metadata": {},
     "output_type": "execute_result"
    }
   ],
   "source": [
    "df = df.filter(df['trip_duration'] >= 0)\n",
    "df.count()"
   ]
  },
  {
   "cell_type": "markdown",
   "id": "341a9e9c-7b47-4a11-82a0-ad75a7bc9a69",
   "metadata": {},
   "source": [
    "## Calculation of Metrics"
   ]
  },
  {
   "cell_type": "code",
   "execution_count": 57,
   "id": "8197ed22-4087-4dcc-b3ae-600342d82389",
   "metadata": {},
   "outputs": [
    {
     "name": "stdout",
     "output_type": "stream",
     "text": [
      "Average Trip Duration: 1065.5371566214096 sec\n"
     ]
    }
   ],
   "source": [
    "# Calculate the average trip duration\n",
    "avg_trip_duration = df.agg({\"trip_duration\": \"avg\"}).collect()[0][0]\n",
    "print(f\"Average Trip Duration: {avg_trip_duration} sec\")"
   ]
  },
  {
   "cell_type": "code",
   "execution_count": 59,
   "id": "2c14058c-4204-4a9a-b28e-c64e40c7ea8b",
   "metadata": {},
   "outputs": [
    {
     "name": "stdout",
     "output_type": "stream",
     "text": [
      "Average Trip Distance: 3.3046252429070293 km\n"
     ]
    }
   ],
   "source": [
    "# Calculate the average trip distance\n",
    "avg_trip_distance = df.agg({\"trip_distance\": \"avg\"}).collect()[0][0]\n",
    "print(f\"Average Trip Distance: {avg_trip_distance} km\")"
   ]
  },
  {
   "cell_type": "markdown",
   "id": "5f37bb59-a13b-411f-b4bd-db635bfdcdf2",
   "metadata": {},
   "source": [
    "## Peak Hours Identification"
   ]
  },
  {
   "cell_type": "code",
   "execution_count": 16,
   "id": "47dd9743-3504-4816-a973-9cb2449b7b7c",
   "metadata": {},
   "outputs": [
    {
     "name": "stdout",
     "output_type": "stream",
     "text": [
      "+----+------+\n",
      "|hour| count|\n",
      "+----+------+\n",
      "|  18|219019|\n",
      "|  17|212499|\n",
      "|  15|206571|\n",
      "|  16|201390|\n",
      "|  19|199934|\n",
      "|  14|197899|\n",
      "|  13|186067|\n",
      "|  20|181298|\n",
      "|  21|180552|\n",
      "|  12|180220|\n",
      "|  22|167224|\n",
      "|  11|164132|\n",
      "|  10|149146|\n",
      "|  23|135552|\n",
      "|   9|129962|\n",
      "|   8|107261|\n",
      "|   0| 97059|\n",
      "|   7| 76178|\n",
      "|   1| 64345|\n",
      "|   2| 42197|\n",
      "+----+------+\n",
      "only showing top 20 rows\n",
      "\n"
     ]
    },
    {
     "data": {
      "image/png": "[encoded data removed]",
      "text/plain": [
       "<Figure size 640x480 with 1 Axes>"
      ]
     },
     "metadata": {},
     "output_type": "display_data"
    }
   ],
   "source": [
    "# Identify the peak hours for taxi usage.\n",
    "df = df.withColumn(\"hour\", hour(\"tpep_pickup_datetime\"))\n",
    "peak_hours = df.groupBy(\"hour\").count().orderBy(\"count\", ascending=False)\n",
    "peak_hours.show()\n",
    "\n",
    "peak_hours_pd = peak_hours.toPandas()\n",
    "plt.bar(peak_hours_pd['hour'], peak_hours_pd['count'])\n",
    "plt.xlabel('Hour of the Day')\n",
    "plt.ylabel('Number of Trips')\n",
    "plt.title('Peak Hours Analysis')\n",
    "plt.savefig(\"peak_hours_plot.png\")\n",
    "plt.show()"
   ]
  },
  {
   "cell_type": "markdown",
   "id": "c480371e-e742-4981-b3b1-3e0fa4d9b50c",
   "metadata": {},
   "source": [
    "## Weather Condition Analysis"
   ]
  },
  {
   "cell_type": "code",
   "execution_count": 32,
   "id": "631aca95-cf6a-456b-8c55-fbf201da355a",
   "metadata": {},
   "outputs": [
    {
     "name": "stdout",
     "output_type": "stream",
     "text": [
      "[]\n",
      "[]\n"
     ]
    }
   ],
   "source": [
    "# Analyze the effect of weather conditions on taxi demand. \n",
    "# Use additional datasets if necessary to obtain weather information for the corresponding time periods.\n",
    "\n",
    "def getNewyorkData():\n",
    "    base_url = 'https://www.wunderground.com/history/daily/us/ny/new-york-city/KLGA/date/'\n",
    "    start_date = datetime.date(2023,1,1)\n",
    "    end_date = datetime.date(2023,1,2)\n",
    "    now_date = start_date\n",
    "    while now_date <= end_date:\n",
    "        url = base_url + str(now_date)\n",
    "        response = requests.get(url)\n",
    "        if response.status_code == 200:\n",
    "            html = response.text \n",
    "            soup = BeautifulSoup(html, 'html.parser')\n",
    "            table = soup.select(\"div.region-content-main > div.row > div:nth-child(5) > div:nth-child(1) > div > lib-city-history-observation > div > div.observation-table.ng-star-inserted > table > tbody\")\n",
    "            print(table)\n",
    "        now_date = now_date + datetime.timedelta(days=1)\n",
    "getNewyorkData()"
   ]
  },
  {
   "cell_type": "markdown",
   "id": "061898ad-3545-4429-9f74-257b0cd3afb1",
   "metadata": {},
   "source": [
    "## Output"
   ]
  },
  {
   "cell_type": "code",
   "execution_count": 71,
   "id": "efec659c-a7fa-4b7b-af21-338c4f03e1dd",
   "metadata": {},
   "outputs": [],
   "source": [
    "# Todo : 계산된 지표와 분석 결과, 시각화된 그래프가 파일로 저장(CSV, Parquet)"
   ]
  },
  {
   "cell_type": "code",
   "execution_count": null,
   "id": "7e45a920-2582-48fb-81c5-35cfa8116934",
   "metadata": {},
   "outputs": [],
   "source": []
  }
 ],
 "metadata": {
  "kernelspec": {
   "display_name": "Python 3 (ipykernel)",
   "language": "python",
   "name": "python3"
  },
  "language_info": {
   "codemirror_mode": {
    "name": "ipython",
    "version": 3
   },
   "file_extension": ".py",
   "mimetype": "text/x-python",
   "name": "python",
   "nbconvert_exporter": "python",
   "pygments_lexer": "ipython3",
   "version": "3.9.18"
  }
 },
 "nbformat": 4,
 "nbformat_minor": 5
}
