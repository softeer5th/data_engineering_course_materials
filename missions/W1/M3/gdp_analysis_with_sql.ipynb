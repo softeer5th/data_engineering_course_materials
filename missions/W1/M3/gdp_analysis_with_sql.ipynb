{
 "cells": [
  {
   "cell_type": "code",
   "execution_count": 30,
   "metadata": {},
   "outputs": [],
   "source": [
    "import sqlite3\n",
    "from missions.W1.M3.log.log import Logger\n",
    "\n",
    "logger = Logger.get_logger(\"AnalysisSQL\")"
   ]
  },
  {
   "cell_type": "markdown",
   "metadata": {},
   "source": [
    "### GDP가 100B USD 이상이 되는 국가만 출력하기"
   ]
  },
  {
   "cell_type": "code",
   "execution_count": 31,
   "metadata": {},
   "outputs": [
    {
     "name": "stdout",
     "output_type": "stream",
     "text": [
      "[2025-01-08-16-29-05], GDP가 100B USD이상이 되는 국가 수: 72\n",
      "[2025-01-08-16-29-05], (1, 'United States', 'North America', 30337.16, 2025, 'IMF', '2025-01-08 07:22:39')\n",
      "[2025-01-08-16-29-05], (2, 'China', 'East Asia', 19534.89, 2025, 'IMF', '2025-01-08 07:22:39')\n",
      "[2025-01-08-16-29-05], (3, 'Germany', 'Western Europe', 4921.56, 2025, 'IMF', '2025-01-08 07:22:39')\n",
      "[2025-01-08-16-29-05], (4, 'Japan', 'East Asia', 4389.33, 2025, 'IMF', '2025-01-08 07:22:39')\n",
      "[2025-01-08-16-29-05], (5, 'India', 'South Asia', 4271.92, 2025, 'IMF', '2025-01-08 07:22:39')\n",
      "[2025-01-08-16-29-05], (6, 'United Kingdom', 'Western Europe', 3730.26, 2025, 'IMF', '2025-01-08 07:22:39')\n",
      "[2025-01-08-16-29-05], (7, 'France', 'Western Europe', 3283.43, 2025, 'IMF', '2025-01-08 07:22:39')\n",
      "[2025-01-08-16-29-05], (8, 'Italy', 'Western Europe', 2459.6, 2025, 'IMF', '2025-01-08 07:22:39')\n",
      "[2025-01-08-16-29-05], (9, 'Canada', 'North America', 2330.31, 2025, 'IMF', '2025-01-08 07:22:39')\n",
      "[2025-01-08-16-29-05], (10, 'Brazil', 'Latin America', 2307.16, 2025, 'IMF', '2025-01-08 07:22:39')\n",
      "[2025-01-08-16-29-05], (11, 'Russia', 'Eastern Europe', 2195.71, 2025, 'IMF', '2025-01-08 07:22:39')\n",
      "[2025-01-08-16-29-05], (12, 'South Korea', 'East Asia', 1947.13, 2025, 'IMF', '2025-01-08 07:22:39')\n",
      "[2025-01-08-16-29-05], (13, 'Australia', 'Oceania', 1881.14, 2025, 'IMF', '2025-01-08 07:22:39')\n",
      "[2025-01-08-16-29-05], (14, 'Spain', 'Western Europe', 1827.58, 2025, 'IMF', '2025-01-08 07:22:39')\n",
      "[2025-01-08-16-29-05], (15, 'Mexico', 'North America', 1817.82, 2025, 'IMF', '2025-01-08 07:22:39')\n",
      "[2025-01-08-16-29-05], (16, 'Indonesia', 'Southeast Asia', 1492.62, 2025, 'IMF', '2025-01-08 07:22:39')\n",
      "[2025-01-08-16-29-05], (17, 'Turkey', 'Eastern Europe', 1455.41, 2025, 'IMF', '2025-01-08 07:22:39')\n",
      "[2025-01-08-16-29-05], (18, 'Netherlands', 'Western Europe', 1272.96, 2025, 'IMF', '2025-01-08 07:22:39')\n",
      "[2025-01-08-16-29-05], (19, 'Saudi Arabia', 'Middle East', 1136.58, 2025, 'IMF', '2025-01-08 07:22:39')\n",
      "[2025-01-08-16-29-05], (20, 'Switzerland', 'Western Europe', 999.6, 2025, 'IMF', '2025-01-08 07:22:39')\n",
      "[2025-01-08-16-29-05], (21, 'Poland', 'Eastern Europe', 915.45, 2025, 'IMF', '2025-01-08 07:22:39')\n",
      "[2025-01-08-16-29-05], (22, 'Taiwan', 'East Asia', 814.44, 2025, 'IMF', '2025-01-08 07:22:39')\n",
      "[2025-01-08-16-29-05], (23, 'Belgium', 'Western Europe', 689.36, 2025, 'IMF', '2025-01-08 07:22:39')\n",
      "[2025-01-08-16-29-05], (24, 'Sweden', 'Western Europe', 638.78, 2025, 'IMF', '2025-01-08 07:22:39')\n",
      "[2025-01-08-16-29-05], (25, 'Ireland', 'Western Europe', 587.23, 2025, 'IMF', '2025-01-08 07:22:39')\n",
      "[2025-01-08-16-29-05], (26, 'Argentina', 'Latin America', 574.2, 2025, 'IMF', '2025-01-08 07:22:39')\n",
      "[2025-01-08-16-29-05], (27, 'United Arab Emirates', 'Middle East', 568.57, 2025, 'IMF', '2025-01-08 07:22:39')\n",
      "[2025-01-08-16-29-05], (28, 'Singapore', 'Southeast Asia', 561.73, 2025, 'IMF', '2025-01-08 07:22:39')\n",
      "[2025-01-08-16-29-05], (29, 'Austria', 'Western Europe', 559.22, 2025, 'IMF', '2025-01-08 07:22:39')\n",
      "[2025-01-08-16-29-05], (30, 'Israel', 'Middle East', 550.9, 2025, 'IMF', '2025-01-08 07:22:39')\n",
      "[2025-01-08-16-29-05], (31, 'Thailand', 'Southeast Asia', 545.34, 2025, 'IMF', '2025-01-08 07:22:39')\n",
      "[2025-01-08-16-29-05], (32, 'Norway', 'Western Europe', 503.47, 2025, 'IMF', '2025-01-08 07:22:39')\n",
      "[2025-01-08-16-29-05], (33, 'Malaysia', 'Southeast Asia', 488.25, 2025, 'IMF', '2025-01-08 07:22:39')\n",
      "[2025-01-08-16-29-05], (34, 'Philippines', 'Southeast Asia', 471.52, 2025, 'IMF', '2025-01-08 07:22:39')\n",
      "[2025-01-08-16-29-05], (35, 'Vietnam', 'Southeast Asia', 468.4, 2025, 'IMF', '2025-01-08 07:22:39')\n",
      "[2025-01-08-16-29-05], (36, 'Iran', 'Middle East', 463.75, 2025, 'IMF', '2025-01-08 07:22:39')\n",
      "[2025-01-08-16-29-05], (37, 'Bangladesh', 'South Asia', 451.86, 2025, 'IMF', '2025-01-08 07:22:39')\n",
      "[2025-01-08-16-29-05], (38, 'Denmark', 'Western Europe', 431.23, 2025, 'IMF', '2025-01-08 07:22:39')\n",
      "[2025-01-08-16-29-05], (39, 'Hong Kong', 'East Asia', 422.06, 2025, 'IMF', '2025-01-08 07:22:39')\n",
      "[2025-01-08-16-29-05], (40, 'Colombia', 'Latin America', 419.33, 2025, 'IMF', '2025-01-08 07:22:39')\n",
      "[2025-01-08-16-29-05], (41, 'South Africa', 'Sub-Saharan Africa', 418.05, 2025, 'IMF', '2025-01-08 07:22:39')\n",
      "[2025-01-08-16-29-05], (42, 'Romania', 'Eastern Europe', 406.2, 2025, 'IMF', '2025-01-08 07:22:39')\n",
      "[2025-01-08-16-29-05], (43, 'Egypt', 'North Africa', 380.04, 2025, 'IMF', '2025-01-08 07:22:39')\n",
      "[2025-01-08-16-29-05], (44, 'Pakistan', 'South Asia', 374.6, 2024, 'IMF', '2025-01-08 07:22:39')\n",
      "[2025-01-08-16-29-05], (45, 'Chile', 'Latin America', 362.24, 2025, 'IMF', '2025-01-08 07:22:39')\n",
      "[2025-01-08-16-29-05], (46, 'Czech Republic', 'Eastern Europe', 360.23, 2025, 'IMF', '2025-01-08 07:22:39')\n",
      "[2025-01-08-16-29-05], (47, 'Finland', 'Western Europe', 319.99, 2025, 'IMF', '2025-01-08 07:22:39')\n",
      "[2025-01-08-16-29-05], (48, 'Portugal', 'Western Europe', 319.93, 2025, 'IMF', '2025-01-08 07:22:39')\n",
      "[2025-01-08-16-29-05], (49, 'Kazakhstan', 'Central Asia', 306.63, 2025, 'IMF', '2025-01-08 07:22:39')\n",
      "[2025-01-08-16-29-05], (50, 'Peru', 'Latin America', 294.9, 2025, 'IMF', '2025-01-08 07:22:39')\n",
      "[2025-01-08-16-29-05], (51, 'Iraq', 'Middle East', 270.87, 2025, 'IMF', '2025-01-08 07:22:39')\n",
      "[2025-01-08-16-29-05], (52, 'Greece', 'Western Europe', 265.17, 2025, 'IMF', '2025-01-08 07:22:39')\n",
      "[2025-01-08-16-29-05], (53, 'Algeria', 'North Africa', 264.27, 2025, 'IMF', '2025-01-08 07:22:39')\n",
      "[2025-01-08-16-29-05], (54, 'New Zealand', 'Oceania', 262.92, 2025, 'IMF', '2025-01-08 07:22:39')\n",
      "[2025-01-08-16-29-05], (55, 'Hungary', 'Eastern Europe', 245.62, 2025, 'IMF', '2025-01-08 07:22:39')\n",
      "[2025-01-08-16-29-05], (56, 'Qatar', 'Middle East', 226.22, 2025, 'IMF', '2025-01-08 07:22:39')\n",
      "[2025-01-08-16-29-05], (57, 'Nigeria', 'Sub-Saharan Africa', 194.96, 2025, 'IMF', '2025-01-08 07:22:39')\n",
      "[2025-01-08-16-29-05], (58, 'Ukraine', 'Eastern Europe', 189.83, 2025, 'IMF', '2025-01-08 07:22:39')\n",
      "[2025-01-08-16-29-05], (59, 'Morocco', 'North Africa', 168.6, 2025, 'IMF', '2025-01-08 07:22:39')\n",
      "[2025-01-08-16-29-05], (60, 'Kuwait', 'Middle East', 161.95, 2025, 'IMF', '2025-01-08 07:22:39')\n",
      "[2025-01-08-16-29-05], (62, 'Ethiopia', 'Sub-Saharan Africa', 145.03, 2024, 'IMF', '2025-01-08 07:22:39')\n",
      "[2025-01-08-16-29-05], (63, 'Slovakia', 'Eastern Europe', 142.62, 2024, 'IMF', '2025-01-08 07:22:39')\n",
      "[2025-01-08-16-29-05], (64, 'Dominican Republic', 'Latin America', 126.24, 2024, 'IMF', '2025-01-08 07:22:39')\n",
      "[2025-01-08-16-29-05], (65, 'Ecuador', 'Latin America', 121.42, 2024, 'IMF', '2025-01-08 07:22:39')\n",
      "[2025-01-08-16-29-05], (66, 'Puerto Rico', 'Latin America', 120.97, 2024, 'IMF', '2025-01-08 07:22:39')\n",
      "[2025-01-08-16-29-05], (67, 'Kenya', 'Sub-Saharan Africa', 116.32, 2024, 'IMF', '2025-01-08 07:22:39')\n",
      "[2025-01-08-16-29-05], (68, 'Angola', 'Sub-Saharan Africa', 113.29, 2024, 'IMF', '2025-01-08 07:22:39')\n",
      "[2025-01-08-16-29-05], (69, 'Uzbekistan', 'Central Asia', 112.65, 2024, 'IMF', '2025-01-08 07:22:39')\n",
      "[2025-01-08-16-29-05], (70, 'Guatemala', 'Latin America', 112.37, 2024, 'IMF', '2025-01-08 07:22:39')\n",
      "[2025-01-08-16-29-05], (71, 'Oman', 'Middle East', 109.99, 2024, 'IMF', '2025-01-08 07:22:39')\n",
      "[2025-01-08-16-29-05], (72, 'Bulgaria', 'Eastern Europe', 108.42, 2024, 'IMF', '2025-01-08 07:22:39')\n",
      "[2025-01-08-16-29-05], (73, 'Venezuela', 'Latin America', 106.33, 2024, 'IMF', '2025-01-08 07:22:39')\n"
     ]
    }
   ],
   "source": [
    "with sqlite3.connect(\"missions/W1/M3/data/World_Economies.db\")  as conn:\n",
    "    cursor = conn.cursor()\n",
    "    cursor.execute(\n",
    "        '''\n",
    "        SELECT * FROM gdp\n",
    "        WHERE GDP_USD_billion >= 100\n",
    "        ORDER BY GDP_USD_billion DESC\n",
    "        '''\n",
    "        # IS NOT NULL을 하지 않아도 됨.\n",
    "        )\n",
    "    rows = cursor.fetchall()\n",
    "    logger.info(f\"GDP가 100B USD이상이 되는 국가 수: {len(rows)}\", )\n",
    "    for row in rows:\n",
    "        logger.info(row)\n",
    "\n",
    "            "
   ]
  },
  {
   "cell_type": "markdown",
   "metadata": {},
   "source": [
    "### 각 Region별 top5 국가의 GDP 평균 구하기"
   ]
  },
  {
   "cell_type": "code",
   "execution_count": 33,
   "metadata": {},
   "outputs": [
    {
     "name": "stdout",
     "output_type": "stream",
     "text": [
      "[2025-01-08-16-29-09], 결과 수: 12\n",
      "[2025-01-08-16-29-09], ('North America', 8622.34)\n",
      "[2025-01-08-16-29-09], ('East Asia', 5421.57)\n",
      "[2025-01-08-16-29-09], ('Western Europe', 3244.49)\n",
      "[2025-01-08-16-29-09], ('Eastern Europe', 1066.6)\n",
      "[2025-01-08-16-29-09], ('South Asia', 1043.38)\n",
      "[2025-01-08-16-29-09], ('Latin America', 791.57)\n",
      "[2025-01-08-16-29-09], ('Southeast Asia', 711.89)\n",
      "[2025-01-08-16-29-09], ('Middle East', 598.13)\n",
      "[2025-01-08-16-29-09], ('Oceania', 436.66)\n",
      "[2025-01-08-16-29-09], ('Sub-Saharan Africa', 197.53)\n",
      "[2025-01-08-16-29-09], ('North Africa', 182.07)\n",
      "[2025-01-08-16-29-09], ('Central Asia', 106.39)\n"
     ]
    }
   ],
   "source": [
    "with sqlite3.connect(\"missions/W1/M3/data/World_Economies.db\")  as conn:\n",
    "    cursor = conn.cursor()\n",
    "    cursor.execute(\n",
    "        '''\n",
    "        SELECT \n",
    "            Region,\n",
    "            ROUND(avg(GDP_USD_billion), 2) as top_5_avg_GDP\n",
    "            /* 반올림을 안하면 파이썬 차원에서 또 다시 소숫점 둘째 자리 뒤까지 보여준다. */\n",
    "        FROM (\n",
    "            SELECT\n",
    "                Country,\n",
    "                Region,\n",
    "                GDP_USD_billion,\n",
    "                ROW_NUMBER() OVER (\n",
    "                    PARTITION BY Region\n",
    "                    ORDER BY GDP_USD_billion DESC\n",
    "                    ) as rank\n",
    "                    FROM gdp\n",
    "                )\n",
    "        WHERE rank <= 5\n",
    "        GROUP BY Region\n",
    "        ORDER BY top_5_avg_GDP DESC\n",
    "        ;\n",
    "\n",
    "        '''\n",
    "        # IS NOT NULL을 하지 않아도 됨.\n",
    "        )\n",
    "    rows = cursor.fetchall()\n",
    "    logger.info(f\"결과 수: {len(rows)}\", )\n",
    "    for row in rows:\n",
    "        logger.info(row)\n",
    "\n",
    "            "
   ]
  },
  {
   "cell_type": "code",
   "execution_count": null,
   "metadata": {},
   "outputs": [],
   "source": []
  },
  {
   "cell_type": "code",
   "execution_count": null,
   "metadata": {},
   "outputs": [],
   "source": []
  },
  {
   "cell_type": "code",
   "execution_count": null,
   "metadata": {},
   "outputs": [],
   "source": []
  }
 ],
 "metadata": {
  "kernelspec": {
   "display_name": ".venv",
   "language": "python",
   "name": "python3"
  },
  "language_info": {
   "codemirror_mode": {
    "name": "ipython",
    "version": 3
   },
   "file_extension": ".py",
   "mimetype": "text/x-python",
   "name": "python",
   "nbconvert_exporter": "python",
   "pygments_lexer": "ipython3",
   "version": "3.10.12"
  }
 },
 "nbformat": 4,
 "nbformat_minor": 2
}
