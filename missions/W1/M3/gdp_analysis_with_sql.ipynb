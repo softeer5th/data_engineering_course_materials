{
 "cells": [
  {
   "cell_type": "markdown",
   "metadata": {},
   "source": [
    "### notebook 경로 변경"
   ]
  },
  {
   "cell_type": "code",
   "execution_count": 2,
   "metadata": {},
   "outputs": [
    {
     "name": "stdout",
     "output_type": "stream",
     "text": [
      "현재 노트북 경로: /Users/admin/workspace/python/DE\n",
      "파이썬 라이브러리 인식 경로: ['/Users/admin/workspace/python/DE', '/Users/admin/.pyenv/versions/3.10.12/lib/python310.zip', '/Users/admin/.pyenv/versions/3.10.12/lib/python3.10', '/Users/admin/.pyenv/versions/3.10.12/lib/python3.10/lib-dynload', '', '/Users/admin/workspace/python/DE/.venv/lib/python3.10/site-packages']\n"
     ]
    }
   ],
   "source": [
    "import os\n",
    "import sys\n",
    "print(f\"현재 노트북 경로: {os.getcwd()}\")\n",
    "# os.chdir(\"원하는 노트북 경로 설정...\")\n",
    "print(f\"파이썬 라이브러리 인식 경로: {sys.path}\")"
   ]
  },
  {
   "cell_type": "code",
   "execution_count": 40,
   "metadata": {},
   "outputs": [],
   "source": [
    "import sqlite3\n",
    "from missions.W1.M3.log.log import Logger\n",
    "\n",
    "logger = Logger.get_logger(\"AnalysisSQL\")"
   ]
  },
  {
   "cell_type": "markdown",
   "metadata": {},
   "source": [
    "### GDP가 100B USD 이상이 되는 국가만 출력하기"
   ]
  },
  {
   "cell_type": "code",
   "execution_count": 41,
   "metadata": {},
   "outputs": [
    {
     "name": "stdout",
     "output_type": "stream",
     "text": [
      "[2025-01-09-17-57-52], GDP가 100B USD이상이 되는 국가 수: 72\n",
      "[2025-01-09-17-57-52], (1, 'United States', 'North America', 30337.16, 2025, 'IMF', '2025-01-09 08:57:45')\n",
      "[2025-01-09-17-57-52], (2, 'China', 'East Asia', 19534.89, 2025, 'IMF', '2025-01-09 08:57:45')\n",
      "[2025-01-09-17-57-52], (3, 'Germany', 'Western Europe', 4921.56, 2025, 'IMF', '2025-01-09 08:57:45')\n",
      "[2025-01-09-17-57-52], (4, 'Japan', 'East Asia', 4389.33, 2025, 'IMF', '2025-01-09 08:57:45')\n",
      "[2025-01-09-17-57-52], (5, 'India', 'South Asia', 4271.92, 2025, 'IMF', '2025-01-09 08:57:45')\n",
      "[2025-01-09-17-57-52], (6, 'United Kingdom', 'Western Europe', 3730.26, 2025, 'IMF', '2025-01-09 08:57:45')\n",
      "[2025-01-09-17-57-52], (7, 'France', 'Western Europe', 3283.43, 2025, 'IMF', '2025-01-09 08:57:45')\n",
      "[2025-01-09-17-57-52], (8, 'Italy', 'Western Europe', 2459.6, 2025, 'IMF', '2025-01-09 08:57:45')\n",
      "[2025-01-09-17-57-52], (9, 'Canada', 'North America', 2330.31, 2025, 'IMF', '2025-01-09 08:57:45')\n",
      "[2025-01-09-17-57-52], (10, 'Brazil', 'Latin America', 2307.16, 2025, 'IMF', '2025-01-09 08:57:45')\n",
      "[2025-01-09-17-57-52], (11, 'Russia', 'Eastern Europe', 2195.71, 2025, 'IMF', '2025-01-09 08:57:45')\n",
      "[2025-01-09-17-57-52], (12, 'South Korea', 'East Asia', 1947.13, 2025, 'IMF', '2025-01-09 08:57:45')\n",
      "[2025-01-09-17-57-52], (13, 'Australia', 'Oceania', 1881.14, 2025, 'IMF', '2025-01-09 08:57:45')\n",
      "[2025-01-09-17-57-52], (14, 'Spain', 'Western Europe', 1827.58, 2025, 'IMF', '2025-01-09 08:57:45')\n",
      "[2025-01-09-17-57-52], (15, 'Mexico', 'North America', 1817.82, 2025, 'IMF', '2025-01-09 08:57:45')\n",
      "[2025-01-09-17-57-52], (16, 'Indonesia', 'Southeast Asia', 1492.62, 2025, 'IMF', '2025-01-09 08:57:45')\n",
      "[2025-01-09-17-57-52], (17, 'Turkey', 'Eastern Europe', 1455.41, 2025, 'IMF', '2025-01-09 08:57:45')\n",
      "[2025-01-09-17-57-52], (18, 'Netherlands', 'Western Europe', 1272.96, 2025, 'IMF', '2025-01-09 08:57:45')\n",
      "[2025-01-09-17-57-52], (19, 'Saudi Arabia', 'Middle East', 1136.58, 2025, 'IMF', '2025-01-09 08:57:45')\n",
      "[2025-01-09-17-57-52], (20, 'Switzerland', 'Western Europe', 999.6, 2025, 'IMF', '2025-01-09 08:57:45')\n",
      "[2025-01-09-17-57-52], (21, 'Poland', 'Eastern Europe', 915.45, 2025, 'IMF', '2025-01-09 08:57:45')\n",
      "[2025-01-09-17-57-52], (22, 'Taiwan', 'East Asia', 814.44, 2025, 'IMF', '2025-01-09 08:57:45')\n",
      "[2025-01-09-17-57-52], (23, 'Belgium', 'Western Europe', 689.36, 2025, 'IMF', '2025-01-09 08:57:45')\n",
      "[2025-01-09-17-57-52], (24, 'Sweden', 'Western Europe', 638.78, 2025, 'IMF', '2025-01-09 08:57:45')\n",
      "[2025-01-09-17-57-52], (25, 'Argentina', 'Latin America', 604.2, 2025, 'IMF', '2025-01-09 08:57:45')\n",
      "[2025-01-09-17-57-52], (26, 'Ireland', 'Western Europe', 587.23, 2025, 'IMF', '2025-01-09 08:57:45')\n",
      "[2025-01-09-17-57-52], (27, 'United Arab Emirates', 'Middle East', 568.57, 2025, 'IMF', '2025-01-09 08:57:45')\n",
      "[2025-01-09-17-57-52], (28, 'Singapore', 'Southeast Asia', 561.73, 2025, 'IMF', '2025-01-09 08:57:45')\n",
      "[2025-01-09-17-57-52], (29, 'Austria', 'Western Europe', 559.22, 2025, 'IMF', '2025-01-09 08:57:45')\n",
      "[2025-01-09-17-57-52], (30, 'Israel', 'Middle East', 550.9, 2025, 'IMF', '2025-01-09 08:57:45')\n",
      "[2025-01-09-17-57-52], (31, 'Thailand', 'Southeast Asia', 545.34, 2025, 'IMF', '2025-01-09 08:57:45')\n",
      "[2025-01-09-17-57-52], (32, 'Norway', 'Western Europe', 503.47, 2025, 'IMF', '2025-01-09 08:57:45')\n",
      "[2025-01-09-17-57-52], (33, 'Malaysia', 'Southeast Asia', 488.25, 2025, 'IMF', '2025-01-09 08:57:45')\n",
      "[2025-01-09-17-57-52], (34, 'Philippines', 'Southeast Asia', 471.52, 2025, 'IMF', '2025-01-09 08:57:45')\n",
      "[2025-01-09-17-57-52], (35, 'Vietnam', 'Southeast Asia', 468.4, 2025, 'IMF', '2025-01-09 08:57:45')\n",
      "[2025-01-09-17-57-52], (36, 'Iran', 'Middle East', 463.75, 2025, 'IMF', '2025-01-09 08:57:45')\n",
      "[2025-01-09-17-57-52], (37, 'Bangladesh', 'South Asia', 455.86, 2025, 'IMF', '2025-01-09 08:57:45')\n",
      "[2025-01-09-17-57-52], (38, 'Czech Republic', 'Eastern Europe', 452.23, 2025, 'IMF', '2025-01-09 08:57:45')\n",
      "[2025-01-09-17-57-52], (39, 'Denmark', 'Western Europe', 431.23, 2025, 'IMF', '2025-01-09 08:57:45')\n",
      "[2025-01-09-17-57-52], (40, 'Hong Kong', 'East Asia', 422.06, 2025, 'IMF', '2025-01-09 08:57:45')\n",
      "[2025-01-09-17-57-52], (41, 'Colombia', 'Latin America', 419.33, 2025, 'IMF', '2025-01-09 08:57:45')\n",
      "[2025-01-09-17-57-52], (42, 'South Africa', 'Sub-Saharan Africa', 418.05, 2025, 'IMF', '2025-01-09 08:57:45')\n",
      "[2025-01-09-17-57-52], (43, 'Romania', 'Eastern Europe', 406.2, 2025, 'IMF', '2025-01-09 08:57:45')\n",
      "[2025-01-09-17-57-52], (44, 'Egypt', 'North Africa', 380.04, 2025, 'IMF', '2025-01-09 08:57:45')\n",
      "[2025-01-09-17-57-52], (45, 'Pakistan', 'South Asia', 374.6, 2024, 'IMF', '2025-01-09 08:57:45')\n",
      "[2025-01-09-17-57-52], (46, 'Chile', 'Latin America', 362.24, 2025, 'IMF', '2025-01-09 08:57:45')\n",
      "[2025-01-09-17-57-52], (47, 'Finland', 'Western Europe', 319.99, 2025, 'IMF', '2025-01-09 08:57:45')\n",
      "[2025-01-09-17-57-52], (48, 'Portugal', 'Western Europe', 319.93, 2025, 'IMF', '2025-01-09 08:57:45')\n",
      "[2025-01-09-17-57-52], (49, 'Hungary', 'Eastern Europe', 312.62, 2025, 'IMF', '2025-01-09 08:57:45')\n",
      "[2025-01-09-17-57-52], (50, 'Kazakhstan', 'Central Asia', 306.63, 2025, 'IMF', '2025-01-09 08:57:45')\n",
      "[2025-01-09-17-57-52], (51, 'Peru', 'Latin America', 294.9, 2025, 'IMF', '2025-01-09 08:57:45')\n",
      "[2025-01-09-17-57-52], (52, 'Iraq', 'Middle East', 270.87, 2025, 'IMF', '2025-01-09 08:57:45')\n",
      "[2025-01-09-17-57-52], (53, 'Greece', 'Western Europe', 265.17, 2025, 'IMF', '2025-01-09 08:57:45')\n",
      "[2025-01-09-17-57-52], (54, 'Algeria', 'North Africa', 264.27, 2025, 'IMF', '2025-01-09 08:57:45')\n",
      "[2025-01-09-17-57-52], (55, 'New Zealand', 'Oceania', 262.92, 2025, 'IMF', '2025-01-09 08:57:45')\n",
      "[2025-01-09-17-57-52], (56, 'Qatar', 'Middle East', 240.22, 2025, 'IMF', '2025-01-09 08:57:45')\n",
      "[2025-01-09-17-57-52], (57, 'Ethiopia', 'Sub-Saharan Africa', 230.03, 2024, 'IMF', '2025-01-09 08:57:45')\n",
      "[2025-01-09-17-57-52], (58, 'Nigeria', 'Sub-Saharan Africa', 199.72, 2025, 'IMF', '2025-01-09 08:57:45')\n",
      "[2025-01-09-17-57-52], (59, 'Ukraine', 'Eastern Europe', 189.83, 2025, 'IMF', '2025-01-09 08:57:45')\n",
      "[2025-01-09-17-57-52], (60, 'Morocco', 'North Africa', 168.6, 2025, 'IMF', '2025-01-09 08:57:45')\n",
      "[2025-01-09-17-57-52], (61, 'Kuwait', 'Middle East', 161.95, 2025, 'IMF', '2025-01-09 08:57:45')\n",
      "[2025-01-09-17-57-52], (63, 'Slovakia', 'Eastern Europe', 142.62, 2024, 'IMF', '2025-01-09 08:57:45')\n",
      "[2025-01-09-17-57-52], (64, 'Dominican Republic', 'Latin America', 126.24, 2024, 'IMF', '2025-01-09 08:57:45')\n",
      "[2025-01-09-17-57-52], (65, 'Uzbekistan', 'Central Asia', 125.51, 2024, 'IMF', '2025-01-09 08:57:45')\n",
      "[2025-01-09-17-57-52], (66, 'Bulgaria', 'Eastern Europe', 123.42, 2024, 'IMF', '2025-01-09 08:57:45')\n",
      "[2025-01-09-17-57-52], (67, 'Ecuador', 'Latin America', 121.42, 2024, 'IMF', '2025-01-09 08:57:45')\n",
      "[2025-01-09-17-57-52], (68, 'Puerto Rico', 'Latin America', 120.97, 2024, 'IMF', '2025-01-09 08:57:45')\n",
      "[2025-01-09-17-57-52], (69, 'Kenya', 'Sub-Saharan Africa', 116.32, 2024, 'IMF', '2025-01-09 08:57:45')\n",
      "[2025-01-09-17-57-52], (70, 'Angola', 'Sub-Saharan Africa', 113.29, 2024, 'IMF', '2025-01-09 08:57:45')\n",
      "[2025-01-09-17-57-52], (71, 'Guatemala', 'Latin America', 112.37, 2024, 'IMF', '2025-01-09 08:57:45')\n",
      "[2025-01-09-17-57-52], (72, 'Oman', 'Middle East', 110.99, 2024, 'IMF', '2025-01-09 08:57:45')\n",
      "[2025-01-09-17-57-52], (73, 'Venezuela', 'Latin America', 106.33, 2024, 'IMF', '2025-01-09 08:57:45')\n"
     ]
    }
   ],
   "source": [
    "with sqlite3.connect(\"missions/W1/M3/data/World_Economies.db\")  as conn:\n",
    "    cursor = conn.cursor()\n",
    "    cursor.execute(\n",
    "        '''\n",
    "        SELECT * FROM gdp\n",
    "        WHERE GDP_USD_billion >= 100\n",
    "        ORDER BY GDP_USD_billion DESC\n",
    "        '''\n",
    "        # IS NOT NULL을 하지 않아도 됨.\n",
    "        )\n",
    "    rows = cursor.fetchall()\n",
    "    logger.info(f\"GDP가 100B USD이상이 되는 국가 수: {len(rows)}\", )\n",
    "    for row in rows:\n",
    "        logger.info(row)"
   ]
  },
  {
   "cell_type": "markdown",
   "metadata": {},
   "source": [
    "### 각 Region별 top5 국가의 GDP 평균 구하기"
   ]
  },
  {
   "cell_type": "code",
   "execution_count": 44,
   "metadata": {},
   "outputs": [
    {
     "name": "stdout",
     "output_type": "stream",
     "text": [
      "[2025-01-09-18-23-06], 결과 수: 12\n",
      "[2025-01-09-18-23-06], ('North America', 8622.34)\n",
      "[2025-01-09-18-23-06], ('East Asia', 5421.57)\n",
      "[2025-01-09-18-23-06], ('Western Europe', 3244.49)\n",
      "[2025-01-09-18-23-06], ('Eastern Europe', 1085.0)\n",
      "[2025-01-09-18-23-06], ('South Asia', 1044.18)\n",
      "[2025-01-09-18-23-06], ('Latin America', 797.57)\n",
      "[2025-01-09-18-23-06], ('Southeast Asia', 711.89)\n",
      "[2025-01-09-18-23-06], ('Middle East', 598.13)\n",
      "[2025-01-09-18-23-06], ('Oceania', 436.66)\n",
      "[2025-01-09-18-23-06], ('Sub-Saharan Africa', 215.48)\n",
      "[2025-01-09-18-23-06], ('North Africa', 182.07)\n",
      "[2025-01-09-18-23-06], ('Central Asia', 108.96)\n"
     ]
    }
   ],
   "source": [
    "# 국가 이름과 각 국가별 GDP까지 나오는 코드\n",
    "\"\"\"\n",
    "WITH RankedGDP AS (\n",
    "            SELECT \n",
    "                Country,\n",
    "                Region,\n",
    "                GDP_USD_billion,\n",
    "                ROW_NUMBER() OVER (\n",
    "                    PARTITION BY Region \n",
    "                    ORDER BY GDP_USD_billion DESC\n",
    "                ) as rank\n",
    "            FROM gdp\n",
    "        )\n",
    "        SELECT \n",
    "            Region,\n",
    "            Country,\n",
    "            ROUND(GDP_USD_billion, 2) as GDP_USD_billion,\n",
    "            rank,\n",
    "            ROUND((\n",
    "                SELECT AVG(GDP_USD_billion)\n",
    "                FROM RankedGDP r2\n",
    "                WHERE r2.Region = r1.Region\n",
    "                AND r2.rank <= 5\n",
    "            ), 2) as region_top5_avg_GDP\n",
    "        FROM RankedGDP r1\n",
    "        WHERE rank <= 5\n",
    "        ORDER BY \n",
    "            region_top5_avg_GDP DESC,\n",
    "            Region,\n",
    "            rank\n",
    "        ;\n",
    "\"\"\"           \n",
    "\n",
    "with sqlite3.connect(\"missions/W1/M3/data/World_Economies.db\")  as conn:\n",
    "    cursor = conn.cursor()\n",
    "    cursor.execute(\n",
    "        '''\n",
    "        SELECT \n",
    "            Region,\n",
    "            ROUND(avg(GDP_USD_billion), 2) as top_5_avg_GDP\n",
    "            /* 반올림을 안하면 파이썬 차원에서 또 다시 소숫점 둘째 자리 뒤까지 보여준다. */\n",
    "        FROM (\n",
    "            SELECT\n",
    "                Country,\n",
    "                Region,\n",
    "                GDP_USD_billion,\n",
    "                ROW_NUMBER() OVER (\n",
    "                    PARTITION BY Region\n",
    "                    ORDER BY GDP_USD_billion DESC\n",
    "                    ) as rank\n",
    "                    FROM gdp\n",
    "                )\n",
    "        WHERE rank <= 5\n",
    "        GROUP BY Region\n",
    "        ORDER BY top_5_avg_GDP DESC\n",
    "        ;\n",
    "\n",
    "        '''\n",
    "        # IS NOT NULL을 하지 않아도 됨.\n",
    "        )\n",
    "    rows = cursor.fetchall()\n",
    "    logger.info(f\"결과 수: {len(rows)}\", )\n",
    "    for row in rows:\n",
    "        logger.info(row)\n"
   ]
  },
  {
   "cell_type": "code",
   "execution_count": null,
   "metadata": {},
   "outputs": [],
   "source": []
  },
  {
   "cell_type": "code",
   "execution_count": null,
   "metadata": {},
   "outputs": [],
   "source": []
  },
  {
   "cell_type": "code",
   "execution_count": null,
   "metadata": {},
   "outputs": [],
   "source": []
  }
 ],
 "metadata": {
  "kernelspec": {
   "display_name": ".venv",
   "language": "python",
   "name": "python3"
  },
  "language_info": {
   "codemirror_mode": {
    "name": "ipython",
    "version": 3
   },
   "file_extension": ".py",
   "mimetype": "text/x-python",
   "name": "python",
   "nbconvert_exporter": "python",
   "pygments_lexer": "ipython3",
   "version": "3.10.12"
  }
 },
 "nbformat": 4,
 "nbformat_minor": 2
}
