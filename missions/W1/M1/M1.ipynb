{
 "cells": [
  {
   "cell_type": "code",
   "execution_count": 72,
   "id": "9a2cbd98-d4d6-431f-909d-db8eb06e77b7",
   "metadata": {},
   "outputs": [
    {
     "name": "stdout",
     "output_type": "stream",
     "text": [
      "Requirement already satisfied: pandas in /opt/miniconda3/lib/python3.9/site-packages (2.2.3)\n",
      "Requirement already satisfied: numpy>=1.22.4 in /opt/miniconda3/lib/python3.9/site-packages (from pandas) (2.0.2)\n",
      "Requirement already satisfied: python-dateutil>=2.8.2 in /opt/miniconda3/lib/python3.9/site-packages (from pandas) (2.9.0.post0)\n",
      "Requirement already satisfied: pytz>=2020.1 in /opt/miniconda3/lib/python3.9/site-packages (from pandas) (2024.2)\n",
      "Requirement already satisfied: tzdata>=2022.7 in /opt/miniconda3/lib/python3.9/site-packages (from pandas) (2024.2)\n",
      "Requirement already satisfied: six>=1.5 in /opt/miniconda3/lib/python3.9/site-packages (from python-dateutil>=2.8.2->pandas) (1.17.0)\n",
      "Requirement already satisfied: matplotlib in /opt/miniconda3/lib/python3.9/site-packages (3.9.4)\n",
      "Requirement already satisfied: contourpy>=1.0.1 in /opt/miniconda3/lib/python3.9/site-packages (from matplotlib) (1.3.0)\n",
      "Requirement already satisfied: cycler>=0.10 in /opt/miniconda3/lib/python3.9/site-packages (from matplotlib) (0.12.1)\n",
      "Requirement already satisfied: fonttools>=4.22.0 in /opt/miniconda3/lib/python3.9/site-packages (from matplotlib) (4.55.3)\n",
      "Requirement already satisfied: kiwisolver>=1.3.1 in /opt/miniconda3/lib/python3.9/site-packages (from matplotlib) (1.4.7)\n",
      "Requirement already satisfied: numpy>=1.23 in /opt/miniconda3/lib/python3.9/site-packages (from matplotlib) (2.0.2)\n",
      "Requirement already satisfied: packaging>=20.0 in /opt/miniconda3/lib/python3.9/site-packages (from matplotlib) (24.1)\n",
      "Requirement already satisfied: pillow>=8 in /opt/miniconda3/lib/python3.9/site-packages (from matplotlib) (11.0.0)\n",
      "Requirement already satisfied: pyparsing>=2.3.1 in /opt/miniconda3/lib/python3.9/site-packages (from matplotlib) (3.2.1)\n",
      "Requirement already satisfied: python-dateutil>=2.7 in /opt/miniconda3/lib/python3.9/site-packages (from matplotlib) (2.9.0.post0)\n",
      "Requirement already satisfied: importlib-resources>=3.2.0 in /opt/miniconda3/lib/python3.9/site-packages (from matplotlib) (6.4.5)\n",
      "Requirement already satisfied: zipp>=3.1.0 in /opt/miniconda3/lib/python3.9/site-packages (from importlib-resources>=3.2.0->matplotlib) (3.21.0)\n",
      "Requirement already satisfied: six>=1.5 in /opt/miniconda3/lib/python3.9/site-packages (from python-dateutil>=2.7->matplotlib) (1.17.0)\n",
      "Requirement already satisfied: scipy in /opt/miniconda3/lib/python3.9/site-packages (1.13.1)\n",
      "Requirement already satisfied: numpy<2.3,>=1.22.4 in /opt/miniconda3/lib/python3.9/site-packages (from scipy) (2.0.2)\n",
      "Collecting seaborn\n",
      "  Downloading seaborn-0.13.2-py3-none-any.whl.metadata (5.4 kB)\n",
      "Requirement already satisfied: numpy!=1.24.0,>=1.20 in /opt/miniconda3/lib/python3.9/site-packages (from seaborn) (2.0.2)\n",
      "Requirement already satisfied: pandas>=1.2 in /opt/miniconda3/lib/python3.9/site-packages (from seaborn) (2.2.3)\n",
      "Requirement already satisfied: matplotlib!=3.6.1,>=3.4 in /opt/miniconda3/lib/python3.9/site-packages (from seaborn) (3.9.4)\n",
      "Requirement already satisfied: contourpy>=1.0.1 in /opt/miniconda3/lib/python3.9/site-packages (from matplotlib!=3.6.1,>=3.4->seaborn) (1.3.0)\n",
      "Requirement already satisfied: cycler>=0.10 in /opt/miniconda3/lib/python3.9/site-packages (from matplotlib!=3.6.1,>=3.4->seaborn) (0.12.1)\n",
      "Requirement already satisfied: fonttools>=4.22.0 in /opt/miniconda3/lib/python3.9/site-packages (from matplotlib!=3.6.1,>=3.4->seaborn) (4.55.3)\n",
      "Requirement already satisfied: kiwisolver>=1.3.1 in /opt/miniconda3/lib/python3.9/site-packages (from matplotlib!=3.6.1,>=3.4->seaborn) (1.4.7)\n",
      "Requirement already satisfied: packaging>=20.0 in /opt/miniconda3/lib/python3.9/site-packages (from matplotlib!=3.6.1,>=3.4->seaborn) (24.1)\n",
      "Requirement already satisfied: pillow>=8 in /opt/miniconda3/lib/python3.9/site-packages (from matplotlib!=3.6.1,>=3.4->seaborn) (11.0.0)\n",
      "Requirement already satisfied: pyparsing>=2.3.1 in /opt/miniconda3/lib/python3.9/site-packages (from matplotlib!=3.6.1,>=3.4->seaborn) (3.2.1)\n",
      "Requirement already satisfied: python-dateutil>=2.7 in /opt/miniconda3/lib/python3.9/site-packages (from matplotlib!=3.6.1,>=3.4->seaborn) (2.9.0.post0)\n",
      "Requirement already satisfied: importlib-resources>=3.2.0 in /opt/miniconda3/lib/python3.9/site-packages (from matplotlib!=3.6.1,>=3.4->seaborn) (6.4.5)\n",
      "Requirement already satisfied: pytz>=2020.1 in /opt/miniconda3/lib/python3.9/site-packages (from pandas>=1.2->seaborn) (2024.2)\n",
      "Requirement already satisfied: tzdata>=2022.7 in /opt/miniconda3/lib/python3.9/site-packages (from pandas>=1.2->seaborn) (2024.2)\n",
      "Requirement already satisfied: zipp>=3.1.0 in /opt/miniconda3/lib/python3.9/site-packages (from importlib-resources>=3.2.0->matplotlib!=3.6.1,>=3.4->seaborn) (3.21.0)\n",
      "Requirement already satisfied: six>=1.5 in /opt/miniconda3/lib/python3.9/site-packages (from python-dateutil>=2.7->matplotlib!=3.6.1,>=3.4->seaborn) (1.17.0)\n",
      "Downloading seaborn-0.13.2-py3-none-any.whl (294 kB)\n",
      "Installing collected packages: seaborn\n",
      "Successfully installed seaborn-0.13.2\n"
     ]
    }
   ],
   "source": [
    "!pip install pandas\n",
    "!pip install matplotlib\n",
    "!pip install scipy\n",
    "!pip install seaborn"
   ]
  },
  {
   "cell_type": "code",
   "execution_count": 1,
   "id": "8bca27ef-8ab4-44da-be0e-3ed371fd5d63",
   "metadata": {},
   "outputs": [],
   "source": [
    "import pandas as pd\n",
    "import matplotlib.pyplot as plt"
   ]
  },
  {
   "cell_type": "code",
   "execution_count": 14,
   "id": "d0c262f1-c314-4acc-8b4a-703e1162d6a1",
   "metadata": {},
   "outputs": [
    {
     "data": {
      "text/html": [
       "<div>\n",
       "<style scoped>\n",
       "    .dataframe tbody tr th:only-of-type {\n",
       "        vertical-align: middle;\n",
       "    }\n",
       "\n",
       "    .dataframe tbody tr th {\n",
       "        vertical-align: top;\n",
       "    }\n",
       "\n",
       "    .dataframe thead th {\n",
       "        text-align: right;\n",
       "    }\n",
       "</style>\n",
       "<table border=\"1\" class=\"dataframe\">\n",
       "  <thead>\n",
       "    <tr style=\"text-align: right;\">\n",
       "      <th></th>\n",
       "      <th>Unnamed: 0</th>\n",
       "      <th>mpg</th>\n",
       "      <th>cyl</th>\n",
       "      <th>disp</th>\n",
       "      <th>hp</th>\n",
       "      <th>drat</th>\n",
       "      <th>wt</th>\n",
       "      <th>qsec</th>\n",
       "      <th>vs</th>\n",
       "      <th>am</th>\n",
       "      <th>gear</th>\n",
       "      <th>carb</th>\n",
       "    </tr>\n",
       "  </thead>\n",
       "  <tbody>\n",
       "    <tr>\n",
       "      <th>0</th>\n",
       "      <td>Mazda RX4</td>\n",
       "      <td>21.0</td>\n",
       "      <td>6</td>\n",
       "      <td>160.0</td>\n",
       "      <td>110</td>\n",
       "      <td>3.90</td>\n",
       "      <td>2.620</td>\n",
       "      <td>16.46</td>\n",
       "      <td>0</td>\n",
       "      <td>1</td>\n",
       "      <td>4</td>\n",
       "      <td>4</td>\n",
       "    </tr>\n",
       "    <tr>\n",
       "      <th>1</th>\n",
       "      <td>Mazda RX4 Wag</td>\n",
       "      <td>21.0</td>\n",
       "      <td>6</td>\n",
       "      <td>160.0</td>\n",
       "      <td>110</td>\n",
       "      <td>3.90</td>\n",
       "      <td>2.875</td>\n",
       "      <td>17.02</td>\n",
       "      <td>0</td>\n",
       "      <td>1</td>\n",
       "      <td>4</td>\n",
       "      <td>4</td>\n",
       "    </tr>\n",
       "    <tr>\n",
       "      <th>2</th>\n",
       "      <td>Datsun 710</td>\n",
       "      <td>22.8</td>\n",
       "      <td>4</td>\n",
       "      <td>108.0</td>\n",
       "      <td>93</td>\n",
       "      <td>3.85</td>\n",
       "      <td>2.320</td>\n",
       "      <td>18.61</td>\n",
       "      <td>1</td>\n",
       "      <td>1</td>\n",
       "      <td>4</td>\n",
       "      <td>1</td>\n",
       "    </tr>\n",
       "    <tr>\n",
       "      <th>3</th>\n",
       "      <td>Hornet 4 Drive</td>\n",
       "      <td>21.4</td>\n",
       "      <td>6</td>\n",
       "      <td>258.0</td>\n",
       "      <td>110</td>\n",
       "      <td>3.08</td>\n",
       "      <td>3.215</td>\n",
       "      <td>19.44</td>\n",
       "      <td>1</td>\n",
       "      <td>0</td>\n",
       "      <td>3</td>\n",
       "      <td>1</td>\n",
       "    </tr>\n",
       "    <tr>\n",
       "      <th>4</th>\n",
       "      <td>Hornet Sportabout</td>\n",
       "      <td>18.7</td>\n",
       "      <td>8</td>\n",
       "      <td>360.0</td>\n",
       "      <td>175</td>\n",
       "      <td>3.15</td>\n",
       "      <td>3.440</td>\n",
       "      <td>17.02</td>\n",
       "      <td>0</td>\n",
       "      <td>0</td>\n",
       "      <td>3</td>\n",
       "      <td>2</td>\n",
       "    </tr>\n",
       "  </tbody>\n",
       "</table>\n",
       "</div>"
      ],
      "text/plain": [
       "          Unnamed: 0   mpg  cyl   disp   hp  drat     wt   qsec  vs  am  gear  \\\n",
       "0          Mazda RX4  21.0    6  160.0  110  3.90  2.620  16.46   0   1     4   \n",
       "1      Mazda RX4 Wag  21.0    6  160.0  110  3.90  2.875  17.02   0   1     4   \n",
       "2         Datsun 710  22.8    4  108.0   93  3.85  2.320  18.61   1   1     4   \n",
       "3     Hornet 4 Drive  21.4    6  258.0  110  3.08  3.215  19.44   1   0     3   \n",
       "4  Hornet Sportabout  18.7    8  360.0  175  3.15  3.440  17.02   0   0     3   \n",
       "\n",
       "   carb  \n",
       "0     4  \n",
       "1     4  \n",
       "2     1  \n",
       "3     1  \n",
       "4     2  "
      ]
     },
     "execution_count": 14,
     "metadata": {},
     "output_type": "execute_result"
    }
   ],
   "source": [
    "df = pd.read_csv('mtcars.csv')\n",
    "df.head()"
   ]
  },
  {
   "cell_type": "code",
   "execution_count": 15,
   "id": "007a5e2a-7e76-42e3-8a69-0e5697652bec",
   "metadata": {},
   "outputs": [
    {
     "data": {
      "text/html": [
       "<div>\n",
       "<style scoped>\n",
       "    .dataframe tbody tr th:only-of-type {\n",
       "        vertical-align: middle;\n",
       "    }\n",
       "\n",
       "    .dataframe tbody tr th {\n",
       "        vertical-align: top;\n",
       "    }\n",
       "\n",
       "    .dataframe thead th {\n",
       "        text-align: right;\n",
       "    }\n",
       "</style>\n",
       "<table border=\"1\" class=\"dataframe\">\n",
       "  <thead>\n",
       "    <tr style=\"text-align: right;\">\n",
       "      <th></th>\n",
       "      <th>Unnamed: 0</th>\n",
       "      <th>mpg</th>\n",
       "      <th>cyl</th>\n",
       "      <th>disp</th>\n",
       "      <th>hp</th>\n",
       "      <th>drat</th>\n",
       "      <th>wt</th>\n",
       "      <th>qsec</th>\n",
       "      <th>vs</th>\n",
       "      <th>am</th>\n",
       "      <th>gear</th>\n",
       "      <th>carb</th>\n",
       "    </tr>\n",
       "  </thead>\n",
       "  <tbody>\n",
       "    <tr>\n",
       "      <th>27</th>\n",
       "      <td>Lotus Europa</td>\n",
       "      <td>30.4</td>\n",
       "      <td>4</td>\n",
       "      <td>95.1</td>\n",
       "      <td>113</td>\n",
       "      <td>3.77</td>\n",
       "      <td>1.513</td>\n",
       "      <td>16.9</td>\n",
       "      <td>1</td>\n",
       "      <td>1</td>\n",
       "      <td>5</td>\n",
       "      <td>2</td>\n",
       "    </tr>\n",
       "    <tr>\n",
       "      <th>28</th>\n",
       "      <td>Ford Pantera L</td>\n",
       "      <td>15.8</td>\n",
       "      <td>8</td>\n",
       "      <td>351.0</td>\n",
       "      <td>264</td>\n",
       "      <td>4.22</td>\n",
       "      <td>3.170</td>\n",
       "      <td>14.5</td>\n",
       "      <td>0</td>\n",
       "      <td>1</td>\n",
       "      <td>5</td>\n",
       "      <td>4</td>\n",
       "    </tr>\n",
       "    <tr>\n",
       "      <th>29</th>\n",
       "      <td>Ferrari Dino</td>\n",
       "      <td>19.7</td>\n",
       "      <td>6</td>\n",
       "      <td>145.0</td>\n",
       "      <td>175</td>\n",
       "      <td>3.62</td>\n",
       "      <td>2.770</td>\n",
       "      <td>15.5</td>\n",
       "      <td>0</td>\n",
       "      <td>1</td>\n",
       "      <td>5</td>\n",
       "      <td>6</td>\n",
       "    </tr>\n",
       "    <tr>\n",
       "      <th>30</th>\n",
       "      <td>Maserati Bora</td>\n",
       "      <td>15.0</td>\n",
       "      <td>8</td>\n",
       "      <td>301.0</td>\n",
       "      <td>335</td>\n",
       "      <td>3.54</td>\n",
       "      <td>3.570</td>\n",
       "      <td>14.6</td>\n",
       "      <td>0</td>\n",
       "      <td>1</td>\n",
       "      <td>5</td>\n",
       "      <td>8</td>\n",
       "    </tr>\n",
       "    <tr>\n",
       "      <th>31</th>\n",
       "      <td>Volvo 142E</td>\n",
       "      <td>21.4</td>\n",
       "      <td>4</td>\n",
       "      <td>121.0</td>\n",
       "      <td>109</td>\n",
       "      <td>4.11</td>\n",
       "      <td>2.780</td>\n",
       "      <td>18.6</td>\n",
       "      <td>1</td>\n",
       "      <td>1</td>\n",
       "      <td>4</td>\n",
       "      <td>2</td>\n",
       "    </tr>\n",
       "  </tbody>\n",
       "</table>\n",
       "</div>"
      ],
      "text/plain": [
       "        Unnamed: 0   mpg  cyl   disp   hp  drat     wt  qsec  vs  am  gear  \\\n",
       "27    Lotus Europa  30.4    4   95.1  113  3.77  1.513  16.9   1   1     5   \n",
       "28  Ford Pantera L  15.8    8  351.0  264  4.22  3.170  14.5   0   1     5   \n",
       "29    Ferrari Dino  19.7    6  145.0  175  3.62  2.770  15.5   0   1     5   \n",
       "30   Maserati Bora  15.0    8  301.0  335  3.54  3.570  14.6   0   1     5   \n",
       "31      Volvo 142E  21.4    4  121.0  109  4.11  2.780  18.6   1   1     4   \n",
       "\n",
       "    carb  \n",
       "27     2  \n",
       "28     4  \n",
       "29     6  \n",
       "30     8  \n",
       "31     2  "
      ]
     },
     "execution_count": 15,
     "metadata": {},
     "output_type": "execute_result"
    }
   ],
   "source": [
    "df.tail()"
   ]
  },
  {
   "cell_type": "code",
   "execution_count": 16,
   "id": "02ca8417-bec9-492f-9f38-bc67eaf1e86f",
   "metadata": {},
   "outputs": [
    {
     "name": "stdout",
     "output_type": "stream",
     "text": [
      "데이터의 갯수 :  32\n"
     ]
    }
   ],
   "source": [
    "print('데이터의 갯수 : ',df.shape[0])"
   ]
  },
  {
   "cell_type": "code",
   "execution_count": 17,
   "id": "318c2b62-24d5-46f3-a6d8-55f67a239fa4",
   "metadata": {},
   "outputs": [
    {
     "data": {
      "text/plain": [
       "Index(['Unnamed: 0', 'mpg', 'cyl', 'disp', 'hp', 'drat', 'wt', 'qsec', 'vs',\n",
       "       'am', 'gear', 'carb'],\n",
       "      dtype='object')"
      ]
     },
     "execution_count": 17,
     "metadata": {},
     "output_type": "execute_result"
    }
   ],
   "source": [
    "df.columns"
   ]
  },
  {
   "cell_type": "code",
   "execution_count": 18,
   "id": "2a27f775-c043-42a7-8989-b48ae18d89cb",
   "metadata": {},
   "outputs": [],
   "source": [
    "df = df.rename(columns = {'Unnamed: 0' : 'cname'})"
   ]
  },
  {
   "cell_type": "code",
   "execution_count": 19,
   "id": "251b4a61-437f-448a-8da0-e2fde8ba9649",
   "metadata": {},
   "outputs": [
    {
     "name": "stdout",
     "output_type": "stream",
     "text": [
      "<class 'pandas.core.frame.DataFrame'>\n",
      "RangeIndex: 32 entries, 0 to 31\n",
      "Data columns (total 12 columns):\n",
      " #   Column  Non-Null Count  Dtype  \n",
      "---  ------  --------------  -----  \n",
      " 0   cname   32 non-null     object \n",
      " 1   mpg     32 non-null     float64\n",
      " 2   cyl     32 non-null     int64  \n",
      " 3   disp    32 non-null     float64\n",
      " 4   hp      32 non-null     int64  \n",
      " 5   drat    32 non-null     float64\n",
      " 6   wt      32 non-null     float64\n",
      " 7   qsec    32 non-null     float64\n",
      " 8   vs      32 non-null     int64  \n",
      " 9   am      32 non-null     int64  \n",
      " 10  gear    32 non-null     int64  \n",
      " 11  carb    32 non-null     int64  \n",
      "dtypes: float64(5), int64(6), object(1)\n",
      "memory usage: 3.1+ KB\n"
     ]
    }
   ],
   "source": [
    "df.info()"
   ]
  },
  {
   "cell_type": "code",
   "execution_count": 20,
   "id": "0b965aec-3bb5-46ac-b72e-edb2a049c0b6",
   "metadata": {},
   "outputs": [
    {
     "data": {
      "text/plain": [
       "cname     object\n",
       "mpg      float64\n",
       "cyl        int64\n",
       "disp     float64\n",
       "hp         int64\n",
       "drat     float64\n",
       "wt       float64\n",
       "qsec     float64\n",
       "vs         int64\n",
       "am         int64\n",
       "gear       int64\n",
       "carb       int64\n",
       "dtype: object"
      ]
     },
     "execution_count": 20,
     "metadata": {},
     "output_type": "execute_result"
    }
   ],
   "source": [
    "df.dtypes"
   ]
  },
  {
   "cell_type": "code",
   "execution_count": 21,
   "id": "ceed4c40-cc84-44d0-a4f2-0834a09d95a3",
   "metadata": {},
   "outputs": [
    {
     "data": {
      "text/html": [
       "<div>\n",
       "<style scoped>\n",
       "    .dataframe tbody tr th:only-of-type {\n",
       "        vertical-align: middle;\n",
       "    }\n",
       "\n",
       "    .dataframe tbody tr th {\n",
       "        vertical-align: top;\n",
       "    }\n",
       "\n",
       "    .dataframe thead th {\n",
       "        text-align: right;\n",
       "    }\n",
       "</style>\n",
       "<table border=\"1\" class=\"dataframe\">\n",
       "  <thead>\n",
       "    <tr style=\"text-align: right;\">\n",
       "      <th></th>\n",
       "      <th>mpg</th>\n",
       "      <th>cyl</th>\n",
       "      <th>disp</th>\n",
       "      <th>hp</th>\n",
       "      <th>drat</th>\n",
       "      <th>wt</th>\n",
       "      <th>qsec</th>\n",
       "      <th>vs</th>\n",
       "      <th>am</th>\n",
       "      <th>gear</th>\n",
       "      <th>carb</th>\n",
       "    </tr>\n",
       "  </thead>\n",
       "  <tbody>\n",
       "    <tr>\n",
       "      <th>count</th>\n",
       "      <td>32.000000</td>\n",
       "      <td>32.000000</td>\n",
       "      <td>32.000000</td>\n",
       "      <td>32.000000</td>\n",
       "      <td>32.000000</td>\n",
       "      <td>32.000000</td>\n",
       "      <td>32.000000</td>\n",
       "      <td>32.000000</td>\n",
       "      <td>32.000000</td>\n",
       "      <td>32.000000</td>\n",
       "      <td>32.0000</td>\n",
       "    </tr>\n",
       "    <tr>\n",
       "      <th>mean</th>\n",
       "      <td>20.090625</td>\n",
       "      <td>6.187500</td>\n",
       "      <td>230.721875</td>\n",
       "      <td>146.687500</td>\n",
       "      <td>3.596563</td>\n",
       "      <td>3.217250</td>\n",
       "      <td>17.848750</td>\n",
       "      <td>0.437500</td>\n",
       "      <td>0.406250</td>\n",
       "      <td>3.687500</td>\n",
       "      <td>2.8125</td>\n",
       "    </tr>\n",
       "    <tr>\n",
       "      <th>std</th>\n",
       "      <td>6.026948</td>\n",
       "      <td>1.785922</td>\n",
       "      <td>123.938694</td>\n",
       "      <td>68.562868</td>\n",
       "      <td>0.534679</td>\n",
       "      <td>0.978457</td>\n",
       "      <td>1.786943</td>\n",
       "      <td>0.504016</td>\n",
       "      <td>0.498991</td>\n",
       "      <td>0.737804</td>\n",
       "      <td>1.6152</td>\n",
       "    </tr>\n",
       "    <tr>\n",
       "      <th>min</th>\n",
       "      <td>10.400000</td>\n",
       "      <td>4.000000</td>\n",
       "      <td>71.100000</td>\n",
       "      <td>52.000000</td>\n",
       "      <td>2.760000</td>\n",
       "      <td>1.513000</td>\n",
       "      <td>14.500000</td>\n",
       "      <td>0.000000</td>\n",
       "      <td>0.000000</td>\n",
       "      <td>3.000000</td>\n",
       "      <td>1.0000</td>\n",
       "    </tr>\n",
       "    <tr>\n",
       "      <th>25%</th>\n",
       "      <td>15.425000</td>\n",
       "      <td>4.000000</td>\n",
       "      <td>120.825000</td>\n",
       "      <td>96.500000</td>\n",
       "      <td>3.080000</td>\n",
       "      <td>2.581250</td>\n",
       "      <td>16.892500</td>\n",
       "      <td>0.000000</td>\n",
       "      <td>0.000000</td>\n",
       "      <td>3.000000</td>\n",
       "      <td>2.0000</td>\n",
       "    </tr>\n",
       "    <tr>\n",
       "      <th>50%</th>\n",
       "      <td>19.200000</td>\n",
       "      <td>6.000000</td>\n",
       "      <td>196.300000</td>\n",
       "      <td>123.000000</td>\n",
       "      <td>3.695000</td>\n",
       "      <td>3.325000</td>\n",
       "      <td>17.710000</td>\n",
       "      <td>0.000000</td>\n",
       "      <td>0.000000</td>\n",
       "      <td>4.000000</td>\n",
       "      <td>2.0000</td>\n",
       "    </tr>\n",
       "    <tr>\n",
       "      <th>75%</th>\n",
       "      <td>22.800000</td>\n",
       "      <td>8.000000</td>\n",
       "      <td>326.000000</td>\n",
       "      <td>180.000000</td>\n",
       "      <td>3.920000</td>\n",
       "      <td>3.610000</td>\n",
       "      <td>18.900000</td>\n",
       "      <td>1.000000</td>\n",
       "      <td>1.000000</td>\n",
       "      <td>4.000000</td>\n",
       "      <td>4.0000</td>\n",
       "    </tr>\n",
       "    <tr>\n",
       "      <th>max</th>\n",
       "      <td>33.900000</td>\n",
       "      <td>8.000000</td>\n",
       "      <td>472.000000</td>\n",
       "      <td>335.000000</td>\n",
       "      <td>4.930000</td>\n",
       "      <td>5.424000</td>\n",
       "      <td>22.900000</td>\n",
       "      <td>1.000000</td>\n",
       "      <td>1.000000</td>\n",
       "      <td>5.000000</td>\n",
       "      <td>8.0000</td>\n",
       "    </tr>\n",
       "  </tbody>\n",
       "</table>\n",
       "</div>"
      ],
      "text/plain": [
       "             mpg        cyl        disp          hp       drat         wt  \\\n",
       "count  32.000000  32.000000   32.000000   32.000000  32.000000  32.000000   \n",
       "mean   20.090625   6.187500  230.721875  146.687500   3.596563   3.217250   \n",
       "std     6.026948   1.785922  123.938694   68.562868   0.534679   0.978457   \n",
       "min    10.400000   4.000000   71.100000   52.000000   2.760000   1.513000   \n",
       "25%    15.425000   4.000000  120.825000   96.500000   3.080000   2.581250   \n",
       "50%    19.200000   6.000000  196.300000  123.000000   3.695000   3.325000   \n",
       "75%    22.800000   8.000000  326.000000  180.000000   3.920000   3.610000   \n",
       "max    33.900000   8.000000  472.000000  335.000000   4.930000   5.424000   \n",
       "\n",
       "            qsec         vs         am       gear     carb  \n",
       "count  32.000000  32.000000  32.000000  32.000000  32.0000  \n",
       "mean   17.848750   0.437500   0.406250   3.687500   2.8125  \n",
       "std     1.786943   0.504016   0.498991   0.737804   1.6152  \n",
       "min    14.500000   0.000000   0.000000   3.000000   1.0000  \n",
       "25%    16.892500   0.000000   0.000000   3.000000   2.0000  \n",
       "50%    17.710000   0.000000   0.000000   4.000000   2.0000  \n",
       "75%    18.900000   1.000000   1.000000   4.000000   4.0000  \n",
       "max    22.900000   1.000000   1.000000   5.000000   8.0000  "
      ]
     },
     "execution_count": 21,
     "metadata": {},
     "output_type": "execute_result"
    }
   ],
   "source": [
    "df.describe()"
   ]
  },
  {
   "cell_type": "markdown",
   "id": "b3aaff21-8430-4b13-be4b-760d3e9f4117",
   "metadata": {},
   "source": [
    "### gear, transmission features 값 "
   ]
  },
  {
   "cell_type": "code",
   "execution_count": 22,
   "id": "0b11e2ef-a6ef-4134-86d1-44b81ed60e35",
   "metadata": {},
   "outputs": [
    {
     "data": {
      "text/plain": [
       "gear\n",
       "3    15\n",
       "4    12\n",
       "5     5\n",
       "Name: count, dtype: int64"
      ]
     },
     "execution_count": 22,
     "metadata": {},
     "output_type": "execute_result"
    }
   ],
   "source": [
    "df['gear'].value_counts()"
   ]
  },
  {
   "cell_type": "code",
   "execution_count": 23,
   "id": "800c1299-961e-4252-88a5-1ca4bcb82b8d",
   "metadata": {},
   "outputs": [
    {
     "data": {
      "text/plain": [
       "am\n",
       "0    19\n",
       "1    13\n",
       "Name: count, dtype: int64"
      ]
     },
     "execution_count": 23,
     "metadata": {},
     "output_type": "execute_result"
    }
   ],
   "source": [
    "df['am'].value_counts()"
   ]
  },
  {
   "cell_type": "markdown",
   "id": "dcc5e9ce-5b19-4043-9ea1-fa5066e0da54",
   "metadata": {},
   "source": [
    "### pandas crosstab 사용하여 조합 찾기"
   ]
  },
  {
   "cell_type": "code",
   "execution_count": 57,
   "id": "22d202b4-80fc-4281-bcae-d2371efd207b",
   "metadata": {},
   "outputs": [
    {
     "name": "stdout",
     "output_type": "stream",
     "text": [
      "am     0  1\n",
      "gear       \n",
      "3     15  0\n",
      "4      4  8\n",
      "5      0  5\n"
     ]
    }
   ],
   "source": [
    "result_crosstab = pd.crosstab(index = df['gear'],columns = df['am'])\n",
    "print(result_crosstab)"
   ]
  },
  {
   "cell_type": "code",
   "execution_count": 58,
   "id": "148be46a-cf1e-4e13-8854-ef3af85c3ded",
   "metadata": {},
   "outputs": [
    {
     "data": {
      "image/png": "[encoded data removed]",
      "text/plain": [
       "<Figure size 800x600 with 1 Axes>"
      ]
     },
     "metadata": {},
     "output_type": "display_data"
    }
   ],
   "source": [
    "result_crosstab.plot(kind='bar', figsize=(8,6))\n",
    "\n",
    "plt.title('# of Cars by Gear x Transmission')\n",
    "plt.xlabel('(Gear, Auto Transmission)')\n",
    "plt.ylabel('# of Cars')\n",
    "plt.show()"
   ]
  },
  {
   "cell_type": "code",
   "execution_count": 59,
   "id": "acd09d9c-1222-474c-8c90-078faa206bfb",
   "metadata": {},
   "outputs": [
    {
     "data": {
      "image/png": "[encoded data removed]",
      "text/plain": [
       "<Figure size 800x600 with 1 Axes>"
      ]
     },
     "metadata": {},
     "output_type": "display_data"
    }
   ],
   "source": [
    "result_crosstab.stack().plot(kind='bar', figsize=(8,6))\n",
    "\n",
    "plt.title('# of Cars by Gear x Transmission')\n",
    "plt.xlabel('(Gear, Auto Transmission)')\n",
    "plt.ylabel('# of Cars')\n",
    "plt.show()"
   ]
  },
  {
   "cell_type": "markdown",
   "id": "6740ce2d-58ca-444d-8663-6d65816de1e5",
   "metadata": {},
   "source": [
    "### pandas.crosstab을 사용하지 않고 조합 알아내기"
   ]
  },
  {
   "cell_type": "markdown",
   "id": "c09dfe1a-fcf2-4dca-a8cf-509ed82e71aa",
   "metadata": {},
   "source": [
    "1. pivot table은 데이터를 원하는 형태로 집계할 때 유용하게 사용할 수 있는 방법\n",
    "2. groupby 기능을 사용하는 방법 "
   ]
  },
  {
   "cell_type": "code",
   "execution_count": 26,
   "id": "ed652d83-d29f-4474-9ff0-7a69357e0e34",
   "metadata": {},
   "outputs": [
    {
     "name": "stdout",
     "output_type": "stream",
     "text": [
      "am     0  1\n",
      "gear       \n",
      "3     15  0\n",
      "4      4  8\n",
      "5      0  5\n"
     ]
    }
   ],
   "source": [
    "result_pivot = df.pivot_table(index = 'gear',columns = 'am', aggfunc='size', fill_value = 0)\n",
    "print(result_pivot)"
   ]
  },
  {
   "cell_type": "code",
   "execution_count": 64,
   "id": "6d6d7cf8-8e60-40b6-8cae-a19655a2613b",
   "metadata": {},
   "outputs": [
    {
     "name": "stdout",
     "output_type": "stream",
     "text": [
      "gear  am\n",
      "3     0     15\n",
      "4     0      4\n",
      "      1      8\n",
      "5     1      5\n",
      "dtype: int64\n"
     ]
    }
   ],
   "source": [
    "# 바로 멀티 인덱스 형태로 나타남\n",
    "result_groupby = df.groupby(['gear','am']).size()\n",
    "print(result_groupby)"
   ]
  },
  {
   "cell_type": "code",
   "execution_count": 65,
   "id": "47933484-3124-40eb-8ce3-0d0980ef5a73",
   "metadata": {},
   "outputs": [
    {
     "data": {
      "image/png": "[encoded data removed]",
      "text/plain": [
       "<Figure size 800x600 with 1 Axes>"
      ]
     },
     "metadata": {},
     "output_type": "display_data"
    }
   ],
   "source": [
    "result_groupby.plot(kind='bar', figsize=(8,6))\n",
    "\n",
    "plt.title('# of Cars by Gear x Transmission')\n",
    "plt.xlabel('(Gear, Auto Transmission)')\n",
    "plt.ylabel('# of Cars')\n",
    "plt.show()"
   ]
  },
  {
   "cell_type": "markdown",
   "id": "14a09ad2-9c97-48eb-9c14-f7606d1c4992",
   "metadata": {},
   "source": [
    "### 모든 feature의 히스토그램 그리기"
   ]
  },
  {
   "cell_type": "code",
   "execution_count": 28,
   "id": "57d09857-4ab4-4eb5-aa70-3ad3a264073a",
   "metadata": {},
   "outputs": [
    {
     "data": {
      "image/png": "[encoded data removed]",
      "text/plain": [
       "<Figure size 1000x1000 with 12 Axes>"
      ]
     },
     "metadata": {},
     "output_type": "display_data"
    }
   ],
   "source": [
    "df.hist(figsize=(10, 10))\n",
    "plt.suptitle('Histograms of Variables')\n",
    "plt.show()"
   ]
  },
  {
   "cell_type": "markdown",
   "id": "5f86ec21-35d9-40cd-b790-05e1d9bb9ea5",
   "metadata": {},
   "source": [
    "### Cylinder와 HorsePower간의 상관관계"
   ]
  },
  {
   "cell_type": "markdown",
   "id": "43b2fa40-cd7a-46e2-9534-4e5d65355b3b",
   "metadata": {},
   "source": [
    "cylinder의 개수가 4개일 경우 마력은 약50 ~ 120, 개수가 6개 일때는 마력이 약100 ~ 180, 개수가 8일때는 마력이 약150 ~ 330까지 범위가 분포되는 것을 확인할 수 있다."
   ]
  },
  {
   "cell_type": "code",
   "execution_count": 29,
   "id": "49ca9c1c-9ca0-48b8-bc2a-93d8e8cc6a0b",
   "metadata": {},
   "outputs": [
    {
     "data": {
      "image/png": "[encoded data removed]",
      "text/plain": [
       "<Figure size 640x480 with 1 Axes>"
      ]
     },
     "metadata": {},
     "output_type": "display_data"
    }
   ],
   "source": [
    "plt.scatter(df['cyl'],df['hp'])\n",
    "plt.title(\"Cylinder vs Horse Power\")\n",
    "plt.xlabel(\"cyl\")\n",
    "plt.ylabel(\"hp\")\n",
    "plt.show()"
   ]
  },
  {
   "cell_type": "markdown",
   "id": "7ac4d948-561e-4773-82c8-1194fe7d3860",
   "metadata": {},
   "source": [
    "### MPG와 HorsePower간의 상관관계"
   ]
  },
  {
   "cell_type": "markdown",
   "id": "1643461f-bab3-4a7e-bafa-abf20b95b033",
   "metadata": {},
   "source": [
    "아래의 scatter표를 확인해보면 마력이 클수록 mpg(갤런당 mile)가 작은 것을 확인할 수 있다. "
   ]
  },
  {
   "cell_type": "code",
   "execution_count": 30,
   "id": "aa0b2dea-8aa3-43e1-b61f-9c1f7879641d",
   "metadata": {},
   "outputs": [
    {
     "data": {
      "image/png": "[encoded data removed]",
      "text/plain": [
       "<Figure size 640x480 with 1 Axes>"
      ]
     },
     "metadata": {},
     "output_type": "display_data"
    }
   ],
   "source": [
    "plt.scatter(df['mpg'],df['hp'])\n",
    "plt.title(\"MPG vs Horse Power\")\n",
    "plt.xlabel(\"mpg\")\n",
    "plt.ylabel(\"hp\")\n",
    "plt.show()"
   ]
  },
  {
   "cell_type": "markdown",
   "id": "7c911c4e-8ff6-43d5-891d-77bed4d349df",
   "metadata": {},
   "source": [
    "### 상관계수를 구하는 표 출력"
   ]
  },
  {
   "cell_type": "markdown",
   "id": "e3ef9da2-2b9f-4e55-bea1-a6347f11c71b",
   "metadata": {},
   "source": [
    "상관계수 : 두 변수간의 연관된 정도를 나타냄, 상관 계수 값의 범위는 -1부터 1까지이다. 계수의 절대값이 클수록 변수 사이에 강한 관계가 있다. Pearson 상관의 경우 절댓값 1은 완전한 선형 관계를 나타내고, 0에 가까운 상관 값은 변수 사이에 선형 관계가 없음을 나타낸다.\n",
    "\n",
    "범주형 데이터 :\n",
    "- 명목형 : 범주간에 순서가 없는 데이터. 예를 들어, 색, 동물의 종류, 지역 이름. \n",
    "- 순서형 : 범주간에 순서가 있는 데이터. 예를 들어 순위, 학력 수준(고졸, 대졸, 석사, 박사)\n",
    "\n",
    "연속형 데이터 : 수치적이며 무한한 값을 가짐. 연속적인 스케일을 가지며 측정 가능한 정밀도. 나이, 키, 온도, 판매량, 수익 등이 연속형 자료형. "
   ]
  },
  {
   "cell_type": "markdown",
   "id": "b756397a-c9e7-44f4-9822-9d5146d063d6",
   "metadata": {},
   "source": [
    "피어슨 상관계수를 이용하여 두 변수의 상관계수 파악하기\n",
    "- 피어슨 상관계수 : 두 변수 간의 선형 상관관계를 -1에서 +1 사이의 숫자로 표현한 것\n",
    "- +1에 가까울 수록 강한 양의 상관 관계 ex) 운동시간 증가 -> 칼로리 소모 증가\n",
    "- 0에 가까울 수록 상관 관계가 거의 없음\n",
    "- -1에 가까울 수록 강한 음의 상관 관계 ex) 가격 인상 -> 구매량 감소\n",
    "\n",
    "보통 변수들이 연속 변수이고 정규 분포를 따르는 데이터에 적용된다."
   ]
  },
  {
   "cell_type": "code",
   "execution_count": 47,
   "id": "d93c7b98-cf7d-4366-9068-5436932d4ecd",
   "metadata": {},
   "outputs": [
    {
     "data": {
      "text/html": [
       "<div>\n",
       "<style scoped>\n",
       "    .dataframe tbody tr th:only-of-type {\n",
       "        vertical-align: middle;\n",
       "    }\n",
       "\n",
       "    .dataframe tbody tr th {\n",
       "        vertical-align: top;\n",
       "    }\n",
       "\n",
       "    .dataframe thead th {\n",
       "        text-align: right;\n",
       "    }\n",
       "</style>\n",
       "<table border=\"1\" class=\"dataframe\">\n",
       "  <thead>\n",
       "    <tr style=\"text-align: right;\">\n",
       "      <th></th>\n",
       "      <th>mpg</th>\n",
       "      <th>cyl</th>\n",
       "      <th>disp</th>\n",
       "      <th>hp</th>\n",
       "      <th>drat</th>\n",
       "      <th>wt</th>\n",
       "      <th>qsec</th>\n",
       "      <th>vs</th>\n",
       "      <th>am</th>\n",
       "      <th>gear</th>\n",
       "      <th>carb</th>\n",
       "    </tr>\n",
       "  </thead>\n",
       "  <tbody>\n",
       "    <tr>\n",
       "      <th>mpg</th>\n",
       "      <td>1.000000</td>\n",
       "      <td>-0.852162</td>\n",
       "      <td>-0.847551</td>\n",
       "      <td>-0.776168</td>\n",
       "      <td>0.681172</td>\n",
       "      <td>-0.867659</td>\n",
       "      <td>0.418684</td>\n",
       "      <td>0.664039</td>\n",
       "      <td>0.599832</td>\n",
       "      <td>0.480285</td>\n",
       "      <td>-0.550925</td>\n",
       "    </tr>\n",
       "    <tr>\n",
       "      <th>cyl</th>\n",
       "      <td>-0.852162</td>\n",
       "      <td>1.000000</td>\n",
       "      <td>0.902033</td>\n",
       "      <td>0.832447</td>\n",
       "      <td>-0.699938</td>\n",
       "      <td>0.782496</td>\n",
       "      <td>-0.591242</td>\n",
       "      <td>-0.810812</td>\n",
       "      <td>-0.522607</td>\n",
       "      <td>-0.492687</td>\n",
       "      <td>0.526988</td>\n",
       "    </tr>\n",
       "    <tr>\n",
       "      <th>disp</th>\n",
       "      <td>-0.847551</td>\n",
       "      <td>0.902033</td>\n",
       "      <td>1.000000</td>\n",
       "      <td>0.790949</td>\n",
       "      <td>-0.710214</td>\n",
       "      <td>0.887980</td>\n",
       "      <td>-0.433698</td>\n",
       "      <td>-0.710416</td>\n",
       "      <td>-0.591227</td>\n",
       "      <td>-0.555569</td>\n",
       "      <td>0.394977</td>\n",
       "    </tr>\n",
       "    <tr>\n",
       "      <th>hp</th>\n",
       "      <td>-0.776168</td>\n",
       "      <td>0.832447</td>\n",
       "      <td>0.790949</td>\n",
       "      <td>1.000000</td>\n",
       "      <td>-0.448759</td>\n",
       "      <td>0.658748</td>\n",
       "      <td>-0.708223</td>\n",
       "      <td>-0.723097</td>\n",
       "      <td>-0.243204</td>\n",
       "      <td>-0.125704</td>\n",
       "      <td>0.749812</td>\n",
       "    </tr>\n",
       "    <tr>\n",
       "      <th>drat</th>\n",
       "      <td>0.681172</td>\n",
       "      <td>-0.699938</td>\n",
       "      <td>-0.710214</td>\n",
       "      <td>-0.448759</td>\n",
       "      <td>1.000000</td>\n",
       "      <td>-0.712441</td>\n",
       "      <td>0.091205</td>\n",
       "      <td>0.440278</td>\n",
       "      <td>0.712711</td>\n",
       "      <td>0.699610</td>\n",
       "      <td>-0.090790</td>\n",
       "    </tr>\n",
       "    <tr>\n",
       "      <th>wt</th>\n",
       "      <td>-0.867659</td>\n",
       "      <td>0.782496</td>\n",
       "      <td>0.887980</td>\n",
       "      <td>0.658748</td>\n",
       "      <td>-0.712441</td>\n",
       "      <td>1.000000</td>\n",
       "      <td>-0.174716</td>\n",
       "      <td>-0.554916</td>\n",
       "      <td>-0.692495</td>\n",
       "      <td>-0.583287</td>\n",
       "      <td>0.427606</td>\n",
       "    </tr>\n",
       "    <tr>\n",
       "      <th>qsec</th>\n",
       "      <td>0.418684</td>\n",
       "      <td>-0.591242</td>\n",
       "      <td>-0.433698</td>\n",
       "      <td>-0.708223</td>\n",
       "      <td>0.091205</td>\n",
       "      <td>-0.174716</td>\n",
       "      <td>1.000000</td>\n",
       "      <td>0.744535</td>\n",
       "      <td>-0.229861</td>\n",
       "      <td>-0.212682</td>\n",
       "      <td>-0.656249</td>\n",
       "    </tr>\n",
       "    <tr>\n",
       "      <th>vs</th>\n",
       "      <td>0.664039</td>\n",
       "      <td>-0.810812</td>\n",
       "      <td>-0.710416</td>\n",
       "      <td>-0.723097</td>\n",
       "      <td>0.440278</td>\n",
       "      <td>-0.554916</td>\n",
       "      <td>0.744535</td>\n",
       "      <td>1.000000</td>\n",
       "      <td>0.168345</td>\n",
       "      <td>0.206023</td>\n",
       "      <td>-0.569607</td>\n",
       "    </tr>\n",
       "    <tr>\n",
       "      <th>am</th>\n",
       "      <td>0.599832</td>\n",
       "      <td>-0.522607</td>\n",
       "      <td>-0.591227</td>\n",
       "      <td>-0.243204</td>\n",
       "      <td>0.712711</td>\n",
       "      <td>-0.692495</td>\n",
       "      <td>-0.229861</td>\n",
       "      <td>0.168345</td>\n",
       "      <td>1.000000</td>\n",
       "      <td>0.794059</td>\n",
       "      <td>0.057534</td>\n",
       "    </tr>\n",
       "    <tr>\n",
       "      <th>gear</th>\n",
       "      <td>0.480285</td>\n",
       "      <td>-0.492687</td>\n",
       "      <td>-0.555569</td>\n",
       "      <td>-0.125704</td>\n",
       "      <td>0.699610</td>\n",
       "      <td>-0.583287</td>\n",
       "      <td>-0.212682</td>\n",
       "      <td>0.206023</td>\n",
       "      <td>0.794059</td>\n",
       "      <td>1.000000</td>\n",
       "      <td>0.274073</td>\n",
       "    </tr>\n",
       "    <tr>\n",
       "      <th>carb</th>\n",
       "      <td>-0.550925</td>\n",
       "      <td>0.526988</td>\n",
       "      <td>0.394977</td>\n",
       "      <td>0.749812</td>\n",
       "      <td>-0.090790</td>\n",
       "      <td>0.427606</td>\n",
       "      <td>-0.656249</td>\n",
       "      <td>-0.569607</td>\n",
       "      <td>0.057534</td>\n",
       "      <td>0.274073</td>\n",
       "      <td>1.000000</td>\n",
       "    </tr>\n",
       "  </tbody>\n",
       "</table>\n",
       "</div>"
      ],
      "text/plain": [
       "           mpg       cyl      disp        hp      drat        wt      qsec  \\\n",
       "mpg   1.000000 -0.852162 -0.847551 -0.776168  0.681172 -0.867659  0.418684   \n",
       "cyl  -0.852162  1.000000  0.902033  0.832447 -0.699938  0.782496 -0.591242   \n",
       "disp -0.847551  0.902033  1.000000  0.790949 -0.710214  0.887980 -0.433698   \n",
       "hp   -0.776168  0.832447  0.790949  1.000000 -0.448759  0.658748 -0.708223   \n",
       "drat  0.681172 -0.699938 -0.710214 -0.448759  1.000000 -0.712441  0.091205   \n",
       "wt   -0.867659  0.782496  0.887980  0.658748 -0.712441  1.000000 -0.174716   \n",
       "qsec  0.418684 -0.591242 -0.433698 -0.708223  0.091205 -0.174716  1.000000   \n",
       "vs    0.664039 -0.810812 -0.710416 -0.723097  0.440278 -0.554916  0.744535   \n",
       "am    0.599832 -0.522607 -0.591227 -0.243204  0.712711 -0.692495 -0.229861   \n",
       "gear  0.480285 -0.492687 -0.555569 -0.125704  0.699610 -0.583287 -0.212682   \n",
       "carb -0.550925  0.526988  0.394977  0.749812 -0.090790  0.427606 -0.656249   \n",
       "\n",
       "            vs        am      gear      carb  \n",
       "mpg   0.664039  0.599832  0.480285 -0.550925  \n",
       "cyl  -0.810812 -0.522607 -0.492687  0.526988  \n",
       "disp -0.710416 -0.591227 -0.555569  0.394977  \n",
       "hp   -0.723097 -0.243204 -0.125704  0.749812  \n",
       "drat  0.440278  0.712711  0.699610 -0.090790  \n",
       "wt   -0.554916 -0.692495 -0.583287  0.427606  \n",
       "qsec  0.744535 -0.229861 -0.212682 -0.656249  \n",
       "vs    1.000000  0.168345  0.206023 -0.569607  \n",
       "am    0.168345  1.000000  0.794059  0.057534  \n",
       "gear  0.206023  0.794059  1.000000  0.274073  \n",
       "carb -0.569607  0.057534  0.274073  1.000000  "
      ]
     },
     "execution_count": 47,
     "metadata": {},
     "output_type": "execute_result"
    }
   ],
   "source": [
    "df.iloc[:,1:].corr(method='pearson')"
   ]
  },
  {
   "cell_type": "markdown",
   "id": "a13fc718-4b3d-4131-9793-089ae0e785af",
   "metadata": {},
   "source": [
    "켄달-타우 상관계수를 이용하여 두 변수의 상관계수 파악하기 \n",
    "- 켄달-타우 상관계수 : 두 변수들간의 순위를 비교해서 연관성을 계산하는 방식\n",
    "- 정규분포를 가정할 수 없을 때 사용\n",
    "\n",
    "세상 모든 변수가 연속형 변수는 아니다. 답이 범위형 혹은 객관식으로 답을 했다면 연속형 변수가 아닌 순위형 변수가 된다. 이때는 스피어만 혹은 켄달 타우를 사용해야 하는데, 스피어만의 경우 동일 순위를 갖는 경우가 없다고 가정한다. 따라서 동일 순위가 있거나, 표본의 수가 적을 때 켄달 타우 상관계수를 사용하는 것이 적합하다."
   ]
  },
  {
   "cell_type": "code",
   "execution_count": 53,
   "id": "efd5c02d-c0e3-466b-9415-1f99f880ec07",
   "metadata": {},
   "outputs": [
    {
     "data": {
      "text/html": [
       "<div>\n",
       "<style scoped>\n",
       "    .dataframe tbody tr th:only-of-type {\n",
       "        vertical-align: middle;\n",
       "    }\n",
       "\n",
       "    .dataframe tbody tr th {\n",
       "        vertical-align: top;\n",
       "    }\n",
       "\n",
       "    .dataframe thead th {\n",
       "        text-align: right;\n",
       "    }\n",
       "</style>\n",
       "<table border=\"1\" class=\"dataframe\">\n",
       "  <thead>\n",
       "    <tr style=\"text-align: right;\">\n",
       "      <th></th>\n",
       "      <th>mpg</th>\n",
       "      <th>cyl</th>\n",
       "      <th>disp</th>\n",
       "      <th>hp</th>\n",
       "      <th>drat</th>\n",
       "      <th>wt</th>\n",
       "      <th>qsec</th>\n",
       "      <th>vs</th>\n",
       "      <th>am</th>\n",
       "      <th>gear</th>\n",
       "      <th>carb</th>\n",
       "    </tr>\n",
       "  </thead>\n",
       "  <tbody>\n",
       "    <tr>\n",
       "      <th>mpg</th>\n",
       "      <td>1.000000</td>\n",
       "      <td>-0.795313</td>\n",
       "      <td>-0.768131</td>\n",
       "      <td>-0.742813</td>\n",
       "      <td>0.464549</td>\n",
       "      <td>-0.727832</td>\n",
       "      <td>0.315365</td>\n",
       "      <td>0.589679</td>\n",
       "      <td>0.469013</td>\n",
       "      <td>0.433151</td>\n",
       "      <td>-0.504395</td>\n",
       "    </tr>\n",
       "    <tr>\n",
       "      <th>cyl</th>\n",
       "      <td>-0.795313</td>\n",
       "      <td>1.000000</td>\n",
       "      <td>0.814426</td>\n",
       "      <td>0.785186</td>\n",
       "      <td>-0.551318</td>\n",
       "      <td>0.728261</td>\n",
       "      <td>-0.448970</td>\n",
       "      <td>-0.771001</td>\n",
       "      <td>-0.494621</td>\n",
       "      <td>-0.512543</td>\n",
       "      <td>0.465430</td>\n",
       "    </tr>\n",
       "    <tr>\n",
       "      <th>disp</th>\n",
       "      <td>-0.768131</td>\n",
       "      <td>0.814426</td>\n",
       "      <td>1.000000</td>\n",
       "      <td>0.665999</td>\n",
       "      <td>-0.498983</td>\n",
       "      <td>0.743382</td>\n",
       "      <td>-0.300815</td>\n",
       "      <td>-0.603306</td>\n",
       "      <td>-0.520274</td>\n",
       "      <td>-0.475980</td>\n",
       "      <td>0.413736</td>\n",
       "    </tr>\n",
       "    <tr>\n",
       "      <th>hp</th>\n",
       "      <td>-0.742813</td>\n",
       "      <td>0.785186</td>\n",
       "      <td>0.665999</td>\n",
       "      <td>1.000000</td>\n",
       "      <td>-0.382627</td>\n",
       "      <td>0.611308</td>\n",
       "      <td>-0.472906</td>\n",
       "      <td>-0.630593</td>\n",
       "      <td>-0.303996</td>\n",
       "      <td>-0.279446</td>\n",
       "      <td>0.595984</td>\n",
       "    </tr>\n",
       "    <tr>\n",
       "      <th>drat</th>\n",
       "      <td>0.464549</td>\n",
       "      <td>-0.551318</td>\n",
       "      <td>-0.498983</td>\n",
       "      <td>-0.382627</td>\n",
       "      <td>1.000000</td>\n",
       "      <td>-0.547150</td>\n",
       "      <td>0.032722</td>\n",
       "      <td>0.375101</td>\n",
       "      <td>0.575548</td>\n",
       "      <td>0.583925</td>\n",
       "      <td>-0.095352</td>\n",
       "    </tr>\n",
       "    <tr>\n",
       "      <th>wt</th>\n",
       "      <td>-0.727832</td>\n",
       "      <td>0.728261</td>\n",
       "      <td>0.743382</td>\n",
       "      <td>0.611308</td>\n",
       "      <td>-0.547150</td>\n",
       "      <td>1.000000</td>\n",
       "      <td>-0.141988</td>\n",
       "      <td>-0.488479</td>\n",
       "      <td>-0.613879</td>\n",
       "      <td>-0.543596</td>\n",
       "      <td>0.371374</td>\n",
       "    </tr>\n",
       "    <tr>\n",
       "      <th>qsec</th>\n",
       "      <td>0.315365</td>\n",
       "      <td>-0.448970</td>\n",
       "      <td>-0.300815</td>\n",
       "      <td>-0.472906</td>\n",
       "      <td>0.032722</td>\n",
       "      <td>-0.141988</td>\n",
       "      <td>1.000000</td>\n",
       "      <td>0.657543</td>\n",
       "      <td>-0.168904</td>\n",
       "      <td>-0.091261</td>\n",
       "      <td>-0.506439</td>\n",
       "    </tr>\n",
       "    <tr>\n",
       "      <th>vs</th>\n",
       "      <td>0.589679</td>\n",
       "      <td>-0.771001</td>\n",
       "      <td>-0.603306</td>\n",
       "      <td>-0.630593</td>\n",
       "      <td>0.375101</td>\n",
       "      <td>-0.488479</td>\n",
       "      <td>0.657543</td>\n",
       "      <td>1.000000</td>\n",
       "      <td>0.168345</td>\n",
       "      <td>0.269748</td>\n",
       "      <td>-0.576927</td>\n",
       "    </tr>\n",
       "    <tr>\n",
       "      <th>am</th>\n",
       "      <td>0.469013</td>\n",
       "      <td>-0.494621</td>\n",
       "      <td>-0.520274</td>\n",
       "      <td>-0.303996</td>\n",
       "      <td>0.575548</td>\n",
       "      <td>-0.613879</td>\n",
       "      <td>-0.168904</td>\n",
       "      <td>0.168345</td>\n",
       "      <td>1.000000</td>\n",
       "      <td>0.770788</td>\n",
       "      <td>-0.058599</td>\n",
       "    </tr>\n",
       "    <tr>\n",
       "      <th>gear</th>\n",
       "      <td>0.433151</td>\n",
       "      <td>-0.512543</td>\n",
       "      <td>-0.475980</td>\n",
       "      <td>-0.279446</td>\n",
       "      <td>0.583925</td>\n",
       "      <td>-0.543596</td>\n",
       "      <td>-0.091261</td>\n",
       "      <td>0.269748</td>\n",
       "      <td>0.770788</td>\n",
       "      <td>1.000000</td>\n",
       "      <td>0.098015</td>\n",
       "    </tr>\n",
       "    <tr>\n",
       "      <th>carb</th>\n",
       "      <td>-0.504395</td>\n",
       "      <td>0.465430</td>\n",
       "      <td>0.413736</td>\n",
       "      <td>0.595984</td>\n",
       "      <td>-0.095352</td>\n",
       "      <td>0.371374</td>\n",
       "      <td>-0.506439</td>\n",
       "      <td>-0.576927</td>\n",
       "      <td>-0.058599</td>\n",
       "      <td>0.098015</td>\n",
       "      <td>1.000000</td>\n",
       "    </tr>\n",
       "  </tbody>\n",
       "</table>\n",
       "</div>"
      ],
      "text/plain": [
       "           mpg       cyl      disp        hp      drat        wt      qsec  \\\n",
       "mpg   1.000000 -0.795313 -0.768131 -0.742813  0.464549 -0.727832  0.315365   \n",
       "cyl  -0.795313  1.000000  0.814426  0.785186 -0.551318  0.728261 -0.448970   \n",
       "disp -0.768131  0.814426  1.000000  0.665999 -0.498983  0.743382 -0.300815   \n",
       "hp   -0.742813  0.785186  0.665999  1.000000 -0.382627  0.611308 -0.472906   \n",
       "drat  0.464549 -0.551318 -0.498983 -0.382627  1.000000 -0.547150  0.032722   \n",
       "wt   -0.727832  0.728261  0.743382  0.611308 -0.547150  1.000000 -0.141988   \n",
       "qsec  0.315365 -0.448970 -0.300815 -0.472906  0.032722 -0.141988  1.000000   \n",
       "vs    0.589679 -0.771001 -0.603306 -0.630593  0.375101 -0.488479  0.657543   \n",
       "am    0.469013 -0.494621 -0.520274 -0.303996  0.575548 -0.613879 -0.168904   \n",
       "gear  0.433151 -0.512543 -0.475980 -0.279446  0.583925 -0.543596 -0.091261   \n",
       "carb -0.504395  0.465430  0.413736  0.595984 -0.095352  0.371374 -0.506439   \n",
       "\n",
       "            vs        am      gear      carb  \n",
       "mpg   0.589679  0.469013  0.433151 -0.504395  \n",
       "cyl  -0.771001 -0.494621 -0.512543  0.465430  \n",
       "disp -0.603306 -0.520274 -0.475980  0.413736  \n",
       "hp   -0.630593 -0.303996 -0.279446  0.595984  \n",
       "drat  0.375101  0.575548  0.583925 -0.095352  \n",
       "wt   -0.488479 -0.613879 -0.543596  0.371374  \n",
       "qsec  0.657543 -0.168904 -0.091261 -0.506439  \n",
       "vs    1.000000  0.168345  0.269748 -0.576927  \n",
       "am    0.168345  1.000000  0.770788 -0.058599  \n",
       "gear  0.269748  0.770788  1.000000  0.098015  \n",
       "carb -0.576927 -0.058599  0.098015  1.000000  "
      ]
     },
     "execution_count": 53,
     "metadata": {},
     "output_type": "execute_result"
    }
   ],
   "source": [
    "result_kendall = df.iloc[:,1:].corr(method='kendall')\n",
    "df.iloc[:,1:].corr(method='kendall')"
   ]
  },
  {
   "cell_type": "markdown",
   "id": "3380d8bb-d59c-453c-b7da-bba9b52f9796",
   "metadata": {},
   "source": [
    "스피어먼 상관계수를 이용하여 두 변수의 상관계수 파악하기\n",
    "- 스피어먼 상관계수 : 값에 순위를 매겨 그 순위에 대해 상관계수를 구하는 방법.\n",
    "- 스피어만은 데이터 내 편차와 에러에 민감하여 일반적으로 켄달 상관계수보다 높은 값 가짐.\n",
    "- 정규분포를 가정할 수 없을 때 사용\n",
    "\n",
    "위에서 언급한 것 처럼 세상 모든 변수가 연속형 변수는 아니다. 스피어만은 동일 순위를 갖는 경우가 없다고 가정한다. 이로 인해 동일 순위가 없는 경우 사용할 때 적합하다. "
   ]
  },
  {
   "cell_type": "code",
   "execution_count": 41,
   "id": "99e4adf7-4da9-462e-9aae-14f349c121d6",
   "metadata": {},
   "outputs": [
    {
     "data": {
      "text/html": [
       "<div>\n",
       "<style scoped>\n",
       "    .dataframe tbody tr th:only-of-type {\n",
       "        vertical-align: middle;\n",
       "    }\n",
       "\n",
       "    .dataframe tbody tr th {\n",
       "        vertical-align: top;\n",
       "    }\n",
       "\n",
       "    .dataframe thead th {\n",
       "        text-align: right;\n",
       "    }\n",
       "</style>\n",
       "<table border=\"1\" class=\"dataframe\">\n",
       "  <thead>\n",
       "    <tr style=\"text-align: right;\">\n",
       "      <th></th>\n",
       "      <th>mpg</th>\n",
       "      <th>cyl</th>\n",
       "      <th>disp</th>\n",
       "      <th>hp</th>\n",
       "      <th>drat</th>\n",
       "      <th>wt</th>\n",
       "      <th>qsec</th>\n",
       "      <th>vs</th>\n",
       "      <th>am</th>\n",
       "      <th>gear</th>\n",
       "      <th>carb</th>\n",
       "    </tr>\n",
       "  </thead>\n",
       "  <tbody>\n",
       "    <tr>\n",
       "      <th>mpg</th>\n",
       "      <td>1.000000</td>\n",
       "      <td>-0.910801</td>\n",
       "      <td>-0.908882</td>\n",
       "      <td>-0.894665</td>\n",
       "      <td>0.651455</td>\n",
       "      <td>-0.886422</td>\n",
       "      <td>0.466936</td>\n",
       "      <td>0.706597</td>\n",
       "      <td>0.562006</td>\n",
       "      <td>0.542782</td>\n",
       "      <td>-0.657498</td>\n",
       "    </tr>\n",
       "    <tr>\n",
       "      <th>cyl</th>\n",
       "      <td>-0.910801</td>\n",
       "      <td>1.000000</td>\n",
       "      <td>0.927652</td>\n",
       "      <td>0.901791</td>\n",
       "      <td>-0.678881</td>\n",
       "      <td>0.857728</td>\n",
       "      <td>-0.572351</td>\n",
       "      <td>-0.813789</td>\n",
       "      <td>-0.522071</td>\n",
       "      <td>-0.564310</td>\n",
       "      <td>0.580068</td>\n",
       "    </tr>\n",
       "    <tr>\n",
       "      <th>disp</th>\n",
       "      <td>-0.908882</td>\n",
       "      <td>0.927652</td>\n",
       "      <td>1.000000</td>\n",
       "      <td>0.851043</td>\n",
       "      <td>-0.683592</td>\n",
       "      <td>0.897706</td>\n",
       "      <td>-0.459782</td>\n",
       "      <td>-0.723664</td>\n",
       "      <td>-0.624068</td>\n",
       "      <td>-0.594470</td>\n",
       "      <td>0.539778</td>\n",
       "    </tr>\n",
       "    <tr>\n",
       "      <th>hp</th>\n",
       "      <td>-0.894665</td>\n",
       "      <td>0.901791</td>\n",
       "      <td>0.851043</td>\n",
       "      <td>1.000000</td>\n",
       "      <td>-0.520125</td>\n",
       "      <td>0.774677</td>\n",
       "      <td>-0.666606</td>\n",
       "      <td>-0.751593</td>\n",
       "      <td>-0.362328</td>\n",
       "      <td>-0.331402</td>\n",
       "      <td>0.733379</td>\n",
       "    </tr>\n",
       "    <tr>\n",
       "      <th>drat</th>\n",
       "      <td>0.651455</td>\n",
       "      <td>-0.678881</td>\n",
       "      <td>-0.683592</td>\n",
       "      <td>-0.520125</td>\n",
       "      <td>1.000000</td>\n",
       "      <td>-0.750390</td>\n",
       "      <td>0.091869</td>\n",
       "      <td>0.447457</td>\n",
       "      <td>0.686571</td>\n",
       "      <td>0.744816</td>\n",
       "      <td>-0.125223</td>\n",
       "    </tr>\n",
       "    <tr>\n",
       "      <th>wt</th>\n",
       "      <td>-0.886422</td>\n",
       "      <td>0.857728</td>\n",
       "      <td>0.897706</td>\n",
       "      <td>0.774677</td>\n",
       "      <td>-0.750390</td>\n",
       "      <td>1.000000</td>\n",
       "      <td>-0.225401</td>\n",
       "      <td>-0.587016</td>\n",
       "      <td>-0.737713</td>\n",
       "      <td>-0.676128</td>\n",
       "      <td>0.499812</td>\n",
       "    </tr>\n",
       "    <tr>\n",
       "      <th>qsec</th>\n",
       "      <td>0.466936</td>\n",
       "      <td>-0.572351</td>\n",
       "      <td>-0.459782</td>\n",
       "      <td>-0.666606</td>\n",
       "      <td>0.091869</td>\n",
       "      <td>-0.225401</td>\n",
       "      <td>1.000000</td>\n",
       "      <td>0.791571</td>\n",
       "      <td>-0.203332</td>\n",
       "      <td>-0.148200</td>\n",
       "      <td>-0.658718</td>\n",
       "    </tr>\n",
       "    <tr>\n",
       "      <th>vs</th>\n",
       "      <td>0.706597</td>\n",
       "      <td>-0.813789</td>\n",
       "      <td>-0.723664</td>\n",
       "      <td>-0.751593</td>\n",
       "      <td>0.447457</td>\n",
       "      <td>-0.587016</td>\n",
       "      <td>0.791571</td>\n",
       "      <td>1.000000</td>\n",
       "      <td>0.168345</td>\n",
       "      <td>0.282662</td>\n",
       "      <td>-0.633695</td>\n",
       "    </tr>\n",
       "    <tr>\n",
       "      <th>am</th>\n",
       "      <td>0.562006</td>\n",
       "      <td>-0.522071</td>\n",
       "      <td>-0.624068</td>\n",
       "      <td>-0.362328</td>\n",
       "      <td>0.686571</td>\n",
       "      <td>-0.737713</td>\n",
       "      <td>-0.203332</td>\n",
       "      <td>0.168345</td>\n",
       "      <td>1.000000</td>\n",
       "      <td>0.807688</td>\n",
       "      <td>-0.064365</td>\n",
       "    </tr>\n",
       "    <tr>\n",
       "      <th>gear</th>\n",
       "      <td>0.542782</td>\n",
       "      <td>-0.564310</td>\n",
       "      <td>-0.594470</td>\n",
       "      <td>-0.331402</td>\n",
       "      <td>0.744816</td>\n",
       "      <td>-0.676128</td>\n",
       "      <td>-0.148200</td>\n",
       "      <td>0.282662</td>\n",
       "      <td>0.807688</td>\n",
       "      <td>1.000000</td>\n",
       "      <td>0.114887</td>\n",
       "    </tr>\n",
       "    <tr>\n",
       "      <th>carb</th>\n",
       "      <td>-0.657498</td>\n",
       "      <td>0.580068</td>\n",
       "      <td>0.539778</td>\n",
       "      <td>0.733379</td>\n",
       "      <td>-0.125223</td>\n",
       "      <td>0.499812</td>\n",
       "      <td>-0.658718</td>\n",
       "      <td>-0.633695</td>\n",
       "      <td>-0.064365</td>\n",
       "      <td>0.114887</td>\n",
       "      <td>1.000000</td>\n",
       "    </tr>\n",
       "  </tbody>\n",
       "</table>\n",
       "</div>"
      ],
      "text/plain": [
       "           mpg       cyl      disp        hp      drat        wt      qsec  \\\n",
       "mpg   1.000000 -0.910801 -0.908882 -0.894665  0.651455 -0.886422  0.466936   \n",
       "cyl  -0.910801  1.000000  0.927652  0.901791 -0.678881  0.857728 -0.572351   \n",
       "disp -0.908882  0.927652  1.000000  0.851043 -0.683592  0.897706 -0.459782   \n",
       "hp   -0.894665  0.901791  0.851043  1.000000 -0.520125  0.774677 -0.666606   \n",
       "drat  0.651455 -0.678881 -0.683592 -0.520125  1.000000 -0.750390  0.091869   \n",
       "wt   -0.886422  0.857728  0.897706  0.774677 -0.750390  1.000000 -0.225401   \n",
       "qsec  0.466936 -0.572351 -0.459782 -0.666606  0.091869 -0.225401  1.000000   \n",
       "vs    0.706597 -0.813789 -0.723664 -0.751593  0.447457 -0.587016  0.791571   \n",
       "am    0.562006 -0.522071 -0.624068 -0.362328  0.686571 -0.737713 -0.203332   \n",
       "gear  0.542782 -0.564310 -0.594470 -0.331402  0.744816 -0.676128 -0.148200   \n",
       "carb -0.657498  0.580068  0.539778  0.733379 -0.125223  0.499812 -0.658718   \n",
       "\n",
       "            vs        am      gear      carb  \n",
       "mpg   0.706597  0.562006  0.542782 -0.657498  \n",
       "cyl  -0.813789 -0.522071 -0.564310  0.580068  \n",
       "disp -0.723664 -0.624068 -0.594470  0.539778  \n",
       "hp   -0.751593 -0.362328 -0.331402  0.733379  \n",
       "drat  0.447457  0.686571  0.744816 -0.125223  \n",
       "wt   -0.587016 -0.737713 -0.676128  0.499812  \n",
       "qsec  0.791571 -0.203332 -0.148200 -0.658718  \n",
       "vs    1.000000  0.168345  0.282662 -0.633695  \n",
       "am    0.168345  1.000000  0.807688 -0.064365  \n",
       "gear  0.282662  0.807688  1.000000  0.114887  \n",
       "carb -0.633695 -0.064365  0.114887  1.000000  "
      ]
     },
     "execution_count": 41,
     "metadata": {},
     "output_type": "execute_result"
    }
   ],
   "source": [
    "df.iloc[:,1:].corr(method='spearman')"
   ]
  },
  {
   "cell_type": "markdown",
   "id": "4fc155ce-ec5c-482e-ac82-c4e23b444a28",
   "metadata": {},
   "source": [
    "==> 해당 데이터셋은 데이터의 개수가 32개여서 크기가 상당히 작은 데이터고, 정규분포를 따르지 않는 것 같다. 또 작은 데이터 셋이고, 중복되는 데이터를 갖는 경우가 많기 때문에 켄달 순위 상관계수를 사용하는 것이 적합하다고 생각한다."
   ]
  },
  {
   "cell_type": "markdown",
   "id": "b2fd772e-a071-4374-9098-262fd293541f",
   "metadata": {},
   "source": [
    "### 팀 활동 요구사항"
   ]
  },
  {
   "cell_type": "markdown",
   "id": "c5414ecb-14ec-4c22-ac7e-fb1a5e0c4130",
   "metadata": {},
   "source": [
    "drat(Real Axle ratio) : 구동축이 바퀴를 회전시키기 위해 드라이브 샤프트가 몇 번 회전해야 하는지. 뒷 바퀴 축의 기어비. 높은 기어비 : 더 빠른 가속, 연비를 악화시키지만, 중량 견인에 적합, 높은 기어비는 견인 능력을 향상시킨다. "
   ]
  },
  {
   "cell_type": "markdown",
   "id": "0521d3f5-ba38-48b2-ae5e-7bc7e725acea",
   "metadata": {},
   "source": [
    "##### 이런 데이터셋을 분석해서 얻을 수 있는 경제적 가치는 무엇일까요? 어떤 비즈니스 상황에서 이런 데이터셋을 분석해서 어떤 경제적 가치를 얻을 수 있을까요?\n",
    "- 차량을 구매하려는 사람에게 추천 서비스를 제공할 수 있다. 예를 들어, 연비를 중요시하는 사용자라면, 배기량 혹은 실린더의 수가 작은 차종을 선택하도록 추천을 해주고, 크고 무거운 물건들을 운송해야 하거나, 차가 잘 나가거나, 빠른 출력을 원하는 사용자라면 실린더의 수가 많고, 배기량이 큰 차종을 추천해준다. 이를 통해 고객의 이해를 도와 제품 접근성이 높을 수 있을 것이다. \n",
    "- 차량의 설계 부분에서도 사용할 수 있다. 예를 들어, 경제적 혹은 물리적 제약으로 인해 차량의 크기가 작거나, 엔진룸의 크기가 작은 차종일 경우 부피가 작은 엔진을 배치해야할 때, 같은 배기량을 달성하기 위해 작은 실린더를 여러개 사용하도록 설계할 수 있을 것이다. 이로 인해 엔진룸의 부피를 감소시킬 수 있을 것이다. 이와 같이 다음과 같은 상관관계 분석을 통해 자동차 설계 면에서도 비용을 효율적으로 활용할 수 있다.\n",
    "- 상관관계를 통해서 인과관계를 파악하는데 시간적, 경제적 절약이 이뤄질 수 있고, 여러 기업들의 특장점 파악에 효율적으로 사용할 수 있다.\n",
    "- 기초 통계량 혹은 상관관계를 이용해서 품질 서비스 관리 측면에서도 활용할 수 있다. 예를 들어 통계상의 특이값 혹은 오류값이 발견된다면 이를 바탕으로 어떤 것으로 인해 문제가 발생하는지 파악해 서비스를 개선하고 제공할 수 있다.\n",
    "\n",
    "##### 변수들 간의 상관 관계가 높은 조합을 임의로 2개 선택해서 해당 데이터 간의 상관 관계를 그래프로 그리고 어떤 결론을 내릴 수 있는지를 토의하세요.\n",
    "1. (disp, cyl) : 배기량(disp), 실린더의 수(cyl)\n",
    "   - 그래프의 양의 상관관계가 크다.\n",
    "   - 배기량은 엔진 내에 있는 피스톤들의 왕복운동이 만드는 전체 공간의 부피.\n",
    "   - 배기량 = 실린더 단면적 x 개수 x 움직이는 길이\n",
    "   - 즉, 동일한 실린더라면 개수가 많을 수록 배기량이 커지게 된다.\n",
    "2. (mpg, cyl) : 연비(mpg), 실린더의 수(cyl)\n",
    "   - 그래프의 음의 상관관계가 크다.\n",
    "   - 실린더의 수가 많다는 것은 배기량이 높다는 것을 의미하고, 한 번에 더 많은 연료를 소비해서 높은 출력을 낼 수 있다는 것을 의미한다. 이로인해 똑같은 운전 습관으로 운전한다 가정할 떄 같은 마일을 가더라도, 실린더 수가 많을수록 연료를 많이 사용해 연비가 낮아지게 된다."
   ]
  },
  {
   "cell_type": "code",
   "execution_count": 82,
   "id": "ed8702f2-f6c3-42a9-84ad-4ec3903e4c50",
   "metadata": {},
   "outputs": [
    {
     "data": {
      "image/png": "[encoded data removed]",
      "text/plain": [
       "<Figure size 640x480 with 1 Axes>"
      ]
     },
     "metadata": {},
     "output_type": "display_data"
    },
    {
     "data": {
      "text/plain": [
       "<Axes: xlabel='disp', ylabel='cyl'>"
      ]
     },
     "execution_count": 82,
     "metadata": {},
     "output_type": "execute_result"
    },
    {
     "data": {
      "image/png": "[encoded data removed]",
      "text/plain": [
       "<Figure size 640x480 with 1 Axes>"
      ]
     },
     "metadata": {},
     "output_type": "display_data"
    }
   ],
   "source": [
    "import seaborn as sns\n",
    "\n",
    "plt.scatter(df['disp'],df['cyl'])\n",
    "plt.title(\"Displacement vs Number of cylinders\")\n",
    "plt.xlabel(\"disp\")\n",
    "plt.ylabel(\"cyl\")\n",
    "plt.show()\n",
    "\n",
    "# 추세선\n",
    "sns.regplot(x='disp',y='cyl',data=df,line_kws={'color': 'red'})"
   ]
  },
  {
   "cell_type": "code",
   "execution_count": 83,
   "id": "436deea5-4d56-4aa2-8bbb-5ede54c1f09d",
   "metadata": {},
   "outputs": [
    {
     "data": {
      "image/png": "[encoded data removed]",
      "text/plain": [
       "<Figure size 640x480 with 1 Axes>"
      ]
     },
     "metadata": {},
     "output_type": "display_data"
    },
    {
     "data": {
      "text/plain": [
       "<Axes: xlabel='mpg', ylabel='cyl'>"
      ]
     },
     "execution_count": 83,
     "metadata": {},
     "output_type": "execute_result"
    },
    {
     "data": {
      "image/png": "[encoded data removed]",
      "text/plain": [
       "<Figure size 640x480 with 1 Axes>"
      ]
     },
     "metadata": {},
     "output_type": "display_data"
    }
   ],
   "source": [
    "plt.scatter(df['mpg'],df['cyl'])\n",
    "plt.title(\"Miles/(US) gallon vs Number of cylinders\")\n",
    "plt.xlabel(\"mpg\")\n",
    "plt.ylabel(\"cyl\")\n",
    "plt.show()\n",
    "\n",
    "# 추세선\n",
    "sns.regplot(x='mpg',y='cyl',data=df,line_kws={'color': 'red'})"
   ]
  },
  {
   "cell_type": "code",
   "execution_count": null,
   "id": "44c067e6-5077-4a1a-a31f-11479635e4ca",
   "metadata": {},
   "outputs": [],
   "source": []
  }
 ],
 "metadata": {
  "kernelspec": {
   "display_name": "Python 3 (ipykernel)",
   "language": "python",
   "name": "python3"
  },
  "language_info": {
   "codemirror_mode": {
    "name": "ipython",
    "version": 3
   },
   "file_extension": ".py",
   "mimetype": "text/x-python",
   "name": "python",
   "nbconvert_exporter": "python",
   "pygments_lexer": "ipython3",
   "version": "3.9.18"
  }
 },
 "nbformat": 4,
 "nbformat_minor": 5
}
