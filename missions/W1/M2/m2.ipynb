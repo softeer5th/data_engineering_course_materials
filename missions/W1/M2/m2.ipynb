{
 "cells": [
  {
   "cell_type": "markdown",
   "metadata": {},
   "source": [
    "# Mission 2"
   ]
  },
  {
   "cell_type": "code",
   "execution_count": 24,
   "metadata": {},
   "outputs": [],
   "source": [
    "import sqlite3 as sql"
   ]
  },
  {
   "cell_type": "markdown",
   "metadata": {},
   "source": [
    "### 데모 DB 생성"
   ]
  },
  {
   "cell_type": "code",
   "execution_count": 25,
   "metadata": {},
   "outputs": [
    {
     "data": {
      "text/plain": [
       "sqlite3.Connection"
      ]
     },
     "execution_count": 25,
     "metadata": {},
     "output_type": "execute_result"
    }
   ],
   "source": [
    "con = sql.connect('./mission2.db')\n",
    "type(con)"
   ]
  },
  {
   "cell_type": "code",
   "execution_count": 26,
   "metadata": {},
   "outputs": [
    {
     "data": {
      "text/plain": [
       "<sqlite3.Cursor at 0x1113122c0>"
      ]
     },
     "execution_count": 26,
     "metadata": {},
     "output_type": "execute_result"
    }
   ],
   "source": [
    "con.cursor().executescript(\n",
    "    \"\"\"\n",
    "-- Either:\n",
    "--     Open DB Browser for SQLite.\n",
    "--     Create a new database named Northwind.db.\n",
    "--     Select Execute SQL.\n",
    "--     Copy and paste the SQL below into the Execute SQL window.\n",
    "--     Run the script to populate the Northwind database.\n",
    "-- Or:\n",
    "--     Run the following command in a terminal window.\n",
    "--     sqlite3 Northwind.db\n",
    "--     Copy and paste the SQL below into the terminal window to populate the Northwind database.\n",
    "\n",
    "DROP TABLE IF EXISTS OrderDetails;\n",
    "DROP TABLE IF EXISTS Orders;\n",
    "DROP TABLE IF EXISTS Products;\n",
    "DROP TABLE IF EXISTS Categories;\n",
    "DROP TABLE IF EXISTS Customers;\n",
    "DROP TABLE IF EXISTS Employees;\n",
    "DROP TABLE IF EXISTS Shippers;\n",
    "DROP TABLE IF EXISTS Suppliers;\n",
    "\n",
    "CREATE TABLE Categories\n",
    "(      \n",
    "    CategoryID INTEGER PRIMARY KEY AUTOINCREMENT,\n",
    "    CategoryName TEXT,\n",
    "    Description TEXT\n",
    ");\n",
    "\n",
    "CREATE TABLE Customers\n",
    "(      \n",
    "    CustomerID INTEGER PRIMARY KEY AUTOINCREMENT,\n",
    "    CustomerName TEXT,\n",
    "    ContactName TEXT,\n",
    "    Address TEXT,\n",
    "    City TEXT,\n",
    "    PostalCode TEXT,\n",
    "    Country TEXT\n",
    ");\n",
    "\n",
    "CREATE TABLE Employees\n",
    "(\n",
    "    EmployeeID INTEGER PRIMARY KEY AUTOINCREMENT,\n",
    "    LastName TEXT,\n",
    "    FirstName TEXT,\n",
    "    BirthDate DATE,\n",
    "    Photo TEXT,\n",
    "    Notes TEXT\n",
    ");\n",
    "\n",
    "CREATE TABLE Shippers(\n",
    "    ShipperID INTEGER PRIMARY KEY AUTOINCREMENT,\n",
    "    ShipperName TEXT,\n",
    "    Phone TEXT\n",
    ");\n",
    "\n",
    "CREATE TABLE Suppliers(\n",
    "    SupplierID INTEGER PRIMARY KEY AUTOINCREMENT,\n",
    "    SupplierName TEXT,\n",
    "    ContactName TEXT,\n",
    "    Address TEXT,\n",
    "    City TEXT,\n",
    "    PostalCode TEXT,\n",
    "    Country TEXT,\n",
    "    Phone TEXT\n",
    ");\n",
    "\n",
    "CREATE TABLE Products(\n",
    "    ProductID INTEGER PRIMARY KEY AUTOINCREMENT,\n",
    "    ProductName TEXT,\n",
    "    SupplierID INTEGER,\n",
    "    CategoryID INTEGER,\n",
    "    Unit TEXT,\n",
    "    Price NUMERIC DEFAULT 0,\n",
    "\tFOREIGN KEY (CategoryID) REFERENCES Categories (CategoryID),\n",
    "\tFOREIGN KEY (SupplierID) REFERENCES Suppliers (SupplierID)\n",
    ");\n",
    "\n",
    "CREATE TABLE Orders(\n",
    "    OrderID INTEGER PRIMARY KEY AUTOINCREMENT,\n",
    "    CustomerID INTEGER,\n",
    "    EmployeeID INTEGER,\n",
    "    OrderDate DATETIME,\n",
    "    ShipperID INTEGER,\n",
    "    FOREIGN KEY (EmployeeID) REFERENCES Employees (EmployeeID),\n",
    "    FOREIGN KEY (CustomerID) REFERENCES Customers (CustomerID),\n",
    "    FOREIGN KEY (ShipperID) REFERENCES Shippers (ShipperID)\n",
    ");\n",
    "\n",
    "CREATE TABLE OrderDetails(\n",
    "    OrderDetailID INTEGER PRIMARY KEY AUTOINCREMENT,\n",
    "    OrderID INTEGER,\n",
    "    ProductID INTEGER,\n",
    "    Quantity INTEGER,\n",
    "\tFOREIGN KEY (OrderID) REFERENCES Orders (OrderID),\n",
    "\tFOREIGN KEY (ProductID) REFERENCES Products (ProductID)\n",
    ");\n",
    "\n",
    "INSERT INTO Categories VALUES(1,'Beverages','Soft drinks, coffees, teas, beers, and ales');\n",
    "INSERT INTO Categories VALUES(2,'Condiments','Sweet and savory sauces, relishes, spreads, and seasonings');\n",
    "INSERT INTO Categories VALUES(3,'Confections','Desserts, candies, and sweet breads');\n",
    "INSERT INTO Categories VALUES(4,'Dairy Products','Cheeses');\n",
    "INSERT INTO Categories VALUES(5,'Grains/Cereals','Breads, crackers, pasta, and cereal');\n",
    "INSERT INTO Categories VALUES(6,'Meat/Poultry','Prepared meats');\n",
    "INSERT INTO Categories VALUES(7,'Produce','Dried fruit and bean curd');\n",
    "INSERT INTO Categories VALUES(8,'Seafood','Seaweed and fish');\n",
    "\n",
    "INSERT INTO Customers VALUES(1,'Alfreds Futterkiste','Maria Anders','Obere Str. 57','Berlin','12209','Germany');\n",
    "INSERT INTO Customers VALUES(2,'Ana Trujillo Emparedados y helados','Ana Trujillo','Avda. de la Constitución 2222','México D.F.','5021','Mexico');\n",
    "INSERT INTO Customers VALUES(3,'Antonio Moreno Taquería','Antonio Moreno','Mataderos 2312','México D.F.','5023','Mexico');\n",
    "INSERT INTO Customers VALUES(4,'Around the Horn','Thomas Hardy','120 Hanover Sq.','London','WA1 1DP','UK');\n",
    "INSERT INTO Customers VALUES(5,'Berglunds snabbköp','Christina Berglund','Berguvsvägen 8','Luleå','S-958 22','Sweden');\n",
    "INSERT INTO Customers VALUES(6,'Blauer See Delikatessen','Hanna Moos','Forsterstr. 57','Mannheim','68306','Germany');\n",
    "INSERT INTO Customers VALUES(7,'Blondel père et fils','Frédérique Citeaux','24, place Kléber','Strasbourg','67000','France');\n",
    "INSERT INTO Customers VALUES(8,'Bólido Comidas preparadas','Martín Sommer','C/ Araquil, 67','Madrid','28023','Spain');\n",
    "INSERT INTO Customers VALUES(9,'Bon app''''','Laurence Lebihans','12, rue des Bouchers','Marseille','13008','France');\n",
    "INSERT INTO Customers VALUES(10,'Bottom-Dollar Marketse','Elizabeth Lincoln','23 Tsawassen Blvd.','Tsawassen','T2F 8M4','Canada');\n",
    "INSERT INTO Customers VALUES(11,'B''''s Beverages','Victoria Ashworth','Fauntleroy Circus','London','EC2 5NT','UK');\n",
    "INSERT INTO Customers VALUES(12,'Cactus Comidas para llevar','Patricio Simpson','Cerrito 333','Buenos Aires','1010','Argentina');\n",
    "INSERT INTO Customers VALUES(13,'Centro comercial Moctezuma','Francisco Chang','Sierras de Granada 9993','México D.F.','5022','Mexico');\n",
    "INSERT INTO Customers VALUES(14,'Chop-suey Chinese','Yang Wang','Hauptstr. 29','Bern','3012','Switzerland');\n",
    "INSERT INTO Customers VALUES(15,'Comércio Mineiro','Pedro Afonso','Av. dos Lusíadas, 23','São Paulo','05432-043','Brazil');\n",
    "INSERT INTO Customers VALUES(16,'Consolidated Holdings','Elizabeth Brown','Berkeley Gardens 12 Brewery','London','WX1 6LT','UK');\n",
    "INSERT INTO Customers VALUES(17,'Drachenblut Delikatessend','Sven Ottlieb','Walserweg 21','Aachen','52066','Germany');\n",
    "INSERT INTO Customers VALUES(18,'Du monde entier','Janine Labrune','67, rue des Cinquante Otages','Nantes','44000','France');\n",
    "INSERT INTO Customers VALUES(19,'Eastern Connection','Ann Devon','35 King George','London','WX3 6FW','UK');\n",
    "INSERT INTO Customers VALUES(20,'Ernst Handel','Roland Mendel','Kirchgasse 6','Graz','8010','Austria');\n",
    "INSERT INTO Customers VALUES(21,'Familia Arquibaldo','Aria Cruz','Rua Orós, 92','São Paulo','05442-030','Brazil');\n",
    "INSERT INTO Customers VALUES(22,'FISSA Fabrica Inter. Salchichas S.A.','Diego Roel','C/ Moralzarzal, 86','Madrid','28034','Spain');\n",
    "INSERT INTO Customers VALUES(23,'Folies gourmandes','Martine Rancé','184, chaussée de Tournai','Lille','59000','France');\n",
    "INSERT INTO Customers VALUES(24,'Folk och fä HB','Maria Larsson','Åkergatan 24','Bräcke','S-844 67','Sweden');\n",
    "INSERT INTO Customers VALUES(25,'Frankenversand','Peter Franken','Berliner Platz 43','München','80805','Germany');\n",
    "INSERT INTO Customers VALUES(26,'France restauration','Carine Schmitt','54, rue Royale','Nantes','44000','France');\n",
    "INSERT INTO Customers VALUES(27,'Franchi S.p.A.','Paolo Accorti','Via Monte Bianco 34','Torino','10100','Italy');\n",
    "INSERT INTO Customers VALUES(28,'Furia Bacalhau e Frutos do Mar','Lino Rodriguez','Jardim das rosas n. 32','Lisboa','1675','Portugal');\n",
    "INSERT INTO Customers VALUES(29,'Galería del gastrónomo','Eduardo Saavedra','Rambla de Cataluña, 23','Barcelona','8022','Spain');\n",
    "INSERT INTO Customers VALUES(30,'Godos Cocina Típica','José Pedro Freyre','C/ Romero, 33','Sevilla','41101','Spain');\n",
    "INSERT INTO Customers VALUES(31,'Gourmet Lanchonetes','André Fonseca','Av. Brasil, 442','Campinas','04876-786','Brazil');\n",
    "INSERT INTO Customers VALUES(32,'Great Lakes Food Market','Howard Snyder','2732 Baker Blvd.','Eugene','97403','USA');\n",
    "INSERT INTO Customers VALUES(33,'GROSELLA-Restaurante','Manuel Pereira','5ª Ave. Los Palos Grandes','Caracas','1081','Venezuela');\n",
    "INSERT INTO Customers VALUES(34,'Hanari Carnes','Mario Pontes','Rua do Paço, 67','Rio de Janeiro','05454-876','Brazil');\n",
    "INSERT INTO Customers VALUES(35,'HILARIÓN-Abastos','Carlos Hernández','Carrera 22 con Ave. Carlos Soublette #8-35','San Cristóbal','5022','Venezuela');\n",
    "INSERT INTO Customers VALUES(36,'Hungry Coyote Import Store','Yoshi Latimer','City Center Plaza 516 Main St.','Elgin','97827','USA');\n",
    "INSERT INTO Customers VALUES(37,'Hungry Owl All-Night Grocers','Patricia McKenna','8 Johnstown Road','Cork','','Ireland');\n",
    "INSERT INTO Customers VALUES(38,'Island Trading','Helen Bennett','Garden House Crowther Way','Cowes','PO31 7PJ','UK');\n",
    "INSERT INTO Customers VALUES(39,'Königlich Essen','Philip Cramer','Maubelstr. 90','Brandenburg','14776','Germany');\n",
    "INSERT INTO Customers VALUES(40,'La corne d''''abondance','Daniel Tonini','67, avenue de l''''Europe','Versailles','78000','France');\n",
    "INSERT INTO Customers VALUES(41,'La maison d''''Asie','Annette Roulet','1 rue Alsace-Lorraine','Toulouse','31000','France');\n",
    "INSERT INTO Customers VALUES(42,'Laughing Bacchus Wine Cellars','Yoshi Tannamuri','1900 Oak St.','Vancouver','V3F 2K1','Canada');\n",
    "INSERT INTO Customers VALUES(43,'Lazy K Kountry Store','John Steel','12 Orchestra Terrace','Walla Walla','99362','USA');\n",
    "INSERT INTO Customers VALUES(44,'Lehmanns Marktstand','Renate Messner','Magazinweg 7','Frankfurt a.M.','60528','Germany');\n",
    "INSERT INTO Customers VALUES(45,'Let''''s Stop N Shop','Jaime Yorres','87 Polk St. Suite 5','San Francisco','94117','USA');\n",
    "INSERT INTO Customers VALUES(46,'LILA-Supermercado','Carlos González','Carrera 52 con Ave. Bolívar #65-98 Llano Largo','Barquisimeto','3508','Venezuela');\n",
    "INSERT INTO Customers VALUES(47,'LINO-Delicateses','Felipe Izquierdo','Ave. 5 de Mayo Porlamar','I. de Margarita','4980','Venezuela');\n",
    "INSERT INTO Customers VALUES(48,'Lonesome Pine Restaurant','Fran Wilson','89 Chiaroscuro Rd.','Portland','97219','USA');\n",
    "INSERT INTO Customers VALUES(49,'Magazzini Alimentari Riuniti','Giovanni Rovelli','Via Ludovico il Moro 22','Bergamo','24100','Italy');\n",
    "INSERT INTO Customers VALUES(50,'Maison Dewey','Catherine Dewey','Rue Joseph-Bens 532','Bruxelles','B-1180','Belgium');\n",
    "INSERT INTO Customers VALUES(51,'Mère Paillarde','Jean Fresnière','43 rue St. Laurent','Montréal','H1J 1C3','Canada');\n",
    "INSERT INTO Customers VALUES(52,'Morgenstern Gesundkost','Alexander Feuer','Heerstr. 22','Leipzig','4179','Germany');\n",
    "INSERT INTO Customers VALUES(53,'North/South','Simon Crowther','South House 300 Queensbridge','London','SW7 1RZ','UK');\n",
    "INSERT INTO Customers VALUES(54,'Océano Atlántico Ltda.','Yvonne Moncada','Ing. Gustavo Moncada 8585 Piso 20-A','Buenos Aires','1010','Argentina');\n",
    "INSERT INTO Customers VALUES(55,'Old World Delicatessen','Rene Phillips','2743 Bering St.','Anchorage','99508','USA');\n",
    "INSERT INTO Customers VALUES(56,'Ottilies Käseladen','Henriette Pfalzheim','Mehrheimerstr. 369','Köln','50739','Germany');\n",
    "INSERT INTO Customers VALUES(57,'Paris spécialités','Marie Bertrand','265, boulevard Charonne','Paris','75012','France');\n",
    "INSERT INTO Customers VALUES(58,'Pericles Comidas clásicas','Guillermo Fernández','Calle Dr. Jorge Cash 321','México D.F.','5033','Mexico');\n",
    "INSERT INTO Customers VALUES(59,'Piccolo und mehr','Georg Pipps','Geislweg 14','Salzburg','5020','Austria');\n",
    "INSERT INTO Customers VALUES(60,'Princesa Isabel Vinhoss','Isabel de Castro','Estrada da saúde n. 58','Lisboa','1756','Portugal');\n",
    "INSERT INTO Customers VALUES(61,'Que Delícia','Bernardo Batista','Rua da Panificadora, 12','Rio de Janeiro','02389-673','Brazil');\n",
    "INSERT INTO Customers VALUES(62,'Queen Cozinha','Lúcia Carvalho','Alameda dos Canàrios, 891','São Paulo','05487-020','Brazil');\n",
    "INSERT INTO Customers VALUES(63,'QUICK-Stop','Horst Kloss','Taucherstraße 10','Cunewalde','1307','Germany');\n",
    "INSERT INTO Customers VALUES(64,'Rancho grande','Sergio Gutiérrez','Av. del Libertador 900','Buenos Aires','1010','Argentina');\n",
    "INSERT INTO Customers VALUES(65,'Rattlesnake Canyon Grocery','Paula Wilson','2817 Milton Dr.','Albuquerque','87110','USA');\n",
    "INSERT INTO Customers VALUES(66,'Reggiani Caseifici','Maurizio Moroni','Strada Provinciale 124','Reggio Emilia','42100','Italy');\n",
    "INSERT INTO Customers VALUES(67,'Ricardo Adocicados','Janete Limeira','Av. Copacabana, 267','Rio de Janeiro','02389-890','Brazil');\n",
    "INSERT INTO Customers VALUES(68,'Richter Supermarkt','Michael Holz','Grenzacherweg 237','Genève','1203','Switzerland');\n",
    "INSERT INTO Customers VALUES(69,'Romero y tomillo','Alejandra Camino','Gran Vía, 1','Madrid','28001','Spain');\n",
    "INSERT INTO Customers VALUES(70,'Santé Gourmet','Jonas Bergulfsen','Erling Skakkes gate 78','Stavern','4110','Norway');\n",
    "INSERT INTO Customers VALUES(71,'Save-a-lot Markets','Jose Pavarotti','187 Suffolk Ln.','Boise','83720','USA');\n",
    "INSERT INTO Customers VALUES(72,'Seven Seas Imports','Hari Kumar','90 Wadhurst Rd.','London','OX15 4NB','UK');\n",
    "INSERT INTO Customers VALUES(73,'Simons bistro','Jytte Petersen','Vinbæltet 34','København','1734','Denmark');\n",
    "INSERT INTO Customers VALUES(74,'Spécialités du monde','Dominique Perrier','25, rue Lauriston','Paris','75016','France');\n",
    "INSERT INTO Customers VALUES(75,'Split Rail Beer & Ale','Art Braunschweiger','P.O. Box 555','Lander','82520','USA');\n",
    "INSERT INTO Customers VALUES(76,'Suprêmes délices','Pascale Cartrain','Boulevard Tirou, 255','Charleroi','B-6000','Belgium');\n",
    "INSERT INTO Customers VALUES(77,'The Big Cheese','Liz Nixon','89 Jefferson Way Suite 2','Portland','97201','USA');\n",
    "INSERT INTO Customers VALUES(78,'The Cracker Box','Liu Wong','55 Grizzly Peak Rd.','Butte','59801','USA');\n",
    "INSERT INTO Customers VALUES(79,'Toms Spezialitäten','Karin Josephs','Luisenstr. 48','Münster','44087','Germany');\n",
    "INSERT INTO Customers VALUES(80,'Tortuga Restaurante','Miguel Angel Paolino','Avda. Azteca 123','México D.F.','5033','Mexico');\n",
    "INSERT INTO Customers VALUES(81,'Tradição Hipermercados','Anabela Domingues','Av. Inês de Castro, 414','São Paulo','05634-030','Brazil');\n",
    "INSERT INTO Customers VALUES(82,'Trail''''s Head Gourmet Provisioners','Helvetius Nagy','722 DaVinci Blvd.','Kirkland','98034','USA');\n",
    "INSERT INTO Customers VALUES(83,'Vaffeljernet','Palle Ibsen','Smagsløget 45','Århus','8200','Denmark');\n",
    "INSERT INTO Customers VALUES(84,'Victuailles en stock','Mary Saveley','2, rue du Commerce','Lyon','69004','France');\n",
    "INSERT INTO Customers VALUES(85,'Vins et alcools Chevalier','Paul Henriot','59 rue de l''''Abbaye','Reims','51100','France');\n",
    "INSERT INTO Customers VALUES(86,'Die Wandernde Kuh','Rita Müller','Adenauerallee 900','Stuttgart','70563','Germany');\n",
    "INSERT INTO Customers VALUES(87,'Wartian Herkku','Pirkko Koskitalo','Torikatu 38','Oulu','90110','Finland');\n",
    "INSERT INTO Customers VALUES(88,'Wellington Importadora','Paula Parente','Rua do Mercado, 12','Resende','08737-363','Brazil');\n",
    "INSERT INTO Customers VALUES(89,'White Clover Markets','Karl Jablonski','305 - 14th Ave. S. Suite 3B','Seattle','98128','USA');\n",
    "INSERT INTO Customers VALUES(90,'Wilman Kala','Matti Karttunen','Keskuskatu 45','Helsinki','21240','Finland');\n",
    "INSERT INTO Customers VALUES(91,'Wolski','Zbyszek','ul. Filtrowa 68','Walla','01-012','Poland');\n",
    "\n",
    "INSERT INTO Employees VALUES(1,'Davolio','Nancy','1968-12-08','EmpID1.pic','Education includes a BA in psychology from Colorado State University. She also completed (The Art of the Cold Call). Nancy is a member of ''Toastmasters International''.');\n",
    "INSERT INTO Employees VALUES(2,'Fuller','Andrew','1952-02-19','EmpID2.pic','Andrew received his BTS commercial and a Ph.D. in international marketing from the University of Dallas. He is fluent in French and Italian and reads German. He joined the company as a sales representative, was promoted to sales manager and was then named vice president of sales. Andrew is a member of the Sales Management Roundtable, the Seattle Chamber of Commerce, and the Pacific Rim Importers Association.');\n",
    "INSERT INTO Employees VALUES(3,'Leverling','Janet','1963-08-30','EmpID3.pic','Janet has a BS degree in chemistry from Boston College). She has also completed a certificate program in food retailing management. Janet was hired as a sales associate and was promoted to sales representative.');\n",
    "INSERT INTO Employees VALUES(4,'Peacock','Margaret','1958-09-19','EmpID4.pic','Margaret holds a BA in English literature from Concordia College and an MA from the American Institute of Culinary Arts. She was temporarily assigned to the London office before returning to her permanent post in Seattle.');\n",
    "INSERT INTO Employees VALUES(5,'Buchanan','Steven','1955-03-04','EmpID5.pic','Steven Buchanan graduated from St. Andrews University, Scotland, with a BSC degree. Upon joining the company as a sales representative, he spent 6 months in an orientation program at the Seattle office and then returned to his permanent post in London, where he was promoted to sales manager. Mr. Buchanan has completed the courses ''Successful Telemarketing'' and ''International Sales Management''. He is fluent in French.');\n",
    "INSERT INTO Employees VALUES(6,'Suyama','Michael','1963-07-02','EmpID6.pic','Michael is a graduate of Sussex University (MA, economics) and the University of California at Los Angeles (MBA, marketing). He has also taken the courses ''Multi-Cultural Selling'' and ''Time Management for the Sales Professional''. He is fluent in Japanese and can read and write French, Portuguese, and Spanish.');\n",
    "INSERT INTO Employees VALUES(7,'King','Robert','1960-05-29','EmpID7.pic','Robert King served in the Peace Corps and traveled extensively before completing his degree in English at the University of Michigan and then joining the company. After completing a course entitled ''Selling in Europe'', he was transferred to the London office.');\n",
    "INSERT INTO Employees VALUES(8,'Callahan','Laura','1958-01-09','EmpID8.pic','Laura received a BA in psychology from the University of Washington. She has also completed a course in business French. She reads and writes French.');\n",
    "INSERT INTO Employees VALUES(9,'Dodsworth','Anne','1969-07-02','EmpID9.pic','Anne has a BA degree in English from St. Lawrence College. She is fluent in French and German.');\n",
    "INSERT INTO Employees VALUES(10,'West','Adam','1928-09-19','EmpID10.pic','An old chum.');\n",
    "\n",
    "INSERT INTO Shippers VALUES(1, 'Speedy Express', '(503) 555-9831');\n",
    "INSERT INTO Shippers VALUES(2, 'United Package', '(503) 555-3199');\n",
    "INSERT INTO Shippers VALUES(3, 'Federal Shipping', '(503) 555-9931');\n",
    "\n",
    "INSERT INTO Suppliers VALUES(1,'Exotic Liquid','Charlotte Cooper','49 Gilbert St.','Londona','EC1 4SD','UK','(171) 555-2222');\n",
    "INSERT INTO Suppliers VALUES(2,'New Orleans Cajun Delights','Shelley Burke','P.O. Box 78934','New Orleans','70117','USA','(100) 555-4822');\n",
    "INSERT INTO Suppliers VALUES(3,'Grandma Kelly''s Homestead','Regina Murphy','707 Oxford Rd.','Ann Arbor','48104','USA','(313) 555-5735');\n",
    "INSERT INTO Suppliers VALUES(4,'Tokyo Traders','Yoshi Nagase','9-8 Sekimai Musashino-shi','Tokyo','100','Japan','(03) 3555-5011');\n",
    "INSERT INTO Suppliers VALUES(5,'Cooperativa de Quesos ''Las Cabras''','Antonio del Valle Saavedra','Calle del Rosal 4','Oviedo','33007','Spain','(98) 598 76 54');\n",
    "INSERT INTO Suppliers VALUES(6,'Mayumi''s','Mayumi Ohno','92 Setsuko Chuo-ku','Osaka','545','Japan','(06) 431-7877');\n",
    "INSERT INTO Suppliers VALUES(7,'Pavlova, Ltd.','Ian Devling','74 Rose St. Moonie Ponds','Melbourne','3058','Australia','(03) 444-2343');\n",
    "INSERT INTO Suppliers VALUES(8,'Specialty Biscuits, Ltd.','Peter Wilson','29 King''s Way','Manchester','M14 GSD','UK','(161) 555-4448');\n",
    "INSERT INTO Suppliers VALUES(9,'PB Knäckebröd AB','Lars Peterson','Kaloadagatan 13','Göteborg','S-345 67','Sweden','031-987 65 43');\n",
    "INSERT INTO Suppliers VALUES(10,'Refrescos Americanas LTDA','Carlos Diaz','Av. das Americanas 12.890','São Paulo','5442','Brazil','(11) 555 4640');\n",
    "INSERT INTO Suppliers VALUES(11,'Heli Süßwaren GmbH & Co. KG','Petra Winkler','Tiergartenstraße 5','Berlin','10785','Germany','(010) 9984510');\n",
    "INSERT INTO Suppliers VALUES(12,'Plutzer Lebensmittelgroßmärkte AG','Martin Bein','Bogenallee 51','Frankfurt','60439','Germany','(069) 992755');\n",
    "INSERT INTO Suppliers VALUES(13,'Nord-Ost-Fisch Handelsgesellschaft mbH','Sven Petersen','Frahmredder 112a','Cuxhaven','27478','Germany','(04721) 8713');\n",
    "INSERT INTO Suppliers VALUES(14,'Formaggi Fortini s.r.l.','Elio Rossi','Viale Dante, 75','Ravenna','48100','Italy','(0544) 60323');\n",
    "INSERT INTO Suppliers VALUES(15,'Norske Meierier','Beate Vileid','Hatlevegen 5','Sandvika','1320','Norway','(0)2-953010');\n",
    "INSERT INTO Suppliers VALUES(16,'Bigfoot Breweries','Cheryl Saylor','3400 - 8th Avenue Suite 210','Bend','97101','USA','(503) 555-9931');\n",
    "INSERT INTO Suppliers VALUES(17,'Svensk Sjöföda AB','Michael Björn','Brovallavägen 231','Stockholm','S-123 45','Sweden','08-123 45 67');\n",
    "INSERT INTO Suppliers VALUES(18,'Aux joyeux ecclésiastiques','Guylène Nodier','203, Rue des Francs-Bourgeois','Paris','75004','France','(1) 03.83.00.68');\n",
    "INSERT INTO Suppliers VALUES(19,'New England Seafood Cannery','Robb Merchant','Order Processing Dept. 2100 Paul Revere Blvd.','Boston','2134','USA','(617) 555-3267');\n",
    "INSERT INTO Suppliers VALUES(20,'Leka Trading','Chandra Leka','471 Serangoon Loop, Suite #402','Singapore','512','Singapore','555-8787');\n",
    "INSERT INTO Suppliers VALUES(21,'Lyngbysild','Niels Petersen','Lyngbysild Fiskebakken 10','Lyngby','2800','Denmark','43844108');\n",
    "INSERT INTO Suppliers VALUES(22,'Zaanse Snoepfabriek','Dirk Luchte','Verkoop Rijnweg 22','Zaandam','9999 ZZ','Netherlands','(12345) 1212');\n",
    "INSERT INTO Suppliers VALUES(23,'Karkki Oy','Anne Heikkonen','Valtakatu 12','Lappeenranta','53120','Finland','(953) 10956');\n",
    "INSERT INTO Suppliers VALUES(24,'G''day, Mate','Wendy Mackenzie','170 Prince Edward Parade Hunter''s Hill','Sydney','2042','Australia','(02) 555-5914');\n",
    "INSERT INTO Suppliers VALUES(25,'Ma Maison','Jean-Guy Lauzon','2960 Rue St. Laurent','Montréal','H1J 1C3','Canada','(514) 555-9022');\n",
    "INSERT INTO Suppliers VALUES(26,'Pasta Buttini s.r.l.','Giovanni Giudici','Via dei Gelsomini, 153','Salerno','84100','Italy','(089) 6547665');\n",
    "INSERT INTO Suppliers VALUES(27,'Escargots Nouveaux','Marie Delamare','22, rue H. Voiron','Montceau','71300','France','85.57.00.07');\n",
    "INSERT INTO Suppliers VALUES(28,'Gai pâturage','Eliane Noz','Bat. B 3, rue des Alpes','Annecy','74000','France','38.76.98.06');\n",
    "INSERT INTO Suppliers VALUES(29,'Forêts d''érables','Chantal Goulet','148 rue Chasseur','Ste-Hyacinthe','J2S 7S8','Canada','(514) 555-2955');\n",
    "\n",
    "INSERT INTO Products VALUES(1,'Chais',1,1,'10 boxes x 20 bags',18.00);\n",
    "INSERT INTO Products VALUES(2,'Chang',1,1,'24 - 12 oz bottles',19.00);\n",
    "INSERT INTO Products VALUES(3,'Aniseed Syrup',1,2,'12 - 550 ml bottles',10.00);\n",
    "INSERT INTO Products VALUES(4,'Chef Anton''s Cajun Seasoning',2,2,'48 - 6 oz jars',22.00);\n",
    "INSERT INTO Products VALUES(5,'Chef Anton''s Gumbo Mix',2,2,'36 boxes',21.35);\n",
    "INSERT INTO Products VALUES(6,'Grandma''s Boysenberry Spread',3,2,'12 - 8 oz jars',25.00);\n",
    "INSERT INTO Products VALUES(7,'Uncle Bob''s Organic Dried Pears',3,7,'12 - 1 lb pkgs.',30.00);\n",
    "INSERT INTO Products VALUES(8,'Northwoods Cranberry Sauce',3,2,'12 - 12 oz jars',40.00);\n",
    "INSERT INTO Products VALUES(9,'Mishi Kobe Niku',4,6,'18 - 500 g pkgs.',97.00);\n",
    "INSERT INTO Products VALUES(10,'Ikura',4,8,'12 - 200 ml jars',31.00);\n",
    "INSERT INTO Products VALUES(11,'Queso Cabrales',5,4,'1 kg pkg.',21.00);\n",
    "INSERT INTO Products VALUES(12,'Queso Manchego La Pastora',5,4,'10 - 500 g pkgs.',38.00);\n",
    "INSERT INTO Products VALUES(13,'Konbu',6,8,'2 kg box',6.00);\n",
    "INSERT INTO Products VALUES(14,'Tofu',6,7,'40 - 100 g pkgs.',23.25);\n",
    "INSERT INTO Products VALUES(15,'Genen Shouyu',6,2,'24 - 250 ml bottles',15.50);\n",
    "INSERT INTO Products VALUES(16,'Pavlova',7,3,'32 - 500 g boxes',17.45);\n",
    "INSERT INTO Products VALUES(17,'Alice Mutton',7,6,'20 - 1 kg tins',39);\n",
    "INSERT INTO Products VALUES(18,'Carnarvon Tigers',7,8,'16 kg pkg.',62.50);\n",
    "INSERT INTO Products VALUES(19,'Teatime Chocolate Biscuits',8,3,'10 boxes x 12 pieces',9.20);\n",
    "INSERT INTO Products VALUES(20,'Sir Rodney''s Marmalade',8,3,'30 gift boxes',81.00);\n",
    "INSERT INTO Products VALUES(21,'Sir Rodney''s Scones',8,3,'24 pkgs. x 4 pieces',10.00);\n",
    "INSERT INTO Products VALUES(22,'Gustaf''s Knäckebröd',9,5,'24 - 500 g pkgs.',21.00);\n",
    "INSERT INTO Products VALUES(23,'Tunnbröd',9,5,'12 - 250 g pkgs.',9.00);\n",
    "INSERT INTO Products VALUES(24,'Guaraná Fantástica',10,1,'12 - 355 ml cans',4.50);\n",
    "INSERT INTO Products VALUES(25,'NuNuCa Nuß-Nougat-Creme',11,3,'20 - 450 g glasses',14.00);\n",
    "INSERT INTO Products VALUES(26,'Gumbär Gummibärchen',11,3,'100 - 250 g bags',31.23);\n",
    "INSERT INTO Products VALUES(27,'Schoggi Schokolade',11,3,'100 - 100 g pieces',43.90);\n",
    "INSERT INTO Products VALUES(28,'Rössle Sauerkraut',12,7,'25 - 825 g cans',45.60);\n",
    "INSERT INTO Products VALUES(29,'Thüringer Rostbratwurst',12,6,'50 bags x 30 sausgs.',123.79);\n",
    "INSERT INTO Products VALUES(30,'Nord-Ost Matjeshering',13,8,'10 - 200 g glasses',25.89);\n",
    "INSERT INTO Products VALUES(31,'Gorgonzola Telino',14,4,'12 - 100 g pkgs',12.50);\n",
    "INSERT INTO Products VALUES(32,'Mascarpone Fabioli',14,4,'24 - 200 g pkgs.',32.00);\n",
    "INSERT INTO Products VALUES(33,'Geitost',15,4,'500 g',2.50);\n",
    "INSERT INTO Products VALUES(34,'Sasquatch Ale',16,1,'24 - 12 oz bottles',14.00);\n",
    "INSERT INTO Products VALUES(35,'Steeleye Stout',16,1,'24 - 12 oz bottles',18.00);\n",
    "INSERT INTO Products VALUES(36,'Inlagd Sill',17,8,'24 - 250 g jars',19.00);\n",
    "INSERT INTO Products VALUES(37,'Gravad lax',17,8,'12 - 500 g pkgs.',26.00);\n",
    "INSERT INTO Products VALUES(38,'Côte de Blaye',18,1,'12 - 75 cl bottles',263.50);\n",
    "INSERT INTO Products VALUES(39,'Chartreuse verte',18,1,'750 cc per bottle',18.00);\n",
    "INSERT INTO Products VALUES(40,'Boston Crab Meat',19,8,'24 - 4 oz tins',18.40);\n",
    "INSERT INTO Products VALUES(41,'Jack''s New England Clam Chowder',19,8,'12 - 12 oz cans',9.65);\n",
    "INSERT INTO Products VALUES(42,'Singaporean Hokkien Fried Mee',20,5,'32 - 1 kg pkgs.',14.00);\n",
    "INSERT INTO Products VALUES(43,'Ipoh Coffee',20,1,'16 - 500 g tins',46.00);\n",
    "INSERT INTO Products VALUES(44,'Gula Malacca',20,2,'20 - 2 kg bags',19.45);\n",
    "INSERT INTO Products VALUES(45,'Røgede sild',21,8,'1k pkg.',9.50);\n",
    "INSERT INTO Products VALUES(46,'Spegesild',21,8,'4 - 450 g glasses',12.00);\n",
    "INSERT INTO Products VALUES(47,'Zaanse koeken',22,3,'10 - 4 oz boxes',9.50);\n",
    "INSERT INTO Products VALUES(48,'Chocolade',22,3,'10 pkgs.',12.75);\n",
    "INSERT INTO Products VALUES(49,'Maxilaku',23,3,'24 - 50 g pkgs.',20.00);\n",
    "INSERT INTO Products VALUES(50,'Valkoinen suklaa',23,3,'12 - 100 g bars',16.25);\n",
    "INSERT INTO Products VALUES(51,'Manjimup Dried Apples',24,7,'50 - 300 g pkgs.',53.00);\n",
    "INSERT INTO Products VALUES(52,'Filo Mix',24,5,'16 - 2 kg boxes',7.00);\n",
    "INSERT INTO Products VALUES(53,'Perth Pasties',24,6,'48 pieces',32.80);\n",
    "INSERT INTO Products VALUES(54,'Tourtière',25,6,'16 pies',7.45);\n",
    "INSERT INTO Products VALUES(55,'Pâté chinois',25,6,'24 boxes x 2 pies',24.00);\n",
    "INSERT INTO Products VALUES(56,'Gnocchi di nonna Alice',26,5,'24 - 250 g pkgs.',38.00);\n",
    "INSERT INTO Products VALUES(57,'Ravioli Angelo',26,5,'24 - 250 g pkgs.',19.50);\n",
    "INSERT INTO Products VALUES(58,'Escargots de Bourgogne',27,8,'24 pieces',13.25);\n",
    "INSERT INTO Products VALUES(59,'Raclette Courdavault',28,4,'5 kg pkg.',55.00);\n",
    "INSERT INTO Products VALUES(60,'Camembert Pierrot',28,4,'15 - 300 g rounds',34.00);\n",
    "INSERT INTO Products VALUES(61,'Sirop d''érable',29,2,'24 - 500 ml bottles',28.50);\n",
    "INSERT INTO Products VALUES(62,'Tarte au sucre',29,3,'48 pies',49.30);\n",
    "INSERT INTO Products VALUES(63,'Vegie-spread',7,2,'15 - 625 g jars',43.90);\n",
    "INSERT INTO Products VALUES(64,'Wimmers gute Semmelknödel',12,5,'20 bags x 4 pieces',33.25);\n",
    "INSERT INTO Products VALUES(65,'Louisiana Fiery Hot Pepper Sauce',2,2,'32 - 8 oz bottles',21.05);\n",
    "INSERT INTO Products VALUES(66,'Louisiana Hot Spiced Okra',2,2,'24 - 8 oz jars',17.00);\n",
    "INSERT INTO Products VALUES(67,'Laughing Lumberjack Lager',16,1,'24 - 12 oz bottles',14.00);\n",
    "INSERT INTO Products VALUES(68,'Scottish Longbreads',8,3,'10 boxes x 8 pieces',12.50);\n",
    "INSERT INTO Products VALUES(69,'Gudbrandsdalsost',15,4,'10 kg pkg.',36.00);\n",
    "INSERT INTO Products VALUES(70,'Outback Lager',7,1,'24 - 355 ml bottles',15.00);\n",
    "INSERT INTO Products VALUES(71,'Fløtemysost',15,4,'10 - 500 g pkgs.',21.50);\n",
    "INSERT INTO Products VALUES(72,'Mozzarella di Giovanni',14,4,'24 - 200 g pkgs.',34.80);\n",
    "INSERT INTO Products VALUES(73,'Röd Kaviar',17,8,'24 - 150 g jars',15.00);\n",
    "INSERT INTO Products VALUES(74,'Longlife Tofu',4,7,'5 kg pkg.',10.00);\n",
    "INSERT INTO Products VALUES(75,'Rhönbräu Klosterbier',12,1,'24 - 0.5 l bottles',7.75);\n",
    "INSERT INTO Products VALUES(76,'Lakkalikööri',23,1,'500 ml',18.00);\n",
    "INSERT INTO Products VALUES(77,'Original Frankfurter grüne Soße',12,2,'12 boxes',13.00);\n",
    "\n",
    "INSERT INTO Orders VALUES(10248,90,5,'1996-07-04',3);\n",
    "INSERT INTO Orders VALUES(10249,81,6,'1996-07-05',1);\n",
    "INSERT INTO Orders VALUES(10250,34,4,'1996-07-08',2);\n",
    "INSERT INTO Orders VALUES(10251,84,3,'1996-07-08',1);\n",
    "INSERT INTO Orders VALUES(10252,76,4,'1996-07-09',2);\n",
    "INSERT INTO Orders VALUES(10253,34,3,'1996-07-10',2);\n",
    "INSERT INTO Orders VALUES(10254,14,5,'1996-07-11',2);\n",
    "INSERT INTO Orders VALUES(10255,68,9,'1996-07-12',3);\n",
    "INSERT INTO Orders VALUES(10256,88,3,'1996-07-15',2);\n",
    "INSERT INTO Orders VALUES(10257,35,4,'1996-07-16',3);\n",
    "INSERT INTO Orders VALUES(10258,20,1,'1996-07-17',1);\n",
    "INSERT INTO Orders VALUES(10259,13,4,'1996-07-18',3);\n",
    "INSERT INTO Orders VALUES(10260,55,4,'1996-07-19',1);\n",
    "INSERT INTO Orders VALUES(10261,61,4,'1996-07-19',2);\n",
    "INSERT INTO Orders VALUES(10262,65,8,'1996-07-22',3);\n",
    "INSERT INTO Orders VALUES(10263,20,9,'1996-07-23',3);\n",
    "INSERT INTO Orders VALUES(10264,24,6,'1996-07-24',3);\n",
    "INSERT INTO Orders VALUES(10265,7,2,'1996-07-25',1);\n",
    "INSERT INTO Orders VALUES(10266,87,3,'1996-07-26',3);\n",
    "INSERT INTO Orders VALUES(10267,25,4,'1996-07-29',1);\n",
    "INSERT INTO Orders VALUES(10268,33,8,'1996-07-30',3);\n",
    "INSERT INTO Orders VALUES(10269,89,5,'1996-07-31',1);\n",
    "INSERT INTO Orders VALUES(10270,87,1,'1996-08-01',1);\n",
    "INSERT INTO Orders VALUES(10271,75,6,'1996-08-01',2);\n",
    "INSERT INTO Orders VALUES(10272,65,6,'1996-08-02',2);\n",
    "INSERT INTO Orders VALUES(10273,63,3,'1996-08-05',3);\n",
    "INSERT INTO Orders VALUES(10274,85,6,'1996-08-06',1);\n",
    "INSERT INTO Orders VALUES(10275,49,1,'1996-08-07',1);\n",
    "INSERT INTO Orders VALUES(10276,80,8,'1996-08-08',3);\n",
    "INSERT INTO Orders VALUES(10277,52,2,'1996-08-09',3);\n",
    "INSERT INTO Orders VALUES(10278,5,8,'1996-08-12',2);\n",
    "INSERT INTO Orders VALUES(10279,44,8,'1996-08-13',2);\n",
    "INSERT INTO Orders VALUES(10280,5,2,'1996-08-14',1);\n",
    "INSERT INTO Orders VALUES(10281,69,4,'1996-08-14',1);\n",
    "INSERT INTO Orders VALUES(10282,69,4,'1996-08-15',1);\n",
    "INSERT INTO Orders VALUES(10283,46,3,'1996-08-16',3);\n",
    "INSERT INTO Orders VALUES(10284,44,4,'1996-08-19',1);\n",
    "INSERT INTO Orders VALUES(10285,63,1,'1996-08-20',2);\n",
    "INSERT INTO Orders VALUES(10286,63,8,'1996-08-21',3);\n",
    "INSERT INTO Orders VALUES(10287,67,8,'1996-08-22',3);\n",
    "INSERT INTO Orders VALUES(10288,66,4,'1996-08-23',1);\n",
    "INSERT INTO Orders VALUES(10289,11,7,'1996-08-26',3);\n",
    "INSERT INTO Orders VALUES(10290,15,8,'1996-08-27',1);\n",
    "INSERT INTO Orders VALUES(10291,61,6,'1996-08-27',2);\n",
    "INSERT INTO Orders VALUES(10292,81,1,'1996-08-28',2);\n",
    "INSERT INTO Orders VALUES(10293,80,1,'1996-08-29',3);\n",
    "INSERT INTO Orders VALUES(10294,65,4,'1996-08-30',2);\n",
    "INSERT INTO Orders VALUES(10295,85,2,'1996-09-02',2);\n",
    "INSERT INTO Orders VALUES(10296,46,6,'1996-09-03',1);\n",
    "INSERT INTO Orders VALUES(10297,7,5,'1996-09-04',2);\n",
    "INSERT INTO Orders VALUES(10298,37,6,'1996-09-05',2);\n",
    "INSERT INTO Orders VALUES(10299,67,4,'1996-09-06',2);\n",
    "INSERT INTO Orders VALUES(10300,49,2,'1996-09-09',2);\n",
    "INSERT INTO Orders VALUES(10301,86,8,'1996-09-09',2);\n",
    "INSERT INTO Orders VALUES(10302,76,4,'1996-09-10',2);\n",
    "INSERT INTO Orders VALUES(10303,30,7,'1996-09-11',2);\n",
    "INSERT INTO Orders VALUES(10304,80,1,'1996-09-12',2);\n",
    "INSERT INTO Orders VALUES(10305,55,8,'1996-09-13',3);\n",
    "INSERT INTO Orders VALUES(10306,69,1,'1996-09-16',3);\n",
    "INSERT INTO Orders VALUES(10307,48,2,'1996-09-17',2);\n",
    "INSERT INTO Orders VALUES(10308,2,7,'1996-09-18',3);\n",
    "INSERT INTO Orders VALUES(10309,37,3,'1996-09-19',1);\n",
    "INSERT INTO Orders VALUES(10310,77,8,'1996-09-20',2);\n",
    "INSERT INTO Orders VALUES(10311,18,1,'1996-09-20',3);\n",
    "INSERT INTO Orders VALUES(10312,86,2,'1996-09-23',2);\n",
    "INSERT INTO Orders VALUES(10313,63,2,'1996-09-24',2);\n",
    "INSERT INTO Orders VALUES(10314,65,1,'1996-09-25',2);\n",
    "INSERT INTO Orders VALUES(10315,38,4,'1996-09-26',2);\n",
    "INSERT INTO Orders VALUES(10316,65,1,'1996-09-27',3);\n",
    "INSERT INTO Orders VALUES(10317,48,6,'1996-09-30',1);\n",
    "INSERT INTO Orders VALUES(10318,38,8,'1996-10-01',2);\n",
    "INSERT INTO Orders VALUES(10319,80,7,'1996-10-02',3);\n",
    "INSERT INTO Orders VALUES(10320,87,5,'1996-10-03',3);\n",
    "INSERT INTO Orders VALUES(10321,38,3,'1996-10-03',2);\n",
    "INSERT INTO Orders VALUES(10322,58,7,'1996-10-04',3);\n",
    "INSERT INTO Orders VALUES(10323,39,4,'1996-10-07',1);\n",
    "INSERT INTO Orders VALUES(10324,71,9,'1996-10-08',1);\n",
    "INSERT INTO Orders VALUES(10325,39,1,'1996-10-09',3);\n",
    "INSERT INTO Orders VALUES(10326,8,4,'1996-10-10',2);\n",
    "INSERT INTO Orders VALUES(10327,24,2,'1996-10-11',1);\n",
    "INSERT INTO Orders VALUES(10328,28,4,'1996-10-14',3);\n",
    "INSERT INTO Orders VALUES(10329,75,4,'1996-10-15',2);\n",
    "INSERT INTO Orders VALUES(10330,46,3,'1996-10-16',1);\n",
    "INSERT INTO Orders VALUES(10331,9,9,'1996-10-16',1);\n",
    "INSERT INTO Orders VALUES(10332,51,3,'1996-10-17',2);\n",
    "INSERT INTO Orders VALUES(10333,87,5,'1996-10-18',3);\n",
    "INSERT INTO Orders VALUES(10334,84,8,'1996-10-21',2);\n",
    "INSERT INTO Orders VALUES(10335,37,7,'1996-10-22',2);\n",
    "INSERT INTO Orders VALUES(10336,60,7,'1996-10-23',2);\n",
    "INSERT INTO Orders VALUES(10337,25,4,'1996-10-24',3);\n",
    "INSERT INTO Orders VALUES(10338,55,4,'1996-10-25',3);\n",
    "INSERT INTO Orders VALUES(10339,51,2,'1996-10-28',2);\n",
    "INSERT INTO Orders VALUES(10340,9,1,'1996-10-29',3);\n",
    "INSERT INTO Orders VALUES(10341,73,7,'1996-10-29',3);\n",
    "INSERT INTO Orders VALUES(10342,25,4,'1996-10-30',2);\n",
    "INSERT INTO Orders VALUES(10343,44,4,'1996-10-31',1);\n",
    "INSERT INTO Orders VALUES(10344,89,4,'1996-11-01',2);\n",
    "INSERT INTO Orders VALUES(10345,63,2,'1996-11-04',2);\n",
    "INSERT INTO Orders VALUES(10346,65,3,'1996-11-05',3);\n",
    "INSERT INTO Orders VALUES(10347,21,4,'1996-11-06',3);\n",
    "INSERT INTO Orders VALUES(10348,86,4,'1996-11-07',2);\n",
    "INSERT INTO Orders VALUES(10349,75,7,'1996-11-08',1);\n",
    "INSERT INTO Orders VALUES(10350,41,6,'1996-11-11',2);\n",
    "INSERT INTO Orders VALUES(10351,20,1,'1996-11-11',1);\n",
    "INSERT INTO Orders VALUES(10352,28,3,'1996-11-12',3);\n",
    "INSERT INTO Orders VALUES(10353,59,7,'1996-11-13',3);\n",
    "INSERT INTO Orders VALUES(10354,58,8,'1996-11-14',3);\n",
    "INSERT INTO Orders VALUES(10355,4,6,'1996-11-15',1);\n",
    "INSERT INTO Orders VALUES(10356,86,6,'1996-11-18',2);\n",
    "INSERT INTO Orders VALUES(10357,46,1,'1996-11-19',3);\n",
    "INSERT INTO Orders VALUES(10358,41,5,'1996-11-20',1);\n",
    "INSERT INTO Orders VALUES(10359,72,5,'1996-11-21',3);\n",
    "INSERT INTO Orders VALUES(10360,7,4,'1996-11-22',3);\n",
    "INSERT INTO Orders VALUES(10361,63,1,'1996-11-22',2);\n",
    "INSERT INTO Orders VALUES(10362,9,3,'1996-11-25',1);\n",
    "INSERT INTO Orders VALUES(10363,17,4,'1996-11-26',3);\n",
    "INSERT INTO Orders VALUES(10364,19,1,'1996-11-26',1);\n",
    "INSERT INTO Orders VALUES(10365,3,3,'1996-11-27',2);\n",
    "INSERT INTO Orders VALUES(10366,29,8,'1996-11-28',2);\n",
    "INSERT INTO Orders VALUES(10367,83,7,'1996-11-28',3);\n",
    "INSERT INTO Orders VALUES(10368,20,2,'1996-11-29',2);\n",
    "INSERT INTO Orders VALUES(10369,75,8,'1996-12-02',2);\n",
    "INSERT INTO Orders VALUES(10370,14,6,'1996-12-03',2);\n",
    "INSERT INTO Orders VALUES(10371,41,1,'1996-12-03',1);\n",
    "INSERT INTO Orders VALUES(10372,62,5,'1996-12-04',2);\n",
    "INSERT INTO Orders VALUES(10373,37,4,'1996-12-05',3);\n",
    "INSERT INTO Orders VALUES(10374,91,1,'1996-12-05',3);\n",
    "INSERT INTO Orders VALUES(10375,36,3,'1996-12-06',2);\n",
    "INSERT INTO Orders VALUES(10376,51,1,'1996-12-09',2);\n",
    "INSERT INTO Orders VALUES(10377,72,1,'1996-12-09',3);\n",
    "INSERT INTO Orders VALUES(10378,24,5,'1996-12-10',3);\n",
    "INSERT INTO Orders VALUES(10379,61,2,'1996-12-11',1);\n",
    "INSERT INTO Orders VALUES(10380,37,8,'1996-12-12',3);\n",
    "INSERT INTO Orders VALUES(10381,46,3,'1996-12-12',3);\n",
    "INSERT INTO Orders VALUES(10382,20,4,'1996-12-13',1);\n",
    "INSERT INTO Orders VALUES(10383,4,8,'1996-12-16',3);\n",
    "INSERT INTO Orders VALUES(10384,5,3,'1996-12-16',3);\n",
    "INSERT INTO Orders VALUES(10385,75,1,'1996-12-17',2);\n",
    "INSERT INTO Orders VALUES(10386,21,9,'1996-12-18',3);\n",
    "INSERT INTO Orders VALUES(10387,70,1,'1996-12-18',2);\n",
    "INSERT INTO Orders VALUES(10388,72,2,'1996-12-19',1);\n",
    "INSERT INTO Orders VALUES(10389,10,4,'1996-12-20',2);\n",
    "INSERT INTO Orders VALUES(10390,20,6,'1996-12-23',1);\n",
    "INSERT INTO Orders VALUES(10391,17,3,'1996-12-23',3);\n",
    "INSERT INTO Orders VALUES(10392,59,2,'1996-12-24',3);\n",
    "INSERT INTO Orders VALUES(10393,71,1,'1996-12-25',3);\n",
    "INSERT INTO Orders VALUES(10394,36,1,'1996-12-25',3);\n",
    "INSERT INTO Orders VALUES(10395,35,6,'1996-12-26',1);\n",
    "INSERT INTO Orders VALUES(10396,25,1,'1996-12-27',3);\n",
    "INSERT INTO Orders VALUES(10397,60,5,'1996-12-27',1);\n",
    "INSERT INTO Orders VALUES(10398,71,2,'1996-12-30',3);\n",
    "INSERT INTO Orders VALUES(10399,83,8,'1996-12-31',3);\n",
    "INSERT INTO Orders VALUES(10400,19,1,'1997-01-01',3);\n",
    "INSERT INTO Orders VALUES(10401,65,1,'1997-01-01',1);\n",
    "INSERT INTO Orders VALUES(10402,20,8,'1997-01-02',2);\n",
    "INSERT INTO Orders VALUES(10403,20,4,'1997-01-03',3);\n",
    "INSERT INTO Orders VALUES(10404,49,2,'1997-01-03',1);\n",
    "INSERT INTO Orders VALUES(10405,47,1,'1997-01-06',1);\n",
    "INSERT INTO Orders VALUES(10406,62,7,'1997-01-07',1);\n",
    "INSERT INTO Orders VALUES(10407,56,2,'1997-01-07',2);\n",
    "INSERT INTO Orders VALUES(10408,23,8,'1997-01-08',1);\n",
    "INSERT INTO Orders VALUES(10409,54,3,'1997-01-09',1);\n",
    "INSERT INTO Orders VALUES(10410,10,3,'1997-01-10',3);\n",
    "INSERT INTO Orders VALUES(10411,10,9,'1997-01-10',3);\n",
    "INSERT INTO Orders VALUES(10412,87,8,'1997-01-13',2);\n",
    "INSERT INTO Orders VALUES(10413,41,3,'1997-01-14',2);\n",
    "INSERT INTO Orders VALUES(10414,21,2,'1997-01-14',3);\n",
    "INSERT INTO Orders VALUES(10415,36,3,'1997-01-15',1);\n",
    "INSERT INTO Orders VALUES(10416,87,8,'1997-01-16',3);\n",
    "INSERT INTO Orders VALUES(10417,73,4,'1997-01-16',3);\n",
    "INSERT INTO Orders VALUES(10418,63,4,'1997-01-17',1);\n",
    "INSERT INTO Orders VALUES(10419,68,4,'1997-01-20',2);\n",
    "INSERT INTO Orders VALUES(10420,88,3,'1997-01-21',1);\n",
    "INSERT INTO Orders VALUES(10421,61,8,'1997-01-21',1);\n",
    "INSERT INTO Orders VALUES(10422,27,2,'1997-01-22',1);\n",
    "INSERT INTO Orders VALUES(10423,31,6,'1997-01-23',3);\n",
    "INSERT INTO Orders VALUES(10424,51,7,'1997-01-23',2);\n",
    "INSERT INTO Orders VALUES(10425,41,6,'1997-01-24',2);\n",
    "INSERT INTO Orders VALUES(10426,29,4,'1997-01-27',1);\n",
    "INSERT INTO Orders VALUES(10427,59,4,'1997-01-27',2);\n",
    "INSERT INTO Orders VALUES(10428,66,7,'1997-01-28',1);\n",
    "INSERT INTO Orders VALUES(10429,37,3,'1997-01-29',2);\n",
    "INSERT INTO Orders VALUES(10430,20,4,'1997-01-30',1);\n",
    "INSERT INTO Orders VALUES(10431,10,4,'1997-01-30',2);\n",
    "INSERT INTO Orders VALUES(10432,75,3,'1997-01-31',2);\n",
    "INSERT INTO Orders VALUES(10433,60,3,'1997-02-03',3);\n",
    "INSERT INTO Orders VALUES(10434,24,3,'1997-02-03',2);\n",
    "INSERT INTO Orders VALUES(10435,16,8,'1997-02-04',2);\n",
    "INSERT INTO Orders VALUES(10436,7,3,'1997-02-05',2);\n",
    "INSERT INTO Orders VALUES(10437,87,8,'1997-02-05',1);\n",
    "INSERT INTO Orders VALUES(10438,79,3,'1997-02-06',2);\n",
    "INSERT INTO Orders VALUES(10439,51,6,'1997-02-07',3);\n",
    "INSERT INTO Orders VALUES(10440,71,4,'1997-02-10',2);\n",
    "INSERT INTO Orders VALUES(10441,55,3,'1997-02-10',2);\n",
    "INSERT INTO Orders VALUES(10442,20,3,'1997-02-11',2);\n",
    "INSERT INTO Orders VALUES(10443,66,8,'1997-02-12',1);\n",
    "\n",
    "INSERT INTO OrderDetails VALUES(1,10248,11,12);\n",
    "INSERT INTO OrderDetails VALUES(2,10248,42,10);\n",
    "INSERT INTO OrderDetails VALUES(3,10248,72,5);\n",
    "INSERT INTO OrderDetails VALUES(4,10249,14,9);\n",
    "INSERT INTO OrderDetails VALUES(5,10249,51,40);\n",
    "INSERT INTO OrderDetails VALUES(6,10250,41,10);\n",
    "INSERT INTO OrderDetails VALUES(7,10250,51,35);\n",
    "INSERT INTO OrderDetails VALUES(8,10250,65,15);\n",
    "INSERT INTO OrderDetails VALUES(9,10251,22,6);\n",
    "INSERT INTO OrderDetails VALUES(10,10251,57,15);\n",
    "INSERT INTO OrderDetails VALUES(11,10251,65,20);\n",
    "INSERT INTO OrderDetails VALUES(12,10252,20,40);\n",
    "INSERT INTO OrderDetails VALUES(13,10252,33,25);\n",
    "INSERT INTO OrderDetails VALUES(14,10252,60,40);\n",
    "INSERT INTO OrderDetails VALUES(15,10253,31,20);\n",
    "INSERT INTO OrderDetails VALUES(16,10253,39,42);\n",
    "INSERT INTO OrderDetails VALUES(17,10253,49,40);\n",
    "INSERT INTO OrderDetails VALUES(18,10254,24,15);\n",
    "INSERT INTO OrderDetails VALUES(19,10254,55,21);\n",
    "INSERT INTO OrderDetails VALUES(20,10254,74,21);\n",
    "INSERT INTO OrderDetails VALUES(21,10255,2,20);\n",
    "INSERT INTO OrderDetails VALUES(22,10255,16,35);\n",
    "INSERT INTO OrderDetails VALUES(23,10255,36,25);\n",
    "INSERT INTO OrderDetails VALUES(24,10255,59,30);\n",
    "INSERT INTO OrderDetails VALUES(25,10256,53,15);\n",
    "INSERT INTO OrderDetails VALUES(26,10256,77,12);\n",
    "INSERT INTO OrderDetails VALUES(27,10257,27,25);\n",
    "INSERT INTO OrderDetails VALUES(28,10257,39,6);\n",
    "INSERT INTO OrderDetails VALUES(29,10257,77,15);\n",
    "INSERT INTO OrderDetails VALUES(30,10258,2,50);\n",
    "INSERT INTO OrderDetails VALUES(31,10258,5,65);\n",
    "INSERT INTO OrderDetails VALUES(32,10258,32,6);\n",
    "INSERT INTO OrderDetails VALUES(33,10259,21,10);\n",
    "INSERT INTO OrderDetails VALUES(34,10259,37,1);\n",
    "INSERT INTO OrderDetails VALUES(35,10260,41,16);\n",
    "INSERT INTO OrderDetails VALUES(36,10260,57,50);\n",
    "INSERT INTO OrderDetails VALUES(37,10260,62,15);\n",
    "INSERT INTO OrderDetails VALUES(38,10260,70,21);\n",
    "INSERT INTO OrderDetails VALUES(39,10261,21,20);\n",
    "INSERT INTO OrderDetails VALUES(40,10261,35,20);\n",
    "INSERT INTO OrderDetails VALUES(41,10262,5,12);\n",
    "INSERT INTO OrderDetails VALUES(42,10262,7,15);\n",
    "INSERT INTO OrderDetails VALUES(43,10262,56,2);\n",
    "INSERT INTO OrderDetails VALUES(44,10263,16,60);\n",
    "INSERT INTO OrderDetails VALUES(45,10263,24,28);\n",
    "INSERT INTO OrderDetails VALUES(46,10263,30,60);\n",
    "INSERT INTO OrderDetails VALUES(47,10263,74,36);\n",
    "INSERT INTO OrderDetails VALUES(48,10264,2,35);\n",
    "INSERT INTO OrderDetails VALUES(49,10264,41,25);\n",
    "INSERT INTO OrderDetails VALUES(50,10265,17,30);\n",
    "INSERT INTO OrderDetails VALUES(51,10265,70,20);\n",
    "INSERT INTO OrderDetails VALUES(52,10266,12,12);\n",
    "INSERT INTO OrderDetails VALUES(53,10267,40,50);\n",
    "INSERT INTO OrderDetails VALUES(54,10267,59,70);\n",
    "INSERT INTO OrderDetails VALUES(55,10267,76,15);\n",
    "INSERT INTO OrderDetails VALUES(56,10268,29,10);\n",
    "INSERT INTO OrderDetails VALUES(57,10268,72,4);\n",
    "INSERT INTO OrderDetails VALUES(58,10269,33,60);\n",
    "INSERT INTO OrderDetails VALUES(59,10269,72,20);\n",
    "INSERT INTO OrderDetails VALUES(60,10270,36,30);\n",
    "INSERT INTO OrderDetails VALUES(61,10270,43,25);\n",
    "INSERT INTO OrderDetails VALUES(62,10271,33,24);\n",
    "INSERT INTO OrderDetails VALUES(63,10272,20,6);\n",
    "INSERT INTO OrderDetails VALUES(64,10272,31,40);\n",
    "INSERT INTO OrderDetails VALUES(65,10272,72,24);\n",
    "INSERT INTO OrderDetails VALUES(66,10273,10,24);\n",
    "INSERT INTO OrderDetails VALUES(67,10273,31,15);\n",
    "INSERT INTO OrderDetails VALUES(68,10273,33,20);\n",
    "INSERT INTO OrderDetails VALUES(69,10273,40,60);\n",
    "INSERT INTO OrderDetails VALUES(70,10273,76,33);\n",
    "INSERT INTO OrderDetails VALUES(71,10274,71,20);\n",
    "INSERT INTO OrderDetails VALUES(72,10274,72,7);\n",
    "INSERT INTO OrderDetails VALUES(73,10275,24,12);\n",
    "INSERT INTO OrderDetails VALUES(74,10275,59,6);\n",
    "INSERT INTO OrderDetails VALUES(75,10276,10,15);\n",
    "INSERT INTO OrderDetails VALUES(76,10276,13,10);\n",
    "INSERT INTO OrderDetails VALUES(77,10277,28,20);\n",
    "INSERT INTO OrderDetails VALUES(78,10277,62,12);\n",
    "INSERT INTO OrderDetails VALUES(79,10278,44,16);\n",
    "INSERT INTO OrderDetails VALUES(80,10278,59,15);\n",
    "INSERT INTO OrderDetails VALUES(81,10278,63,8);\n",
    "INSERT INTO OrderDetails VALUES(82,10278,73,25);\n",
    "INSERT INTO OrderDetails VALUES(83,10279,17,15);\n",
    "INSERT INTO OrderDetails VALUES(84,10280,24,12);\n",
    "INSERT INTO OrderDetails VALUES(85,10280,55,20);\n",
    "INSERT INTO OrderDetails VALUES(86,10280,75,30);\n",
    "INSERT INTO OrderDetails VALUES(87,10281,19,1);\n",
    "INSERT INTO OrderDetails VALUES(88,10281,24,6);\n",
    "INSERT INTO OrderDetails VALUES(89,10281,35,4);\n",
    "INSERT INTO OrderDetails VALUES(90,10282,30,6);\n",
    "INSERT INTO OrderDetails VALUES(91,10282,57,2);\n",
    "INSERT INTO OrderDetails VALUES(92,10283,15,20);\n",
    "INSERT INTO OrderDetails VALUES(93,10283,19,18);\n",
    "INSERT INTO OrderDetails VALUES(94,10283,60,35);\n",
    "INSERT INTO OrderDetails VALUES(95,10283,72,3);\n",
    "INSERT INTO OrderDetails VALUES(96,10284,27,15);\n",
    "INSERT INTO OrderDetails VALUES(97,10284,44,21);\n",
    "INSERT INTO OrderDetails VALUES(98,10284,60,20);\n",
    "INSERT INTO OrderDetails VALUES(99,10284,67,5);\n",
    "INSERT INTO OrderDetails VALUES(100,10285,1,45);\n",
    "INSERT INTO OrderDetails VALUES(101,10285,40,40);\n",
    "INSERT INTO OrderDetails VALUES(102,10285,53,36);\n",
    "INSERT INTO OrderDetails VALUES(103,10286,35,100);\n",
    "INSERT INTO OrderDetails VALUES(104,10286,62,40);\n",
    "INSERT INTO OrderDetails VALUES(105,10287,16,40);\n",
    "INSERT INTO OrderDetails VALUES(106,10287,34,20);\n",
    "INSERT INTO OrderDetails VALUES(107,10287,46,15);\n",
    "INSERT INTO OrderDetails VALUES(108,10288,54,10);\n",
    "INSERT INTO OrderDetails VALUES(109,10288,68,3);\n",
    "INSERT INTO OrderDetails VALUES(110,10289,3,30);\n",
    "INSERT INTO OrderDetails VALUES(111,10289,64,9);\n",
    "INSERT INTO OrderDetails VALUES(112,10290,5,20);\n",
    "INSERT INTO OrderDetails VALUES(113,10290,29,15);\n",
    "INSERT INTO OrderDetails VALUES(114,10290,49,15);\n",
    "INSERT INTO OrderDetails VALUES(115,10290,77,10);\n",
    "INSERT INTO OrderDetails VALUES(116,10291,13,20);\n",
    "INSERT INTO OrderDetails VALUES(117,10291,44,24);\n",
    "INSERT INTO OrderDetails VALUES(118,10291,51,2);\n",
    "INSERT INTO OrderDetails VALUES(119,10292,20,20);\n",
    "INSERT INTO OrderDetails VALUES(120,10293,18,12);\n",
    "INSERT INTO OrderDetails VALUES(121,10293,24,10);\n",
    "INSERT INTO OrderDetails VALUES(122,10293,63,5);\n",
    "INSERT INTO OrderDetails VALUES(123,10293,75,6);\n",
    "INSERT INTO OrderDetails VALUES(124,10294,1,18);\n",
    "INSERT INTO OrderDetails VALUES(125,10294,17,15);\n",
    "INSERT INTO OrderDetails VALUES(126,10294,43,15);\n",
    "INSERT INTO OrderDetails VALUES(127,10294,60,21);\n",
    "INSERT INTO OrderDetails VALUES(128,10294,75,6);\n",
    "INSERT INTO OrderDetails VALUES(129,10295,56,4);\n",
    "INSERT INTO OrderDetails VALUES(130,10296,11,12);\n",
    "INSERT INTO OrderDetails VALUES(131,10296,16,30);\n",
    "INSERT INTO OrderDetails VALUES(132,10296,69,15);\n",
    "INSERT INTO OrderDetails VALUES(133,10297,39,60);\n",
    "INSERT INTO OrderDetails VALUES(134,10297,72,20);\n",
    "INSERT INTO OrderDetails VALUES(135,10298,2,40);\n",
    "INSERT INTO OrderDetails VALUES(136,10298,36,40);\n",
    "INSERT INTO OrderDetails VALUES(137,10298,59,30);\n",
    "INSERT INTO OrderDetails VALUES(138,10298,62,15);\n",
    "INSERT INTO OrderDetails VALUES(139,10299,19,15);\n",
    "INSERT INTO OrderDetails VALUES(140,10299,70,20);\n",
    "INSERT INTO OrderDetails VALUES(141,10300,66,30);\n",
    "INSERT INTO OrderDetails VALUES(142,10300,68,20);\n",
    "INSERT INTO OrderDetails VALUES(143,10301,40,10);\n",
    "INSERT INTO OrderDetails VALUES(144,10301,56,20);\n",
    "INSERT INTO OrderDetails VALUES(145,10302,17,40);\n",
    "INSERT INTO OrderDetails VALUES(146,10302,28,28);\n",
    "INSERT INTO OrderDetails VALUES(147,10302,43,12);\n",
    "INSERT INTO OrderDetails VALUES(148,10303,40,40);\n",
    "INSERT INTO OrderDetails VALUES(149,10303,65,30);\n",
    "INSERT INTO OrderDetails VALUES(150,10303,68,15);\n",
    "INSERT INTO OrderDetails VALUES(151,10304,49,30);\n",
    "INSERT INTO OrderDetails VALUES(152,10304,59,10);\n",
    "INSERT INTO OrderDetails VALUES(153,10304,71,2);\n",
    "INSERT INTO OrderDetails VALUES(154,10305,18,25);\n",
    "INSERT INTO OrderDetails VALUES(155,10305,29,25);\n",
    "INSERT INTO OrderDetails VALUES(156,10305,39,30);\n",
    "INSERT INTO OrderDetails VALUES(157,10306,30,10);\n",
    "INSERT INTO OrderDetails VALUES(158,10306,53,10);\n",
    "INSERT INTO OrderDetails VALUES(159,10306,54,5);\n",
    "INSERT INTO OrderDetails VALUES(160,10307,62,10);\n",
    "INSERT INTO OrderDetails VALUES(161,10307,68,3);\n",
    "INSERT INTO OrderDetails VALUES(162,10308,69,1);\n",
    "INSERT INTO OrderDetails VALUES(163,10308,70,5);\n",
    "INSERT INTO OrderDetails VALUES(164,10309,4,20);\n",
    "INSERT INTO OrderDetails VALUES(165,10309,6,30);\n",
    "INSERT INTO OrderDetails VALUES(166,10309,42,2);\n",
    "INSERT INTO OrderDetails VALUES(167,10309,43,20);\n",
    "INSERT INTO OrderDetails VALUES(168,10309,71,3);\n",
    "INSERT INTO OrderDetails VALUES(169,10310,16,10);\n",
    "INSERT INTO OrderDetails VALUES(170,10310,62,5);\n",
    "INSERT INTO OrderDetails VALUES(171,10311,42,6);\n",
    "INSERT INTO OrderDetails VALUES(172,10311,69,7);\n",
    "INSERT INTO OrderDetails VALUES(173,10312,28,4);\n",
    "INSERT INTO OrderDetails VALUES(174,10312,43,24);\n",
    "INSERT INTO OrderDetails VALUES(175,10312,53,20);\n",
    "INSERT INTO OrderDetails VALUES(176,10312,75,10);\n",
    "INSERT INTO OrderDetails VALUES(177,10313,36,12);\n",
    "INSERT INTO OrderDetails VALUES(178,10314,32,40);\n",
    "INSERT INTO OrderDetails VALUES(179,10314,58,30);\n",
    "INSERT INTO OrderDetails VALUES(180,10314,62,25);\n",
    "INSERT INTO OrderDetails VALUES(181,10315,34,14);\n",
    "INSERT INTO OrderDetails VALUES(182,10315,70,30);\n",
    "INSERT INTO OrderDetails VALUES(183,10316,41,10);\n",
    "INSERT INTO OrderDetails VALUES(184,10316,62,70);\n",
    "INSERT INTO OrderDetails VALUES(185,10317,1,20);\n",
    "INSERT INTO OrderDetails VALUES(186,10318,41,20);\n",
    "INSERT INTO OrderDetails VALUES(187,10318,76,6);\n",
    "INSERT INTO OrderDetails VALUES(188,10319,17,8);\n",
    "INSERT INTO OrderDetails VALUES(189,10319,28,14);\n",
    "INSERT INTO OrderDetails VALUES(190,10319,76,30);\n",
    "INSERT INTO OrderDetails VALUES(191,10320,71,30);\n",
    "INSERT INTO OrderDetails VALUES(192,10321,35,10);\n",
    "INSERT INTO OrderDetails VALUES(193,10322,52,20);\n",
    "INSERT INTO OrderDetails VALUES(194,10323,15,5);\n",
    "INSERT INTO OrderDetails VALUES(195,10323,25,4);\n",
    "INSERT INTO OrderDetails VALUES(196,10323,39,4);\n",
    "INSERT INTO OrderDetails VALUES(197,10324,16,21);\n",
    "INSERT INTO OrderDetails VALUES(198,10324,35,70);\n",
    "INSERT INTO OrderDetails VALUES(199,10324,46,30);\n",
    "INSERT INTO OrderDetails VALUES(200,10324,59,40);\n",
    "INSERT INTO OrderDetails VALUES(201,10324,63,80);\n",
    "INSERT INTO OrderDetails VALUES(202,10325,6,6);\n",
    "INSERT INTO OrderDetails VALUES(203,10325,13,12);\n",
    "INSERT INTO OrderDetails VALUES(204,10325,14,9);\n",
    "INSERT INTO OrderDetails VALUES(205,10325,31,4);\n",
    "INSERT INTO OrderDetails VALUES(206,10325,72,40);\n",
    "INSERT INTO OrderDetails VALUES(207,10326,4,24);\n",
    "INSERT INTO OrderDetails VALUES(208,10326,57,16);\n",
    "INSERT INTO OrderDetails VALUES(209,10326,75,50);\n",
    "INSERT INTO OrderDetails VALUES(210,10327,2,25);\n",
    "INSERT INTO OrderDetails VALUES(211,10327,11,50);\n",
    "INSERT INTO OrderDetails VALUES(212,10327,30,35);\n",
    "INSERT INTO OrderDetails VALUES(213,10327,58,30);\n",
    "INSERT INTO OrderDetails VALUES(214,10328,59,9);\n",
    "INSERT INTO OrderDetails VALUES(215,10328,65,40);\n",
    "INSERT INTO OrderDetails VALUES(216,10328,68,10);\n",
    "INSERT INTO OrderDetails VALUES(217,10329,19,10);\n",
    "INSERT INTO OrderDetails VALUES(218,10329,30,8);\n",
    "INSERT INTO OrderDetails VALUES(219,10329,38,20);\n",
    "INSERT INTO OrderDetails VALUES(220,10329,56,12);\n",
    "INSERT INTO OrderDetails VALUES(221,10330,26,50);\n",
    "INSERT INTO OrderDetails VALUES(222,10330,72,25);\n",
    "INSERT INTO OrderDetails VALUES(223,10331,54,15);\n",
    "INSERT INTO OrderDetails VALUES(224,10332,18,40);\n",
    "INSERT INTO OrderDetails VALUES(225,10332,42,10);\n",
    "INSERT INTO OrderDetails VALUES(226,10332,47,16);\n",
    "INSERT INTO OrderDetails VALUES(227,10333,14,10);\n",
    "INSERT INTO OrderDetails VALUES(228,10333,21,10);\n",
    "INSERT INTO OrderDetails VALUES(229,10333,71,40);\n",
    "INSERT INTO OrderDetails VALUES(230,10334,52,8);\n",
    "INSERT INTO OrderDetails VALUES(231,10334,68,10);\n",
    "INSERT INTO OrderDetails VALUES(232,10335,2,7);\n",
    "INSERT INTO OrderDetails VALUES(233,10335,31,25);\n",
    "INSERT INTO OrderDetails VALUES(234,10335,32,6);\n",
    "INSERT INTO OrderDetails VALUES(235,10335,51,48);\n",
    "INSERT INTO OrderDetails VALUES(236,10336,4,18);\n",
    "INSERT INTO OrderDetails VALUES(237,10337,23,40);\n",
    "INSERT INTO OrderDetails VALUES(238,10337,26,24);\n",
    "INSERT INTO OrderDetails VALUES(239,10337,36,20);\n",
    "INSERT INTO OrderDetails VALUES(240,10337,37,28);\n",
    "INSERT INTO OrderDetails VALUES(241,10337,72,25);\n",
    "INSERT INTO OrderDetails VALUES(242,10338,17,20);\n",
    "INSERT INTO OrderDetails VALUES(243,10338,30,15);\n",
    "INSERT INTO OrderDetails VALUES(244,10339,4,10);\n",
    "INSERT INTO OrderDetails VALUES(245,10339,17,70);\n",
    "INSERT INTO OrderDetails VALUES(246,10339,62,28);\n",
    "INSERT INTO OrderDetails VALUES(247,10340,18,20);\n",
    "INSERT INTO OrderDetails VALUES(248,10340,41,12);\n",
    "INSERT INTO OrderDetails VALUES(249,10340,43,40);\n",
    "INSERT INTO OrderDetails VALUES(250,10341,33,8);\n",
    "INSERT INTO OrderDetails VALUES(251,10341,59,9);\n",
    "INSERT INTO OrderDetails VALUES(252,10342,2,24);\n",
    "INSERT INTO OrderDetails VALUES(253,10342,31,56);\n",
    "INSERT INTO OrderDetails VALUES(254,10342,36,40);\n",
    "INSERT INTO OrderDetails VALUES(255,10342,55,40);\n",
    "INSERT INTO OrderDetails VALUES(256,10343,64,50);\n",
    "INSERT INTO OrderDetails VALUES(257,10343,68,4);\n",
    "INSERT INTO OrderDetails VALUES(258,10343,76,15);\n",
    "INSERT INTO OrderDetails VALUES(259,10344,4,35);\n",
    "INSERT INTO OrderDetails VALUES(260,10344,8,70);\n",
    "INSERT INTO OrderDetails VALUES(261,10345,8,70);\n",
    "INSERT INTO OrderDetails VALUES(262,10345,19,80);\n",
    "INSERT INTO OrderDetails VALUES(263,10345,42,9);\n",
    "INSERT INTO OrderDetails VALUES(264,10346,17,36);\n",
    "INSERT INTO OrderDetails VALUES(265,10346,56,20);\n",
    "INSERT INTO OrderDetails VALUES(266,10347,25,10);\n",
    "INSERT INTO OrderDetails VALUES(267,10347,39,50);\n",
    "INSERT INTO OrderDetails VALUES(268,10347,40,4);\n",
    "INSERT INTO OrderDetails VALUES(269,10347,75,6);\n",
    "INSERT INTO OrderDetails VALUES(270,10348,1,15);\n",
    "INSERT INTO OrderDetails VALUES(271,10348,23,25);\n",
    "INSERT INTO OrderDetails VALUES(272,10349,54,24);\n",
    "INSERT INTO OrderDetails VALUES(273,10350,50,15);\n",
    "INSERT INTO OrderDetails VALUES(274,10350,69,18);\n",
    "INSERT INTO OrderDetails VALUES(275,10351,38,20);\n",
    "INSERT INTO OrderDetails VALUES(276,10351,41,13);\n",
    "INSERT INTO OrderDetails VALUES(277,10351,44,77);\n",
    "INSERT INTO OrderDetails VALUES(278,10351,65,10);\n",
    "INSERT INTO OrderDetails VALUES(279,10352,24,10);\n",
    "INSERT INTO OrderDetails VALUES(280,10352,54,20);\n",
    "INSERT INTO OrderDetails VALUES(281,10353,11,12);\n",
    "INSERT INTO OrderDetails VALUES(282,10353,38,50);\n",
    "INSERT INTO OrderDetails VALUES(283,10354,1,12);\n",
    "INSERT INTO OrderDetails VALUES(284,10354,29,4);\n",
    "INSERT INTO OrderDetails VALUES(285,10355,24,25);\n",
    "INSERT INTO OrderDetails VALUES(286,10355,57,25);\n",
    "INSERT INTO OrderDetails VALUES(287,10356,31,30);\n",
    "INSERT INTO OrderDetails VALUES(288,10356,55,12);\n",
    "INSERT INTO OrderDetails VALUES(289,10356,69,20);\n",
    "INSERT INTO OrderDetails VALUES(290,10357,10,30);\n",
    "INSERT INTO OrderDetails VALUES(291,10357,26,16);\n",
    "INSERT INTO OrderDetails VALUES(292,10357,60,8);\n",
    "INSERT INTO OrderDetails VALUES(293,10358,24,10);\n",
    "INSERT INTO OrderDetails VALUES(294,10358,34,10);\n",
    "INSERT INTO OrderDetails VALUES(295,10358,36,20);\n",
    "INSERT INTO OrderDetails VALUES(296,10359,16,56);\n",
    "INSERT INTO OrderDetails VALUES(297,10359,31,70);\n",
    "INSERT INTO OrderDetails VALUES(298,10359,60,80);\n",
    "INSERT INTO OrderDetails VALUES(299,10360,28,30);\n",
    "INSERT INTO OrderDetails VALUES(300,10360,29,35);\n",
    "INSERT INTO OrderDetails VALUES(301,10360,38,10);\n",
    "INSERT INTO OrderDetails VALUES(302,10360,49,35);\n",
    "INSERT INTO OrderDetails VALUES(303,10360,54,28);\n",
    "INSERT INTO OrderDetails VALUES(304,10361,39,54);\n",
    "INSERT INTO OrderDetails VALUES(305,10361,60,55);\n",
    "INSERT INTO OrderDetails VALUES(306,10362,25,50);\n",
    "INSERT INTO OrderDetails VALUES(307,10362,51,20);\n",
    "INSERT INTO OrderDetails VALUES(308,10362,54,24);\n",
    "INSERT INTO OrderDetails VALUES(309,10363,31,20);\n",
    "INSERT INTO OrderDetails VALUES(310,10363,75,12);\n",
    "INSERT INTO OrderDetails VALUES(311,10363,76,12);\n",
    "INSERT INTO OrderDetails VALUES(312,10364,69,30);\n",
    "INSERT INTO OrderDetails VALUES(313,10364,71,5);\n",
    "INSERT INTO OrderDetails VALUES(314,10365,11,24);\n",
    "INSERT INTO OrderDetails VALUES(315,10366,65,5);\n",
    "INSERT INTO OrderDetails VALUES(316,10366,77,5);\n",
    "INSERT INTO OrderDetails VALUES(317,10367,34,36);\n",
    "INSERT INTO OrderDetails VALUES(318,10367,54,18);\n",
    "INSERT INTO OrderDetails VALUES(319,10367,65,15);\n",
    "INSERT INTO OrderDetails VALUES(320,10367,77,7);\n",
    "INSERT INTO OrderDetails VALUES(321,10368,21,5);\n",
    "INSERT INTO OrderDetails VALUES(322,10368,28,13);\n",
    "INSERT INTO OrderDetails VALUES(323,10368,57,25);\n",
    "INSERT INTO OrderDetails VALUES(324,10368,64,35);\n",
    "INSERT INTO OrderDetails VALUES(325,10369,29,20);\n",
    "INSERT INTO OrderDetails VALUES(326,10369,56,18);\n",
    "INSERT INTO OrderDetails VALUES(327,10370,1,15);\n",
    "INSERT INTO OrderDetails VALUES(328,10370,64,30);\n",
    "INSERT INTO OrderDetails VALUES(329,10370,74,20);\n",
    "INSERT INTO OrderDetails VALUES(330,10371,36,6);\n",
    "INSERT INTO OrderDetails VALUES(331,10372,20,12);\n",
    "INSERT INTO OrderDetails VALUES(332,10372,38,40);\n",
    "INSERT INTO OrderDetails VALUES(333,10372,60,70);\n",
    "INSERT INTO OrderDetails VALUES(334,10372,72,42);\n",
    "INSERT INTO OrderDetails VALUES(335,10373,58,80);\n",
    "INSERT INTO OrderDetails VALUES(336,10373,71,50);\n",
    "INSERT INTO OrderDetails VALUES(337,10374,31,30);\n",
    "INSERT INTO OrderDetails VALUES(338,10374,58,15);\n",
    "INSERT INTO OrderDetails VALUES(339,10375,14,15);\n",
    "INSERT INTO OrderDetails VALUES(340,10375,54,10);\n",
    "INSERT INTO OrderDetails VALUES(341,10376,31,42);\n",
    "INSERT INTO OrderDetails VALUES(342,10377,28,20);\n",
    "INSERT INTO OrderDetails VALUES(343,10377,39,20);\n",
    "INSERT INTO OrderDetails VALUES(344,10378,71,6);\n",
    "INSERT INTO OrderDetails VALUES(345,10379,41,8);\n",
    "INSERT INTO OrderDetails VALUES(346,10379,63,16);\n",
    "INSERT INTO OrderDetails VALUES(347,10379,65,20);\n",
    "INSERT INTO OrderDetails VALUES(348,10380,30,18);\n",
    "INSERT INTO OrderDetails VALUES(349,10380,53,20);\n",
    "INSERT INTO OrderDetails VALUES(350,10380,60,6);\n",
    "INSERT INTO OrderDetails VALUES(351,10380,70,30);\n",
    "INSERT INTO OrderDetails VALUES(352,10381,74,14);\n",
    "INSERT INTO OrderDetails VALUES(353,10382,5,32);\n",
    "INSERT INTO OrderDetails VALUES(354,10382,18,9);\n",
    "INSERT INTO OrderDetails VALUES(355,10382,29,14);\n",
    "INSERT INTO OrderDetails VALUES(356,10382,33,60);\n",
    "INSERT INTO OrderDetails VALUES(357,10382,74,50);\n",
    "INSERT INTO OrderDetails VALUES(358,10383,13,20);\n",
    "INSERT INTO OrderDetails VALUES(359,10383,50,15);\n",
    "INSERT INTO OrderDetails VALUES(360,10383,56,20);\n",
    "INSERT INTO OrderDetails VALUES(361,10384,20,28);\n",
    "INSERT INTO OrderDetails VALUES(362,10384,60,15);\n",
    "INSERT INTO OrderDetails VALUES(363,10385,7,10);\n",
    "INSERT INTO OrderDetails VALUES(364,10385,60,20);\n",
    "INSERT INTO OrderDetails VALUES(365,10385,68,8);\n",
    "INSERT INTO OrderDetails VALUES(366,10386,24,15);\n",
    "INSERT INTO OrderDetails VALUES(367,10386,34,10);\n",
    "INSERT INTO OrderDetails VALUES(368,10387,24,15);\n",
    "INSERT INTO OrderDetails VALUES(369,10387,28,6);\n",
    "INSERT INTO OrderDetails VALUES(370,10387,59,12);\n",
    "INSERT INTO OrderDetails VALUES(371,10387,71,15);\n",
    "INSERT INTO OrderDetails VALUES(372,10388,45,15);\n",
    "INSERT INTO OrderDetails VALUES(373,10388,52,20);\n",
    "INSERT INTO OrderDetails VALUES(374,10388,53,40);\n",
    "INSERT INTO OrderDetails VALUES(375,10389,10,16);\n",
    "INSERT INTO OrderDetails VALUES(376,10389,55,15);\n",
    "INSERT INTO OrderDetails VALUES(377,10389,62,20);\n",
    "INSERT INTO OrderDetails VALUES(378,10389,70,30);\n",
    "INSERT INTO OrderDetails VALUES(379,10390,31,60);\n",
    "INSERT INTO OrderDetails VALUES(380,10390,35,40);\n",
    "INSERT INTO OrderDetails VALUES(381,10390,46,45);\n",
    "INSERT INTO OrderDetails VALUES(382,10390,72,24);\n",
    "INSERT INTO OrderDetails VALUES(383,10391,13,18);\n",
    "INSERT INTO OrderDetails VALUES(384,10392,69,50);\n",
    "INSERT INTO OrderDetails VALUES(385,10393,2,25);\n",
    "INSERT INTO OrderDetails VALUES(386,10393,14,42);\n",
    "INSERT INTO OrderDetails VALUES(387,10393,25,7);\n",
    "INSERT INTO OrderDetails VALUES(388,10393,26,70);\n",
    "INSERT INTO OrderDetails VALUES(389,10393,31,32);\n",
    "INSERT INTO OrderDetails VALUES(390,10394,13,10);\n",
    "INSERT INTO OrderDetails VALUES(391,10394,62,10);\n",
    "INSERT INTO OrderDetails VALUES(392,10395,46,28);\n",
    "INSERT INTO OrderDetails VALUES(393,10395,53,70);\n",
    "INSERT INTO OrderDetails VALUES(394,10395,69,8);\n",
    "INSERT INTO OrderDetails VALUES(395,10396,23,40);\n",
    "INSERT INTO OrderDetails VALUES(396,10396,71,60);\n",
    "INSERT INTO OrderDetails VALUES(397,10396,72,21);\n",
    "INSERT INTO OrderDetails VALUES(398,10397,21,10);\n",
    "INSERT INTO OrderDetails VALUES(399,10397,51,18);\n",
    "INSERT INTO OrderDetails VALUES(400,10398,35,30);\n",
    "INSERT INTO OrderDetails VALUES(401,10398,55,120);\n",
    "INSERT INTO OrderDetails VALUES(402,10399,68,60);\n",
    "INSERT INTO OrderDetails VALUES(403,10399,71,30);\n",
    "INSERT INTO OrderDetails VALUES(404,10399,76,35);\n",
    "INSERT INTO OrderDetails VALUES(405,10399,77,14);\n",
    "INSERT INTO OrderDetails VALUES(406,10400,29,21);\n",
    "INSERT INTO OrderDetails VALUES(407,10400,35,35);\n",
    "INSERT INTO OrderDetails VALUES(408,10400,49,30);\n",
    "INSERT INTO OrderDetails VALUES(409,10401,30,18);\n",
    "INSERT INTO OrderDetails VALUES(410,10401,56,70);\n",
    "INSERT INTO OrderDetails VALUES(411,10401,65,20);\n",
    "INSERT INTO OrderDetails VALUES(412,10401,71,60);\n",
    "INSERT INTO OrderDetails VALUES(413,10402,23,60);\n",
    "INSERT INTO OrderDetails VALUES(414,10402,63,65);\n",
    "INSERT INTO OrderDetails VALUES(415,10403,16,21);\n",
    "INSERT INTO OrderDetails VALUES(416,10403,48,70);\n",
    "INSERT INTO OrderDetails VALUES(417,10404,26,30);\n",
    "INSERT INTO OrderDetails VALUES(418,10404,42,40);\n",
    "INSERT INTO OrderDetails VALUES(419,10404,49,30);\n",
    "INSERT INTO OrderDetails VALUES(420,10405,3,50);\n",
    "INSERT INTO OrderDetails VALUES(421,10406,1,10);\n",
    "INSERT INTO OrderDetails VALUES(422,10406,21,30);\n",
    "INSERT INTO OrderDetails VALUES(423,10406,28,42);\n",
    "INSERT INTO OrderDetails VALUES(424,10406,36,5);\n",
    "INSERT INTO OrderDetails VALUES(425,10406,40,2);\n",
    "INSERT INTO OrderDetails VALUES(426,10407,11,30);\n",
    "INSERT INTO OrderDetails VALUES(427,10407,69,15);\n",
    "INSERT INTO OrderDetails VALUES(428,10407,71,15);\n",
    "INSERT INTO OrderDetails VALUES(429,10408,37,10);\n",
    "INSERT INTO OrderDetails VALUES(430,10408,54,6);\n",
    "INSERT INTO OrderDetails VALUES(431,10408,62,35);\n",
    "INSERT INTO OrderDetails VALUES(432,10409,14,12);\n",
    "INSERT INTO OrderDetails VALUES(433,10409,21,12);\n",
    "INSERT INTO OrderDetails VALUES(434,10410,33,49);\n",
    "INSERT INTO OrderDetails VALUES(435,10410,59,16);\n",
    "INSERT INTO OrderDetails VALUES(436,10411,41,25);\n",
    "INSERT INTO OrderDetails VALUES(437,10411,44,40);\n",
    "INSERT INTO OrderDetails VALUES(438,10411,59,9);\n",
    "INSERT INTO OrderDetails VALUES(439,10412,14,20);\n",
    "INSERT INTO OrderDetails VALUES(440,10413,1,24);\n",
    "INSERT INTO OrderDetails VALUES(441,10413,62,40);\n",
    "INSERT INTO OrderDetails VALUES(442,10413,76,14);\n",
    "INSERT INTO OrderDetails VALUES(443,10414,19,18);\n",
    "INSERT INTO OrderDetails VALUES(444,10414,33,50);\n",
    "INSERT INTO OrderDetails VALUES(445,10415,17,2);\n",
    "INSERT INTO OrderDetails VALUES(446,10415,33,20);\n",
    "INSERT INTO OrderDetails VALUES(447,10416,19,20);\n",
    "INSERT INTO OrderDetails VALUES(448,10416,53,10);\n",
    "INSERT INTO OrderDetails VALUES(449,10416,57,20);\n",
    "INSERT INTO OrderDetails VALUES(450,10417,38,50);\n",
    "INSERT INTO OrderDetails VALUES(451,10417,46,2);\n",
    "INSERT INTO OrderDetails VALUES(452,10417,68,36);\n",
    "INSERT INTO OrderDetails VALUES(453,10417,77,35);\n",
    "INSERT INTO OrderDetails VALUES(454,10418,2,60);\n",
    "INSERT INTO OrderDetails VALUES(455,10418,47,55);\n",
    "INSERT INTO OrderDetails VALUES(456,10418,61,16);\n",
    "INSERT INTO OrderDetails VALUES(457,10418,74,15);\n",
    "INSERT INTO OrderDetails VALUES(458,10419,60,60);\n",
    "INSERT INTO OrderDetails VALUES(459,10419,69,20);\n",
    "INSERT INTO OrderDetails VALUES(460,10420,9,20);\n",
    "INSERT INTO OrderDetails VALUES(461,10420,13,2);\n",
    "INSERT INTO OrderDetails VALUES(462,10420,70,8);\n",
    "INSERT INTO OrderDetails VALUES(463,10420,73,20);\n",
    "INSERT INTO OrderDetails VALUES(464,10421,19,4);\n",
    "INSERT INTO OrderDetails VALUES(465,10421,26,30);\n",
    "INSERT INTO OrderDetails VALUES(466,10421,53,15);\n",
    "INSERT INTO OrderDetails VALUES(467,10421,77,10);\n",
    "INSERT INTO OrderDetails VALUES(468,10422,26,2);\n",
    "INSERT INTO OrderDetails VALUES(469,10423,31,14);\n",
    "INSERT INTO OrderDetails VALUES(470,10423,59,20);\n",
    "INSERT INTO OrderDetails VALUES(471,10424,35,60);\n",
    "INSERT INTO OrderDetails VALUES(472,10424,38,49);\n",
    "INSERT INTO OrderDetails VALUES(473,10424,68,30);\n",
    "INSERT INTO OrderDetails VALUES(474,10425,55,10);\n",
    "INSERT INTO OrderDetails VALUES(475,10425,76,20);\n",
    "INSERT INTO OrderDetails VALUES(476,10426,56,5);\n",
    "INSERT INTO OrderDetails VALUES(477,10426,64,7);\n",
    "INSERT INTO OrderDetails VALUES(478,10427,14,35);\n",
    "INSERT INTO OrderDetails VALUES(479,10428,46,20);\n",
    "INSERT INTO OrderDetails VALUES(480,10429,50,40);\n",
    "INSERT INTO OrderDetails VALUES(481,10429,63,35);\n",
    "INSERT INTO OrderDetails VALUES(482,10430,17,45);\n",
    "INSERT INTO OrderDetails VALUES(483,10430,21,50);\n",
    "INSERT INTO OrderDetails VALUES(484,10430,56,30);\n",
    "INSERT INTO OrderDetails VALUES(485,10430,59,70);\n",
    "INSERT INTO OrderDetails VALUES(486,10431,17,50);\n",
    "INSERT INTO OrderDetails VALUES(487,10431,40,50);\n",
    "INSERT INTO OrderDetails VALUES(488,10431,47,30);\n",
    "INSERT INTO OrderDetails VALUES(489,10432,26,10);\n",
    "INSERT INTO OrderDetails VALUES(490,10432,54,40);\n",
    "INSERT INTO OrderDetails VALUES(491,10433,56,28);\n",
    "INSERT INTO OrderDetails VALUES(492,10434,11,6);\n",
    "INSERT INTO OrderDetails VALUES(493,10434,76,18);\n",
    "INSERT INTO OrderDetails VALUES(494,10435,2,10);\n",
    "INSERT INTO OrderDetails VALUES(495,10435,22,12);\n",
    "INSERT INTO OrderDetails VALUES(496,10435,72,10);\n",
    "INSERT INTO OrderDetails VALUES(497,10436,46,5);\n",
    "INSERT INTO OrderDetails VALUES(498,10436,56,40);\n",
    "INSERT INTO OrderDetails VALUES(499,10436,64,30);\n",
    "INSERT INTO OrderDetails VALUES(500,10436,75,24);\n",
    "INSERT INTO OrderDetails VALUES(501,10437,53,15);\n",
    "INSERT INTO OrderDetails VALUES(502,10438,19,15);\n",
    "INSERT INTO OrderDetails VALUES(503,10438,34,20);\n",
    "INSERT INTO OrderDetails VALUES(504,10438,57,15);\n",
    "INSERT INTO OrderDetails VALUES(505,10439,12,15);\n",
    "INSERT INTO OrderDetails VALUES(506,10439,16,16);\n",
    "INSERT INTO OrderDetails VALUES(507,10439,64,6);\n",
    "INSERT INTO OrderDetails VALUES(508,10439,74,30);\n",
    "INSERT INTO OrderDetails VALUES(509,10440,2,45);\n",
    "INSERT INTO OrderDetails VALUES(510,10440,16,49);\n",
    "INSERT INTO OrderDetails VALUES(511,10440,29,24);\n",
    "INSERT INTO OrderDetails VALUES(512,10440,61,90);\n",
    "INSERT INTO OrderDetails VALUES(513,10441,27,50);\n",
    "INSERT INTO OrderDetails VALUES(514,10442,11,30);\n",
    "INSERT INTO OrderDetails VALUES(515,10442,54,80);\n",
    "INSERT INTO OrderDetails VALUES(516,10442,66,60);\n",
    "INSERT INTO OrderDetails VALUES(517,10443,11,6);\n",
    "INSERT INTO OrderDetails VALUES(518,10443,28,12);\n",
    "\"\"\"\n",
    ")"
   ]
  },
  {
   "cell_type": "markdown",
   "metadata": {},
   "source": [
    "## SQL 튜토리얼"
   ]
  },
  {
   "cell_type": "markdown",
   "metadata": {},
   "source": [
    "### SQL SELECT Statement"
   ]
  },
  {
   "cell_type": "code",
   "execution_count": 27,
   "metadata": {},
   "outputs": [
    {
     "name": "stdout",
     "output_type": "stream",
     "text": [
      "('Alfreds Futterkiste', 'Berlin')\n",
      "[('Ana Trujillo Emparedados y helados', 'México D.F.'), ('Antonio Moreno Taquería', 'México D.F.'), ('Around the Horn', 'London')]\n"
     ]
    }
   ],
   "source": [
    "cursor = con.cursor()\n",
    "cmd = \"\"\"\n",
    "SELECT customerName, city FROM Customers;\n",
    "\"\"\"\n",
    "cursor.execute(cmd)\n",
    "print(cursor.fetchone())\n",
    "print(cursor.fetchmany(3))"
   ]
  },
  {
   "cell_type": "code",
   "execution_count": 28,
   "metadata": {},
   "outputs": [
    {
     "data": {
      "text/plain": [
       "(1,\n",
       " 'Alfreds Futterkiste',\n",
       " 'Maria Anders',\n",
       " 'Obere Str. 57',\n",
       " 'Berlin',\n",
       " '12209',\n",
       " 'Germany')"
      ]
     },
     "execution_count": 28,
     "metadata": {},
     "output_type": "execute_result"
    }
   ],
   "source": [
    "cursor = con.cursor()\n",
    "cmd = \"\"\"\n",
    "SELECT * FROM Customers;\n",
    "\"\"\"\n",
    "cursor.execute(cmd)\n",
    "cursor.fetchone()"
   ]
  },
  {
   "cell_type": "markdown",
   "metadata": {},
   "source": [
    "### SQL SELECT DISTINCT Statement"
   ]
  },
  {
   "cell_type": "code",
   "execution_count": 29,
   "metadata": {},
   "outputs": [
    {
     "data": {
      "text/plain": [
       "[('Germany',),\n",
       " ('Mexico',),\n",
       " ('UK',),\n",
       " ('Sweden',),\n",
       " ('France',),\n",
       " ('Spain',),\n",
       " ('Canada',),\n",
       " ('Argentina',),\n",
       " ('Switzerland',),\n",
       " ('Brazil',),\n",
       " ('Austria',),\n",
       " ('Italy',),\n",
       " ('Portugal',),\n",
       " ('USA',),\n",
       " ('Venezuela',),\n",
       " ('Ireland',),\n",
       " ('Belgium',),\n",
       " ('Norway',),\n",
       " ('Denmark',),\n",
       " ('Finland',),\n",
       " ('Poland',)]"
      ]
     },
     "execution_count": 29,
     "metadata": {},
     "output_type": "execute_result"
    }
   ],
   "source": [
    "# 다른값만 반환\n",
    "cursor = con.cursor()\n",
    "cmd = \"\"\"\n",
    "SELECT DISTINCT country FROM Customers;\n",
    "\"\"\"\n",
    "cursor.execute(cmd)\n",
    "cursor.fetchall()"
   ]
  },
  {
   "cell_type": "markdown",
   "metadata": {},
   "source": [
    "### SELECT Example Without DISTINCT"
   ]
  },
  {
   "cell_type": "code",
   "execution_count": 30,
   "metadata": {},
   "outputs": [
    {
     "data": {
      "text/plain": [
       "[('Germany',),\n",
       " ('Mexico',),\n",
       " ('Mexico',),\n",
       " ('UK',),\n",
       " ('Sweden',),\n",
       " ('Germany',),\n",
       " ('France',),\n",
       " ('Spain',),\n",
       " ('France',),\n",
       " ('Canada',),\n",
       " ('UK',),\n",
       " ('Argentina',),\n",
       " ('Mexico',),\n",
       " ('Switzerland',),\n",
       " ('Brazil',),\n",
       " ('UK',),\n",
       " ('Germany',),\n",
       " ('France',),\n",
       " ('UK',),\n",
       " ('Austria',),\n",
       " ('Brazil',),\n",
       " ('Spain',),\n",
       " ('France',),\n",
       " ('Sweden',),\n",
       " ('Germany',),\n",
       " ('France',),\n",
       " ('Italy',),\n",
       " ('Portugal',),\n",
       " ('Spain',),\n",
       " ('Spain',),\n",
       " ('Brazil',),\n",
       " ('USA',),\n",
       " ('Venezuela',),\n",
       " ('Brazil',),\n",
       " ('Venezuela',),\n",
       " ('USA',),\n",
       " ('Ireland',),\n",
       " ('UK',),\n",
       " ('Germany',),\n",
       " ('France',),\n",
       " ('France',),\n",
       " ('Canada',),\n",
       " ('USA',),\n",
       " ('Germany',),\n",
       " ('USA',),\n",
       " ('Venezuela',),\n",
       " ('Venezuela',),\n",
       " ('USA',),\n",
       " ('Italy',),\n",
       " ('Belgium',),\n",
       " ('Canada',),\n",
       " ('Germany',),\n",
       " ('UK',),\n",
       " ('Argentina',),\n",
       " ('USA',),\n",
       " ('Germany',),\n",
       " ('France',),\n",
       " ('Mexico',),\n",
       " ('Austria',),\n",
       " ('Portugal',),\n",
       " ('Brazil',),\n",
       " ('Brazil',),\n",
       " ('Germany',),\n",
       " ('Argentina',),\n",
       " ('USA',),\n",
       " ('Italy',),\n",
       " ('Brazil',),\n",
       " ('Switzerland',),\n",
       " ('Spain',),\n",
       " ('Norway',),\n",
       " ('USA',),\n",
       " ('UK',),\n",
       " ('Denmark',),\n",
       " ('France',),\n",
       " ('USA',),\n",
       " ('Belgium',),\n",
       " ('USA',),\n",
       " ('USA',),\n",
       " ('Germany',),\n",
       " ('Mexico',),\n",
       " ('Brazil',),\n",
       " ('USA',),\n",
       " ('Denmark',),\n",
       " ('France',),\n",
       " ('France',),\n",
       " ('Germany',),\n",
       " ('Finland',),\n",
       " ('Brazil',),\n",
       " ('USA',),\n",
       " ('Finland',),\n",
       " ('Poland',)]"
      ]
     },
     "execution_count": 30,
     "metadata": {},
     "output_type": "execute_result"
    }
   ],
   "source": [
    "cursor = con.cursor()\n",
    "cmd = \"\"\"\n",
    "SELECT country FROM Customers;\n",
    "\"\"\"\n",
    "cursor.execute(cmd)\n",
    "cursor.fetchall()"
   ]
  },
  {
   "cell_type": "markdown",
   "metadata": {},
   "source": [
    "### Count Distinct"
   ]
  },
  {
   "cell_type": "code",
   "execution_count": 31,
   "metadata": {},
   "outputs": [
    {
     "data": {
      "text/plain": [
       "[(21,)]"
      ]
     },
     "execution_count": 31,
     "metadata": {},
     "output_type": "execute_result"
    }
   ],
   "source": [
    "cursor = con.cursor()\n",
    "cmd = \"\"\"\n",
    "SELECT COUNT(DISTINCT country) FROM Customers;\n",
    "\"\"\"\n",
    "cursor.execute(cmd)\n",
    "cursor.fetchall()"
   ]
  },
  {
   "cell_type": "markdown",
   "metadata": {},
   "source": [
    "### SQL WHERE Clause"
   ]
  },
  {
   "cell_type": "code",
   "execution_count": 32,
   "metadata": {},
   "outputs": [
    {
     "data": {
      "text/plain": [
       "[(7,\n",
       "  'Blondel père et fils',\n",
       "  'Frédérique Citeaux',\n",
       "  '24, place Kléber',\n",
       "  'Strasbourg',\n",
       "  '67000',\n",
       "  'France'),\n",
       " (9,\n",
       "  \"Bon app''\",\n",
       "  'Laurence Lebihans',\n",
       "  '12, rue des Bouchers',\n",
       "  'Marseille',\n",
       "  '13008',\n",
       "  'France'),\n",
       " (18,\n",
       "  'Du monde entier',\n",
       "  'Janine Labrune',\n",
       "  '67, rue des Cinquante Otages',\n",
       "  'Nantes',\n",
       "  '44000',\n",
       "  'France'),\n",
       " (23,\n",
       "  'Folies gourmandes',\n",
       "  'Martine Rancé',\n",
       "  '184, chaussée de Tournai',\n",
       "  'Lille',\n",
       "  '59000',\n",
       "  'France'),\n",
       " (26,\n",
       "  'France restauration',\n",
       "  'Carine Schmitt',\n",
       "  '54, rue Royale',\n",
       "  'Nantes',\n",
       "  '44000',\n",
       "  'France'),\n",
       " (40,\n",
       "  \"La corne d''abondance\",\n",
       "  'Daniel Tonini',\n",
       "  \"67, avenue de l''Europe\",\n",
       "  'Versailles',\n",
       "  '78000',\n",
       "  'France'),\n",
       " (41,\n",
       "  \"La maison d''Asie\",\n",
       "  'Annette Roulet',\n",
       "  '1 rue Alsace-Lorraine',\n",
       "  'Toulouse',\n",
       "  '31000',\n",
       "  'France'),\n",
       " (57,\n",
       "  'Paris spécialités',\n",
       "  'Marie Bertrand',\n",
       "  '265, boulevard Charonne',\n",
       "  'Paris',\n",
       "  '75012',\n",
       "  'France'),\n",
       " (74,\n",
       "  'Spécialités du monde',\n",
       "  'Dominique Perrier',\n",
       "  '25, rue Lauriston',\n",
       "  'Paris',\n",
       "  '75016',\n",
       "  'France'),\n",
       " (84,\n",
       "  'Victuailles en stock',\n",
       "  'Mary Saveley',\n",
       "  '2, rue du Commerce',\n",
       "  'Lyon',\n",
       "  '69004',\n",
       "  'France'),\n",
       " (85,\n",
       "  'Vins et alcools Chevalier',\n",
       "  'Paul Henriot',\n",
       "  \"59 rue de l''Abbaye\",\n",
       "  'Reims',\n",
       "  '51100',\n",
       "  'France')]"
      ]
     },
     "execution_count": 32,
     "metadata": {},
     "output_type": "execute_result"
    }
   ],
   "source": [
    "cursor = con.cursor()\n",
    "cmd = \"\"\"\n",
    "SELECT * FROM Customers\n",
    "WHERE country='France';\n",
    "\"\"\"\n",
    "cursor.execute(cmd)\n",
    "cursor.fetchall()"
   ]
  },
  {
   "cell_type": "markdown",
   "metadata": {},
   "source": [
    "### Operators in The WHERE Clause"
   ]
  },
  {
   "cell_type": "code",
   "execution_count": 33,
   "metadata": {},
   "outputs": [
    {
     "data": {
      "text/plain": [
       "[(31,\n",
       "  'Gourmet Lanchonetes',\n",
       "  'André Fonseca',\n",
       "  'Av. Brasil, 442',\n",
       "  'Campinas',\n",
       "  '04876-786',\n",
       "  'Brazil'),\n",
       " (32,\n",
       "  'Great Lakes Food Market',\n",
       "  'Howard Snyder',\n",
       "  '2732 Baker Blvd.',\n",
       "  'Eugene',\n",
       "  '97403',\n",
       "  'USA'),\n",
       " (33,\n",
       "  'GROSELLA-Restaurante',\n",
       "  'Manuel Pereira',\n",
       "  '5ª Ave. Los Palos Grandes',\n",
       "  'Caracas',\n",
       "  '1081',\n",
       "  'Venezuela'),\n",
       " (34,\n",
       "  'Hanari Carnes',\n",
       "  'Mario Pontes',\n",
       "  'Rua do Paço, 67',\n",
       "  'Rio de Janeiro',\n",
       "  '05454-876',\n",
       "  'Brazil'),\n",
       " (35,\n",
       "  'HILARIÓN-Abastos',\n",
       "  'Carlos Hernández',\n",
       "  'Carrera 22 con Ave. Carlos Soublette #8-35',\n",
       "  'San Cristóbal',\n",
       "  '5022',\n",
       "  'Venezuela'),\n",
       " (36,\n",
       "  'Hungry Coyote Import Store',\n",
       "  'Yoshi Latimer',\n",
       "  'City Center Plaza 516 Main St.',\n",
       "  'Elgin',\n",
       "  '97827',\n",
       "  'USA'),\n",
       " (37,\n",
       "  'Hungry Owl All-Night Grocers',\n",
       "  'Patricia McKenna',\n",
       "  '8 Johnstown Road',\n",
       "  'Cork',\n",
       "  '',\n",
       "  'Ireland'),\n",
       " (38,\n",
       "  'Island Trading',\n",
       "  'Helen Bennett',\n",
       "  'Garden House Crowther Way',\n",
       "  'Cowes',\n",
       "  'PO31 7PJ',\n",
       "  'UK'),\n",
       " (39,\n",
       "  'Königlich Essen',\n",
       "  'Philip Cramer',\n",
       "  'Maubelstr. 90',\n",
       "  'Brandenburg',\n",
       "  '14776',\n",
       "  'Germany'),\n",
       " (40,\n",
       "  \"La corne d''abondance\",\n",
       "  'Daniel Tonini',\n",
       "  \"67, avenue de l''Europe\",\n",
       "  'Versailles',\n",
       "  '78000',\n",
       "  'France'),\n",
       " (41,\n",
       "  \"La maison d''Asie\",\n",
       "  'Annette Roulet',\n",
       "  '1 rue Alsace-Lorraine',\n",
       "  'Toulouse',\n",
       "  '31000',\n",
       "  'France'),\n",
       " (42,\n",
       "  'Laughing Bacchus Wine Cellars',\n",
       "  'Yoshi Tannamuri',\n",
       "  '1900 Oak St.',\n",
       "  'Vancouver',\n",
       "  'V3F 2K1',\n",
       "  'Canada'),\n",
       " (43,\n",
       "  'Lazy K Kountry Store',\n",
       "  'John Steel',\n",
       "  '12 Orchestra Terrace',\n",
       "  'Walla Walla',\n",
       "  '99362',\n",
       "  'USA'),\n",
       " (44,\n",
       "  'Lehmanns Marktstand',\n",
       "  'Renate Messner',\n",
       "  'Magazinweg 7',\n",
       "  'Frankfurt a.M.',\n",
       "  '60528',\n",
       "  'Germany'),\n",
       " (45,\n",
       "  \"Let''s Stop N Shop\",\n",
       "  'Jaime Yorres',\n",
       "  '87 Polk St. Suite 5',\n",
       "  'San Francisco',\n",
       "  '94117',\n",
       "  'USA'),\n",
       " (46,\n",
       "  'LILA-Supermercado',\n",
       "  'Carlos González',\n",
       "  'Carrera 52 con Ave. Bolívar #65-98 Llano Largo',\n",
       "  'Barquisimeto',\n",
       "  '3508',\n",
       "  'Venezuela'),\n",
       " (47,\n",
       "  'LINO-Delicateses',\n",
       "  'Felipe Izquierdo',\n",
       "  'Ave. 5 de Mayo Porlamar',\n",
       "  'I. de Margarita',\n",
       "  '4980',\n",
       "  'Venezuela'),\n",
       " (48,\n",
       "  'Lonesome Pine Restaurant',\n",
       "  'Fran Wilson',\n",
       "  '89 Chiaroscuro Rd.',\n",
       "  'Portland',\n",
       "  '97219',\n",
       "  'USA'),\n",
       " (49,\n",
       "  'Magazzini Alimentari Riuniti',\n",
       "  'Giovanni Rovelli',\n",
       "  'Via Ludovico il Moro 22',\n",
       "  'Bergamo',\n",
       "  '24100',\n",
       "  'Italy'),\n",
       " (50,\n",
       "  'Maison Dewey',\n",
       "  'Catherine Dewey',\n",
       "  'Rue Joseph-Bens 532',\n",
       "  'Bruxelles',\n",
       "  'B-1180',\n",
       "  'Belgium'),\n",
       " (51,\n",
       "  'Mère Paillarde',\n",
       "  'Jean Fresnière',\n",
       "  '43 rue St. Laurent',\n",
       "  'Montréal',\n",
       "  'H1J 1C3',\n",
       "  'Canada'),\n",
       " (52,\n",
       "  'Morgenstern Gesundkost',\n",
       "  'Alexander Feuer',\n",
       "  'Heerstr. 22',\n",
       "  'Leipzig',\n",
       "  '4179',\n",
       "  'Germany'),\n",
       " (53,\n",
       "  'North/South',\n",
       "  'Simon Crowther',\n",
       "  'South House 300 Queensbridge',\n",
       "  'London',\n",
       "  'SW7 1RZ',\n",
       "  'UK'),\n",
       " (54,\n",
       "  'Océano Atlántico Ltda.',\n",
       "  'Yvonne Moncada',\n",
       "  'Ing. Gustavo Moncada 8585 Piso 20-A',\n",
       "  'Buenos Aires',\n",
       "  '1010',\n",
       "  'Argentina'),\n",
       " (55,\n",
       "  'Old World Delicatessen',\n",
       "  'Rene Phillips',\n",
       "  '2743 Bering St.',\n",
       "  'Anchorage',\n",
       "  '99508',\n",
       "  'USA'),\n",
       " (56,\n",
       "  'Ottilies Käseladen',\n",
       "  'Henriette Pfalzheim',\n",
       "  'Mehrheimerstr. 369',\n",
       "  'Köln',\n",
       "  '50739',\n",
       "  'Germany'),\n",
       " (57,\n",
       "  'Paris spécialités',\n",
       "  'Marie Bertrand',\n",
       "  '265, boulevard Charonne',\n",
       "  'Paris',\n",
       "  '75012',\n",
       "  'France'),\n",
       " (58,\n",
       "  'Pericles Comidas clásicas',\n",
       "  'Guillermo Fernández',\n",
       "  'Calle Dr. Jorge Cash 321',\n",
       "  'México D.F.',\n",
       "  '5033',\n",
       "  'Mexico'),\n",
       " (59,\n",
       "  'Piccolo und mehr',\n",
       "  'Georg Pipps',\n",
       "  'Geislweg 14',\n",
       "  'Salzburg',\n",
       "  '5020',\n",
       "  'Austria'),\n",
       " (60,\n",
       "  'Princesa Isabel Vinhoss',\n",
       "  'Isabel de Castro',\n",
       "  'Estrada da saúde n. 58',\n",
       "  'Lisboa',\n",
       "  '1756',\n",
       "  'Portugal'),\n",
       " (61,\n",
       "  'Que Delícia',\n",
       "  'Bernardo Batista',\n",
       "  'Rua da Panificadora, 12',\n",
       "  'Rio de Janeiro',\n",
       "  '02389-673',\n",
       "  'Brazil'),\n",
       " (62,\n",
       "  'Queen Cozinha',\n",
       "  'Lúcia Carvalho',\n",
       "  'Alameda dos Canàrios, 891',\n",
       "  'São Paulo',\n",
       "  '05487-020',\n",
       "  'Brazil'),\n",
       " (63,\n",
       "  'QUICK-Stop',\n",
       "  'Horst Kloss',\n",
       "  'Taucherstraße 10',\n",
       "  'Cunewalde',\n",
       "  '1307',\n",
       "  'Germany'),\n",
       " (64,\n",
       "  'Rancho grande',\n",
       "  'Sergio Gutiérrez',\n",
       "  'Av. del Libertador 900',\n",
       "  'Buenos Aires',\n",
       "  '1010',\n",
       "  'Argentina'),\n",
       " (65,\n",
       "  'Rattlesnake Canyon Grocery',\n",
       "  'Paula Wilson',\n",
       "  '2817 Milton Dr.',\n",
       "  'Albuquerque',\n",
       "  '87110',\n",
       "  'USA'),\n",
       " (66,\n",
       "  'Reggiani Caseifici',\n",
       "  'Maurizio Moroni',\n",
       "  'Strada Provinciale 124',\n",
       "  'Reggio Emilia',\n",
       "  '42100',\n",
       "  'Italy'),\n",
       " (67,\n",
       "  'Ricardo Adocicados',\n",
       "  'Janete Limeira',\n",
       "  'Av. Copacabana, 267',\n",
       "  'Rio de Janeiro',\n",
       "  '02389-890',\n",
       "  'Brazil'),\n",
       " (68,\n",
       "  'Richter Supermarkt',\n",
       "  'Michael Holz',\n",
       "  'Grenzacherweg 237',\n",
       "  'Genève',\n",
       "  '1203',\n",
       "  'Switzerland'),\n",
       " (69,\n",
       "  'Romero y tomillo',\n",
       "  'Alejandra Camino',\n",
       "  'Gran Vía, 1',\n",
       "  'Madrid',\n",
       "  '28001',\n",
       "  'Spain'),\n",
       " (70,\n",
       "  'Santé Gourmet',\n",
       "  'Jonas Bergulfsen',\n",
       "  'Erling Skakkes gate 78',\n",
       "  'Stavern',\n",
       "  '4110',\n",
       "  'Norway'),\n",
       " (71,\n",
       "  'Save-a-lot Markets',\n",
       "  'Jose Pavarotti',\n",
       "  '187 Suffolk Ln.',\n",
       "  'Boise',\n",
       "  '83720',\n",
       "  'USA'),\n",
       " (72,\n",
       "  'Seven Seas Imports',\n",
       "  'Hari Kumar',\n",
       "  '90 Wadhurst Rd.',\n",
       "  'London',\n",
       "  'OX15 4NB',\n",
       "  'UK'),\n",
       " (73,\n",
       "  'Simons bistro',\n",
       "  'Jytte Petersen',\n",
       "  'Vinbæltet 34',\n",
       "  'København',\n",
       "  '1734',\n",
       "  'Denmark'),\n",
       " (74,\n",
       "  'Spécialités du monde',\n",
       "  'Dominique Perrier',\n",
       "  '25, rue Lauriston',\n",
       "  'Paris',\n",
       "  '75016',\n",
       "  'France'),\n",
       " (75,\n",
       "  'Split Rail Beer & Ale',\n",
       "  'Art Braunschweiger',\n",
       "  'P.O. Box 555',\n",
       "  'Lander',\n",
       "  '82520',\n",
       "  'USA'),\n",
       " (76,\n",
       "  'Suprêmes délices',\n",
       "  'Pascale Cartrain',\n",
       "  'Boulevard Tirou, 255',\n",
       "  'Charleroi',\n",
       "  'B-6000',\n",
       "  'Belgium'),\n",
       " (77,\n",
       "  'The Big Cheese',\n",
       "  'Liz Nixon',\n",
       "  '89 Jefferson Way Suite 2',\n",
       "  'Portland',\n",
       "  '97201',\n",
       "  'USA'),\n",
       " (78,\n",
       "  'The Cracker Box',\n",
       "  'Liu Wong',\n",
       "  '55 Grizzly Peak Rd.',\n",
       "  'Butte',\n",
       "  '59801',\n",
       "  'USA'),\n",
       " (79,\n",
       "  'Toms Spezialitäten',\n",
       "  'Karin Josephs',\n",
       "  'Luisenstr. 48',\n",
       "  'Münster',\n",
       "  '44087',\n",
       "  'Germany'),\n",
       " (80,\n",
       "  'Tortuga Restaurante',\n",
       "  'Miguel Angel Paolino',\n",
       "  'Avda. Azteca 123',\n",
       "  'México D.F.',\n",
       "  '5033',\n",
       "  'Mexico'),\n",
       " (81,\n",
       "  'Tradição Hipermercados',\n",
       "  'Anabela Domingues',\n",
       "  'Av. Inês de Castro, 414',\n",
       "  'São Paulo',\n",
       "  '05634-030',\n",
       "  'Brazil'),\n",
       " (82,\n",
       "  \"Trail''s Head Gourmet Provisioners\",\n",
       "  'Helvetius Nagy',\n",
       "  '722 DaVinci Blvd.',\n",
       "  'Kirkland',\n",
       "  '98034',\n",
       "  'USA'),\n",
       " (83,\n",
       "  'Vaffeljernet',\n",
       "  'Palle Ibsen',\n",
       "  'Smagsløget 45',\n",
       "  'Århus',\n",
       "  '8200',\n",
       "  'Denmark'),\n",
       " (84,\n",
       "  'Victuailles en stock',\n",
       "  'Mary Saveley',\n",
       "  '2, rue du Commerce',\n",
       "  'Lyon',\n",
       "  '69004',\n",
       "  'France'),\n",
       " (85,\n",
       "  'Vins et alcools Chevalier',\n",
       "  'Paul Henriot',\n",
       "  \"59 rue de l''Abbaye\",\n",
       "  'Reims',\n",
       "  '51100',\n",
       "  'France'),\n",
       " (86,\n",
       "  'Die Wandernde Kuh',\n",
       "  'Rita Müller',\n",
       "  'Adenauerallee 900',\n",
       "  'Stuttgart',\n",
       "  '70563',\n",
       "  'Germany'),\n",
       " (87,\n",
       "  'Wartian Herkku',\n",
       "  'Pirkko Koskitalo',\n",
       "  'Torikatu 38',\n",
       "  'Oulu',\n",
       "  '90110',\n",
       "  'Finland'),\n",
       " (88,\n",
       "  'Wellington Importadora',\n",
       "  'Paula Parente',\n",
       "  'Rua do Mercado, 12',\n",
       "  'Resende',\n",
       "  '08737-363',\n",
       "  'Brazil'),\n",
       " (89,\n",
       "  'White Clover Markets',\n",
       "  'Karl Jablonski',\n",
       "  '305 - 14th Ave. S. Suite 3B',\n",
       "  'Seattle',\n",
       "  '98128',\n",
       "  'USA'),\n",
       " (90,\n",
       "  'Wilman Kala',\n",
       "  'Matti Karttunen',\n",
       "  'Keskuskatu 45',\n",
       "  'Helsinki',\n",
       "  '21240',\n",
       "  'Finland'),\n",
       " (91, 'Wolski', 'Zbyszek', 'ul. Filtrowa 68', 'Walla', '01-012', 'Poland')]"
      ]
     },
     "execution_count": 33,
     "metadata": {},
     "output_type": "execute_result"
    }
   ],
   "source": [
    "cursor = con.cursor()\n",
    "cmd = \"\"\"\n",
    "SELECT * FROM Customers\n",
    "WHERE CustomerID > 30;\n",
    "\"\"\"\n",
    "cursor.execute(cmd)\n",
    "cursor.fetchall()"
   ]
  },
  {
   "cell_type": "markdown",
   "metadata": {},
   "source": [
    "### SQL ORDER BY Keyword"
   ]
  },
  {
   "cell_type": "code",
   "execution_count": 34,
   "metadata": {},
   "outputs": [
    {
     "data": {
      "text/plain": [
       "[(91,),\n",
       " (90,),\n",
       " (89,),\n",
       " (88,),\n",
       " (87,),\n",
       " (86,),\n",
       " (85,),\n",
       " (84,),\n",
       " (83,),\n",
       " (82,),\n",
       " (81,),\n",
       " (80,),\n",
       " (79,),\n",
       " (78,),\n",
       " (77,),\n",
       " (76,),\n",
       " (75,),\n",
       " (74,),\n",
       " (73,),\n",
       " (72,),\n",
       " (71,),\n",
       " (70,),\n",
       " (69,),\n",
       " (68,),\n",
       " (67,),\n",
       " (66,),\n",
       " (65,),\n",
       " (64,),\n",
       " (63,),\n",
       " (62,),\n",
       " (61,),\n",
       " (60,),\n",
       " (59,),\n",
       " (58,),\n",
       " (57,),\n",
       " (56,),\n",
       " (55,),\n",
       " (54,),\n",
       " (53,),\n",
       " (52,),\n",
       " (51,),\n",
       " (50,),\n",
       " (49,),\n",
       " (48,),\n",
       " (47,),\n",
       " (46,),\n",
       " (45,),\n",
       " (44,),\n",
       " (43,),\n",
       " (42,),\n",
       " (41,),\n",
       " (40,),\n",
       " (39,),\n",
       " (38,),\n",
       " (37,),\n",
       " (36,),\n",
       " (35,),\n",
       " (34,),\n",
       " (33,),\n",
       " (32,),\n",
       " (31,),\n",
       " (30,),\n",
       " (29,),\n",
       " (28,),\n",
       " (27,),\n",
       " (26,),\n",
       " (25,),\n",
       " (24,),\n",
       " (23,),\n",
       " (22,),\n",
       " (21,),\n",
       " (20,),\n",
       " (19,),\n",
       " (18,),\n",
       " (17,),\n",
       " (16,),\n",
       " (15,),\n",
       " (14,),\n",
       " (13,),\n",
       " (12,),\n",
       " (11,),\n",
       " (10,),\n",
       " (9,),\n",
       " (8,),\n",
       " (7,),\n",
       " (6,),\n",
       " (5,),\n",
       " (4,),\n",
       " (3,),\n",
       " (2,),\n",
       " (1,)]"
      ]
     },
     "execution_count": 34,
     "metadata": {},
     "output_type": "execute_result"
    }
   ],
   "source": [
    "cursor = con.cursor()\n",
    "cmd = \"\"\"\n",
    "SELECT CustomerID \n",
    "FROM Customers\n",
    "ORDER BY CustomerID DESC;\n",
    "\"\"\"\n",
    "cursor.execute(cmd)\n",
    "cursor.fetchall()"
   ]
  },
  {
   "cell_type": "code",
   "execution_count": 35,
   "metadata": {},
   "outputs": [
    {
     "data": {
      "text/plain": [
       "[('Alfreds Futterkiste',),\n",
       " ('Ana Trujillo Emparedados y helados',),\n",
       " ('Antonio Moreno Taquería',),\n",
       " ('Around the Horn',),\n",
       " (\"B''s Beverages\",),\n",
       " ('Berglunds snabbköp',),\n",
       " ('Blauer See Delikatessen',),\n",
       " ('Blondel père et fils',),\n",
       " (\"Bon app''\",),\n",
       " ('Bottom-Dollar Marketse',),\n",
       " ('Bólido Comidas preparadas',),\n",
       " ('Cactus Comidas para llevar',),\n",
       " ('Centro comercial Moctezuma',),\n",
       " ('Chop-suey Chinese',),\n",
       " ('Comércio Mineiro',),\n",
       " ('Consolidated Holdings',),\n",
       " ('Die Wandernde Kuh',),\n",
       " ('Drachenblut Delikatessend',),\n",
       " ('Du monde entier',),\n",
       " ('Eastern Connection',),\n",
       " ('Ernst Handel',),\n",
       " ('FISSA Fabrica Inter. Salchichas S.A.',),\n",
       " ('Familia Arquibaldo',),\n",
       " ('Folies gourmandes',),\n",
       " ('Folk och fä HB',),\n",
       " ('France restauration',),\n",
       " ('Franchi S.p.A.',),\n",
       " ('Frankenversand',),\n",
       " ('Furia Bacalhau e Frutos do Mar',),\n",
       " ('GROSELLA-Restaurante',),\n",
       " ('Galería del gastrónomo',),\n",
       " ('Godos Cocina Típica',),\n",
       " ('Gourmet Lanchonetes',),\n",
       " ('Great Lakes Food Market',),\n",
       " ('HILARIÓN-Abastos',),\n",
       " ('Hanari Carnes',),\n",
       " ('Hungry Coyote Import Store',),\n",
       " ('Hungry Owl All-Night Grocers',),\n",
       " ('Island Trading',),\n",
       " ('Königlich Essen',),\n",
       " ('LILA-Supermercado',),\n",
       " ('LINO-Delicateses',),\n",
       " (\"La corne d''abondance\",),\n",
       " (\"La maison d''Asie\",),\n",
       " ('Laughing Bacchus Wine Cellars',),\n",
       " ('Lazy K Kountry Store',),\n",
       " ('Lehmanns Marktstand',),\n",
       " (\"Let''s Stop N Shop\",),\n",
       " ('Lonesome Pine Restaurant',),\n",
       " ('Magazzini Alimentari Riuniti',),\n",
       " ('Maison Dewey',),\n",
       " ('Morgenstern Gesundkost',),\n",
       " ('Mère Paillarde',),\n",
       " ('North/South',),\n",
       " ('Océano Atlántico Ltda.',),\n",
       " ('Old World Delicatessen',),\n",
       " ('Ottilies Käseladen',),\n",
       " ('Paris spécialités',),\n",
       " ('Pericles Comidas clásicas',),\n",
       " ('Piccolo und mehr',),\n",
       " ('Princesa Isabel Vinhoss',),\n",
       " ('QUICK-Stop',),\n",
       " ('Que Delícia',),\n",
       " ('Queen Cozinha',),\n",
       " ('Rancho grande',),\n",
       " ('Rattlesnake Canyon Grocery',),\n",
       " ('Reggiani Caseifici',),\n",
       " ('Ricardo Adocicados',),\n",
       " ('Richter Supermarkt',),\n",
       " ('Romero y tomillo',),\n",
       " ('Santé Gourmet',),\n",
       " ('Save-a-lot Markets',),\n",
       " ('Seven Seas Imports',),\n",
       " ('Simons bistro',),\n",
       " ('Split Rail Beer & Ale',),\n",
       " ('Spécialités du monde',),\n",
       " ('Suprêmes délices',),\n",
       " ('The Big Cheese',),\n",
       " ('The Cracker Box',),\n",
       " ('Toms Spezialitäten',),\n",
       " ('Tortuga Restaurante',),\n",
       " ('Tradição Hipermercados',),\n",
       " (\"Trail''s Head Gourmet Provisioners\",),\n",
       " ('Vaffeljernet',),\n",
       " ('Victuailles en stock',),\n",
       " ('Vins et alcools Chevalier',),\n",
       " ('Wartian Herkku',),\n",
       " ('Wellington Importadora',),\n",
       " ('White Clover Markets',),\n",
       " ('Wilman Kala',),\n",
       " ('Wolski',)]"
      ]
     },
     "execution_count": 35,
     "metadata": {},
     "output_type": "execute_result"
    }
   ],
   "source": [
    "cursor = con.cursor()\n",
    "cmd = \"\"\"\n",
    "SELECT customerName FROM Customers\n",
    "ORDER BY customerName;\n",
    "\"\"\"\n",
    "cursor.execute(cmd)\n",
    "cursor.fetchall()"
   ]
  },
  {
   "cell_type": "code",
   "execution_count": 36,
   "metadata": {},
   "outputs": [
    {
     "data": {
      "text/plain": [
       "[('Argentina', 'Rancho grande'),\n",
       " ('Argentina', 'Océano Atlántico Ltda.'),\n",
       " ('Argentina', 'Cactus Comidas para llevar'),\n",
       " ('Austria', 'Piccolo und mehr'),\n",
       " ('Austria', 'Ernst Handel'),\n",
       " ('Belgium', 'Suprêmes délices'),\n",
       " ('Belgium', 'Maison Dewey'),\n",
       " ('Brazil', 'Wellington Importadora'),\n",
       " ('Brazil', 'Tradição Hipermercados'),\n",
       " ('Brazil', 'Ricardo Adocicados'),\n",
       " ('Brazil', 'Queen Cozinha'),\n",
       " ('Brazil', 'Que Delícia'),\n",
       " ('Brazil', 'Hanari Carnes'),\n",
       " ('Brazil', 'Gourmet Lanchonetes'),\n",
       " ('Brazil', 'Familia Arquibaldo'),\n",
       " ('Brazil', 'Comércio Mineiro'),\n",
       " ('Canada', 'Mère Paillarde'),\n",
       " ('Canada', 'Laughing Bacchus Wine Cellars'),\n",
       " ('Canada', 'Bottom-Dollar Marketse'),\n",
       " ('Denmark', 'Vaffeljernet'),\n",
       " ('Denmark', 'Simons bistro'),\n",
       " ('Finland', 'Wilman Kala'),\n",
       " ('Finland', 'Wartian Herkku'),\n",
       " ('France', 'Vins et alcools Chevalier'),\n",
       " ('France', 'Victuailles en stock'),\n",
       " ('France', 'Spécialités du monde'),\n",
       " ('France', 'Paris spécialités'),\n",
       " ('France', \"La maison d''Asie\"),\n",
       " ('France', \"La corne d''abondance\"),\n",
       " ('France', 'France restauration'),\n",
       " ('France', 'Folies gourmandes'),\n",
       " ('France', 'Du monde entier'),\n",
       " ('France', \"Bon app''\"),\n",
       " ('France', 'Blondel père et fils'),\n",
       " ('Germany', 'Toms Spezialitäten'),\n",
       " ('Germany', 'QUICK-Stop'),\n",
       " ('Germany', 'Ottilies Käseladen'),\n",
       " ('Germany', 'Morgenstern Gesundkost'),\n",
       " ('Germany', 'Lehmanns Marktstand'),\n",
       " ('Germany', 'Königlich Essen'),\n",
       " ('Germany', 'Frankenversand'),\n",
       " ('Germany', 'Drachenblut Delikatessend'),\n",
       " ('Germany', 'Die Wandernde Kuh'),\n",
       " ('Germany', 'Blauer See Delikatessen'),\n",
       " ('Germany', 'Alfreds Futterkiste'),\n",
       " ('Ireland', 'Hungry Owl All-Night Grocers'),\n",
       " ('Italy', 'Reggiani Caseifici'),\n",
       " ('Italy', 'Magazzini Alimentari Riuniti'),\n",
       " ('Italy', 'Franchi S.p.A.'),\n",
       " ('Mexico', 'Tortuga Restaurante'),\n",
       " ('Mexico', 'Pericles Comidas clásicas'),\n",
       " ('Mexico', 'Centro comercial Moctezuma'),\n",
       " ('Mexico', 'Antonio Moreno Taquería'),\n",
       " ('Mexico', 'Ana Trujillo Emparedados y helados'),\n",
       " ('Norway', 'Santé Gourmet'),\n",
       " ('Poland', 'Wolski'),\n",
       " ('Portugal', 'Princesa Isabel Vinhoss'),\n",
       " ('Portugal', 'Furia Bacalhau e Frutos do Mar'),\n",
       " ('Spain', 'Romero y tomillo'),\n",
       " ('Spain', 'Godos Cocina Típica'),\n",
       " ('Spain', 'Galería del gastrónomo'),\n",
       " ('Spain', 'FISSA Fabrica Inter. Salchichas S.A.'),\n",
       " ('Spain', 'Bólido Comidas preparadas'),\n",
       " ('Sweden', 'Folk och fä HB'),\n",
       " ('Sweden', 'Berglunds snabbköp'),\n",
       " ('Switzerland', 'Richter Supermarkt'),\n",
       " ('Switzerland', 'Chop-suey Chinese'),\n",
       " ('UK', 'Seven Seas Imports'),\n",
       " ('UK', 'North/South'),\n",
       " ('UK', 'Island Trading'),\n",
       " ('UK', 'Eastern Connection'),\n",
       " ('UK', 'Consolidated Holdings'),\n",
       " ('UK', \"B''s Beverages\"),\n",
       " ('UK', 'Around the Horn'),\n",
       " ('USA', 'White Clover Markets'),\n",
       " ('USA', \"Trail''s Head Gourmet Provisioners\"),\n",
       " ('USA', 'The Cracker Box'),\n",
       " ('USA', 'The Big Cheese'),\n",
       " ('USA', 'Split Rail Beer & Ale'),\n",
       " ('USA', 'Save-a-lot Markets'),\n",
       " ('USA', 'Rattlesnake Canyon Grocery'),\n",
       " ('USA', 'Old World Delicatessen'),\n",
       " ('USA', 'Lonesome Pine Restaurant'),\n",
       " ('USA', \"Let''s Stop N Shop\"),\n",
       " ('USA', 'Lazy K Kountry Store'),\n",
       " ('USA', 'Hungry Coyote Import Store'),\n",
       " ('USA', 'Great Lakes Food Market'),\n",
       " ('Venezuela', 'LINO-Delicateses'),\n",
       " ('Venezuela', 'LILA-Supermercado'),\n",
       " ('Venezuela', 'HILARIÓN-Abastos'),\n",
       " ('Venezuela', 'GROSELLA-Restaurante')]"
      ]
     },
     "execution_count": 36,
     "metadata": {},
     "output_type": "execute_result"
    }
   ],
   "source": [
    "cursor = con.cursor()\n",
    "cmd = \"\"\"\n",
    "SELECT country, customerName FROM Customers\n",
    "ORDER BY country ASC, customerName DESC;\n",
    "\"\"\"\n",
    "cursor.execute(cmd)\n",
    "cursor.fetchall()"
   ]
  },
  {
   "cell_type": "markdown",
   "metadata": {},
   "source": [
    "### SQL AND Operator"
   ]
  },
  {
   "cell_type": "code",
   "execution_count": 37,
   "metadata": {},
   "outputs": [
    {
     "data": {
      "text/plain": [
       "[]"
      ]
     },
     "execution_count": 37,
     "metadata": {},
     "output_type": "execute_result"
    }
   ],
   "source": [
    "cursor = con.cursor()\n",
    "cmd = \"\"\"\n",
    "SELECT CustomerName, Country\n",
    "FROM Customers\n",
    "WHERE Country = 'USA' AND CustomerName LIKE 'A%'\n",
    "\"\"\"\n",
    "cursor.execute(cmd)\n",
    "cursor.fetchall()"
   ]
  },
  {
   "cell_type": "markdown",
   "metadata": {},
   "source": [
    "### Combining AND and OR"
   ]
  },
  {
   "cell_type": "code",
   "execution_count": 38,
   "metadata": {},
   "outputs": [
    {
     "data": {
      "text/plain": [
       "[('Great Lakes Food Market', 'USA')]"
      ]
     },
     "execution_count": 38,
     "metadata": {},
     "output_type": "execute_result"
    }
   ],
   "source": [
    "cursor = con.cursor()\n",
    "cmd = \"\"\"\n",
    "SELECT customerName, country\n",
    "FROM Customers\n",
    "WHERE country = 'USA' \n",
    "AND (customerName LIKE 'M%' OR customerName LIKE 'G%');\n",
    "\"\"\"\n",
    "cursor.execute(cmd)\n",
    "cursor.fetchall()"
   ]
  },
  {
   "cell_type": "code",
   "execution_count": 39,
   "metadata": {},
   "outputs": [
    {
     "data": {
      "text/plain": [
       "[('Alfreds Futterkiste', 'Germany'),\n",
       " ('Ana Trujillo Emparedados y helados', 'Mexico'),\n",
       " ('Antonio Moreno Taquería', 'Mexico'),\n",
       " ('Around the Horn', 'UK')]"
      ]
     },
     "execution_count": 39,
     "metadata": {},
     "output_type": "execute_result"
    }
   ],
   "source": [
    "cursor = con.cursor()\n",
    "cmd = \"\"\"\n",
    "SELECT customerName, country\n",
    "FROM Customers\n",
    "WHERE country = 'USA' \n",
    "AND customerName LIKE 'M%' \n",
    "OR customerName LIKE 'A%';\n",
    "\"\"\"\n",
    "cursor.execute(cmd)\n",
    "cursor.fetchall()"
   ]
  },
  {
   "cell_type": "markdown",
   "metadata": {},
   "source": [
    "### SQL OR Operator"
   ]
  },
  {
   "cell_type": "code",
   "execution_count": 40,
   "metadata": {},
   "outputs": [
    {
     "data": {
      "text/plain": [
       "[('Blondel père et fils', 'France'),\n",
       " (\"Bon app''\", 'France'),\n",
       " ('Du monde entier', 'France'),\n",
       " ('Folies gourmandes', 'France'),\n",
       " ('France restauration', 'France'),\n",
       " ('Great Lakes Food Market', 'USA'),\n",
       " ('Hungry Coyote Import Store', 'USA'),\n",
       " (\"La corne d''abondance\", 'France'),\n",
       " (\"La maison d''Asie\", 'France'),\n",
       " ('Lazy K Kountry Store', 'USA'),\n",
       " (\"Let''s Stop N Shop\", 'USA'),\n",
       " ('Lonesome Pine Restaurant', 'USA'),\n",
       " ('Old World Delicatessen', 'USA'),\n",
       " ('Paris spécialités', 'France'),\n",
       " ('Rattlesnake Canyon Grocery', 'USA'),\n",
       " ('Save-a-lot Markets', 'USA'),\n",
       " ('Spécialités du monde', 'France'),\n",
       " ('Split Rail Beer & Ale', 'USA'),\n",
       " ('The Big Cheese', 'USA'),\n",
       " ('The Cracker Box', 'USA'),\n",
       " (\"Trail''s Head Gourmet Provisioners\", 'USA'),\n",
       " ('Victuailles en stock', 'France'),\n",
       " ('Vins et alcools Chevalier', 'France'),\n",
       " ('White Clover Markets', 'USA')]"
      ]
     },
     "execution_count": 40,
     "metadata": {},
     "output_type": "execute_result"
    }
   ],
   "source": [
    "cursor = con.cursor()\n",
    "cmd = \"\"\"\n",
    "SELECT customerName, country\n",
    "FROM Customers\n",
    "WHERE country = 'USA' \n",
    "OR country = 'France'\n",
    "\"\"\"\n",
    "cursor.execute(cmd)\n",
    "cursor.fetchall()"
   ]
  },
  {
   "cell_type": "markdown",
   "metadata": {},
   "source": [
    "### SQL Not"
   ]
  },
  {
   "cell_type": "code",
   "execution_count": 41,
   "metadata": {},
   "outputs": [
    {
     "data": {
      "text/plain": [
       "[('Alfreds Futterkiste', 'Germany'),\n",
       " ('Ana Trujillo Emparedados y helados', 'Mexico'),\n",
       " ('Antonio Moreno Taquería', 'Mexico'),\n",
       " ('Around the Horn', 'UK'),\n",
       " ('Berglunds snabbköp', 'Sweden'),\n",
       " ('Blauer See Delikatessen', 'Germany'),\n",
       " ('Blondel père et fils', 'France'),\n",
       " ('Bólido Comidas preparadas', 'Spain'),\n",
       " (\"Bon app''\", 'France'),\n",
       " ('Bottom-Dollar Marketse', 'Canada'),\n",
       " (\"B''s Beverages\", 'UK'),\n",
       " ('Cactus Comidas para llevar', 'Argentina'),\n",
       " ('Centro comercial Moctezuma', 'Mexico'),\n",
       " ('Chop-suey Chinese', 'Switzerland'),\n",
       " ('Comércio Mineiro', 'Brazil'),\n",
       " ('Consolidated Holdings', 'UK'),\n",
       " ('Drachenblut Delikatessend', 'Germany'),\n",
       " ('Du monde entier', 'France'),\n",
       " ('Eastern Connection', 'UK'),\n",
       " ('Ernst Handel', 'Austria'),\n",
       " ('Familia Arquibaldo', 'Brazil'),\n",
       " ('FISSA Fabrica Inter. Salchichas S.A.', 'Spain'),\n",
       " ('Folies gourmandes', 'France'),\n",
       " ('Folk och fä HB', 'Sweden'),\n",
       " ('Frankenversand', 'Germany'),\n",
       " ('France restauration', 'France'),\n",
       " ('Franchi S.p.A.', 'Italy'),\n",
       " ('Furia Bacalhau e Frutos do Mar', 'Portugal'),\n",
       " ('Galería del gastrónomo', 'Spain'),\n",
       " ('Godos Cocina Típica', 'Spain'),\n",
       " ('Gourmet Lanchonetes', 'Brazil'),\n",
       " ('GROSELLA-Restaurante', 'Venezuela'),\n",
       " ('Hanari Carnes', 'Brazil'),\n",
       " ('HILARIÓN-Abastos', 'Venezuela'),\n",
       " ('Hungry Owl All-Night Grocers', 'Ireland'),\n",
       " ('Island Trading', 'UK'),\n",
       " ('Königlich Essen', 'Germany'),\n",
       " (\"La corne d''abondance\", 'France'),\n",
       " (\"La maison d''Asie\", 'France'),\n",
       " ('Laughing Bacchus Wine Cellars', 'Canada'),\n",
       " ('Lehmanns Marktstand', 'Germany'),\n",
       " ('LILA-Supermercado', 'Venezuela'),\n",
       " ('LINO-Delicateses', 'Venezuela'),\n",
       " ('Magazzini Alimentari Riuniti', 'Italy'),\n",
       " ('Maison Dewey', 'Belgium'),\n",
       " ('Mère Paillarde', 'Canada'),\n",
       " ('Morgenstern Gesundkost', 'Germany'),\n",
       " ('North/South', 'UK'),\n",
       " ('Océano Atlántico Ltda.', 'Argentina'),\n",
       " ('Ottilies Käseladen', 'Germany'),\n",
       " ('Paris spécialités', 'France'),\n",
       " ('Pericles Comidas clásicas', 'Mexico'),\n",
       " ('Piccolo und mehr', 'Austria'),\n",
       " ('Princesa Isabel Vinhoss', 'Portugal'),\n",
       " ('Que Delícia', 'Brazil'),\n",
       " ('Queen Cozinha', 'Brazil'),\n",
       " ('QUICK-Stop', 'Germany'),\n",
       " ('Rancho grande', 'Argentina'),\n",
       " ('Reggiani Caseifici', 'Italy'),\n",
       " ('Ricardo Adocicados', 'Brazil'),\n",
       " ('Richter Supermarkt', 'Switzerland'),\n",
       " ('Romero y tomillo', 'Spain'),\n",
       " ('Santé Gourmet', 'Norway'),\n",
       " ('Seven Seas Imports', 'UK'),\n",
       " ('Simons bistro', 'Denmark'),\n",
       " ('Spécialités du monde', 'France'),\n",
       " ('Suprêmes délices', 'Belgium'),\n",
       " ('Toms Spezialitäten', 'Germany'),\n",
       " ('Tortuga Restaurante', 'Mexico'),\n",
       " ('Tradição Hipermercados', 'Brazil'),\n",
       " ('Vaffeljernet', 'Denmark'),\n",
       " ('Victuailles en stock', 'France'),\n",
       " ('Vins et alcools Chevalier', 'France'),\n",
       " ('Die Wandernde Kuh', 'Germany'),\n",
       " ('Wartian Herkku', 'Finland'),\n",
       " ('Wellington Importadora', 'Brazil'),\n",
       " ('Wilman Kala', 'Finland'),\n",
       " ('Wolski', 'Poland')]"
      ]
     },
     "execution_count": 41,
     "metadata": {},
     "output_type": "execute_result"
    }
   ],
   "source": [
    "cursor = con.cursor()\n",
    "cmd = \"\"\"\n",
    "SELECT customerName, country\n",
    "FROM Customers\n",
    "WHERE NOT country = 'USA';\n",
    "\"\"\"\n",
    "cursor.execute(cmd)\n",
    "cursor.fetchall()"
   ]
  },
  {
   "cell_type": "code",
   "execution_count": 42,
   "metadata": {},
   "outputs": [
    {
     "data": {
      "text/plain": [
       "[('Alfreds Futterkiste', 'Germany'),\n",
       " ('Ana Trujillo Emparedados y helados', 'Mexico'),\n",
       " ('Antonio Moreno Taquería', 'Mexico'),\n",
       " ('Around the Horn', 'UK'),\n",
       " ('Berglunds snabbköp', 'Sweden'),\n",
       " ('Blauer See Delikatessen', 'Germany'),\n",
       " ('Blondel père et fils', 'France'),\n",
       " ('Bólido Comidas preparadas', 'Spain'),\n",
       " (\"Bon app''\", 'France'),\n",
       " ('Bottom-Dollar Marketse', 'Canada'),\n",
       " (\"B''s Beverages\", 'UK'),\n",
       " ('Cactus Comidas para llevar', 'Argentina'),\n",
       " ('Centro comercial Moctezuma', 'Mexico'),\n",
       " ('Chop-suey Chinese', 'Switzerland'),\n",
       " ('Comércio Mineiro', 'Brazil'),\n",
       " ('Consolidated Holdings', 'UK'),\n",
       " ('Drachenblut Delikatessend', 'Germany'),\n",
       " ('Du monde entier', 'France'),\n",
       " ('Eastern Connection', 'UK'),\n",
       " ('Ernst Handel', 'Austria'),\n",
       " ('Familia Arquibaldo', 'Brazil'),\n",
       " ('FISSA Fabrica Inter. Salchichas S.A.', 'Spain'),\n",
       " ('Folies gourmandes', 'France'),\n",
       " ('Folk och fä HB', 'Sweden'),\n",
       " ('Frankenversand', 'Germany'),\n",
       " ('France restauration', 'France'),\n",
       " ('Franchi S.p.A.', 'Italy'),\n",
       " ('Furia Bacalhau e Frutos do Mar', 'Portugal'),\n",
       " ('Galería del gastrónomo', 'Spain'),\n",
       " ('Godos Cocina Típica', 'Spain'),\n",
       " ('Gourmet Lanchonetes', 'Brazil'),\n",
       " ('Great Lakes Food Market', 'USA'),\n",
       " ('GROSELLA-Restaurante', 'Venezuela'),\n",
       " ('Hanari Carnes', 'Brazil'),\n",
       " ('HILARIÓN-Abastos', 'Venezuela'),\n",
       " ('Hungry Coyote Import Store', 'USA'),\n",
       " ('Hungry Owl All-Night Grocers', 'Ireland'),\n",
       " ('Island Trading', 'UK'),\n",
       " ('Königlich Essen', 'Germany'),\n",
       " (\"La corne d''abondance\", 'France'),\n",
       " (\"La maison d''Asie\", 'France'),\n",
       " ('Laughing Bacchus Wine Cellars', 'Canada'),\n",
       " ('Lazy K Kountry Store', 'USA'),\n",
       " ('Lehmanns Marktstand', 'Germany'),\n",
       " (\"Let''s Stop N Shop\", 'USA'),\n",
       " ('LILA-Supermercado', 'Venezuela'),\n",
       " ('LINO-Delicateses', 'Venezuela'),\n",
       " ('Lonesome Pine Restaurant', 'USA'),\n",
       " ('North/South', 'UK'),\n",
       " ('Océano Atlántico Ltda.', 'Argentina'),\n",
       " ('Old World Delicatessen', 'USA'),\n",
       " ('Ottilies Käseladen', 'Germany'),\n",
       " ('Paris spécialités', 'France'),\n",
       " ('Pericles Comidas clásicas', 'Mexico'),\n",
       " ('Piccolo und mehr', 'Austria'),\n",
       " ('Princesa Isabel Vinhoss', 'Portugal'),\n",
       " ('Que Delícia', 'Brazil'),\n",
       " ('Queen Cozinha', 'Brazil'),\n",
       " ('QUICK-Stop', 'Germany'),\n",
       " ('Rancho grande', 'Argentina'),\n",
       " ('Rattlesnake Canyon Grocery', 'USA'),\n",
       " ('Reggiani Caseifici', 'Italy'),\n",
       " ('Ricardo Adocicados', 'Brazil'),\n",
       " ('Richter Supermarkt', 'Switzerland'),\n",
       " ('Romero y tomillo', 'Spain'),\n",
       " ('Santé Gourmet', 'Norway'),\n",
       " ('Save-a-lot Markets', 'USA'),\n",
       " ('Seven Seas Imports', 'UK'),\n",
       " ('Simons bistro', 'Denmark'),\n",
       " ('Spécialités du monde', 'France'),\n",
       " ('Split Rail Beer & Ale', 'USA'),\n",
       " ('Suprêmes délices', 'Belgium'),\n",
       " ('The Big Cheese', 'USA'),\n",
       " ('The Cracker Box', 'USA'),\n",
       " ('Toms Spezialitäten', 'Germany'),\n",
       " ('Tortuga Restaurante', 'Mexico'),\n",
       " ('Tradição Hipermercados', 'Brazil'),\n",
       " (\"Trail''s Head Gourmet Provisioners\", 'USA'),\n",
       " ('Vaffeljernet', 'Denmark'),\n",
       " ('Victuailles en stock', 'France'),\n",
       " ('Vins et alcools Chevalier', 'France'),\n",
       " ('Die Wandernde Kuh', 'Germany'),\n",
       " ('Wartian Herkku', 'Finland'),\n",
       " ('Wellington Importadora', 'Brazil'),\n",
       " ('White Clover Markets', 'USA'),\n",
       " ('Wilman Kala', 'Finland'),\n",
       " ('Wolski', 'Poland')]"
      ]
     },
     "execution_count": 42,
     "metadata": {},
     "output_type": "execute_result"
    }
   ],
   "source": [
    "cursor = con.cursor()\n",
    "cmd = \"\"\"\n",
    "SELECT customerName, country\n",
    "FROM Customers\n",
    "WHERE customerName NOT LIKE 'M%';\n",
    "\"\"\"\n",
    "cursor.execute(cmd)\n",
    "cursor.fetchall()"
   ]
  },
  {
   "cell_type": "code",
   "execution_count": 43,
   "metadata": {},
   "outputs": [
    {
     "data": {
      "text/plain": [
       "[(1, 'Germany'),\n",
       " (2, 'Mexico'),\n",
       " (3, 'Mexico'),\n",
       " (4, 'UK'),\n",
       " (5, 'Sweden'),\n",
       " (6, 'Germany'),\n",
       " (7, 'France'),\n",
       " (8, 'Spain'),\n",
       " (9, 'France'),\n",
       " (81, 'Brazil'),\n",
       " (82, 'USA'),\n",
       " (83, 'Denmark'),\n",
       " (84, 'France'),\n",
       " (85, 'France'),\n",
       " (86, 'Germany'),\n",
       " (87, 'Finland'),\n",
       " (88, 'Brazil'),\n",
       " (89, 'USA'),\n",
       " (90, 'Finland'),\n",
       " (91, 'Poland')]"
      ]
     },
     "execution_count": 43,
     "metadata": {},
     "output_type": "execute_result"
    }
   ],
   "source": [
    "cursor = con.cursor()\n",
    "cmd = \"\"\"\n",
    "SELECT CustomerID, country\n",
    "FROM Customers\n",
    "WHERE CustomerID NOT BETWEEN 10 AND 80;\n",
    "\"\"\"\n",
    "cursor.execute(cmd)\n",
    "cursor.fetchall()"
   ]
  },
  {
   "cell_type": "code",
   "execution_count": 44,
   "metadata": {},
   "outputs": [
    {
     "data": {
      "text/plain": [
       "[('Mexico', 'Ana Trujillo Emparedados y helados'),\n",
       " ('Mexico', 'Antonio Moreno Taquería'),\n",
       " ('Sweden', 'Berglunds snabbköp'),\n",
       " ('Spain', 'Bólido Comidas preparadas'),\n",
       " ('Canada', 'Bottom-Dollar Marketse'),\n",
       " ('Argentina', 'Cactus Comidas para llevar'),\n",
       " ('Mexico', 'Centro comercial Moctezuma'),\n",
       " ('Switzerland', 'Chop-suey Chinese'),\n",
       " ('Brazil', 'Comércio Mineiro'),\n",
       " ('Austria', 'Ernst Handel'),\n",
       " ('Brazil', 'Familia Arquibaldo'),\n",
       " ('Spain', 'FISSA Fabrica Inter. Salchichas S.A.'),\n",
       " ('Sweden', 'Folk och fä HB'),\n",
       " ('Italy', 'Franchi S.p.A.'),\n",
       " ('Portugal', 'Furia Bacalhau e Frutos do Mar'),\n",
       " ('Spain', 'Galería del gastrónomo'),\n",
       " ('Spain', 'Godos Cocina Típica'),\n",
       " ('Brazil', 'Gourmet Lanchonetes'),\n",
       " ('Venezuela', 'GROSELLA-Restaurante'),\n",
       " ('Brazil', 'Hanari Carnes'),\n",
       " ('Venezuela', 'HILARIÓN-Abastos'),\n",
       " ('Ireland', 'Hungry Owl All-Night Grocers'),\n",
       " ('Canada', 'Laughing Bacchus Wine Cellars'),\n",
       " ('Venezuela', 'LILA-Supermercado'),\n",
       " ('Venezuela', 'LINO-Delicateses'),\n",
       " ('Italy', 'Magazzini Alimentari Riuniti'),\n",
       " ('Belgium', 'Maison Dewey'),\n",
       " ('Canada', 'Mère Paillarde'),\n",
       " ('Argentina', 'Océano Atlántico Ltda.'),\n",
       " ('Mexico', 'Pericles Comidas clásicas'),\n",
       " ('Austria', 'Piccolo und mehr'),\n",
       " ('Portugal', 'Princesa Isabel Vinhoss'),\n",
       " ('Brazil', 'Que Delícia'),\n",
       " ('Brazil', 'Queen Cozinha'),\n",
       " ('Argentina', 'Rancho grande'),\n",
       " ('Italy', 'Reggiani Caseifici'),\n",
       " ('Brazil', 'Ricardo Adocicados'),\n",
       " ('Switzerland', 'Richter Supermarkt'),\n",
       " ('Spain', 'Romero y tomillo'),\n",
       " ('Norway', 'Santé Gourmet'),\n",
       " ('Denmark', 'Simons bistro'),\n",
       " ('Belgium', 'Suprêmes délices'),\n",
       " ('Mexico', 'Tortuga Restaurante'),\n",
       " ('Brazil', 'Tradição Hipermercados'),\n",
       " ('Denmark', 'Vaffeljernet'),\n",
       " ('Finland', 'Wartian Herkku'),\n",
       " ('Brazil', 'Wellington Importadora'),\n",
       " ('Finland', 'Wilman Kala'),\n",
       " ('Poland', 'Wolski')]"
      ]
     },
     "execution_count": 44,
     "metadata": {},
     "output_type": "execute_result"
    }
   ],
   "source": [
    "cursor = con.cursor()\n",
    "cmd = \"\"\"\n",
    "SELECT country, customerName\n",
    "FROM Customers\n",
    "WHERE country NOT IN ('France', 'USA', 'UK', 'Germany');\n",
    "\"\"\"\n",
    "cursor.execute(cmd)\n",
    "cursor.fetchall()"
   ]
  },
  {
   "cell_type": "markdown",
   "metadata": {},
   "source": [
    "### SQL Insert Into\n",
    "데모 데이터 생성 시 구현"
   ]
  },
  {
   "cell_type": "markdown",
   "metadata": {},
   "source": [
    "### SQL Null Values"
   ]
  },
  {
   "cell_type": "code",
   "execution_count": 45,
   "metadata": {},
   "outputs": [
    {
     "data": {
      "text/plain": [
       "[]"
      ]
     },
     "execution_count": 45,
     "metadata": {},
     "output_type": "execute_result"
    }
   ],
   "source": [
    "cursor = con.cursor()\n",
    "cmd = \"\"\"\n",
    "SELECT customerID, country, City\n",
    "FROM Customers\n",
    "WHERE City IS NULL;\n",
    "\"\"\"\n",
    "cursor.execute(cmd)\n",
    "cursor.fetchall()"
   ]
  },
  {
   "cell_type": "code",
   "execution_count": 46,
   "metadata": {},
   "outputs": [
    {
     "data": {
      "text/plain": [
       "[(1, 'Germany', 'Berlin'),\n",
       " (2, 'Mexico', 'México D.F.'),\n",
       " (3, 'Mexico', 'México D.F.'),\n",
       " (4, 'UK', 'London'),\n",
       " (5, 'Sweden', 'Luleå'),\n",
       " (6, 'Germany', 'Mannheim'),\n",
       " (7, 'France', 'Strasbourg'),\n",
       " (8, 'Spain', 'Madrid'),\n",
       " (9, 'France', 'Marseille'),\n",
       " (10, 'Canada', 'Tsawassen'),\n",
       " (11, 'UK', 'London'),\n",
       " (12, 'Argentina', 'Buenos Aires'),\n",
       " (13, 'Mexico', 'México D.F.'),\n",
       " (14, 'Switzerland', 'Bern'),\n",
       " (15, 'Brazil', 'São Paulo'),\n",
       " (16, 'UK', 'London'),\n",
       " (17, 'Germany', 'Aachen'),\n",
       " (18, 'France', 'Nantes'),\n",
       " (19, 'UK', 'London'),\n",
       " (20, 'Austria', 'Graz'),\n",
       " (21, 'Brazil', 'São Paulo'),\n",
       " (22, 'Spain', 'Madrid'),\n",
       " (23, 'France', 'Lille'),\n",
       " (24, 'Sweden', 'Bräcke'),\n",
       " (25, 'Germany', 'München'),\n",
       " (26, 'France', 'Nantes'),\n",
       " (27, 'Italy', 'Torino'),\n",
       " (28, 'Portugal', 'Lisboa'),\n",
       " (29, 'Spain', 'Barcelona'),\n",
       " (30, 'Spain', 'Sevilla'),\n",
       " (31, 'Brazil', 'Campinas'),\n",
       " (32, 'USA', 'Eugene'),\n",
       " (33, 'Venezuela', 'Caracas'),\n",
       " (34, 'Brazil', 'Rio de Janeiro'),\n",
       " (35, 'Venezuela', 'San Cristóbal'),\n",
       " (36, 'USA', 'Elgin'),\n",
       " (37, 'Ireland', 'Cork'),\n",
       " (38, 'UK', 'Cowes'),\n",
       " (39, 'Germany', 'Brandenburg'),\n",
       " (40, 'France', 'Versailles'),\n",
       " (41, 'France', 'Toulouse'),\n",
       " (42, 'Canada', 'Vancouver'),\n",
       " (43, 'USA', 'Walla Walla'),\n",
       " (44, 'Germany', 'Frankfurt a.M.'),\n",
       " (45, 'USA', 'San Francisco'),\n",
       " (46, 'Venezuela', 'Barquisimeto'),\n",
       " (47, 'Venezuela', 'I. de Margarita'),\n",
       " (48, 'USA', 'Portland'),\n",
       " (49, 'Italy', 'Bergamo'),\n",
       " (50, 'Belgium', 'Bruxelles'),\n",
       " (51, 'Canada', 'Montréal'),\n",
       " (52, 'Germany', 'Leipzig'),\n",
       " (53, 'UK', 'London'),\n",
       " (54, 'Argentina', 'Buenos Aires'),\n",
       " (55, 'USA', 'Anchorage'),\n",
       " (56, 'Germany', 'Köln'),\n",
       " (57, 'France', 'Paris'),\n",
       " (58, 'Mexico', 'México D.F.'),\n",
       " (59, 'Austria', 'Salzburg'),\n",
       " (60, 'Portugal', 'Lisboa'),\n",
       " (61, 'Brazil', 'Rio de Janeiro'),\n",
       " (62, 'Brazil', 'São Paulo'),\n",
       " (63, 'Germany', 'Cunewalde'),\n",
       " (64, 'Argentina', 'Buenos Aires'),\n",
       " (65, 'USA', 'Albuquerque'),\n",
       " (66, 'Italy', 'Reggio Emilia'),\n",
       " (67, 'Brazil', 'Rio de Janeiro'),\n",
       " (68, 'Switzerland', 'Genève'),\n",
       " (69, 'Spain', 'Madrid'),\n",
       " (70, 'Norway', 'Stavern'),\n",
       " (71, 'USA', 'Boise'),\n",
       " (72, 'UK', 'London'),\n",
       " (73, 'Denmark', 'København'),\n",
       " (74, 'France', 'Paris'),\n",
       " (75, 'USA', 'Lander'),\n",
       " (76, 'Belgium', 'Charleroi'),\n",
       " (77, 'USA', 'Portland'),\n",
       " (78, 'USA', 'Butte'),\n",
       " (79, 'Germany', 'Münster'),\n",
       " (80, 'Mexico', 'México D.F.'),\n",
       " (81, 'Brazil', 'São Paulo'),\n",
       " (82, 'USA', 'Kirkland'),\n",
       " (83, 'Denmark', 'Århus'),\n",
       " (84, 'France', 'Lyon'),\n",
       " (85, 'France', 'Reims'),\n",
       " (86, 'Germany', 'Stuttgart'),\n",
       " (87, 'Finland', 'Oulu'),\n",
       " (88, 'Brazil', 'Resende'),\n",
       " (89, 'USA', 'Seattle'),\n",
       " (90, 'Finland', 'Helsinki'),\n",
       " (91, 'Poland', 'Walla')]"
      ]
     },
     "execution_count": 46,
     "metadata": {},
     "output_type": "execute_result"
    }
   ],
   "source": [
    "cursor = con.cursor()\n",
    "cmd = \"\"\"\n",
    "SELECT CustomerID, country, City\n",
    "FROM Customers\n",
    "WHERE City IS NOT NULL;\n",
    "\"\"\"\n",
    "cursor.execute(cmd)\n",
    "cursor.fetchall()"
   ]
  },
  {
   "cell_type": "markdown",
   "metadata": {},
   "source": [
    "### SQL Update"
   ]
  },
  {
   "cell_type": "code",
   "execution_count": 47,
   "metadata": {},
   "outputs": [],
   "source": [
    "cursor = con.cursor()\n",
    "cmd = \"\"\"\n",
    "UPDATE Customers\n",
    "SET customerName = 'Sumin', contactName = 'Joo'\n",
    "WHERE customerID = 1;\n",
    "\"\"\"\n",
    "cursor.execute(cmd)\n",
    "con.commit()"
   ]
  },
  {
   "cell_type": "code",
   "execution_count": 48,
   "metadata": {},
   "outputs": [
    {
     "data": {
      "text/plain": [
       "[(1, 'Sumin', 'Joo')]"
      ]
     },
     "execution_count": 48,
     "metadata": {},
     "output_type": "execute_result"
    }
   ],
   "source": [
    "cursor = con.cursor()\n",
    "cmd = \"\"\"\n",
    "SELECT customerID, customerName, contactName\n",
    "FROM Customers\n",
    "WHERE customerID = 1;\n",
    "\"\"\"\n",
    "cursor.execute(cmd)\n",
    "cursor.fetchall()"
   ]
  },
  {
   "cell_type": "markdown",
   "metadata": {},
   "source": [
    "### SQL Delete"
   ]
  },
  {
   "cell_type": "code",
   "execution_count": 49,
   "metadata": {},
   "outputs": [],
   "source": [
    "cursor = con.cursor()\n",
    "cmd = \"\"\"\n",
    "DELETE FROM customers\n",
    "WHERE CustomerID = 91;\n",
    "\"\"\"\n",
    "cursor.execute(cmd)\n",
    "con.commit()"
   ]
  },
  {
   "cell_type": "code",
   "execution_count": 50,
   "metadata": {},
   "outputs": [],
   "source": [
    "# 아래 예제 실행 시 필요해 동작확인 후 주석처리\n",
    "# con.close()\n",
    "# con = sql.connect('./mission2.db')\n",
    "# cursor = con.cursor()\n",
    "# cmd = \"\"\"\n",
    "# DROP TABLE Suppliers;\n",
    "# \"\"\"\n",
    "# cursor.execute(cmd)\n",
    "# con.commit()"
   ]
  },
  {
   "cell_type": "markdown",
   "metadata": {},
   "source": [
    "### SQL Select Top"
   ]
  },
  {
   "cell_type": "code",
   "execution_count": 51,
   "metadata": {},
   "outputs": [
    {
     "data": {
      "text/plain": [
       "[(1, 'Sumin', 'Joo'),\n",
       " (2, 'Ana Trujillo Emparedados y helados', 'Ana Trujillo'),\n",
       " (3, 'Antonio Moreno Taquería', 'Antonio Moreno')]"
      ]
     },
     "execution_count": 51,
     "metadata": {},
     "output_type": "execute_result"
    }
   ],
   "source": [
    "cursor = con.cursor()\n",
    "cmd = \"\"\"\n",
    "SELECT CustomerID, customerName, contactName\n",
    "FROM Customers\n",
    "LIMIT 3;\n",
    "\"\"\"\n",
    "cursor.execute(cmd)\n",
    "cursor.fetchall()"
   ]
  },
  {
   "cell_type": "code",
   "execution_count": 52,
   "metadata": {},
   "outputs": [
    {
     "data": {
      "text/plain": [
       "[(32, 'Great Lakes Food Market', 'USA'),\n",
       " (36, 'Hungry Coyote Import Store', 'USA'),\n",
       " (43, 'Lazy K Kountry Store', 'USA')]"
      ]
     },
     "execution_count": 52,
     "metadata": {},
     "output_type": "execute_result"
    }
   ],
   "source": [
    "cursor = con.cursor()\n",
    "cmd = \"\"\"\n",
    "SELECT CustomerID, customerName, country\n",
    "FROM Customers\n",
    "WHERE country = 'USA'\n",
    "LIMIT 3;\n",
    "\"\"\"\n",
    "cursor.execute(cmd)\n",
    "cursor.fetchall()"
   ]
  },
  {
   "cell_type": "code",
   "execution_count": 53,
   "metadata": {},
   "outputs": [
    {
     "data": {
      "text/plain": [
       "[(89, 'White Clover Markets', 'USA'),\n",
       " (82, \"Trail''s Head Gourmet Provisioners\", 'USA'),\n",
       " (78, 'The Cracker Box', 'USA')]"
      ]
     },
     "execution_count": 53,
     "metadata": {},
     "output_type": "execute_result"
    }
   ],
   "source": [
    "cursor = con.cursor()\n",
    "cmd = \"\"\"\n",
    "SELECT CustomerID, customerName, country\n",
    "FROM Customers\n",
    "WHERE country = 'USA'\n",
    "ORDER BY customerName DESC\n",
    "LIMIT 3;\n",
    "\"\"\"\n",
    "cursor.execute(cmd)\n",
    "cursor.fetchall()"
   ]
  },
  {
   "cell_type": "markdown",
   "metadata": {},
   "source": [
    "### SQL Aggregate Functions"
   ]
  },
  {
   "cell_type": "markdown",
   "metadata": {},
   "source": [
    "### SQL Min and Max"
   ]
  },
  {
   "cell_type": "code",
   "execution_count": 54,
   "metadata": {},
   "outputs": [
    {
     "data": {
      "text/plain": [
       "[(263.5,)]"
      ]
     },
     "execution_count": 54,
     "metadata": {},
     "output_type": "execute_result"
    }
   ],
   "source": [
    "cursor = con.cursor()\n",
    "cmd = \"\"\"\n",
    "SELECT MAX(Price)\n",
    "FROM Products;\n",
    "\"\"\"\n",
    "cursor.execute(cmd)\n",
    "cursor.fetchall()"
   ]
  },
  {
   "cell_type": "code",
   "execution_count": 55,
   "metadata": {},
   "outputs": [
    {
     "data": {
      "text/plain": [
       "[(1, 'Chang', 19),\n",
       " (2, \"Chef Anton's Cajun Seasoning\", 22),\n",
       " (3, 'Northwoods Cranberry Sauce', 40),\n",
       " (4, 'Mishi Kobe Niku', 97),\n",
       " (5, 'Queso Manchego La Pastora', 38),\n",
       " (6, 'Tofu', 23.25),\n",
       " (7, 'Carnarvon Tigers', 62.5),\n",
       " (8, \"Sir Rodney's Marmalade\", 81),\n",
       " (9, \"Gustaf's Knäckebröd\", 21),\n",
       " (10, 'Guaraná Fantástica', 4.5),\n",
       " (11, 'Schoggi Schokolade', 43.9),\n",
       " (12, 'Thüringer Rostbratwurst', 123.79),\n",
       " (13, 'Nord-Ost Matjeshering', 25.89),\n",
       " (14, 'Mozzarella di Giovanni', 34.8),\n",
       " (15, 'Gudbrandsdalsost', 36),\n",
       " (16, 'Steeleye Stout', 18),\n",
       " (17, 'Gravad lax', 26),\n",
       " (18, 'Côte de Blaye', 263.5),\n",
       " (19, 'Boston Crab Meat', 18.4),\n",
       " (20, 'Ipoh Coffee', 46),\n",
       " (21, 'Spegesild', 12),\n",
       " (22, 'Chocolade', 12.75),\n",
       " (23, 'Maxilaku', 20),\n",
       " (24, 'Manjimup Dried Apples', 53),\n",
       " (25, 'Pâté chinois', 24),\n",
       " (26, 'Gnocchi di nonna Alice', 38),\n",
       " (27, 'Escargots de Bourgogne', 13.25),\n",
       " (28, 'Raclette Courdavault', 55),\n",
       " (29, 'Tarte au sucre', 49.3)]"
      ]
     },
     "execution_count": 55,
     "metadata": {},
     "output_type": "execute_result"
    }
   ],
   "source": [
    "cursor = con.cursor()\n",
    "cmd = \"\"\"\n",
    "SELECT SupplierID, productName, MAX(Price) AS maxPrice\n",
    "FROM Products\n",
    "GROUP BY SupplierID;\n",
    "\"\"\"\n",
    "cursor.execute(cmd)\n",
    "cursor.fetchall()"
   ]
  },
  {
   "cell_type": "markdown",
   "metadata": {},
   "source": [
    "### SQL Count"
   ]
  },
  {
   "cell_type": "code",
   "execution_count": 56,
   "metadata": {},
   "outputs": [
    {
     "data": {
      "text/plain": [
       "[(90,)]"
      ]
     },
     "execution_count": 56,
     "metadata": {},
     "output_type": "execute_result"
    }
   ],
   "source": [
    "cursor = con.cursor()\n",
    "cmd = \"\"\"\n",
    "SELECT count(country)\n",
    "FROM Customers;\n",
    "\"\"\"\n",
    "cursor.execute(cmd)\n",
    "cursor.fetchall()"
   ]
  },
  {
   "cell_type": "code",
   "execution_count": 57,
   "metadata": {},
   "outputs": [
    {
     "data": {
      "text/plain": [
       "[(20,)]"
      ]
     },
     "execution_count": 57,
     "metadata": {},
     "output_type": "execute_result"
    }
   ],
   "source": [
    "cursor = con.cursor()\n",
    "cmd = \"\"\"\n",
    "SELECT count(DISTINCT country)\n",
    "FROM Customers;\n",
    "\"\"\"\n",
    "cursor.execute(cmd)\n",
    "cursor.fetchall()"
   ]
  },
  {
   "cell_type": "code",
   "execution_count": 58,
   "metadata": {},
   "outputs": [
    {
     "data": {
      "text/plain": [
       "[('Argentina', 3),\n",
       " ('Austria', 2),\n",
       " ('Belgium', 2),\n",
       " ('Brazil', 9),\n",
       " ('Canada', 3),\n",
       " ('Denmark', 2),\n",
       " ('Finland', 2),\n",
       " ('France', 11),\n",
       " ('Germany', 11),\n",
       " ('Ireland', 1),\n",
       " ('Italy', 3),\n",
       " ('Mexico', 5),\n",
       " ('Norway', 1),\n",
       " ('Portugal', 2),\n",
       " ('Spain', 5),\n",
       " ('Sweden', 2),\n",
       " ('Switzerland', 2),\n",
       " ('UK', 7),\n",
       " ('USA', 13),\n",
       " ('Venezuela', 4)]"
      ]
     },
     "execution_count": 58,
     "metadata": {},
     "output_type": "execute_result"
    }
   ],
   "source": [
    "cursor = con.cursor()\n",
    "cmd = \"\"\"\n",
    "SELECT country, COUNT(*) AS [Number of records]\n",
    "FROM Customers\n",
    "GROUP BY country\n",
    "\"\"\"\n",
    "cursor.execute(cmd)\n",
    "cursor.fetchall()"
   ]
  },
  {
   "cell_type": "markdown",
   "metadata": {},
   "source": [
    "### SQL Sum"
   ]
  },
  {
   "cell_type": "code",
   "execution_count": 59,
   "metadata": {},
   "outputs": [
    {
     "data": {
      "text/plain": [
       "[(2222.71,)]"
      ]
     },
     "execution_count": 59,
     "metadata": {},
     "output_type": "execute_result"
    }
   ],
   "source": [
    "cursor = con.cursor()\n",
    "cmd = \"\"\"\n",
    "SELECT SUM(Price)\n",
    "FROM Products;\n",
    "\"\"\"\n",
    "cursor.execute(cmd)\n",
    "cursor.fetchall()"
   ]
  },
  {
   "cell_type": "code",
   "execution_count": 60,
   "metadata": {},
   "outputs": [
    {
     "data": {
      "text/plain": [
       "[(545.25,)]"
      ]
     },
     "execution_count": 60,
     "metadata": {},
     "output_type": "execute_result"
    }
   ],
   "source": [
    "cursor = con.cursor()\n",
    "cmd = \"\"\"\n",
    "SELECT SUM(Price)\n",
    "FROM Products\n",
    "WHERE ProductID < 20;\n",
    "\"\"\"\n",
    "cursor.execute(cmd)\n",
    "cursor.fetchall()"
   ]
  },
  {
   "cell_type": "code",
   "execution_count": 61,
   "metadata": {},
   "outputs": [
    {
     "data": {
      "text/plain": [
       "[(1, 455.75),\n",
       " (2, 276.75),\n",
       " (3, 327.08),\n",
       " (4, 287.3),\n",
       " (5, 141.75),\n",
       " (6, 324.04),\n",
       " (7, 161.85),\n",
       " (8, 248.19)]"
      ]
     },
     "execution_count": 61,
     "metadata": {},
     "output_type": "execute_result"
    }
   ],
   "source": [
    "cursor = con.cursor()\n",
    "cmd = \"\"\"\n",
    "SELECT CategoryID, SUM(Price) AS priceTotal\n",
    "FROM Products\n",
    "GROUP BY CategoryID;\n",
    "\"\"\"\n",
    "cursor.execute(cmd)\n",
    "cursor.fetchall()"
   ]
  },
  {
   "cell_type": "code",
   "execution_count": 62,
   "metadata": {},
   "outputs": [
    {
     "data": {
      "text/plain": [
       "[(386424.23,)]"
      ]
     },
     "execution_count": 62,
     "metadata": {},
     "output_type": "execute_result"
    }
   ],
   "source": [
    "cursor = con.cursor()\n",
    "cmd = \"\"\"\n",
    "SELECT SUM(Price * Quantity)\n",
    "FROM OrderDetails\n",
    "LEFT JOIN Products ON OrderDetails.ProductID = Products.ProductID;\n",
    "\"\"\"\n",
    "cursor.execute(cmd)\n",
    "cursor.fetchall()"
   ]
  },
  {
   "cell_type": "markdown",
   "metadata": {},
   "source": [
    "### SQL Avg"
   ]
  },
  {
   "cell_type": "code",
   "execution_count": 63,
   "metadata": {},
   "outputs": [
    {
     "data": {
      "text/plain": [
       "[(28.866363636363637,)]"
      ]
     },
     "execution_count": 63,
     "metadata": {},
     "output_type": "execute_result"
    }
   ],
   "source": [
    "cursor = con.cursor()\n",
    "cmd = \"\"\"\n",
    "SELECT AVG(Price)\n",
    "FROM Products;\n",
    "\"\"\"\n",
    "cursor.execute(cmd)\n",
    "cursor.fetchall()"
   ]
  },
  {
   "cell_type": "code",
   "execution_count": 64,
   "metadata": {},
   "outputs": [
    {
     "data": {
      "text/plain": [
       "[(37.979166666666664,)]"
      ]
     },
     "execution_count": 64,
     "metadata": {},
     "output_type": "execute_result"
    }
   ],
   "source": [
    "cursor = con.cursor()\n",
    "cmd = \"\"\"\n",
    "SELECT AVG(Price) AS [average Price]\n",
    "FROM Products\n",
    "WHERE CategoryID = 1;\n",
    "\"\"\"\n",
    "cursor.execute(cmd)\n",
    "cursor.fetchall()"
   ]
  },
  {
   "cell_type": "code",
   "execution_count": 65,
   "metadata": {},
   "outputs": [
    {
     "data": {
      "text/plain": [
       "[(7, \"Uncle Bob's Organic Dried Pears\", 3, 7, '12 - 1 lb pkgs.', 30),\n",
       " (8, 'Northwoods Cranberry Sauce', 3, 2, '12 - 12 oz jars', 40),\n",
       " (9, 'Mishi Kobe Niku', 4, 6, '18 - 500 g pkgs.', 97),\n",
       " (10, 'Ikura', 4, 8, '12 - 200 ml jars', 31),\n",
       " (12, 'Queso Manchego La Pastora', 5, 4, '10 - 500 g pkgs.', 38),\n",
       " (17, 'Alice Mutton', 7, 6, '20 - 1 kg tins', 39),\n",
       " (18, 'Carnarvon Tigers', 7, 8, '16 kg pkg.', 62.5),\n",
       " (20, \"Sir Rodney's Marmalade\", 8, 3, '30 gift boxes', 81),\n",
       " (26, 'Gumbär Gummibärchen', 11, 3, '100 - 250 g bags', 31.23),\n",
       " (27, 'Schoggi Schokolade', 11, 3, '100 - 100 g pieces', 43.9),\n",
       " (28, 'Rössle Sauerkraut', 12, 7, '25 - 825 g cans', 45.6),\n",
       " (29, 'Thüringer Rostbratwurst', 12, 6, '50 bags x 30 sausgs.', 123.79),\n",
       " (32, 'Mascarpone Fabioli', 14, 4, '24 - 200 g pkgs.', 32),\n",
       " (38, 'Côte de Blaye', 18, 1, '12 - 75 cl bottles', 263.5),\n",
       " (43, 'Ipoh Coffee', 20, 1, '16 - 500 g tins', 46),\n",
       " (51, 'Manjimup Dried Apples', 24, 7, '50 - 300 g pkgs.', 53),\n",
       " (53, 'Perth Pasties', 24, 6, '48 pieces', 32.8),\n",
       " (56, 'Gnocchi di nonna Alice', 26, 5, '24 - 250 g pkgs.', 38),\n",
       " (59, 'Raclette Courdavault', 28, 4, '5 kg pkg.', 55),\n",
       " (60, 'Camembert Pierrot', 28, 4, '15 - 300 g rounds', 34),\n",
       " (62, 'Tarte au sucre', 29, 3, '48 pies', 49.3),\n",
       " (63, 'Vegie-spread', 7, 2, '15 - 625 g jars', 43.9),\n",
       " (64, 'Wimmers gute Semmelknödel', 12, 5, '20 bags x 4 pieces', 33.25),\n",
       " (69, 'Gudbrandsdalsost', 15, 4, '10 kg pkg.', 36),\n",
       " (72, 'Mozzarella di Giovanni', 14, 4, '24 - 200 g pkgs.', 34.8)]"
      ]
     },
     "execution_count": 65,
     "metadata": {},
     "output_type": "execute_result"
    }
   ],
   "source": [
    "cursor = con.cursor()\n",
    "cmd = \"\"\"\n",
    "SELECT * FROM Products\n",
    "WHERE price > (SELECT AVG(price) FROM Products);\n",
    "\"\"\"\n",
    "cursor.execute(cmd)\n",
    "cursor.fetchall()"
   ]
  },
  {
   "cell_type": "code",
   "execution_count": 66,
   "metadata": {},
   "outputs": [
    {
     "data": {
      "text/plain": [
       "[(37.979166666666664, 1),\n",
       " (23.0625, 2),\n",
       " (25.16, 3),\n",
       " (28.73, 4),\n",
       " (20.25, 5),\n",
       " (54.00666666666667, 6),\n",
       " (32.37, 7),\n",
       " (20.6825, 8)]"
      ]
     },
     "execution_count": 66,
     "metadata": {},
     "output_type": "execute_result"
    }
   ],
   "source": [
    "cursor = con.cursor()\n",
    "cmd = \"\"\"\n",
    "SELECT AVG(Price) AS AveragePrice, CategoryID\n",
    "FROM Products\n",
    "GROUP BY CategoryID;\n",
    "\"\"\"\n",
    "cursor.execute(cmd)\n",
    "cursor.fetchall()"
   ]
  },
  {
   "cell_type": "markdown",
   "metadata": {},
   "source": [
    "### SQL Like & WildCards"
   ]
  },
  {
   "cell_type": "code",
   "execution_count": 67,
   "metadata": {},
   "outputs": [
    {
     "data": {
      "text/plain": [
       "[(2,\n",
       "  'Ana Trujillo Emparedados y helados',\n",
       "  'Ana Trujillo',\n",
       "  'Avda. de la Constitución 2222',\n",
       "  'México D.F.',\n",
       "  '5021',\n",
       "  'Mexico'),\n",
       " (3,\n",
       "  'Antonio Moreno Taquería',\n",
       "  'Antonio Moreno',\n",
       "  'Mataderos 2312',\n",
       "  'México D.F.',\n",
       "  '5023',\n",
       "  'Mexico'),\n",
       " (4,\n",
       "  'Around the Horn',\n",
       "  'Thomas Hardy',\n",
       "  '120 Hanover Sq.',\n",
       "  'London',\n",
       "  'WA1 1DP',\n",
       "  'UK')]"
      ]
     },
     "execution_count": 67,
     "metadata": {},
     "output_type": "execute_result"
    }
   ],
   "source": [
    "cursor = con.cursor()\n",
    "cmd = \"\"\"\n",
    "SELECT * FROM Customers\n",
    "WHERE CustomerName LIKE 'a%';\n",
    "\"\"\"\n",
    "cursor.execute(cmd)\n",
    "cursor.fetchall()"
   ]
  },
  {
   "cell_type": "code",
   "execution_count": 68,
   "metadata": {},
   "outputs": [
    {
     "data": {
      "text/plain": [
       "[(4,\n",
       "  'Around the Horn',\n",
       "  'Thomas Hardy',\n",
       "  '120 Hanover Sq.',\n",
       "  'London',\n",
       "  'WA1 1DP',\n",
       "  'UK'),\n",
       " (11,\n",
       "  \"B''s Beverages\",\n",
       "  'Victoria Ashworth',\n",
       "  'Fauntleroy Circus',\n",
       "  'London',\n",
       "  'EC2 5NT',\n",
       "  'UK'),\n",
       " (16,\n",
       "  'Consolidated Holdings',\n",
       "  'Elizabeth Brown',\n",
       "  'Berkeley Gardens 12 Brewery',\n",
       "  'London',\n",
       "  'WX1 6LT',\n",
       "  'UK'),\n",
       " (19,\n",
       "  'Eastern Connection',\n",
       "  'Ann Devon',\n",
       "  '35 King George',\n",
       "  'London',\n",
       "  'WX3 6FW',\n",
       "  'UK'),\n",
       " (53,\n",
       "  'North/South',\n",
       "  'Simon Crowther',\n",
       "  'South House 300 Queensbridge',\n",
       "  'London',\n",
       "  'SW7 1RZ',\n",
       "  'UK'),\n",
       " (72,\n",
       "  'Seven Seas Imports',\n",
       "  'Hari Kumar',\n",
       "  '90 Wadhurst Rd.',\n",
       "  'London',\n",
       "  'OX15 4NB',\n",
       "  'UK'),\n",
       " (75,\n",
       "  'Split Rail Beer & Ale',\n",
       "  'Art Braunschweiger',\n",
       "  'P.O. Box 555',\n",
       "  'Lander',\n",
       "  '82520',\n",
       "  'USA')]"
      ]
     },
     "execution_count": 68,
     "metadata": {},
     "output_type": "execute_result"
    }
   ],
   "source": [
    "cursor = con.cursor()\n",
    "cmd = \"\"\"\n",
    "SELECT * FROM Customers\n",
    "WHERE city LIKE 'L_nd__';\n",
    "\"\"\"\n",
    "cursor.execute(cmd)\n",
    "cursor.fetchall()"
   ]
  },
  {
   "cell_type": "code",
   "execution_count": 69,
   "metadata": {},
   "outputs": [
    {
     "data": {
      "text/plain": [
       "[(1, 'Sumin', 'Joo', 'Obere Str. 57', 'Berlin', '12209', 'Germany'),\n",
       " (4,\n",
       "  'Around the Horn',\n",
       "  'Thomas Hardy',\n",
       "  '120 Hanover Sq.',\n",
       "  'London',\n",
       "  'WA1 1DP',\n",
       "  'UK'),\n",
       " (5,\n",
       "  'Berglunds snabbköp',\n",
       "  'Christina Berglund',\n",
       "  'Berguvsvägen 8',\n",
       "  'Luleå',\n",
       "  'S-958 22',\n",
       "  'Sweden'),\n",
       " (9,\n",
       "  \"Bon app''\",\n",
       "  'Laurence Lebihans',\n",
       "  '12, rue des Bouchers',\n",
       "  'Marseille',\n",
       "  '13008',\n",
       "  'France'),\n",
       " (11,\n",
       "  \"B''s Beverages\",\n",
       "  'Victoria Ashworth',\n",
       "  'Fauntleroy Circus',\n",
       "  'London',\n",
       "  'EC2 5NT',\n",
       "  'UK'),\n",
       " (15,\n",
       "  'Comércio Mineiro',\n",
       "  'Pedro Afonso',\n",
       "  'Av. dos Lusíadas, 23',\n",
       "  'São Paulo',\n",
       "  '05432-043',\n",
       "  'Brazil'),\n",
       " (16,\n",
       "  'Consolidated Holdings',\n",
       "  'Elizabeth Brown',\n",
       "  'Berkeley Gardens 12 Brewery',\n",
       "  'London',\n",
       "  'WX1 6LT',\n",
       "  'UK'),\n",
       " (19,\n",
       "  'Eastern Connection',\n",
       "  'Ann Devon',\n",
       "  '35 King George',\n",
       "  'London',\n",
       "  'WX3 6FW',\n",
       "  'UK'),\n",
       " (21,\n",
       "  'Familia Arquibaldo',\n",
       "  'Aria Cruz',\n",
       "  'Rua Orós, 92',\n",
       "  'São Paulo',\n",
       "  '05442-030',\n",
       "  'Brazil'),\n",
       " (23,\n",
       "  'Folies gourmandes',\n",
       "  'Martine Rancé',\n",
       "  '184, chaussée de Tournai',\n",
       "  'Lille',\n",
       "  '59000',\n",
       "  'France'),\n",
       " (28,\n",
       "  'Furia Bacalhau e Frutos do Mar',\n",
       "  'Lino Rodriguez',\n",
       "  'Jardim das rosas n. 32',\n",
       "  'Lisboa',\n",
       "  '1675',\n",
       "  'Portugal'),\n",
       " (29,\n",
       "  'Galería del gastrónomo',\n",
       "  'Eduardo Saavedra',\n",
       "  'Rambla de Cataluña, 23',\n",
       "  'Barcelona',\n",
       "  '8022',\n",
       "  'Spain'),\n",
       " (30,\n",
       "  'Godos Cocina Típica',\n",
       "  'José Pedro Freyre',\n",
       "  'C/ Romero, 33',\n",
       "  'Sevilla',\n",
       "  '41101',\n",
       "  'Spain'),\n",
       " (35,\n",
       "  'HILARIÓN-Abastos',\n",
       "  'Carlos Hernández',\n",
       "  'Carrera 22 con Ave. Carlos Soublette #8-35',\n",
       "  'San Cristóbal',\n",
       "  '5022',\n",
       "  'Venezuela'),\n",
       " (36,\n",
       "  'Hungry Coyote Import Store',\n",
       "  'Yoshi Latimer',\n",
       "  'City Center Plaza 516 Main St.',\n",
       "  'Elgin',\n",
       "  '97827',\n",
       "  'USA'),\n",
       " (40,\n",
       "  \"La corne d''abondance\",\n",
       "  'Daniel Tonini',\n",
       "  \"67, avenue de l''Europe\",\n",
       "  'Versailles',\n",
       "  '78000',\n",
       "  'France'),\n",
       " (41,\n",
       "  \"La maison d''Asie\",\n",
       "  'Annette Roulet',\n",
       "  '1 rue Alsace-Lorraine',\n",
       "  'Toulouse',\n",
       "  '31000',\n",
       "  'France'),\n",
       " (43,\n",
       "  'Lazy K Kountry Store',\n",
       "  'John Steel',\n",
       "  '12 Orchestra Terrace',\n",
       "  'Walla Walla',\n",
       "  '99362',\n",
       "  'USA'),\n",
       " (48,\n",
       "  'Lonesome Pine Restaurant',\n",
       "  'Fran Wilson',\n",
       "  '89 Chiaroscuro Rd.',\n",
       "  'Portland',\n",
       "  '97219',\n",
       "  'USA'),\n",
       " (50,\n",
       "  'Maison Dewey',\n",
       "  'Catherine Dewey',\n",
       "  'Rue Joseph-Bens 532',\n",
       "  'Bruxelles',\n",
       "  'B-1180',\n",
       "  'Belgium'),\n",
       " (51,\n",
       "  'Mère Paillarde',\n",
       "  'Jean Fresnière',\n",
       "  '43 rue St. Laurent',\n",
       "  'Montréal',\n",
       "  'H1J 1C3',\n",
       "  'Canada'),\n",
       " (52,\n",
       "  'Morgenstern Gesundkost',\n",
       "  'Alexander Feuer',\n",
       "  'Heerstr. 22',\n",
       "  'Leipzig',\n",
       "  '4179',\n",
       "  'Germany'),\n",
       " (53,\n",
       "  'North/South',\n",
       "  'Simon Crowther',\n",
       "  'South House 300 Queensbridge',\n",
       "  'London',\n",
       "  'SW7 1RZ',\n",
       "  'UK'),\n",
       " (56,\n",
       "  'Ottilies Käseladen',\n",
       "  'Henriette Pfalzheim',\n",
       "  'Mehrheimerstr. 369',\n",
       "  'Köln',\n",
       "  '50739',\n",
       "  'Germany'),\n",
       " (59,\n",
       "  'Piccolo und mehr',\n",
       "  'Georg Pipps',\n",
       "  'Geislweg 14',\n",
       "  'Salzburg',\n",
       "  '5020',\n",
       "  'Austria'),\n",
       " (60,\n",
       "  'Princesa Isabel Vinhoss',\n",
       "  'Isabel de Castro',\n",
       "  'Estrada da saúde n. 58',\n",
       "  'Lisboa',\n",
       "  '1756',\n",
       "  'Portugal'),\n",
       " (62,\n",
       "  'Queen Cozinha',\n",
       "  'Lúcia Carvalho',\n",
       "  'Alameda dos Canàrios, 891',\n",
       "  'São Paulo',\n",
       "  '05487-020',\n",
       "  'Brazil'),\n",
       " (63,\n",
       "  'QUICK-Stop',\n",
       "  'Horst Kloss',\n",
       "  'Taucherstraße 10',\n",
       "  'Cunewalde',\n",
       "  '1307',\n",
       "  'Germany'),\n",
       " (65,\n",
       "  'Rattlesnake Canyon Grocery',\n",
       "  'Paula Wilson',\n",
       "  '2817 Milton Dr.',\n",
       "  'Albuquerque',\n",
       "  '87110',\n",
       "  'USA'),\n",
       " (66,\n",
       "  'Reggiani Caseifici',\n",
       "  'Maurizio Moroni',\n",
       "  'Strada Provinciale 124',\n",
       "  'Reggio Emilia',\n",
       "  '42100',\n",
       "  'Italy'),\n",
       " (72,\n",
       "  'Seven Seas Imports',\n",
       "  'Hari Kumar',\n",
       "  '90 Wadhurst Rd.',\n",
       "  'London',\n",
       "  'OX15 4NB',\n",
       "  'UK'),\n",
       " (75,\n",
       "  'Split Rail Beer & Ale',\n",
       "  'Art Braunschweiger',\n",
       "  'P.O. Box 555',\n",
       "  'Lander',\n",
       "  '82520',\n",
       "  'USA'),\n",
       " (76,\n",
       "  'Suprêmes délices',\n",
       "  'Pascale Cartrain',\n",
       "  'Boulevard Tirou, 255',\n",
       "  'Charleroi',\n",
       "  'B-6000',\n",
       "  'Belgium'),\n",
       " (77,\n",
       "  'The Big Cheese',\n",
       "  'Liz Nixon',\n",
       "  '89 Jefferson Way Suite 2',\n",
       "  'Portland',\n",
       "  '97201',\n",
       "  'USA'),\n",
       " (81,\n",
       "  'Tradição Hipermercados',\n",
       "  'Anabela Domingues',\n",
       "  'Av. Inês de Castro, 414',\n",
       "  'São Paulo',\n",
       "  '05634-030',\n",
       "  'Brazil'),\n",
       " (82,\n",
       "  \"Trail''s Head Gourmet Provisioners\",\n",
       "  'Helvetius Nagy',\n",
       "  '722 DaVinci Blvd.',\n",
       "  'Kirkland',\n",
       "  '98034',\n",
       "  'USA'),\n",
       " (84,\n",
       "  'Victuailles en stock',\n",
       "  'Mary Saveley',\n",
       "  '2, rue du Commerce',\n",
       "  'Lyon',\n",
       "  '69004',\n",
       "  'France'),\n",
       " (87,\n",
       "  'Wartian Herkku',\n",
       "  'Pirkko Koskitalo',\n",
       "  'Torikatu 38',\n",
       "  'Oulu',\n",
       "  '90110',\n",
       "  'Finland'),\n",
       " (89,\n",
       "  'White Clover Markets',\n",
       "  'Karl Jablonski',\n",
       "  '305 - 14th Ave. S. Suite 3B',\n",
       "  'Seattle',\n",
       "  '98128',\n",
       "  'USA'),\n",
       " (90,\n",
       "  'Wilman Kala',\n",
       "  'Matti Karttunen',\n",
       "  'Keskuskatu 45',\n",
       "  'Helsinki',\n",
       "  '21240',\n",
       "  'Finland')]"
      ]
     },
     "execution_count": 69,
     "metadata": {},
     "output_type": "execute_result"
    }
   ],
   "source": [
    "cursor = con.cursor()\n",
    "cmd = \"\"\"\n",
    "SELECT * FROM Customers\n",
    "WHERE city LIKE '%L%';\n",
    "\"\"\"\n",
    "cursor.execute(cmd)\n",
    "cursor.fetchall()"
   ]
  },
  {
   "cell_type": "code",
   "execution_count": 70,
   "metadata": {},
   "outputs": [
    {
     "data": {
      "text/plain": [
       "[(2,\n",
       "  'Ana Trujillo Emparedados y helados',\n",
       "  'Ana Trujillo',\n",
       "  'Avda. de la Constitución 2222',\n",
       "  'México D.F.',\n",
       "  '5021',\n",
       "  'Mexico'),\n",
       " (3,\n",
       "  'Antonio Moreno Taquería',\n",
       "  'Antonio Moreno',\n",
       "  'Mataderos 2312',\n",
       "  'México D.F.',\n",
       "  '5023',\n",
       "  'Mexico'),\n",
       " (4,\n",
       "  'Around the Horn',\n",
       "  'Thomas Hardy',\n",
       "  '120 Hanover Sq.',\n",
       "  'London',\n",
       "  'WA1 1DP',\n",
       "  'UK'),\n",
       " (5,\n",
       "  'Berglunds snabbköp',\n",
       "  'Christina Berglund',\n",
       "  'Berguvsvägen 8',\n",
       "  'Luleå',\n",
       "  'S-958 22',\n",
       "  'Sweden'),\n",
       " (6,\n",
       "  'Blauer See Delikatessen',\n",
       "  'Hanna Moos',\n",
       "  'Forsterstr. 57',\n",
       "  'Mannheim',\n",
       "  '68306',\n",
       "  'Germany'),\n",
       " (7,\n",
       "  'Blondel père et fils',\n",
       "  'Frédérique Citeaux',\n",
       "  '24, place Kléber',\n",
       "  'Strasbourg',\n",
       "  '67000',\n",
       "  'France'),\n",
       " (8,\n",
       "  'Bólido Comidas preparadas',\n",
       "  'Martín Sommer',\n",
       "  'C/ Araquil, 67',\n",
       "  'Madrid',\n",
       "  '28023',\n",
       "  'Spain'),\n",
       " (9,\n",
       "  \"Bon app''\",\n",
       "  'Laurence Lebihans',\n",
       "  '12, rue des Bouchers',\n",
       "  'Marseille',\n",
       "  '13008',\n",
       "  'France'),\n",
       " (10,\n",
       "  'Bottom-Dollar Marketse',\n",
       "  'Elizabeth Lincoln',\n",
       "  '23 Tsawassen Blvd.',\n",
       "  'Tsawassen',\n",
       "  'T2F 8M4',\n",
       "  'Canada'),\n",
       " (11,\n",
       "  \"B''s Beverages\",\n",
       "  'Victoria Ashworth',\n",
       "  'Fauntleroy Circus',\n",
       "  'London',\n",
       "  'EC2 5NT',\n",
       "  'UK')]"
      ]
     },
     "execution_count": 70,
     "metadata": {},
     "output_type": "execute_result"
    }
   ],
   "source": [
    "cursor = con.cursor()\n",
    "cmd = \"\"\"\n",
    "SELECT * FROM Customers\n",
    "WHERE CustomerName LIKE 'a%' OR CustomerName LIKE 'b%';\n",
    "\"\"\"\n",
    "cursor.execute(cmd)\n",
    "cursor.fetchall()"
   ]
  },
  {
   "cell_type": "code",
   "execution_count": 71,
   "metadata": {},
   "outputs": [
    {
     "data": {
      "text/plain": [
       "[(3,\n",
       "  'Antonio Moreno Taquería',\n",
       "  'Antonio Moreno',\n",
       "  'Mataderos 2312',\n",
       "  'México D.F.',\n",
       "  '5023',\n",
       "  'Mexico'),\n",
       " (13,\n",
       "  'Centro comercial Moctezuma',\n",
       "  'Francisco Chang',\n",
       "  'Sierras de Granada 9993',\n",
       "  'México D.F.',\n",
       "  '5022',\n",
       "  'Mexico'),\n",
       " (30,\n",
       "  'Godos Cocina Típica',\n",
       "  'José Pedro Freyre',\n",
       "  'C/ Romero, 33',\n",
       "  'Sevilla',\n",
       "  '41101',\n",
       "  'Spain'),\n",
       " (61,\n",
       "  'Que Delícia',\n",
       "  'Bernardo Batista',\n",
       "  'Rua da Panificadora, 12',\n",
       "  'Rio de Janeiro',\n",
       "  '02389-673',\n",
       "  'Brazil'),\n",
       " (62,\n",
       "  'Queen Cozinha',\n",
       "  'Lúcia Carvalho',\n",
       "  'Alameda dos Canàrios, 891',\n",
       "  'São Paulo',\n",
       "  '05487-020',\n",
       "  'Brazil'),\n",
       " (88,\n",
       "  'Wellington Importadora',\n",
       "  'Paula Parente',\n",
       "  'Rua do Mercado, 12',\n",
       "  'Resende',\n",
       "  '08737-363',\n",
       "  'Brazil'),\n",
       " (90,\n",
       "  'Wilman Kala',\n",
       "  'Matti Karttunen',\n",
       "  'Keskuskatu 45',\n",
       "  'Helsinki',\n",
       "  '21240',\n",
       "  'Finland')]"
      ]
     },
     "execution_count": 71,
     "metadata": {},
     "output_type": "execute_result"
    }
   ],
   "source": [
    "cursor = con.cursor()\n",
    "cmd = \"\"\"\n",
    "SELECT * FROM Customers\n",
    "WHERE CustomerName LIKE '%a';\n",
    "\"\"\"\n",
    "cursor.execute(cmd)\n",
    "cursor.fetchall()"
   ]
  },
  {
   "cell_type": "code",
   "execution_count": 72,
   "metadata": {},
   "outputs": [
    {
     "data": {
      "text/plain": [
       "[(7,\n",
       "  'Blondel père et fils',\n",
       "  'Frédérique Citeaux',\n",
       "  '24, place Kléber',\n",
       "  'Strasbourg',\n",
       "  '67000',\n",
       "  'France'),\n",
       " (8,\n",
       "  'Bólido Comidas preparadas',\n",
       "  'Martín Sommer',\n",
       "  'C/ Araquil, 67',\n",
       "  'Madrid',\n",
       "  '28023',\n",
       "  'Spain'),\n",
       " (11,\n",
       "  \"B''s Beverages\",\n",
       "  'Victoria Ashworth',\n",
       "  'Fauntleroy Circus',\n",
       "  'London',\n",
       "  'EC2 5NT',\n",
       "  'UK')]"
      ]
     },
     "execution_count": 72,
     "metadata": {},
     "output_type": "execute_result"
    }
   ],
   "source": [
    "cursor = con.cursor()\n",
    "cmd = \"\"\"\n",
    "SELECT * FROM Customers\n",
    "WHERE CustomerName LIKE 'b%s';\n",
    "\"\"\"\n",
    "cursor.execute(cmd)\n",
    "cursor.fetchall()"
   ]
  },
  {
   "cell_type": "code",
   "execution_count": 73,
   "metadata": {},
   "outputs": [
    {
     "data": {
      "text/plain": [
       "[(3,\n",
       "  'Antonio Moreno Taquería',\n",
       "  'Antonio Moreno',\n",
       "  'Mataderos 2312',\n",
       "  'México D.F.',\n",
       "  '5023',\n",
       "  'Mexico'),\n",
       " (4,\n",
       "  'Around the Horn',\n",
       "  'Thomas Hardy',\n",
       "  '120 Hanover Sq.',\n",
       "  'London',\n",
       "  'WA1 1DP',\n",
       "  'UK'),\n",
       " (36,\n",
       "  'Hungry Coyote Import Store',\n",
       "  'Yoshi Latimer',\n",
       "  'City Center Plaza 516 Main St.',\n",
       "  'Elgin',\n",
       "  '97827',\n",
       "  'USA'),\n",
       " (40,\n",
       "  \"La corne d''abondance\",\n",
       "  'Daniel Tonini',\n",
       "  \"67, avenue de l''Europe\",\n",
       "  'Versailles',\n",
       "  '78000',\n",
       "  'France'),\n",
       " (43,\n",
       "  'Lazy K Kountry Store',\n",
       "  'John Steel',\n",
       "  '12 Orchestra Terrace',\n",
       "  'Walla Walla',\n",
       "  '99362',\n",
       "  'USA'),\n",
       " (52,\n",
       "  'Morgenstern Gesundkost',\n",
       "  'Alexander Feuer',\n",
       "  'Heerstr. 22',\n",
       "  'Leipzig',\n",
       "  '4179',\n",
       "  'Germany'),\n",
       " (53,\n",
       "  'North/South',\n",
       "  'Simon Crowther',\n",
       "  'South House 300 Queensbridge',\n",
       "  'London',\n",
       "  'SW7 1RZ',\n",
       "  'UK'),\n",
       " (55,\n",
       "  'Old World Delicatessen',\n",
       "  'Rene Phillips',\n",
       "  '2743 Bering St.',\n",
       "  'Anchorage',\n",
       "  '99508',\n",
       "  'USA'),\n",
       " (72,\n",
       "  'Seven Seas Imports',\n",
       "  'Hari Kumar',\n",
       "  '90 Wadhurst Rd.',\n",
       "  'London',\n",
       "  'OX15 4NB',\n",
       "  'UK'),\n",
       " (80,\n",
       "  'Tortuga Restaurante',\n",
       "  'Miguel Angel Paolino',\n",
       "  'Avda. Azteca 123',\n",
       "  'México D.F.',\n",
       "  '5033',\n",
       "  'Mexico'),\n",
       " (88,\n",
       "  'Wellington Importadora',\n",
       "  'Paula Parente',\n",
       "  'Rua do Mercado, 12',\n",
       "  'Resende',\n",
       "  '08737-363',\n",
       "  'Brazil')]"
      ]
     },
     "execution_count": 73,
     "metadata": {},
     "output_type": "execute_result"
    }
   ],
   "source": [
    "cursor = con.cursor()\n",
    "cmd = \"\"\"\n",
    "SELECT * FROM Customers\n",
    "WHERE CustomerName LIKE '%or%';\n",
    "\"\"\"\n",
    "cursor.execute(cmd)\n",
    "cursor.fetchall()"
   ]
  },
  {
   "cell_type": "code",
   "execution_count": 74,
   "metadata": {},
   "outputs": [
    {
     "data": {
      "text/plain": [
       "[(2,\n",
       "  'Ana Trujillo Emparedados y helados',\n",
       "  'Ana Trujillo',\n",
       "  'Avda. de la Constitución 2222',\n",
       "  'México D.F.',\n",
       "  '5021',\n",
       "  'Mexico'),\n",
       " (3,\n",
       "  'Antonio Moreno Taquería',\n",
       "  'Antonio Moreno',\n",
       "  'Mataderos 2312',\n",
       "  'México D.F.',\n",
       "  '5023',\n",
       "  'Mexico'),\n",
       " (4,\n",
       "  'Around the Horn',\n",
       "  'Thomas Hardy',\n",
       "  '120 Hanover Sq.',\n",
       "  'London',\n",
       "  'WA1 1DP',\n",
       "  'UK')]"
      ]
     },
     "execution_count": 74,
     "metadata": {},
     "output_type": "execute_result"
    }
   ],
   "source": [
    "cursor = con.cursor()\n",
    "cmd = \"\"\"\n",
    "SELECT * FROM Customers\n",
    "WHERE CustomerName LIKE 'a__%';\n",
    "\"\"\"\n",
    "cursor.execute(cmd)\n",
    "cursor.fetchall()"
   ]
  },
  {
   "cell_type": "code",
   "execution_count": 75,
   "metadata": {},
   "outputs": [
    {
     "data": {
      "text/plain": [
       "[(4,\n",
       "  'Around the Horn',\n",
       "  'Thomas Hardy',\n",
       "  '120 Hanover Sq.',\n",
       "  'London',\n",
       "  'WA1 1DP',\n",
       "  'UK'),\n",
       " (17,\n",
       "  'Drachenblut Delikatessend',\n",
       "  'Sven Ottlieb',\n",
       "  'Walserweg 21',\n",
       "  'Aachen',\n",
       "  '52066',\n",
       "  'Germany'),\n",
       " (20,\n",
       "  'Ernst Handel',\n",
       "  'Roland Mendel',\n",
       "  'Kirchgasse 6',\n",
       "  'Graz',\n",
       "  '8010',\n",
       "  'Austria'),\n",
       " (25,\n",
       "  'Frankenversand',\n",
       "  'Peter Franken',\n",
       "  'Berliner Platz 43',\n",
       "  'München',\n",
       "  '80805',\n",
       "  'Germany'),\n",
       " (26,\n",
       "  'France restauration',\n",
       "  'Carine Schmitt',\n",
       "  '54, rue Royale',\n",
       "  'Nantes',\n",
       "  '44000',\n",
       "  'France'),\n",
       " (27,\n",
       "  'Franchi S.p.A.',\n",
       "  'Paolo Accorti',\n",
       "  'Via Monte Bianco 34',\n",
       "  'Torino',\n",
       "  '10100',\n",
       "  'Italy'),\n",
       " (32,\n",
       "  'Great Lakes Food Market',\n",
       "  'Howard Snyder',\n",
       "  '2732 Baker Blvd.',\n",
       "  'Eugene',\n",
       "  '97403',\n",
       "  'USA'),\n",
       " (33,\n",
       "  'GROSELLA-Restaurante',\n",
       "  'Manuel Pereira',\n",
       "  '5ª Ave. Los Palos Grandes',\n",
       "  'Caracas',\n",
       "  '1081',\n",
       "  'Venezuela'),\n",
       " (60,\n",
       "  'Princesa Isabel Vinhoss',\n",
       "  'Isabel de Castro',\n",
       "  'Estrada da saúde n. 58',\n",
       "  'Lisboa',\n",
       "  '1756',\n",
       "  'Portugal'),\n",
       " (81,\n",
       "  'Tradição Hipermercados',\n",
       "  'Anabela Domingues',\n",
       "  'Av. Inês de Castro, 414',\n",
       "  'São Paulo',\n",
       "  '05634-030',\n",
       "  'Brazil'),\n",
       " (82,\n",
       "  \"Trail''s Head Gourmet Provisioners\",\n",
       "  'Helvetius Nagy',\n",
       "  '722 DaVinci Blvd.',\n",
       "  'Kirkland',\n",
       "  '98034',\n",
       "  'USA')]"
      ]
     },
     "execution_count": 75,
     "metadata": {},
     "output_type": "execute_result"
    }
   ],
   "source": [
    "cursor = con.cursor()\n",
    "cmd = \"\"\"\n",
    "SELECT * FROM Customers\n",
    "WHERE CustomerName LIKE '_r%';\n",
    "\"\"\"\n",
    "cursor.execute(cmd)\n",
    "cursor.fetchall()"
   ]
  },
  {
   "cell_type": "code",
   "execution_count": 76,
   "metadata": {},
   "outputs": [
    {
     "data": {
      "text/plain": [
       "[(8,\n",
       "  'Bólido Comidas preparadas',\n",
       "  'Martín Sommer',\n",
       "  'C/ Araquil, 67',\n",
       "  'Madrid',\n",
       "  '28023',\n",
       "  'Spain'),\n",
       " (22,\n",
       "  'FISSA Fabrica Inter. Salchichas S.A.',\n",
       "  'Diego Roel',\n",
       "  'C/ Moralzarzal, 86',\n",
       "  'Madrid',\n",
       "  '28034',\n",
       "  'Spain'),\n",
       " (29,\n",
       "  'Galería del gastrónomo',\n",
       "  'Eduardo Saavedra',\n",
       "  'Rambla de Cataluña, 23',\n",
       "  'Barcelona',\n",
       "  '8022',\n",
       "  'Spain'),\n",
       " (30,\n",
       "  'Godos Cocina Típica',\n",
       "  'José Pedro Freyre',\n",
       "  'C/ Romero, 33',\n",
       "  'Sevilla',\n",
       "  '41101',\n",
       "  'Spain'),\n",
       " (69,\n",
       "  'Romero y tomillo',\n",
       "  'Alejandra Camino',\n",
       "  'Gran Vía, 1',\n",
       "  'Madrid',\n",
       "  '28001',\n",
       "  'Spain')]"
      ]
     },
     "execution_count": 76,
     "metadata": {},
     "output_type": "execute_result"
    }
   ],
   "source": [
    "cursor = con.cursor()\n",
    "cmd = \"\"\"\n",
    "SELECT * FROM Customers\n",
    "WHERE Country LIKE 'Spain';\n",
    "\"\"\"\n",
    "cursor.execute(cmd)\n",
    "cursor.fetchall()"
   ]
  },
  {
   "cell_type": "code",
   "execution_count": 77,
   "metadata": {},
   "outputs": [
    {
     "data": {
      "text/plain": [
       "[]"
      ]
     },
     "execution_count": 77,
     "metadata": {},
     "output_type": "execute_result"
    }
   ],
   "source": [
    "cursor = con.cursor()\n",
    "cmd = \"\"\"\n",
    "SELECT * FROM Customers\n",
    "WHERE CustomerName LIKE '[bsp]%';\n",
    "\"\"\"\n",
    "cursor.execute(cmd)\n",
    "cursor.fetchmany(3)"
   ]
  },
  {
   "cell_type": "code",
   "execution_count": 78,
   "metadata": {},
   "outputs": [
    {
     "data": {
      "text/plain": [
       "[]"
      ]
     },
     "execution_count": 78,
     "metadata": {},
     "output_type": "execute_result"
    }
   ],
   "source": [
    "cursor = con.cursor()\n",
    "cmd = \"\"\"\n",
    "SELECT * FROM Customers\n",
    "WHERE CustomerName LIKE '[a-f]%';\n",
    "\"\"\"\n",
    "cursor.execute(cmd)\n",
    "cursor.fetchmany(3)"
   ]
  },
  {
   "cell_type": "markdown",
   "metadata": {},
   "source": [
    "### SQL In"
   ]
  },
  {
   "cell_type": "code",
   "execution_count": 79,
   "metadata": {},
   "outputs": [
    {
     "data": {
      "text/plain": [
       "[(1, 'Sumin', 'Joo', 'Obere Str. 57', 'Berlin', '12209', 'Germany'),\n",
       " (4,\n",
       "  'Around the Horn',\n",
       "  'Thomas Hardy',\n",
       "  '120 Hanover Sq.',\n",
       "  'London',\n",
       "  'WA1 1DP',\n",
       "  'UK'),\n",
       " (6,\n",
       "  'Blauer See Delikatessen',\n",
       "  'Hanna Moos',\n",
       "  'Forsterstr. 57',\n",
       "  'Mannheim',\n",
       "  '68306',\n",
       "  'Germany')]"
      ]
     },
     "execution_count": 79,
     "metadata": {},
     "output_type": "execute_result"
    }
   ],
   "source": [
    "cursor = con.cursor()\n",
    "cmd = \"\"\"\n",
    "SELECT * FROM Customers\n",
    "WHERE Country IN ('Germany', 'France', 'UK');\n",
    "\"\"\"\n",
    "cursor.execute(cmd)\n",
    "cursor.fetchmany(3)"
   ]
  },
  {
   "cell_type": "code",
   "execution_count": 80,
   "metadata": {},
   "outputs": [
    {
     "data": {
      "text/plain": [
       "[(2,\n",
       "  'Ana Trujillo Emparedados y helados',\n",
       "  'Ana Trujillo',\n",
       "  'Avda. de la Constitución 2222',\n",
       "  'México D.F.',\n",
       "  '5021',\n",
       "  'Mexico'),\n",
       " (3,\n",
       "  'Antonio Moreno Taquería',\n",
       "  'Antonio Moreno',\n",
       "  'Mataderos 2312',\n",
       "  'México D.F.',\n",
       "  '5023',\n",
       "  'Mexico'),\n",
       " (5,\n",
       "  'Berglunds snabbköp',\n",
       "  'Christina Berglund',\n",
       "  'Berguvsvägen 8',\n",
       "  'Luleå',\n",
       "  'S-958 22',\n",
       "  'Sweden')]"
      ]
     },
     "execution_count": 80,
     "metadata": {},
     "output_type": "execute_result"
    }
   ],
   "source": [
    "cursor = con.cursor()\n",
    "cmd = \"\"\"\n",
    "SELECT * FROM Customers\n",
    "WHERE Country NOT IN ('Germany', 'France', 'UK');\n",
    "\"\"\"\n",
    "cursor.execute(cmd)\n",
    "cursor.fetchmany(3)"
   ]
  },
  {
   "cell_type": "code",
   "execution_count": 81,
   "metadata": {},
   "outputs": [
    {
     "data": {
      "text/plain": [
       "[(2,\n",
       "  'Ana Trujillo Emparedados y helados',\n",
       "  'Ana Trujillo',\n",
       "  'Avda. de la Constitución 2222',\n",
       "  'México D.F.',\n",
       "  '5021',\n",
       "  'Mexico'),\n",
       " (3,\n",
       "  'Antonio Moreno Taquería',\n",
       "  'Antonio Moreno',\n",
       "  'Mataderos 2312',\n",
       "  'México D.F.',\n",
       "  '5023',\n",
       "  'Mexico'),\n",
       " (4,\n",
       "  'Around the Horn',\n",
       "  'Thomas Hardy',\n",
       "  '120 Hanover Sq.',\n",
       "  'London',\n",
       "  'WA1 1DP',\n",
       "  'UK')]"
      ]
     },
     "execution_count": 81,
     "metadata": {},
     "output_type": "execute_result"
    }
   ],
   "source": [
    "cursor = con.cursor()\n",
    "cmd = \"\"\"\n",
    "SELECT * FROM Customers\n",
    "WHERE CustomerID IN (SELECT CustomerID FROM Orders);\n",
    "\"\"\"\n",
    "cursor.execute(cmd)\n",
    "cursor.fetchmany(3)"
   ]
  },
  {
   "cell_type": "code",
   "execution_count": 82,
   "metadata": {},
   "outputs": [
    {
     "data": {
      "text/plain": [
       "[(1, 'Sumin', 'Joo', 'Obere Str. 57', 'Berlin', '12209', 'Germany'),\n",
       " (6,\n",
       "  'Blauer See Delikatessen',\n",
       "  'Hanna Moos',\n",
       "  'Forsterstr. 57',\n",
       "  'Mannheim',\n",
       "  '68306',\n",
       "  'Germany'),\n",
       " (12,\n",
       "  'Cactus Comidas para llevar',\n",
       "  'Patricio Simpson',\n",
       "  'Cerrito 333',\n",
       "  'Buenos Aires',\n",
       "  '1010',\n",
       "  'Argentina')]"
      ]
     },
     "execution_count": 82,
     "metadata": {},
     "output_type": "execute_result"
    }
   ],
   "source": [
    "cursor = con.cursor()\n",
    "cmd = \"\"\"\n",
    "SELECT * FROM Customers\n",
    "WHERE CustomerID NOT IN (SELECT CustomerID FROM Orders);\n",
    "\"\"\"\n",
    "cursor.execute(cmd)\n",
    "cursor.fetchmany(3)"
   ]
  },
  {
   "cell_type": "markdown",
   "metadata": {},
   "source": [
    "### SQL Between"
   ]
  },
  {
   "cell_type": "code",
   "execution_count": 83,
   "metadata": {},
   "outputs": [
    {
     "data": {
      "text/plain": [
       "[(1, 'Chais', 1, 1, '10 boxes x 20 bags', 18),\n",
       " (2, 'Chang', 1, 1, '24 - 12 oz bottles', 19),\n",
       " (3, 'Aniseed Syrup', 1, 2, '12 - 550 ml bottles', 10)]"
      ]
     },
     "execution_count": 83,
     "metadata": {},
     "output_type": "execute_result"
    }
   ],
   "source": [
    "cursor = con.cursor()\n",
    "cmd = \"\"\"\n",
    "SELECT * FROM Products\n",
    "WHERE Price BETWEEN 10 AND 20;\n",
    "\"\"\"\n",
    "cursor.execute(cmd)\n",
    "cursor.fetchmany(3)"
   ]
  },
  {
   "cell_type": "code",
   "execution_count": 84,
   "metadata": {},
   "outputs": [
    {
     "data": {
      "text/plain": [
       "[(4, \"Chef Anton's Cajun Seasoning\", 2, 2, '48 - 6 oz jars', 22),\n",
       " (5, \"Chef Anton's Gumbo Mix\", 2, 2, '36 boxes', 21.35),\n",
       " (6, \"Grandma's Boysenberry Spread\", 3, 2, '12 - 8 oz jars', 25)]"
      ]
     },
     "execution_count": 84,
     "metadata": {},
     "output_type": "execute_result"
    }
   ],
   "source": [
    "cursor = con.cursor()\n",
    "cmd = \"\"\"\n",
    "SELECT * FROM Products\n",
    "WHERE Price NOT BETWEEN 10 AND 20;\n",
    "\"\"\"\n",
    "cursor.execute(cmd)\n",
    "cursor.fetchmany(3)"
   ]
  },
  {
   "cell_type": "code",
   "execution_count": 85,
   "metadata": {},
   "outputs": [
    {
     "data": {
      "text/plain": [
       "[(1, 'Chais', 1, 1, '10 boxes x 20 bags', 18),\n",
       " (2, 'Chang', 1, 1, '24 - 12 oz bottles', 19),\n",
       " (3, 'Aniseed Syrup', 1, 2, '12 - 550 ml bottles', 10)]"
      ]
     },
     "execution_count": 85,
     "metadata": {},
     "output_type": "execute_result"
    }
   ],
   "source": [
    "cursor = con.cursor()\n",
    "cmd = \"\"\"\n",
    "SELECT * FROM Products\n",
    "WHERE Price BETWEEN 10 AND 20\n",
    "AND CategoryID IN (1,2,3);\n",
    "\"\"\"\n",
    "cursor.execute(cmd)\n",
    "cursor.fetchmany(3)"
   ]
  },
  {
   "cell_type": "code",
   "execution_count": 86,
   "metadata": {},
   "outputs": [
    {
     "data": {
      "text/plain": [
       "[(18, 'Carnarvon Tigers', 7, 8, '16 kg pkg.', 62.5),\n",
       " (1, 'Chais', 1, 1, '10 boxes x 20 bags', 18),\n",
       " (2, 'Chang', 1, 1, '24 - 12 oz bottles', 19)]"
      ]
     },
     "execution_count": 86,
     "metadata": {},
     "output_type": "execute_result"
    }
   ],
   "source": [
    "cursor = con.cursor()\n",
    "cmd = \"\"\"\n",
    "SELECT * FROM Products\n",
    "WHERE ProductName BETWEEN 'Carnarvon Tigers' AND 'Mozzarella di Giovanni'\n",
    "ORDER BY ProductName;\n",
    "\"\"\"\n",
    "cursor.execute(cmd)\n",
    "cursor.fetchmany(3)"
   ]
  },
  {
   "cell_type": "code",
   "execution_count": 87,
   "metadata": {},
   "outputs": [
    {
     "data": {
      "text/plain": [
       "[(17, 'Alice Mutton', 7, 6, '20 - 1 kg tins', 39),\n",
       " (3, 'Aniseed Syrup', 1, 2, '12 - 550 ml bottles', 10),\n",
       " (40, 'Boston Crab Meat', 19, 8, '24 - 4 oz tins', 18.4)]"
      ]
     },
     "execution_count": 87,
     "metadata": {},
     "output_type": "execute_result"
    }
   ],
   "source": [
    "cursor = con.cursor()\n",
    "cmd = \"\"\"\n",
    "SELECT * FROM Products\n",
    "WHERE ProductName NOT BETWEEN \"Carnarvon Tigers\" AND \"Chef Anton's Cajun Seasoning\"\n",
    "ORDER BY ProductName;\n",
    "\"\"\"\n",
    "cursor.execute(cmd)\n",
    "cursor.fetchmany(3)"
   ]
  },
  {
   "cell_type": "code",
   "execution_count": 88,
   "metadata": {},
   "outputs": [
    {
     "data": {
      "text/plain": [
       "[(10248, 90, 5, '1996-07-04', 3),\n",
       " (10249, 81, 6, '1996-07-05', 1),\n",
       " (10250, 34, 4, '1996-07-08', 2)]"
      ]
     },
     "execution_count": 88,
     "metadata": {},
     "output_type": "execute_result"
    }
   ],
   "source": [
    "cursor = con.cursor()\n",
    "cmd = \"\"\"\n",
    "SELECT * FROM Orders\n",
    "WHERE OrderDate BETWEEN '1996-07-01' AND '1996-07-31';\n",
    "\"\"\"\n",
    "cursor.execute(cmd)\n",
    "cursor.fetchmany(3)"
   ]
  },
  {
   "cell_type": "markdown",
   "metadata": {},
   "source": [
    "### SQL Aliases"
   ]
  },
  {
   "cell_type": "code",
   "execution_count": 89,
   "metadata": {},
   "outputs": [
    {
     "data": {
      "text/plain": [
       "[(1,), (2,), (3,)]"
      ]
     },
     "execution_count": 89,
     "metadata": {},
     "output_type": "execute_result"
    }
   ],
   "source": [
    "cursor = con.cursor()\n",
    "cmd = \"\"\"\n",
    "SELECT CustomerID AS ID\n",
    "FROM Customers;\n",
    "\"\"\"\n",
    "cursor.execute(cmd)\n",
    "cursor.fetchmany(3)"
   ]
  },
  {
   "cell_type": "code",
   "execution_count": 90,
   "metadata": {},
   "outputs": [
    {
     "data": {
      "text/plain": [
       "[(1,), (2,), (3,)]"
      ]
     },
     "execution_count": 90,
     "metadata": {},
     "output_type": "execute_result"
    }
   ],
   "source": [
    "cursor = con.cursor()\n",
    "cmd = \"\"\"\n",
    "SELECT CustomerID ID\n",
    "FROM Customers;\n",
    "\"\"\"\n",
    "cursor.execute(cmd)\n",
    "cursor.fetchmany(3)"
   ]
  },
  {
   "cell_type": "code",
   "execution_count": 91,
   "metadata": {},
   "outputs": [
    {
     "data": {
      "text/plain": [
       "[(1, 'Sumin'),\n",
       " (2, 'Ana Trujillo Emparedados y helados'),\n",
       " (3, 'Antonio Moreno Taquería')]"
      ]
     },
     "execution_count": 91,
     "metadata": {},
     "output_type": "execute_result"
    }
   ],
   "source": [
    "cursor = con.cursor()\n",
    "cmd = \"\"\"\n",
    "SELECT CustomerID AS ID, CustomerName AS Customer\n",
    "FROM Customers;\n",
    "\"\"\"\n",
    "cursor.execute(cmd)\n",
    "cursor.fetchmany(3)"
   ]
  },
  {
   "cell_type": "code",
   "execution_count": 92,
   "metadata": {},
   "outputs": [
    {
     "data": {
      "text/plain": [
       "[('Chais',), ('Chang',), ('Aniseed Syrup',)]"
      ]
     },
     "execution_count": 92,
     "metadata": {},
     "output_type": "execute_result"
    }
   ],
   "source": [
    "cursor = con.cursor()\n",
    "cmd = \"\"\"\n",
    "SELECT ProductName AS [My Great Products]\n",
    "FROM Products;\n",
    "\"\"\"\n",
    "cursor.execute(cmd)\n",
    "cursor.fetchmany(3)"
   ]
  },
  {
   "cell_type": "code",
   "execution_count": 93,
   "metadata": {},
   "outputs": [
    {
     "data": {
      "text/plain": [
       "[('Chais',), ('Chang',), ('Aniseed Syrup',)]"
      ]
     },
     "execution_count": 93,
     "metadata": {},
     "output_type": "execute_result"
    }
   ],
   "source": [
    "cursor = con.cursor()\n",
    "cmd = \"\"\"\n",
    "SELECT ProductName AS \"My Great Products\"\n",
    "FROM Products;\n",
    "\"\"\"\n",
    "cursor.execute(cmd)\n",
    "cursor.fetchmany(3)"
   ]
  },
  {
   "cell_type": "code",
   "execution_count": 94,
   "metadata": {},
   "outputs": [
    {
     "data": {
      "text/plain": [
       "[('Sumin', 12209),\n",
       " ('Ana Trujillo Emparedados y helados', 5021),\n",
       " ('Antonio Moreno Taquería', 5023)]"
      ]
     },
     "execution_count": 94,
     "metadata": {},
     "output_type": "execute_result"
    }
   ],
   "source": [
    "cursor = con.cursor()\n",
    "cmd = \"\"\"\n",
    "SELECT CustomerName, Address + ', ' + PostalCode + ' ' + City + ', ' + Country AS Address\n",
    "FROM Customers;\n",
    "\"\"\"\n",
    "cursor.execute(cmd)\n",
    "cursor.fetchmany(3)"
   ]
  },
  {
   "cell_type": "code",
   "execution_count": 95,
   "metadata": {},
   "outputs": [
    {
     "data": {
      "text/plain": [
       "[(1, 'Sumin', 'Joo', 'Obere Str. 57', 'Berlin', '12209', 'Germany'),\n",
       " (2,\n",
       "  'Ana Trujillo Emparedados y helados',\n",
       "  'Ana Trujillo',\n",
       "  'Avda. de la Constitución 2222',\n",
       "  'México D.F.',\n",
       "  '5021',\n",
       "  'Mexico'),\n",
       " (3,\n",
       "  'Antonio Moreno Taquería',\n",
       "  'Antonio Moreno',\n",
       "  'Mataderos 2312',\n",
       "  'México D.F.',\n",
       "  '5023',\n",
       "  'Mexico')]"
      ]
     },
     "execution_count": 95,
     "metadata": {},
     "output_type": "execute_result"
    }
   ],
   "source": [
    "cursor = con.cursor()\n",
    "cmd = \"\"\"\n",
    "SELECT * FROM Customers AS Persons;\n",
    "\"\"\"\n",
    "cursor.execute(cmd)\n",
    "cursor.fetchmany(3)"
   ]
  },
  {
   "cell_type": "code",
   "execution_count": 96,
   "metadata": {},
   "outputs": [
    {
     "data": {
      "text/plain": [
       "[(10355, '1996-11-15', 'Around the Horn'),\n",
       " (10383, '1996-12-16', 'Around the Horn')]"
      ]
     },
     "execution_count": 96,
     "metadata": {},
     "output_type": "execute_result"
    }
   ],
   "source": [
    "cursor = con.cursor()\n",
    "cmd = \"\"\"\n",
    "SELECT o.OrderID, o.OrderDate, c.CustomerName\n",
    "FROM Customers AS c, Orders AS o\n",
    "WHERE c.CustomerName='Around the Horn' AND c.CustomerID=o.CustomerID;\n",
    "\"\"\"\n",
    "cursor.execute(cmd)\n",
    "cursor.fetchmany(3)"
   ]
  },
  {
   "cell_type": "markdown",
   "metadata": {},
   "source": [
    "### SQL Joins"
   ]
  },
  {
   "cell_type": "code",
   "execution_count": 97,
   "metadata": {},
   "outputs": [
    {
     "data": {
      "text/plain": [
       "[(10248, 'Wilman Kala', '1996-07-04'),\n",
       " (10249, 'Tradição Hipermercados', '1996-07-05'),\n",
       " (10250, 'Hanari Carnes', '1996-07-08')]"
      ]
     },
     "execution_count": 97,
     "metadata": {},
     "output_type": "execute_result"
    }
   ],
   "source": [
    "cursor = con.cursor()\n",
    "cmd = \"\"\"\n",
    "SELECT Orders.OrderID, Customers.CustomerName, Orders.OrderDate\n",
    "FROM Orders\n",
    "INNER JOIN Customers ON Orders.CustomerID=Customers.CustomerID;\n",
    "\"\"\"\n",
    "cursor.execute(cmd)\n",
    "cursor.fetchmany(3)"
   ]
  },
  {
   "cell_type": "markdown",
   "metadata": {},
   "source": [
    "### SQL Inner Join"
   ]
  },
  {
   "cell_type": "code",
   "execution_count": 98,
   "metadata": {},
   "outputs": [
    {
     "data": {
      "text/plain": [
       "[(1, 'Chais', 'Beverages'),\n",
       " (2, 'Chang', 'Beverages'),\n",
       " (3, 'Aniseed Syrup', 'Condiments')]"
      ]
     },
     "execution_count": 98,
     "metadata": {},
     "output_type": "execute_result"
    }
   ],
   "source": [
    "cursor = con.cursor()\n",
    "cmd = \"\"\"\n",
    "SELECT ProductID, ProductName, CategoryName\n",
    "FROM Products\n",
    "INNER JOIN Categories ON Products.CategoryID = Categories.CategoryID;\n",
    "\"\"\"\n",
    "cursor.execute(cmd)\n",
    "cursor.fetchmany(3)"
   ]
  },
  {
   "cell_type": "code",
   "execution_count": 99,
   "metadata": {},
   "outputs": [
    {
     "data": {
      "text/plain": [
       "[(1, 'Chais', 'Beverages'),\n",
       " (2, 'Chang', 'Beverages'),\n",
       " (3, 'Aniseed Syrup', 'Condiments')]"
      ]
     },
     "execution_count": 99,
     "metadata": {},
     "output_type": "execute_result"
    }
   ],
   "source": [
    "cursor = con.cursor()\n",
    "cmd = \"\"\"\n",
    "SELECT Products.ProductID, Products.ProductName, Categories.CategoryName\n",
    "FROM Products\n",
    "INNER JOIN Categories ON Products.CategoryID = Categories.CategoryID;\n",
    "\"\"\"\n",
    "cursor.execute(cmd)\n",
    "cursor.fetchmany(3)"
   ]
  },
  {
   "cell_type": "code",
   "execution_count": 100,
   "metadata": {},
   "outputs": [
    {
     "data": {
      "text/plain": [
       "[(1, 'Chais', 'Beverages'),\n",
       " (2, 'Chang', 'Beverages'),\n",
       " (3, 'Aniseed Syrup', 'Condiments')]"
      ]
     },
     "execution_count": 100,
     "metadata": {},
     "output_type": "execute_result"
    }
   ],
   "source": [
    "cursor = con.cursor()\n",
    "cmd = \"\"\"\n",
    "SELECT Products.ProductID, Products.ProductName, Categories.CategoryName\n",
    "FROM Products\n",
    "JOIN Categories ON Products.CategoryID = Categories.CategoryID;\n",
    "\"\"\"\n",
    "cursor.execute(cmd)\n",
    "cursor.fetchmany(3)"
   ]
  },
  {
   "cell_type": "code",
   "execution_count": 101,
   "metadata": {},
   "outputs": [
    {
     "data": {
      "text/plain": [
       "[(10248, 'Wilman Kala', 'Federal Shipping'),\n",
       " (10249, 'Tradição Hipermercados', 'Speedy Express'),\n",
       " (10250, 'Hanari Carnes', 'United Package')]"
      ]
     },
     "execution_count": 101,
     "metadata": {},
     "output_type": "execute_result"
    }
   ],
   "source": [
    "cursor = con.cursor()\n",
    "cmd = \"\"\"\n",
    "SELECT Orders.OrderID, Customers.CustomerName, Shippers.ShipperName\n",
    "FROM ((Orders\n",
    "INNER JOIN Customers ON Orders.CustomerID = Customers.CustomerID)\n",
    "INNER JOIN Shippers ON Orders.ShipperID = Shippers.ShipperID);\n",
    "\"\"\"\n",
    "cursor.execute(cmd)\n",
    "cursor.fetchmany(3)"
   ]
  },
  {
   "cell_type": "markdown",
   "metadata": {},
   "source": [
    "### SQL Left Join"
   ]
  },
  {
   "cell_type": "code",
   "execution_count": 102,
   "metadata": {},
   "outputs": [
    {
     "data": {
      "text/plain": [
       "[('Ana Trujillo Emparedados y helados', 10308),\n",
       " ('Antonio Moreno Taquería', 10365),\n",
       " ('Around the Horn', 10355)]"
      ]
     },
     "execution_count": 102,
     "metadata": {},
     "output_type": "execute_result"
    }
   ],
   "source": [
    "cursor = con.cursor()\n",
    "cmd = \"\"\"\n",
    "SELECT Customers.CustomerName, Orders.OrderID\n",
    "FROM Customers\n",
    "LEFT JOIN Orders ON Customers.CustomerID = Orders.CustomerID\n",
    "ORDER BY Customers.CustomerName;\n",
    "\"\"\"\n",
    "cursor.execute(cmd)\n",
    "cursor.fetchmany(3)"
   ]
  },
  {
   "cell_type": "markdown",
   "metadata": {},
   "source": [
    "### SQL Right Join"
   ]
  },
  {
   "cell_type": "code",
   "execution_count": 103,
   "metadata": {},
   "outputs": [
    {
     "data": {
      "text/plain": [
       "[(None, 'West', 'Adam'),\n",
       " (10248, 'Buchanan', 'Steven'),\n",
       " (10249, 'Suyama', 'Michael')]"
      ]
     },
     "execution_count": 103,
     "metadata": {},
     "output_type": "execute_result"
    }
   ],
   "source": [
    "cursor = con.cursor()\n",
    "cmd = \"\"\"\n",
    "SELECT Orders.OrderID, Employees.LastName, Employees.FirstName\n",
    "FROM Orders\n",
    "RIGHT JOIN Employees ON Orders.EmployeeID = Employees.EmployeeID\n",
    "ORDER BY Orders.OrderID;\n",
    "\"\"\"\n",
    "cursor.execute(cmd)\n",
    "cursor.fetchmany(3)"
   ]
  },
  {
   "cell_type": "markdown",
   "metadata": {},
   "source": [
    "### SQL Full Join"
   ]
  },
  {
   "cell_type": "code",
   "execution_count": 104,
   "metadata": {},
   "outputs": [
    {
     "data": {
      "text/plain": [
       "[(None, 10374),\n",
       " ('Ana Trujillo Emparedados y helados', 10308),\n",
       " ('Antonio Moreno Taquería', 10365)]"
      ]
     },
     "execution_count": 104,
     "metadata": {},
     "output_type": "execute_result"
    }
   ],
   "source": [
    "cursor = con.cursor()\n",
    "cmd = \"\"\"\n",
    "SELECT Customers.CustomerName, Orders.OrderID\n",
    "FROM Customers\n",
    "FULL OUTER JOIN Orders ON Customers.CustomerID=Orders.CustomerID\n",
    "ORDER BY Customers.CustomerName;\n",
    "\"\"\"\n",
    "cursor.execute(cmd)\n",
    "cursor.fetchmany(3)"
   ]
  },
  {
   "cell_type": "markdown",
   "metadata": {},
   "source": [
    "### SQL Self Join"
   ]
  },
  {
   "cell_type": "code",
   "execution_count": 105,
   "metadata": {},
   "outputs": [
    {
     "data": {
      "text/plain": [
       "[('Cactus Comidas para llevar', 'Océano Atlántico Ltda.', 'Buenos Aires'),\n",
       " ('Cactus Comidas para llevar', 'Rancho grande', 'Buenos Aires'),\n",
       " ('Océano Atlántico Ltda.', 'Cactus Comidas para llevar', 'Buenos Aires')]"
      ]
     },
     "execution_count": 105,
     "metadata": {},
     "output_type": "execute_result"
    }
   ],
   "source": [
    "cursor = con.cursor()\n",
    "cmd = \"\"\"\n",
    "SELECT A.CustomerName AS CustomerName1, B.CustomerName AS CustomerName2, A.City\n",
    "FROM Customers A, Customers B\n",
    "WHERE A.CustomerID <> B.CustomerID\n",
    "AND A.City = B.City\n",
    "ORDER BY A.City;\n",
    "\"\"\"\n",
    "cursor.execute(cmd)\n",
    "cursor.fetchmany(3)"
   ]
  },
  {
   "cell_type": "markdown",
   "metadata": {},
   "source": [
    "### SQL Union"
   ]
  },
  {
   "cell_type": "code",
   "execution_count": 106,
   "metadata": {},
   "outputs": [
    {
     "data": {
      "text/plain": [
       "[('Aachen',), ('Albuquerque',), ('Anchorage',)]"
      ]
     },
     "execution_count": 106,
     "metadata": {},
     "output_type": "execute_result"
    }
   ],
   "source": [
    "cursor = con.cursor()\n",
    "cmd = \"\"\"\n",
    "SELECT City FROM Customers\n",
    "UNION\n",
    "SELECT City FROM Suppliers\n",
    "ORDER BY City;\n",
    "\"\"\"\n",
    "cursor.execute(cmd)\n",
    "cursor.fetchmany(3)"
   ]
  },
  {
   "cell_type": "code",
   "execution_count": 107,
   "metadata": {},
   "outputs": [
    {
     "data": {
      "text/plain": [
       "[('Aachen',), ('Albuquerque',), ('Anchorage',)]"
      ]
     },
     "execution_count": 107,
     "metadata": {},
     "output_type": "execute_result"
    }
   ],
   "source": [
    "cursor = con.cursor()\n",
    "cmd = \"\"\"\n",
    "SELECT City FROM Customers\n",
    "UNION ALL\n",
    "SELECT City FROM Suppliers\n",
    "ORDER BY City;\n",
    "\"\"\"\n",
    "cursor.execute(cmd)\n",
    "cursor.fetchmany(3)"
   ]
  },
  {
   "cell_type": "code",
   "execution_count": 108,
   "metadata": {},
   "outputs": [
    {
     "data": {
      "text/plain": [
       "[('Aachen', 'Germany'), ('Berlin', 'Germany'), ('Brandenburg', 'Germany')]"
      ]
     },
     "execution_count": 108,
     "metadata": {},
     "output_type": "execute_result"
    }
   ],
   "source": [
    "cursor = con.cursor()\n",
    "cmd = \"\"\"\n",
    "SELECT City, Country FROM Customers\n",
    "WHERE Country='Germany'\n",
    "UNION\n",
    "SELECT City, Country FROM Suppliers\n",
    "WHERE Country='Germany'\n",
    "ORDER BY City;\n",
    "\"\"\"\n",
    "cursor.execute(cmd)\n",
    "cursor.fetchmany(3)"
   ]
  },
  {
   "cell_type": "code",
   "execution_count": 109,
   "metadata": {},
   "outputs": [
    {
     "data": {
      "text/plain": [
       "[('Aachen', 'Germany'), ('Berlin', 'Germany'), ('Berlin', 'Germany')]"
      ]
     },
     "execution_count": 109,
     "metadata": {},
     "output_type": "execute_result"
    }
   ],
   "source": [
    "cursor = con.cursor()\n",
    "cmd = \"\"\"\n",
    "SELECT City, Country FROM Customers\n",
    "WHERE Country='Germany'\n",
    "UNION ALL\n",
    "SELECT City, Country FROM Suppliers\n",
    "WHERE Country='Germany'\n",
    "ORDER BY City;\n",
    "\"\"\"\n",
    "cursor.execute(cmd)\n",
    "cursor.fetchmany(3)"
   ]
  },
  {
   "cell_type": "code",
   "execution_count": 110,
   "metadata": {},
   "outputs": [
    {
     "data": {
      "text/plain": [
       "[('Customer', 'Alejandra Camino', 'Madrid', 'Spain'),\n",
       " ('Customer', 'Alexander Feuer', 'Leipzig', 'Germany'),\n",
       " ('Customer', 'Ana Trujillo', 'México D.F.', 'Mexico'),\n",
       " ('Customer', 'Anabela Domingues', 'São Paulo', 'Brazil'),\n",
       " ('Customer', 'André Fonseca', 'Campinas', 'Brazil')]"
      ]
     },
     "execution_count": 110,
     "metadata": {},
     "output_type": "execute_result"
    }
   ],
   "source": [
    "cursor = con.cursor()\n",
    "cmd = \"\"\"\n",
    "SELECT 'Customer' AS Type, ContactName, City, Country\n",
    "FROM Customers\n",
    "UNION\n",
    "SELECT 'Supplier', ContactName, City, Country\n",
    "FROM Suppliers;\n",
    "\"\"\"\n",
    "cursor.execute(cmd)\n",
    "cursor.fetchmany(5)"
   ]
  },
  {
   "cell_type": "markdown",
   "metadata": {},
   "source": [
    "### SQL Group By"
   ]
  },
  {
   "cell_type": "code",
   "execution_count": 111,
   "metadata": {},
   "outputs": [
    {
     "data": {
      "text/plain": [
       "[(3, 'Argentina'),\n",
       " (2, 'Austria'),\n",
       " (2, 'Belgium'),\n",
       " (9, 'Brazil'),\n",
       " (3, 'Canada')]"
      ]
     },
     "execution_count": 111,
     "metadata": {},
     "output_type": "execute_result"
    }
   ],
   "source": [
    "cursor = con.cursor()\n",
    "cmd = \"\"\"\n",
    "SELECT COUNT(CustomerID), Country\n",
    "FROM Customers\n",
    "GROUP BY Country;\n",
    "\"\"\"\n",
    "cursor.execute(cmd)\n",
    "cursor.fetchmany(5)"
   ]
  },
  {
   "cell_type": "code",
   "execution_count": 112,
   "metadata": {},
   "outputs": [
    {
     "data": {
      "text/plain": [
       "[(13, 'USA'), (11, 'Germany'), (11, 'France'), (9, 'Brazil'), (7, 'UK')]"
      ]
     },
     "execution_count": 112,
     "metadata": {},
     "output_type": "execute_result"
    }
   ],
   "source": [
    "cursor = con.cursor()\n",
    "cmd = \"\"\"\n",
    "SELECT COUNT(CustomerID), Country\n",
    "FROM Customers\n",
    "GROUP BY Country\n",
    "ORDER BY COUNT(CustomerID) DESC;\n",
    "\"\"\"\n",
    "cursor.execute(cmd)\n",
    "cursor.fetchmany(5)"
   ]
  },
  {
   "cell_type": "code",
   "execution_count": 113,
   "metadata": {},
   "outputs": [
    {
     "data": {
      "text/plain": [
       "[('Federal Shipping', 68), ('Speedy Express', 54), ('United Package', 74)]"
      ]
     },
     "execution_count": 113,
     "metadata": {},
     "output_type": "execute_result"
    }
   ],
   "source": [
    "cursor = con.cursor()\n",
    "cmd = \"\"\"\n",
    "SELECT Shippers.ShipperName, COUNT(Orders.OrderID) AS NumberOfOrders FROM Orders\n",
    "LEFT JOIN Shippers ON Orders.ShipperID = Shippers.ShipperID\n",
    "GROUP BY ShipperName;\n",
    "\"\"\"\n",
    "cursor.execute(cmd)\n",
    "cursor.fetchmany(5)"
   ]
  },
  {
   "cell_type": "markdown",
   "metadata": {},
   "source": [
    "### SQL Having"
   ]
  },
  {
   "cell_type": "code",
   "execution_count": 114,
   "metadata": {},
   "outputs": [
    {
     "data": {
      "text/plain": [
       "[(9, 'Brazil'), (11, 'France'), (11, 'Germany'), (7, 'UK'), (13, 'USA')]"
      ]
     },
     "execution_count": 114,
     "metadata": {},
     "output_type": "execute_result"
    }
   ],
   "source": [
    "cursor = con.cursor()\n",
    "cmd = \"\"\"\n",
    "SELECT COUNT(CustomerID), Country\n",
    "FROM Customers\n",
    "GROUP BY Country\n",
    "HAVING COUNT(CustomerID) > 5;\n",
    "\"\"\"\n",
    "cursor.execute(cmd)\n",
    "cursor.fetchmany(5)"
   ]
  },
  {
   "cell_type": "code",
   "execution_count": 115,
   "metadata": {},
   "outputs": [
    {
     "data": {
      "text/plain": [
       "[(13, 'USA'), (11, 'Germany'), (11, 'France'), (9, 'Brazil'), (7, 'UK')]"
      ]
     },
     "execution_count": 115,
     "metadata": {},
     "output_type": "execute_result"
    }
   ],
   "source": [
    "cursor = con.cursor()\n",
    "cmd = \"\"\"\n",
    "SELECT COUNT(CustomerID), Country\n",
    "FROM Customers\n",
    "GROUP BY Country\n",
    "HAVING COUNT(CustomerID) > 5\n",
    "ORDER BY COUNT(CustomerID) DESC;\n",
    "\"\"\"\n",
    "cursor.execute(cmd)\n",
    "cursor.fetchmany(5)"
   ]
  },
  {
   "cell_type": "code",
   "execution_count": 116,
   "metadata": {},
   "outputs": [
    {
     "data": {
      "text/plain": [
       "[('Buchanan', 11),\n",
       " ('Callahan', 27),\n",
       " ('Davolio', 29),\n",
       " ('Fuller', 20),\n",
       " ('King', 14)]"
      ]
     },
     "execution_count": 116,
     "metadata": {},
     "output_type": "execute_result"
    }
   ],
   "source": [
    "cursor = con.cursor()\n",
    "cmd = \"\"\"\n",
    "SELECT Employees.LastName, COUNT(Orders.OrderID) AS NumberOfOrders\n",
    "FROM (Orders\n",
    "INNER JOIN Employees ON Orders.EmployeeID = Employees.EmployeeID)\n",
    "GROUP BY LastName\n",
    "HAVING COUNT(Orders.OrderID) > 10;\n",
    "\"\"\"\n",
    "cursor.execute(cmd)\n",
    "cursor.fetchmany(5)"
   ]
  },
  {
   "cell_type": "code",
   "execution_count": 117,
   "metadata": {},
   "outputs": [
    {
     "data": {
      "text/plain": [
       "[('Davolio', 29)]"
      ]
     },
     "execution_count": 117,
     "metadata": {},
     "output_type": "execute_result"
    }
   ],
   "source": [
    "cursor = con.cursor()\n",
    "cmd = \"\"\"\n",
    "SELECT Employees.LastName, COUNT(Orders.OrderID) AS NumberOfOrders\n",
    "FROM Orders\n",
    "INNER JOIN Employees ON Orders.EmployeeID = Employees.EmployeeID\n",
    "WHERE LastName = 'Davolio' OR LastName = 'Fuller'\n",
    "GROUP BY LastName\n",
    "HAVING COUNT(Orders.OrderID) > 25;\n",
    "\"\"\"\n",
    "cursor.execute(cmd)\n",
    "cursor.fetchmany(5)"
   ]
  },
  {
   "cell_type": "markdown",
   "metadata": {},
   "source": [
    "### SQL Exists"
   ]
  },
  {
   "cell_type": "code",
   "execution_count": 118,
   "metadata": {},
   "outputs": [
    {
     "data": {
      "text/plain": [
       "[('Exotic Liquid',),\n",
       " ('New Orleans Cajun Delights',),\n",
       " ('Tokyo Traders',),\n",
       " (\"Mayumi's\",),\n",
       " ('Pavlova, Ltd.',)]"
      ]
     },
     "execution_count": 118,
     "metadata": {},
     "output_type": "execute_result"
    }
   ],
   "source": [
    "cursor = con.cursor()\n",
    "cmd = \"\"\"\n",
    "SELECT SupplierName\n",
    "FROM Suppliers\n",
    "WHERE EXISTS (\n",
    "    SELECT ProductName \n",
    "    FROM Products \n",
    "    WHERE Products.SupplierID = Suppliers.supplierID AND Price < 20\n",
    "    );\n",
    "\"\"\"\n",
    "cursor.execute(cmd)\n",
    "cursor.fetchmany(5)"
   ]
  },
  {
   "cell_type": "markdown",
   "metadata": {},
   "source": [
    "### SQL Any, All"
   ]
  },
  {
   "cell_type": "markdown",
   "metadata": {},
   "source": [
    "SQLite3에는 ANY와 ALL 연산자가 존재하지 않는다   \n",
    "ANY --> IN, EXISTS    \n",
    "ALL --> MIN,MAX를 활용해 대체"
   ]
  },
  {
   "cell_type": "code",
   "execution_count": 119,
   "metadata": {},
   "outputs": [
    {
     "data": {
      "text/plain": [
       "[('Chais',),\n",
       " ('Chang',),\n",
       " ('Aniseed Syrup',),\n",
       " (\"Chef Anton's Cajun Seasoning\",),\n",
       " (\"Chef Anton's Gumbo Mix\",)]"
      ]
     },
     "execution_count": 119,
     "metadata": {},
     "output_type": "execute_result"
    }
   ],
   "source": [
    "cursor = con.cursor()\n",
    "cmd = \"\"\"\n",
    "SELECT ProductName\n",
    "FROM Products\n",
    "WHERE EXISTS\n",
    "  (SELECT ProductID\n",
    "  FROM OrderDetails\n",
    "  WHERE Quantity = 10);\n",
    "\"\"\"\n",
    "cursor.execute(cmd)\n",
    "cursor.fetchmany(5)"
   ]
  },
  {
   "cell_type": "code",
   "execution_count": 120,
   "metadata": {},
   "outputs": [
    {
     "data": {
      "text/plain": [
       "[]"
      ]
     },
     "execution_count": 120,
     "metadata": {},
     "output_type": "execute_result"
    }
   ],
   "source": [
    "cursor = con.cursor()\n",
    "cmd = \"\"\"\n",
    "SELECT ProductName\n",
    "FROM Products\n",
    "WHERE EXISTS\n",
    "  (SELECT ProductID\n",
    "  FROM OrderDetails\n",
    "  WHERE Quantity > 1000);\n",
    "\"\"\"\n",
    "cursor.execute(cmd)\n",
    "cursor.fetchmany(5)"
   ]
  },
  {
   "cell_type": "code",
   "execution_count": 121,
   "metadata": {},
   "outputs": [
    {
     "data": {
      "text/plain": [
       "[('Chais',),\n",
       " ('Chang',),\n",
       " ('Aniseed Syrup',),\n",
       " (\"Chef Anton's Cajun Seasoning\",),\n",
       " (\"Chef Anton's Gumbo Mix\",)]"
      ]
     },
     "execution_count": 121,
     "metadata": {},
     "output_type": "execute_result"
    }
   ],
   "source": [
    "cursor = con.cursor()\n",
    "cmd = \"\"\"\n",
    "SELECT ALL ProductName\n",
    "FROM Products\n",
    "WHERE TRUE;\n",
    "\"\"\"\n",
    "cursor.execute(cmd)\n",
    "cursor.fetchmany(5)"
   ]
  },
  {
   "cell_type": "code",
   "execution_count": 122,
   "metadata": {},
   "outputs": [
    {
     "data": {
      "text/plain": [
       "[('Chais',),\n",
       " ('Chang',),\n",
       " (\"Chef Anton's Cajun Seasoning\",),\n",
       " (\"Uncle Bob's Organic Dried Pears\",),\n",
       " ('Konbu',),\n",
       " ('Tofu',),\n",
       " ('Pavlova',),\n",
       " ('Teatime Chocolate Biscuits',),\n",
       " (\"Sir Rodney's Scones\",),\n",
       " ('Guaraná Fantástica',),\n",
       " ('NuNuCa Nuß-Nougat-Creme',),\n",
       " ('Gumbär Gummibärchen',),\n",
       " ('Thüringer Rostbratwurst',),\n",
       " ('Nord-Ost Matjeshering',),\n",
       " ('Sasquatch Ale',),\n",
       " ('Steeleye Stout',),\n",
       " ('Gravad lax',),\n",
       " ('Côte de Blaye',),\n",
       " ('Boston Crab Meat',),\n",
       " (\"Jack's New England Clam Chowder\",),\n",
       " ('Singaporean Hokkien Fried Mee',),\n",
       " ('Perth Pasties',),\n",
       " ('Tourtière',),\n",
       " ('Pâté chinois',),\n",
       " ('Raclette Courdavault',),\n",
       " ('Tarte au sucre',),\n",
       " ('Louisiana Fiery Hot Pepper Sauce',),\n",
       " ('Scottish Longbreads',),\n",
       " ('Mozzarella di Giovanni',),\n",
       " ('Rhönbräu Klosterbier',),\n",
       " ('Original Frankfurter grüne Soße',)]"
      ]
     },
     "execution_count": 122,
     "metadata": {},
     "output_type": "execute_result"
    }
   ],
   "source": [
    "cursor = con.cursor()\n",
    "cmd = \"\"\"\n",
    "SELECT ProductName\n",
    "FROM Products\n",
    "WHERE ProductID IN\n",
    "    (SELECT ProductID\n",
    "    FROM OrderDetails\n",
    "    WHERE Quantity = 10);\n",
    "\"\"\"\n",
    "cursor.execute(cmd)\n",
    "cursor.fetchall()"
   ]
  },
  {
   "cell_type": "markdown",
   "metadata": {},
   "source": [
    "### SQL Select Into\n",
    "이 구문도 존재하지 않기때문에 아래와 같이 같은 동작을하는 구문으로 대체하여 수행"
   ]
  },
  {
   "cell_type": "code",
   "execution_count": 125,
   "metadata": {},
   "outputs": [
    {
     "data": {
      "text/plain": [
       "[]"
      ]
     },
     "execution_count": 125,
     "metadata": {},
     "output_type": "execute_result"
    }
   ],
   "source": [
    "cursor = con.cursor()\n",
    "cmd = \"\"\"\n",
    "DROP TABLE IF EXISTS customerBackup;\n",
    "CREATE TABLE customerBackup AS SELECT * FROM Customers;\n",
    "\"\"\"\n",
    "cursor.executescript(cmd)\n",
    "cursor.fetchall()"
   ]
  },
  {
   "cell_type": "code",
   "execution_count": 127,
   "metadata": {},
   "outputs": [
    {
     "data": {
      "text/plain": [
       "[]"
      ]
     },
     "execution_count": 127,
     "metadata": {},
     "output_type": "execute_result"
    }
   ],
   "source": [
    "cursor = con.cursor()\n",
    "cmd = \"\"\"\n",
    "DROP TABLE IF EXISTS customerBackup1;\n",
    "CREATE TABLE customerBackup1 AS SELECT CustomerName FROM Customers;\n",
    "\"\"\"\n",
    "cursor.executescript(cmd)\n",
    "cursor.fetchall()"
   ]
  },
  {
   "cell_type": "code",
   "execution_count": 130,
   "metadata": {},
   "outputs": [
    {
     "data": {
      "text/plain": [
       "[]"
      ]
     },
     "execution_count": 130,
     "metadata": {},
     "output_type": "execute_result"
    }
   ],
   "source": [
    "cursor = con.cursor()\n",
    "cmd = \"\"\"\n",
    "DROP TABLE IF EXISTS customerBackup2;\n",
    "CREATE TABLE customerBackup2 \n",
    "    AS SELECT * \n",
    "    FROM Customers\n",
    "    WHERE Country = 'Germany';\n",
    "\"\"\"\n",
    "cursor.executescript(cmd)\n",
    "cursor.fetchall()"
   ]
  },
  {
   "cell_type": "code",
   "execution_count": 131,
   "metadata": {},
   "outputs": [
    {
     "data": {
      "text/plain": [
       "[]"
      ]
     },
     "execution_count": 131,
     "metadata": {},
     "output_type": "execute_result"
    }
   ],
   "source": [
    "cursor = con.cursor()\n",
    "cmd = \"\"\"\n",
    "DROP TABLE IF EXISTS customerBackup3;\n",
    "CREATE TABLE customerBackup3\n",
    "    AS SELECT Customers.CustomerName, Orders.OrderID\n",
    "    FROM Customers\n",
    "    LEFT JOIN Orders ON Customers.CustomerID = Orders.CustomerID;\n",
    "\"\"\"\n",
    "cursor.executescript(cmd)\n",
    "cursor.fetchall()"
   ]
  },
  {
   "cell_type": "code",
   "execution_count": 132,
   "metadata": {},
   "outputs": [
    {
     "data": {
      "text/plain": [
       "[]"
      ]
     },
     "execution_count": 132,
     "metadata": {},
     "output_type": "execute_result"
    }
   ],
   "source": [
    "cursor = con.cursor()\n",
    "cmd = \"\"\"\n",
    "DROP TABLE IF EXISTS customerBackup4;\n",
    "CREATE TABLE customerBackup4\n",
    "    AS SELECT *\n",
    "    FROM Customers\n",
    "    WHERE 1 = 0;\n",
    "\"\"\"\n",
    "cursor.executescript(cmd)\n",
    "cursor.fetchall()"
   ]
  },
  {
   "cell_type": "markdown",
   "metadata": {},
   "source": [
    "### SQL Insert Into Select"
   ]
  },
  {
   "cell_type": "code",
   "execution_count": 136,
   "metadata": {},
   "outputs": [
    {
     "data": {
      "text/plain": [
       "[]"
      ]
     },
     "execution_count": 136,
     "metadata": {},
     "output_type": "execute_result"
    }
   ],
   "source": [
    "cursor = con.cursor()\n",
    "cmd = \"\"\"\n",
    "INSERT INTO Customers (CustomerName, City, Country)\n",
    "SELECT SupplierName, City, Country FROM Suppliers;\n",
    "\"\"\"\n",
    "cursor.execute(cmd)\n",
    "cursor.fetchall()"
   ]
  },
  {
   "cell_type": "code",
   "execution_count": 137,
   "metadata": {},
   "outputs": [
    {
     "data": {
      "text/plain": [
       "[]"
      ]
     },
     "execution_count": 137,
     "metadata": {},
     "output_type": "execute_result"
    }
   ],
   "source": [
    "cursor = con.cursor()\n",
    "cmd = \"\"\"\n",
    "INSERT INTO Customers (CustomerName, ContactName, Address, City, PostalCode, Country)\n",
    "SELECT SupplierName, ContactName, Address, City, PostalCode, Country \n",
    "FROM Suppliers;\n",
    "\"\"\"\n",
    "cursor.execute(cmd)\n",
    "cursor.fetchall()"
   ]
  },
  {
   "cell_type": "code",
   "execution_count": 138,
   "metadata": {},
   "outputs": [
    {
     "data": {
      "text/plain": [
       "[]"
      ]
     },
     "execution_count": 138,
     "metadata": {},
     "output_type": "execute_result"
    }
   ],
   "source": [
    "cursor = con.cursor()\n",
    "cmd = \"\"\"\n",
    "INSERT INTO Customers (CustomerName, City, Country)\n",
    "SELECT SupplierName, City, Country FROM Suppliers\n",
    "WHERE Country='Germany';\n",
    "\"\"\"\n",
    "cursor.execute(cmd)\n",
    "cursor.fetchall()"
   ]
  },
  {
   "cell_type": "markdown",
   "metadata": {},
   "source": [
    "### SQL Case"
   ]
  },
  {
   "cell_type": "code",
   "execution_count": 139,
   "metadata": {},
   "outputs": [
    {
     "data": {
      "text/plain": [
       "[(10248, 12, 'The quantity is under 30'),\n",
       " (10248, 10, 'The quantity is under 30'),\n",
       " (10248, 5, 'The quantity is under 30'),\n",
       " (10249, 9, 'The quantity is under 30'),\n",
       " (10249, 40, 'The quantity is greater than 30'),\n",
       " (10250, 10, 'The quantity is under 30'),\n",
       " (10250, 35, 'The quantity is greater than 30'),\n",
       " (10250, 15, 'The quantity is under 30'),\n",
       " (10251, 6, 'The quantity is under 30'),\n",
       " (10251, 15, 'The quantity is under 30'),\n",
       " (10251, 20, 'The quantity is under 30'),\n",
       " (10252, 40, 'The quantity is greater than 30'),\n",
       " (10252, 25, 'The quantity is under 30'),\n",
       " (10252, 40, 'The quantity is greater than 30'),\n",
       " (10253, 20, 'The quantity is under 30'),\n",
       " (10253, 42, 'The quantity is greater than 30'),\n",
       " (10253, 40, 'The quantity is greater than 30'),\n",
       " (10254, 15, 'The quantity is under 30'),\n",
       " (10254, 21, 'The quantity is under 30'),\n",
       " (10254, 21, 'The quantity is under 30'),\n",
       " (10255, 20, 'The quantity is under 30'),\n",
       " (10255, 35, 'The quantity is greater than 30'),\n",
       " (10255, 25, 'The quantity is under 30'),\n",
       " (10255, 30, 'The quantity is 30'),\n",
       " (10256, 15, 'The quantity is under 30'),\n",
       " (10256, 12, 'The quantity is under 30'),\n",
       " (10257, 25, 'The quantity is under 30'),\n",
       " (10257, 6, 'The quantity is under 30'),\n",
       " (10257, 15, 'The quantity is under 30'),\n",
       " (10258, 50, 'The quantity is greater than 30'),\n",
       " (10258, 65, 'The quantity is greater than 30'),\n",
       " (10258, 6, 'The quantity is under 30'),\n",
       " (10259, 10, 'The quantity is under 30'),\n",
       " (10259, 1, 'The quantity is under 30'),\n",
       " (10260, 16, 'The quantity is under 30'),\n",
       " (10260, 50, 'The quantity is greater than 30'),\n",
       " (10260, 15, 'The quantity is under 30'),\n",
       " (10260, 21, 'The quantity is under 30'),\n",
       " (10261, 20, 'The quantity is under 30'),\n",
       " (10261, 20, 'The quantity is under 30'),\n",
       " (10262, 12, 'The quantity is under 30'),\n",
       " (10262, 15, 'The quantity is under 30'),\n",
       " (10262, 2, 'The quantity is under 30'),\n",
       " (10263, 60, 'The quantity is greater than 30'),\n",
       " (10263, 28, 'The quantity is under 30'),\n",
       " (10263, 60, 'The quantity is greater than 30'),\n",
       " (10263, 36, 'The quantity is greater than 30'),\n",
       " (10264, 35, 'The quantity is greater than 30'),\n",
       " (10264, 25, 'The quantity is under 30'),\n",
       " (10265, 30, 'The quantity is 30'),\n",
       " (10265, 20, 'The quantity is under 30'),\n",
       " (10266, 12, 'The quantity is under 30'),\n",
       " (10267, 50, 'The quantity is greater than 30'),\n",
       " (10267, 70, 'The quantity is greater than 30'),\n",
       " (10267, 15, 'The quantity is under 30'),\n",
       " (10268, 10, 'The quantity is under 30'),\n",
       " (10268, 4, 'The quantity is under 30'),\n",
       " (10269, 60, 'The quantity is greater than 30'),\n",
       " (10269, 20, 'The quantity is under 30'),\n",
       " (10270, 30, 'The quantity is 30'),\n",
       " (10270, 25, 'The quantity is under 30'),\n",
       " (10271, 24, 'The quantity is under 30'),\n",
       " (10272, 6, 'The quantity is under 30'),\n",
       " (10272, 40, 'The quantity is greater than 30'),\n",
       " (10272, 24, 'The quantity is under 30'),\n",
       " (10273, 24, 'The quantity is under 30'),\n",
       " (10273, 15, 'The quantity is under 30'),\n",
       " (10273, 20, 'The quantity is under 30'),\n",
       " (10273, 60, 'The quantity is greater than 30'),\n",
       " (10273, 33, 'The quantity is greater than 30'),\n",
       " (10274, 20, 'The quantity is under 30'),\n",
       " (10274, 7, 'The quantity is under 30'),\n",
       " (10275, 12, 'The quantity is under 30'),\n",
       " (10275, 6, 'The quantity is under 30'),\n",
       " (10276, 15, 'The quantity is under 30'),\n",
       " (10276, 10, 'The quantity is under 30'),\n",
       " (10277, 20, 'The quantity is under 30'),\n",
       " (10277, 12, 'The quantity is under 30'),\n",
       " (10278, 16, 'The quantity is under 30'),\n",
       " (10278, 15, 'The quantity is under 30'),\n",
       " (10278, 8, 'The quantity is under 30'),\n",
       " (10278, 25, 'The quantity is under 30'),\n",
       " (10279, 15, 'The quantity is under 30'),\n",
       " (10280, 12, 'The quantity is under 30'),\n",
       " (10280, 20, 'The quantity is under 30'),\n",
       " (10280, 30, 'The quantity is 30'),\n",
       " (10281, 1, 'The quantity is under 30'),\n",
       " (10281, 6, 'The quantity is under 30'),\n",
       " (10281, 4, 'The quantity is under 30'),\n",
       " (10282, 6, 'The quantity is under 30'),\n",
       " (10282, 2, 'The quantity is under 30'),\n",
       " (10283, 20, 'The quantity is under 30'),\n",
       " (10283, 18, 'The quantity is under 30'),\n",
       " (10283, 35, 'The quantity is greater than 30'),\n",
       " (10283, 3, 'The quantity is under 30'),\n",
       " (10284, 15, 'The quantity is under 30'),\n",
       " (10284, 21, 'The quantity is under 30'),\n",
       " (10284, 20, 'The quantity is under 30'),\n",
       " (10284, 5, 'The quantity is under 30'),\n",
       " (10285, 45, 'The quantity is greater than 30'),\n",
       " (10285, 40, 'The quantity is greater than 30'),\n",
       " (10285, 36, 'The quantity is greater than 30'),\n",
       " (10286, 100, 'The quantity is greater than 30'),\n",
       " (10286, 40, 'The quantity is greater than 30'),\n",
       " (10287, 40, 'The quantity is greater than 30'),\n",
       " (10287, 20, 'The quantity is under 30'),\n",
       " (10287, 15, 'The quantity is under 30'),\n",
       " (10288, 10, 'The quantity is under 30'),\n",
       " (10288, 3, 'The quantity is under 30'),\n",
       " (10289, 30, 'The quantity is 30'),\n",
       " (10289, 9, 'The quantity is under 30'),\n",
       " (10290, 20, 'The quantity is under 30'),\n",
       " (10290, 15, 'The quantity is under 30'),\n",
       " (10290, 15, 'The quantity is under 30'),\n",
       " (10290, 10, 'The quantity is under 30'),\n",
       " (10291, 20, 'The quantity is under 30'),\n",
       " (10291, 24, 'The quantity is under 30'),\n",
       " (10291, 2, 'The quantity is under 30'),\n",
       " (10292, 20, 'The quantity is under 30'),\n",
       " (10293, 12, 'The quantity is under 30'),\n",
       " (10293, 10, 'The quantity is under 30'),\n",
       " (10293, 5, 'The quantity is under 30'),\n",
       " (10293, 6, 'The quantity is under 30'),\n",
       " (10294, 18, 'The quantity is under 30'),\n",
       " (10294, 15, 'The quantity is under 30'),\n",
       " (10294, 15, 'The quantity is under 30'),\n",
       " (10294, 21, 'The quantity is under 30'),\n",
       " (10294, 6, 'The quantity is under 30'),\n",
       " (10295, 4, 'The quantity is under 30'),\n",
       " (10296, 12, 'The quantity is under 30'),\n",
       " (10296, 30, 'The quantity is 30'),\n",
       " (10296, 15, 'The quantity is under 30'),\n",
       " (10297, 60, 'The quantity is greater than 30'),\n",
       " (10297, 20, 'The quantity is under 30'),\n",
       " (10298, 40, 'The quantity is greater than 30'),\n",
       " (10298, 40, 'The quantity is greater than 30'),\n",
       " (10298, 30, 'The quantity is 30'),\n",
       " (10298, 15, 'The quantity is under 30'),\n",
       " (10299, 15, 'The quantity is under 30'),\n",
       " (10299, 20, 'The quantity is under 30'),\n",
       " (10300, 30, 'The quantity is 30'),\n",
       " (10300, 20, 'The quantity is under 30'),\n",
       " (10301, 10, 'The quantity is under 30'),\n",
       " (10301, 20, 'The quantity is under 30'),\n",
       " (10302, 40, 'The quantity is greater than 30'),\n",
       " (10302, 28, 'The quantity is under 30'),\n",
       " (10302, 12, 'The quantity is under 30'),\n",
       " (10303, 40, 'The quantity is greater than 30'),\n",
       " (10303, 30, 'The quantity is 30'),\n",
       " (10303, 15, 'The quantity is under 30'),\n",
       " (10304, 30, 'The quantity is 30'),\n",
       " (10304, 10, 'The quantity is under 30'),\n",
       " (10304, 2, 'The quantity is under 30'),\n",
       " (10305, 25, 'The quantity is under 30'),\n",
       " (10305, 25, 'The quantity is under 30'),\n",
       " (10305, 30, 'The quantity is 30'),\n",
       " (10306, 10, 'The quantity is under 30'),\n",
       " (10306, 10, 'The quantity is under 30'),\n",
       " (10306, 5, 'The quantity is under 30'),\n",
       " (10307, 10, 'The quantity is under 30'),\n",
       " (10307, 3, 'The quantity is under 30'),\n",
       " (10308, 1, 'The quantity is under 30'),\n",
       " (10308, 5, 'The quantity is under 30'),\n",
       " (10309, 20, 'The quantity is under 30'),\n",
       " (10309, 30, 'The quantity is 30'),\n",
       " (10309, 2, 'The quantity is under 30'),\n",
       " (10309, 20, 'The quantity is under 30'),\n",
       " (10309, 3, 'The quantity is under 30'),\n",
       " (10310, 10, 'The quantity is under 30'),\n",
       " (10310, 5, 'The quantity is under 30'),\n",
       " (10311, 6, 'The quantity is under 30'),\n",
       " (10311, 7, 'The quantity is under 30'),\n",
       " (10312, 4, 'The quantity is under 30'),\n",
       " (10312, 24, 'The quantity is under 30'),\n",
       " (10312, 20, 'The quantity is under 30'),\n",
       " (10312, 10, 'The quantity is under 30'),\n",
       " (10313, 12, 'The quantity is under 30'),\n",
       " (10314, 40, 'The quantity is greater than 30'),\n",
       " (10314, 30, 'The quantity is 30'),\n",
       " (10314, 25, 'The quantity is under 30'),\n",
       " (10315, 14, 'The quantity is under 30'),\n",
       " (10315, 30, 'The quantity is 30'),\n",
       " (10316, 10, 'The quantity is under 30'),\n",
       " (10316, 70, 'The quantity is greater than 30'),\n",
       " (10317, 20, 'The quantity is under 30'),\n",
       " (10318, 20, 'The quantity is under 30'),\n",
       " (10318, 6, 'The quantity is under 30'),\n",
       " (10319, 8, 'The quantity is under 30'),\n",
       " (10319, 14, 'The quantity is under 30'),\n",
       " (10319, 30, 'The quantity is 30'),\n",
       " (10320, 30, 'The quantity is 30'),\n",
       " (10321, 10, 'The quantity is under 30'),\n",
       " (10322, 20, 'The quantity is under 30'),\n",
       " (10323, 5, 'The quantity is under 30'),\n",
       " (10323, 4, 'The quantity is under 30'),\n",
       " (10323, 4, 'The quantity is under 30'),\n",
       " (10324, 21, 'The quantity is under 30'),\n",
       " (10324, 70, 'The quantity is greater than 30'),\n",
       " (10324, 30, 'The quantity is 30'),\n",
       " (10324, 40, 'The quantity is greater than 30'),\n",
       " (10324, 80, 'The quantity is greater than 30'),\n",
       " (10325, 6, 'The quantity is under 30'),\n",
       " (10325, 12, 'The quantity is under 30'),\n",
       " (10325, 9, 'The quantity is under 30'),\n",
       " (10325, 4, 'The quantity is under 30'),\n",
       " (10325, 40, 'The quantity is greater than 30'),\n",
       " (10326, 24, 'The quantity is under 30'),\n",
       " (10326, 16, 'The quantity is under 30'),\n",
       " (10326, 50, 'The quantity is greater than 30'),\n",
       " (10327, 25, 'The quantity is under 30'),\n",
       " (10327, 50, 'The quantity is greater than 30'),\n",
       " (10327, 35, 'The quantity is greater than 30'),\n",
       " (10327, 30, 'The quantity is 30'),\n",
       " (10328, 9, 'The quantity is under 30'),\n",
       " (10328, 40, 'The quantity is greater than 30'),\n",
       " (10328, 10, 'The quantity is under 30'),\n",
       " (10329, 10, 'The quantity is under 30'),\n",
       " (10329, 8, 'The quantity is under 30'),\n",
       " (10329, 20, 'The quantity is under 30'),\n",
       " (10329, 12, 'The quantity is under 30'),\n",
       " (10330, 50, 'The quantity is greater than 30'),\n",
       " (10330, 25, 'The quantity is under 30'),\n",
       " (10331, 15, 'The quantity is under 30'),\n",
       " (10332, 40, 'The quantity is greater than 30'),\n",
       " (10332, 10, 'The quantity is under 30'),\n",
       " (10332, 16, 'The quantity is under 30'),\n",
       " (10333, 10, 'The quantity is under 30'),\n",
       " (10333, 10, 'The quantity is under 30'),\n",
       " (10333, 40, 'The quantity is greater than 30'),\n",
       " (10334, 8, 'The quantity is under 30'),\n",
       " (10334, 10, 'The quantity is under 30'),\n",
       " (10335, 7, 'The quantity is under 30'),\n",
       " (10335, 25, 'The quantity is under 30'),\n",
       " (10335, 6, 'The quantity is under 30'),\n",
       " (10335, 48, 'The quantity is greater than 30'),\n",
       " (10336, 18, 'The quantity is under 30'),\n",
       " (10337, 40, 'The quantity is greater than 30'),\n",
       " (10337, 24, 'The quantity is under 30'),\n",
       " (10337, 20, 'The quantity is under 30'),\n",
       " (10337, 28, 'The quantity is under 30'),\n",
       " (10337, 25, 'The quantity is under 30'),\n",
       " (10338, 20, 'The quantity is under 30'),\n",
       " (10338, 15, 'The quantity is under 30'),\n",
       " (10339, 10, 'The quantity is under 30'),\n",
       " (10339, 70, 'The quantity is greater than 30'),\n",
       " (10339, 28, 'The quantity is under 30'),\n",
       " (10340, 20, 'The quantity is under 30'),\n",
       " (10340, 12, 'The quantity is under 30'),\n",
       " (10340, 40, 'The quantity is greater than 30'),\n",
       " (10341, 8, 'The quantity is under 30'),\n",
       " (10341, 9, 'The quantity is under 30'),\n",
       " (10342, 24, 'The quantity is under 30'),\n",
       " (10342, 56, 'The quantity is greater than 30'),\n",
       " (10342, 40, 'The quantity is greater than 30'),\n",
       " (10342, 40, 'The quantity is greater than 30'),\n",
       " (10343, 50, 'The quantity is greater than 30'),\n",
       " (10343, 4, 'The quantity is under 30'),\n",
       " (10343, 15, 'The quantity is under 30'),\n",
       " (10344, 35, 'The quantity is greater than 30'),\n",
       " (10344, 70, 'The quantity is greater than 30'),\n",
       " (10345, 70, 'The quantity is greater than 30'),\n",
       " (10345, 80, 'The quantity is greater than 30'),\n",
       " (10345, 9, 'The quantity is under 30'),\n",
       " (10346, 36, 'The quantity is greater than 30'),\n",
       " (10346, 20, 'The quantity is under 30'),\n",
       " (10347, 10, 'The quantity is under 30'),\n",
       " (10347, 50, 'The quantity is greater than 30'),\n",
       " (10347, 4, 'The quantity is under 30'),\n",
       " (10347, 6, 'The quantity is under 30'),\n",
       " (10348, 15, 'The quantity is under 30'),\n",
       " (10348, 25, 'The quantity is under 30'),\n",
       " (10349, 24, 'The quantity is under 30'),\n",
       " (10350, 15, 'The quantity is under 30'),\n",
       " (10350, 18, 'The quantity is under 30'),\n",
       " (10351, 20, 'The quantity is under 30'),\n",
       " (10351, 13, 'The quantity is under 30'),\n",
       " (10351, 77, 'The quantity is greater than 30'),\n",
       " (10351, 10, 'The quantity is under 30'),\n",
       " (10352, 10, 'The quantity is under 30'),\n",
       " (10352, 20, 'The quantity is under 30'),\n",
       " (10353, 12, 'The quantity is under 30'),\n",
       " (10353, 50, 'The quantity is greater than 30'),\n",
       " (10354, 12, 'The quantity is under 30'),\n",
       " (10354, 4, 'The quantity is under 30'),\n",
       " (10355, 25, 'The quantity is under 30'),\n",
       " (10355, 25, 'The quantity is under 30'),\n",
       " (10356, 30, 'The quantity is 30'),\n",
       " (10356, 12, 'The quantity is under 30'),\n",
       " (10356, 20, 'The quantity is under 30'),\n",
       " (10357, 30, 'The quantity is 30'),\n",
       " (10357, 16, 'The quantity is under 30'),\n",
       " (10357, 8, 'The quantity is under 30'),\n",
       " (10358, 10, 'The quantity is under 30'),\n",
       " (10358, 10, 'The quantity is under 30'),\n",
       " (10358, 20, 'The quantity is under 30'),\n",
       " (10359, 56, 'The quantity is greater than 30'),\n",
       " (10359, 70, 'The quantity is greater than 30'),\n",
       " (10359, 80, 'The quantity is greater than 30'),\n",
       " (10360, 30, 'The quantity is 30'),\n",
       " (10360, 35, 'The quantity is greater than 30'),\n",
       " (10360, 10, 'The quantity is under 30'),\n",
       " (10360, 35, 'The quantity is greater than 30'),\n",
       " (10360, 28, 'The quantity is under 30'),\n",
       " (10361, 54, 'The quantity is greater than 30'),\n",
       " (10361, 55, 'The quantity is greater than 30'),\n",
       " (10362, 50, 'The quantity is greater than 30'),\n",
       " (10362, 20, 'The quantity is under 30'),\n",
       " (10362, 24, 'The quantity is under 30'),\n",
       " (10363, 20, 'The quantity is under 30'),\n",
       " (10363, 12, 'The quantity is under 30'),\n",
       " (10363, 12, 'The quantity is under 30'),\n",
       " (10364, 30, 'The quantity is 30'),\n",
       " (10364, 5, 'The quantity is under 30'),\n",
       " (10365, 24, 'The quantity is under 30'),\n",
       " (10366, 5, 'The quantity is under 30'),\n",
       " (10366, 5, 'The quantity is under 30'),\n",
       " (10367, 36, 'The quantity is greater than 30'),\n",
       " (10367, 18, 'The quantity is under 30'),\n",
       " (10367, 15, 'The quantity is under 30'),\n",
       " (10367, 7, 'The quantity is under 30'),\n",
       " (10368, 5, 'The quantity is under 30'),\n",
       " (10368, 13, 'The quantity is under 30'),\n",
       " (10368, 25, 'The quantity is under 30'),\n",
       " (10368, 35, 'The quantity is greater than 30'),\n",
       " (10369, 20, 'The quantity is under 30'),\n",
       " (10369, 18, 'The quantity is under 30'),\n",
       " (10370, 15, 'The quantity is under 30'),\n",
       " (10370, 30, 'The quantity is 30'),\n",
       " (10370, 20, 'The quantity is under 30'),\n",
       " (10371, 6, 'The quantity is under 30'),\n",
       " (10372, 12, 'The quantity is under 30'),\n",
       " (10372, 40, 'The quantity is greater than 30'),\n",
       " (10372, 70, 'The quantity is greater than 30'),\n",
       " (10372, 42, 'The quantity is greater than 30'),\n",
       " (10373, 80, 'The quantity is greater than 30'),\n",
       " (10373, 50, 'The quantity is greater than 30'),\n",
       " (10374, 30, 'The quantity is 30'),\n",
       " (10374, 15, 'The quantity is under 30'),\n",
       " (10375, 15, 'The quantity is under 30'),\n",
       " (10375, 10, 'The quantity is under 30'),\n",
       " (10376, 42, 'The quantity is greater than 30'),\n",
       " (10377, 20, 'The quantity is under 30'),\n",
       " (10377, 20, 'The quantity is under 30'),\n",
       " (10378, 6, 'The quantity is under 30'),\n",
       " (10379, 8, 'The quantity is under 30'),\n",
       " (10379, 16, 'The quantity is under 30'),\n",
       " (10379, 20, 'The quantity is under 30'),\n",
       " (10380, 18, 'The quantity is under 30'),\n",
       " (10380, 20, 'The quantity is under 30'),\n",
       " (10380, 6, 'The quantity is under 30'),\n",
       " (10380, 30, 'The quantity is 30'),\n",
       " (10381, 14, 'The quantity is under 30'),\n",
       " (10382, 32, 'The quantity is greater than 30'),\n",
       " (10382, 9, 'The quantity is under 30'),\n",
       " (10382, 14, 'The quantity is under 30'),\n",
       " (10382, 60, 'The quantity is greater than 30'),\n",
       " (10382, 50, 'The quantity is greater than 30'),\n",
       " (10383, 20, 'The quantity is under 30'),\n",
       " (10383, 15, 'The quantity is under 30'),\n",
       " (10383, 20, 'The quantity is under 30'),\n",
       " (10384, 28, 'The quantity is under 30'),\n",
       " (10384, 15, 'The quantity is under 30'),\n",
       " (10385, 10, 'The quantity is under 30'),\n",
       " (10385, 20, 'The quantity is under 30'),\n",
       " (10385, 8, 'The quantity is under 30'),\n",
       " (10386, 15, 'The quantity is under 30'),\n",
       " (10386, 10, 'The quantity is under 30'),\n",
       " (10387, 15, 'The quantity is under 30'),\n",
       " (10387, 6, 'The quantity is under 30'),\n",
       " (10387, 12, 'The quantity is under 30'),\n",
       " (10387, 15, 'The quantity is under 30'),\n",
       " (10388, 15, 'The quantity is under 30'),\n",
       " (10388, 20, 'The quantity is under 30'),\n",
       " (10388, 40, 'The quantity is greater than 30'),\n",
       " (10389, 16, 'The quantity is under 30'),\n",
       " (10389, 15, 'The quantity is under 30'),\n",
       " (10389, 20, 'The quantity is under 30'),\n",
       " (10389, 30, 'The quantity is 30'),\n",
       " (10390, 60, 'The quantity is greater than 30'),\n",
       " (10390, 40, 'The quantity is greater than 30'),\n",
       " (10390, 45, 'The quantity is greater than 30'),\n",
       " (10390, 24, 'The quantity is under 30'),\n",
       " (10391, 18, 'The quantity is under 30'),\n",
       " (10392, 50, 'The quantity is greater than 30'),\n",
       " (10393, 25, 'The quantity is under 30'),\n",
       " (10393, 42, 'The quantity is greater than 30'),\n",
       " (10393, 7, 'The quantity is under 30'),\n",
       " (10393, 70, 'The quantity is greater than 30'),\n",
       " (10393, 32, 'The quantity is greater than 30'),\n",
       " (10394, 10, 'The quantity is under 30'),\n",
       " (10394, 10, 'The quantity is under 30'),\n",
       " (10395, 28, 'The quantity is under 30'),\n",
       " (10395, 70, 'The quantity is greater than 30'),\n",
       " (10395, 8, 'The quantity is under 30'),\n",
       " (10396, 40, 'The quantity is greater than 30'),\n",
       " (10396, 60, 'The quantity is greater than 30'),\n",
       " (10396, 21, 'The quantity is under 30'),\n",
       " (10397, 10, 'The quantity is under 30'),\n",
       " (10397, 18, 'The quantity is under 30'),\n",
       " (10398, 30, 'The quantity is 30'),\n",
       " (10398, 120, 'The quantity is greater than 30'),\n",
       " (10399, 60, 'The quantity is greater than 30'),\n",
       " (10399, 30, 'The quantity is 30'),\n",
       " (10399, 35, 'The quantity is greater than 30'),\n",
       " (10399, 14, 'The quantity is under 30'),\n",
       " (10400, 21, 'The quantity is under 30'),\n",
       " (10400, 35, 'The quantity is greater than 30'),\n",
       " (10400, 30, 'The quantity is 30'),\n",
       " (10401, 18, 'The quantity is under 30'),\n",
       " (10401, 70, 'The quantity is greater than 30'),\n",
       " (10401, 20, 'The quantity is under 30'),\n",
       " (10401, 60, 'The quantity is greater than 30'),\n",
       " (10402, 60, 'The quantity is greater than 30'),\n",
       " (10402, 65, 'The quantity is greater than 30'),\n",
       " (10403, 21, 'The quantity is under 30'),\n",
       " (10403, 70, 'The quantity is greater than 30'),\n",
       " (10404, 30, 'The quantity is 30'),\n",
       " (10404, 40, 'The quantity is greater than 30'),\n",
       " (10404, 30, 'The quantity is 30'),\n",
       " (10405, 50, 'The quantity is greater than 30'),\n",
       " (10406, 10, 'The quantity is under 30'),\n",
       " (10406, 30, 'The quantity is 30'),\n",
       " (10406, 42, 'The quantity is greater than 30'),\n",
       " (10406, 5, 'The quantity is under 30'),\n",
       " (10406, 2, 'The quantity is under 30'),\n",
       " (10407, 30, 'The quantity is 30'),\n",
       " (10407, 15, 'The quantity is under 30'),\n",
       " (10407, 15, 'The quantity is under 30'),\n",
       " (10408, 10, 'The quantity is under 30'),\n",
       " (10408, 6, 'The quantity is under 30'),\n",
       " (10408, 35, 'The quantity is greater than 30'),\n",
       " (10409, 12, 'The quantity is under 30'),\n",
       " (10409, 12, 'The quantity is under 30'),\n",
       " (10410, 49, 'The quantity is greater than 30'),\n",
       " (10410, 16, 'The quantity is under 30'),\n",
       " (10411, 25, 'The quantity is under 30'),\n",
       " (10411, 40, 'The quantity is greater than 30'),\n",
       " (10411, 9, 'The quantity is under 30'),\n",
       " (10412, 20, 'The quantity is under 30'),\n",
       " (10413, 24, 'The quantity is under 30'),\n",
       " (10413, 40, 'The quantity is greater than 30'),\n",
       " (10413, 14, 'The quantity is under 30'),\n",
       " (10414, 18, 'The quantity is under 30'),\n",
       " (10414, 50, 'The quantity is greater than 30'),\n",
       " (10415, 2, 'The quantity is under 30'),\n",
       " (10415, 20, 'The quantity is under 30'),\n",
       " (10416, 20, 'The quantity is under 30'),\n",
       " (10416, 10, 'The quantity is under 30'),\n",
       " (10416, 20, 'The quantity is under 30'),\n",
       " (10417, 50, 'The quantity is greater than 30'),\n",
       " (10417, 2, 'The quantity is under 30'),\n",
       " (10417, 36, 'The quantity is greater than 30'),\n",
       " (10417, 35, 'The quantity is greater than 30'),\n",
       " (10418, 60, 'The quantity is greater than 30'),\n",
       " (10418, 55, 'The quantity is greater than 30'),\n",
       " (10418, 16, 'The quantity is under 30'),\n",
       " (10418, 15, 'The quantity is under 30'),\n",
       " (10419, 60, 'The quantity is greater than 30'),\n",
       " (10419, 20, 'The quantity is under 30'),\n",
       " (10420, 20, 'The quantity is under 30'),\n",
       " (10420, 2, 'The quantity is under 30'),\n",
       " (10420, 8, 'The quantity is under 30'),\n",
       " (10420, 20, 'The quantity is under 30'),\n",
       " (10421, 4, 'The quantity is under 30'),\n",
       " (10421, 30, 'The quantity is 30'),\n",
       " (10421, 15, 'The quantity is under 30'),\n",
       " (10421, 10, 'The quantity is under 30'),\n",
       " (10422, 2, 'The quantity is under 30'),\n",
       " (10423, 14, 'The quantity is under 30'),\n",
       " (10423, 20, 'The quantity is under 30'),\n",
       " (10424, 60, 'The quantity is greater than 30'),\n",
       " (10424, 49, 'The quantity is greater than 30'),\n",
       " (10424, 30, 'The quantity is 30'),\n",
       " (10425, 10, 'The quantity is under 30'),\n",
       " (10425, 20, 'The quantity is under 30'),\n",
       " (10426, 5, 'The quantity is under 30'),\n",
       " (10426, 7, 'The quantity is under 30'),\n",
       " (10427, 35, 'The quantity is greater than 30'),\n",
       " (10428, 20, 'The quantity is under 30'),\n",
       " (10429, 40, 'The quantity is greater than 30'),\n",
       " (10429, 35, 'The quantity is greater than 30'),\n",
       " (10430, 45, 'The quantity is greater than 30'),\n",
       " (10430, 50, 'The quantity is greater than 30'),\n",
       " (10430, 30, 'The quantity is 30'),\n",
       " (10430, 70, 'The quantity is greater than 30'),\n",
       " (10431, 50, 'The quantity is greater than 30'),\n",
       " (10431, 50, 'The quantity is greater than 30'),\n",
       " (10431, 30, 'The quantity is 30'),\n",
       " (10432, 10, 'The quantity is under 30'),\n",
       " (10432, 40, 'The quantity is greater than 30'),\n",
       " (10433, 28, 'The quantity is under 30'),\n",
       " (10434, 6, 'The quantity is under 30'),\n",
       " (10434, 18, 'The quantity is under 30'),\n",
       " (10435, 10, 'The quantity is under 30'),\n",
       " (10435, 12, 'The quantity is under 30'),\n",
       " (10435, 10, 'The quantity is under 30'),\n",
       " (10436, 5, 'The quantity is under 30'),\n",
       " (10436, 40, 'The quantity is greater than 30'),\n",
       " (10436, 30, 'The quantity is 30'),\n",
       " (10436, 24, 'The quantity is under 30'),\n",
       " (10437, 15, 'The quantity is under 30'),\n",
       " (10438, 15, 'The quantity is under 30'),\n",
       " (10438, 20, 'The quantity is under 30'),\n",
       " (10438, 15, 'The quantity is under 30'),\n",
       " (10439, 15, 'The quantity is under 30'),\n",
       " (10439, 16, 'The quantity is under 30'),\n",
       " (10439, 6, 'The quantity is under 30'),\n",
       " (10439, 30, 'The quantity is 30'),\n",
       " (10440, 45, 'The quantity is greater than 30'),\n",
       " (10440, 49, 'The quantity is greater than 30'),\n",
       " (10440, 24, 'The quantity is under 30'),\n",
       " (10440, 90, 'The quantity is greater than 30'),\n",
       " (10441, 50, 'The quantity is greater than 30'),\n",
       " (10442, 30, 'The quantity is 30'),\n",
       " (10442, 80, 'The quantity is greater than 30'),\n",
       " (10442, 60, 'The quantity is greater than 30'),\n",
       " (10443, 6, 'The quantity is under 30'),\n",
       " (10443, 12, 'The quantity is under 30')]"
      ]
     },
     "execution_count": 139,
     "metadata": {},
     "output_type": "execute_result"
    }
   ],
   "source": [
    "cursor = con.cursor()\n",
    "cmd = \"\"\"\n",
    "SELECT OrderID, Quantity,\n",
    "CASE\n",
    "    WHEN Quantity > 30 THEN 'The quantity is greater than 30'\n",
    "    WHEN Quantity = 30 THEN 'The quantity is 30'\n",
    "    ELSE 'The quantity is under 30'\n",
    "END AS QuantityText\n",
    "FROM OrderDetails;\n",
    "\"\"\"\n",
    "cursor.execute(cmd)\n",
    "cursor.fetchall()"
   ]
  },
  {
   "cell_type": "code",
   "execution_count": 140,
   "metadata": {},
   "outputs": [
    {
     "data": {
      "text/plain": [
       "[('Drachenblut Delikatessend', 'Aachen', 'Germany'),\n",
       " ('Rattlesnake Canyon Grocery', 'Albuquerque', 'USA'),\n",
       " ('Old World Delicatessen', 'Anchorage', 'USA'),\n",
       " (\"Grandma Kelly's Homestead\", 'Ann Arbor', 'USA'),\n",
       " (\"Grandma Kelly's Homestead\", 'Ann Arbor', 'USA'),\n",
       " (\"Grandma Kelly's Homestead\", 'Ann Arbor', 'USA'),\n",
       " (\"Grandma Kelly's Homestead\", 'Ann Arbor', 'USA'),\n",
       " (\"Grandma Kelly's Homestead\", 'Ann Arbor', 'USA'),\n",
       " ('Gai pâturage', 'Annecy', 'France'),\n",
       " ('Gai pâturage', 'Annecy', 'France'),\n",
       " ('Gai pâturage', 'Annecy', 'France'),\n",
       " ('Gai pâturage', 'Annecy', 'France'),\n",
       " ('Gai pâturage', 'Annecy', 'France'),\n",
       " ('Galería del gastrónomo', 'Barcelona', 'Spain'),\n",
       " ('LILA-Supermercado', 'Barquisimeto', 'Venezuela'),\n",
       " ('Bigfoot Breweries', 'Bend', 'USA'),\n",
       " ('Bigfoot Breweries', 'Bend', 'USA'),\n",
       " ('Bigfoot Breweries', 'Bend', 'USA'),\n",
       " ('Bigfoot Breweries', 'Bend', 'USA'),\n",
       " ('Bigfoot Breweries', 'Bend', 'USA'),\n",
       " ('Magazzini Alimentari Riuniti', 'Bergamo', 'Italy'),\n",
       " ('Sumin', 'Berlin', 'Germany'),\n",
       " ('Heli Süßwaren GmbH & Co. KG', 'Berlin', 'Germany'),\n",
       " ('Heli Süßwaren GmbH & Co. KG', 'Berlin', 'Germany'),\n",
       " ('Heli Süßwaren GmbH & Co. KG', 'Berlin', 'Germany'),\n",
       " ('Heli Süßwaren GmbH & Co. KG', 'Berlin', 'Germany'),\n",
       " ('Heli Süßwaren GmbH & Co. KG', 'Berlin', 'Germany'),\n",
       " ('Heli Süßwaren GmbH & Co. KG', 'Berlin', 'Germany'),\n",
       " ('Chop-suey Chinese', 'Bern', 'Switzerland'),\n",
       " ('Save-a-lot Markets', 'Boise', 'USA'),\n",
       " ('New England Seafood Cannery', 'Boston', 'USA'),\n",
       " ('New England Seafood Cannery', 'Boston', 'USA'),\n",
       " ('New England Seafood Cannery', 'Boston', 'USA'),\n",
       " ('New England Seafood Cannery', 'Boston', 'USA'),\n",
       " ('New England Seafood Cannery', 'Boston', 'USA'),\n",
       " ('Königlich Essen', 'Brandenburg', 'Germany'),\n",
       " ('Maison Dewey', 'Bruxelles', 'Belgium'),\n",
       " ('Folk och fä HB', 'Bräcke', 'Sweden'),\n",
       " ('Cactus Comidas para llevar', 'Buenos Aires', 'Argentina'),\n",
       " ('Océano Atlántico Ltda.', 'Buenos Aires', 'Argentina'),\n",
       " ('Rancho grande', 'Buenos Aires', 'Argentina'),\n",
       " ('The Cracker Box', 'Butte', 'USA'),\n",
       " ('Gourmet Lanchonetes', 'Campinas', 'Brazil'),\n",
       " ('GROSELLA-Restaurante', 'Caracas', 'Venezuela'),\n",
       " ('Suprêmes délices', 'Charleroi', 'Belgium'),\n",
       " ('Hungry Owl All-Night Grocers', 'Cork', 'Ireland'),\n",
       " ('Island Trading', 'Cowes', 'UK'),\n",
       " ('QUICK-Stop', 'Cunewalde', 'Germany'),\n",
       " ('Nord-Ost-Fisch Handelsgesellschaft mbH', 'Cuxhaven', 'Germany'),\n",
       " ('Nord-Ost-Fisch Handelsgesellschaft mbH', 'Cuxhaven', 'Germany'),\n",
       " ('Nord-Ost-Fisch Handelsgesellschaft mbH', 'Cuxhaven', 'Germany'),\n",
       " ('Nord-Ost-Fisch Handelsgesellschaft mbH', 'Cuxhaven', 'Germany'),\n",
       " ('Nord-Ost-Fisch Handelsgesellschaft mbH', 'Cuxhaven', 'Germany'),\n",
       " ('Nord-Ost-Fisch Handelsgesellschaft mbH', 'Cuxhaven', 'Germany'),\n",
       " ('Hungry Coyote Import Store', 'Elgin', 'USA'),\n",
       " ('Great Lakes Food Market', 'Eugene', 'USA'),\n",
       " ('Plutzer Lebensmittelgroßmärkte AG', 'Frankfurt', 'Germany'),\n",
       " ('Plutzer Lebensmittelgroßmärkte AG', 'Frankfurt', 'Germany'),\n",
       " ('Plutzer Lebensmittelgroßmärkte AG', 'Frankfurt', 'Germany'),\n",
       " ('Plutzer Lebensmittelgroßmärkte AG', 'Frankfurt', 'Germany'),\n",
       " ('Plutzer Lebensmittelgroßmärkte AG', 'Frankfurt', 'Germany'),\n",
       " ('Plutzer Lebensmittelgroßmärkte AG', 'Frankfurt', 'Germany'),\n",
       " ('Lehmanns Marktstand', 'Frankfurt a.M.', 'Germany'),\n",
       " ('Richter Supermarkt', 'Genève', 'Switzerland'),\n",
       " ('Ernst Handel', 'Graz', 'Austria'),\n",
       " ('PB Knäckebröd AB', 'Göteborg', 'Sweden'),\n",
       " ('PB Knäckebröd AB', 'Göteborg', 'Sweden'),\n",
       " ('PB Knäckebröd AB', 'Göteborg', 'Sweden'),\n",
       " ('PB Knäckebröd AB', 'Göteborg', 'Sweden'),\n",
       " ('PB Knäckebröd AB', 'Göteborg', 'Sweden'),\n",
       " ('Wilman Kala', 'Helsinki', 'Finland'),\n",
       " ('LINO-Delicateses', 'I. de Margarita', 'Venezuela'),\n",
       " (\"Trail''s Head Gourmet Provisioners\", 'Kirkland', 'USA'),\n",
       " ('Ottilies Käseladen', 'Köln', 'Germany'),\n",
       " ('Simons bistro', 'København', 'Denmark'),\n",
       " ('Split Rail Beer & Ale', 'Lander', 'USA'),\n",
       " ('Karkki Oy', 'Lappeenranta', 'Finland'),\n",
       " ('Karkki Oy', 'Lappeenranta', 'Finland'),\n",
       " ('Karkki Oy', 'Lappeenranta', 'Finland'),\n",
       " ('Karkki Oy', 'Lappeenranta', 'Finland'),\n",
       " ('Karkki Oy', 'Lappeenranta', 'Finland'),\n",
       " ('Morgenstern Gesundkost', 'Leipzig', 'Germany'),\n",
       " ('Folies gourmandes', 'Lille', 'France'),\n",
       " ('Furia Bacalhau e Frutos do Mar', 'Lisboa', 'Portugal'),\n",
       " ('Princesa Isabel Vinhoss', 'Lisboa', 'Portugal'),\n",
       " ('Around the Horn', 'London', 'UK'),\n",
       " (\"B''s Beverages\", 'London', 'UK'),\n",
       " ('Consolidated Holdings', 'London', 'UK'),\n",
       " ('Eastern Connection', 'London', 'UK'),\n",
       " ('North/South', 'London', 'UK'),\n",
       " ('Seven Seas Imports', 'London', 'UK'),\n",
       " ('Exotic Liquid', 'Londona', 'UK'),\n",
       " ('Exotic Liquid', 'Londona', 'UK'),\n",
       " ('Exotic Liquid', 'Londona', 'UK'),\n",
       " ('Exotic Liquid', 'Londona', 'UK'),\n",
       " ('Exotic Liquid', 'Londona', 'UK'),\n",
       " ('Berglunds snabbköp', 'Luleå', 'Sweden'),\n",
       " ('Lyngbysild', 'Lyngby', 'Denmark'),\n",
       " ('Lyngbysild', 'Lyngby', 'Denmark'),\n",
       " ('Lyngbysild', 'Lyngby', 'Denmark'),\n",
       " ('Lyngbysild', 'Lyngby', 'Denmark'),\n",
       " ('Lyngbysild', 'Lyngby', 'Denmark'),\n",
       " ('Victuailles en stock', 'Lyon', 'France'),\n",
       " ('Bólido Comidas preparadas', 'Madrid', 'Spain'),\n",
       " ('FISSA Fabrica Inter. Salchichas S.A.', 'Madrid', 'Spain'),\n",
       " ('Romero y tomillo', 'Madrid', 'Spain'),\n",
       " ('Specialty Biscuits, Ltd.', 'Manchester', 'UK'),\n",
       " ('Specialty Biscuits, Ltd.', 'Manchester', 'UK'),\n",
       " ('Specialty Biscuits, Ltd.', 'Manchester', 'UK'),\n",
       " ('Specialty Biscuits, Ltd.', 'Manchester', 'UK'),\n",
       " ('Specialty Biscuits, Ltd.', 'Manchester', 'UK'),\n",
       " ('Blauer See Delikatessen', 'Mannheim', 'Germany'),\n",
       " (\"Bon app''\", 'Marseille', 'France'),\n",
       " ('Pavlova, Ltd.', 'Melbourne', 'Australia'),\n",
       " ('Pavlova, Ltd.', 'Melbourne', 'Australia'),\n",
       " ('Pavlova, Ltd.', 'Melbourne', 'Australia'),\n",
       " ('Pavlova, Ltd.', 'Melbourne', 'Australia'),\n",
       " ('Pavlova, Ltd.', 'Melbourne', 'Australia'),\n",
       " ('Escargots Nouveaux', 'Montceau', 'France'),\n",
       " ('Escargots Nouveaux', 'Montceau', 'France'),\n",
       " ('Escargots Nouveaux', 'Montceau', 'France'),\n",
       " ('Escargots Nouveaux', 'Montceau', 'France'),\n",
       " ('Escargots Nouveaux', 'Montceau', 'France'),\n",
       " ('Mère Paillarde', 'Montréal', 'Canada'),\n",
       " ('Ma Maison', 'Montréal', 'Canada'),\n",
       " ('Ma Maison', 'Montréal', 'Canada'),\n",
       " ('Ma Maison', 'Montréal', 'Canada'),\n",
       " ('Ma Maison', 'Montréal', 'Canada'),\n",
       " ('Ma Maison', 'Montréal', 'Canada'),\n",
       " ('Ana Trujillo Emparedados y helados', 'México D.F.', 'Mexico'),\n",
       " ('Antonio Moreno Taquería', 'México D.F.', 'Mexico'),\n",
       " ('Centro comercial Moctezuma', 'México D.F.', 'Mexico'),\n",
       " ('Pericles Comidas clásicas', 'México D.F.', 'Mexico'),\n",
       " ('Tortuga Restaurante', 'México D.F.', 'Mexico'),\n",
       " ('Frankenversand', 'München', 'Germany'),\n",
       " ('Toms Spezialitäten', 'Münster', 'Germany'),\n",
       " ('Du monde entier', 'Nantes', 'France'),\n",
       " ('France restauration', 'Nantes', 'France'),\n",
       " ('New Orleans Cajun Delights', 'New Orleans', 'USA'),\n",
       " ('New Orleans Cajun Delights', 'New Orleans', 'USA'),\n",
       " ('New Orleans Cajun Delights', 'New Orleans', 'USA'),\n",
       " ('New Orleans Cajun Delights', 'New Orleans', 'USA'),\n",
       " ('New Orleans Cajun Delights', 'New Orleans', 'USA'),\n",
       " (\"Mayumi's\", 'Osaka', 'Japan'),\n",
       " (\"Mayumi's\", 'Osaka', 'Japan'),\n",
       " (\"Mayumi's\", 'Osaka', 'Japan'),\n",
       " (\"Mayumi's\", 'Osaka', 'Japan'),\n",
       " (\"Mayumi's\", 'Osaka', 'Japan'),\n",
       " ('Wartian Herkku', 'Oulu', 'Finland'),\n",
       " (\"Cooperativa de Quesos 'Las Cabras'\", 'Oviedo', 'Spain'),\n",
       " (\"Cooperativa de Quesos 'Las Cabras'\", 'Oviedo', 'Spain'),\n",
       " (\"Cooperativa de Quesos 'Las Cabras'\", 'Oviedo', 'Spain'),\n",
       " (\"Cooperativa de Quesos 'Las Cabras'\", 'Oviedo', 'Spain'),\n",
       " (\"Cooperativa de Quesos 'Las Cabras'\", 'Oviedo', 'Spain'),\n",
       " ('Paris spécialités', 'Paris', 'France'),\n",
       " ('Spécialités du monde', 'Paris', 'France'),\n",
       " ('Aux joyeux ecclésiastiques', 'Paris', 'France'),\n",
       " ('Aux joyeux ecclésiastiques', 'Paris', 'France'),\n",
       " ('Aux joyeux ecclésiastiques', 'Paris', 'France'),\n",
       " ('Aux joyeux ecclésiastiques', 'Paris', 'France'),\n",
       " ('Aux joyeux ecclésiastiques', 'Paris', 'France'),\n",
       " ('Lonesome Pine Restaurant', 'Portland', 'USA'),\n",
       " ('The Big Cheese', 'Portland', 'USA'),\n",
       " ('Formaggi Fortini s.r.l.', 'Ravenna', 'Italy'),\n",
       " ('Formaggi Fortini s.r.l.', 'Ravenna', 'Italy'),\n",
       " ('Formaggi Fortini s.r.l.', 'Ravenna', 'Italy'),\n",
       " ('Formaggi Fortini s.r.l.', 'Ravenna', 'Italy'),\n",
       " ('Formaggi Fortini s.r.l.', 'Ravenna', 'Italy'),\n",
       " ('Reggiani Caseifici', 'Reggio Emilia', 'Italy'),\n",
       " ('Vins et alcools Chevalier', 'Reims', 'France'),\n",
       " ('Wellington Importadora', 'Resende', 'Brazil'),\n",
       " ('Hanari Carnes', 'Rio de Janeiro', 'Brazil'),\n",
       " ('Que Delícia', 'Rio de Janeiro', 'Brazil'),\n",
       " ('Ricardo Adocicados', 'Rio de Janeiro', 'Brazil'),\n",
       " ('Pasta Buttini s.r.l.', 'Salerno', 'Italy'),\n",
       " ('Pasta Buttini s.r.l.', 'Salerno', 'Italy'),\n",
       " ('Pasta Buttini s.r.l.', 'Salerno', 'Italy'),\n",
       " ('Pasta Buttini s.r.l.', 'Salerno', 'Italy'),\n",
       " ('Pasta Buttini s.r.l.', 'Salerno', 'Italy'),\n",
       " ('Piccolo und mehr', 'Salzburg', 'Austria'),\n",
       " ('HILARIÓN-Abastos', 'San Cristóbal', 'Venezuela'),\n",
       " (\"Let''s Stop N Shop\", 'San Francisco', 'USA'),\n",
       " ('Norske Meierier', 'Sandvika', 'Norway'),\n",
       " ('Norske Meierier', 'Sandvika', 'Norway'),\n",
       " ('Norske Meierier', 'Sandvika', 'Norway'),\n",
       " ('Norske Meierier', 'Sandvika', 'Norway'),\n",
       " ('Norske Meierier', 'Sandvika', 'Norway'),\n",
       " ('White Clover Markets', 'Seattle', 'USA'),\n",
       " ('Godos Cocina Típica', 'Sevilla', 'Spain'),\n",
       " ('Leka Trading', 'Singapore', 'Singapore'),\n",
       " ('Leka Trading', 'Singapore', 'Singapore'),\n",
       " ('Leka Trading', 'Singapore', 'Singapore'),\n",
       " ('Leka Trading', 'Singapore', 'Singapore'),\n",
       " ('Leka Trading', 'Singapore', 'Singapore'),\n",
       " ('Santé Gourmet', 'Stavern', 'Norway'),\n",
       " (\"Forêts d'érables\", 'Ste-Hyacinthe', 'Canada'),\n",
       " (\"Forêts d'érables\", 'Ste-Hyacinthe', 'Canada'),\n",
       " (\"Forêts d'érables\", 'Ste-Hyacinthe', 'Canada'),\n",
       " (\"Forêts d'érables\", 'Ste-Hyacinthe', 'Canada'),\n",
       " (\"Forêts d'érables\", 'Ste-Hyacinthe', 'Canada'),\n",
       " ('Svensk Sjöföda AB', 'Stockholm', 'Sweden'),\n",
       " ('Svensk Sjöföda AB', 'Stockholm', 'Sweden'),\n",
       " ('Svensk Sjöföda AB', 'Stockholm', 'Sweden'),\n",
       " ('Svensk Sjöföda AB', 'Stockholm', 'Sweden'),\n",
       " ('Svensk Sjöföda AB', 'Stockholm', 'Sweden'),\n",
       " ('Blondel père et fils', 'Strasbourg', 'France'),\n",
       " ('Die Wandernde Kuh', 'Stuttgart', 'Germany'),\n",
       " (\"G'day, Mate\", 'Sydney', 'Australia'),\n",
       " (\"G'day, Mate\", 'Sydney', 'Australia'),\n",
       " (\"G'day, Mate\", 'Sydney', 'Australia'),\n",
       " (\"G'day, Mate\", 'Sydney', 'Australia'),\n",
       " (\"G'day, Mate\", 'Sydney', 'Australia'),\n",
       " ('Comércio Mineiro', 'São Paulo', 'Brazil'),\n",
       " ('Familia Arquibaldo', 'São Paulo', 'Brazil'),\n",
       " ('Queen Cozinha', 'São Paulo', 'Brazil'),\n",
       " ('Tradição Hipermercados', 'São Paulo', 'Brazil'),\n",
       " ('Refrescos Americanas LTDA', 'São Paulo', 'Brazil'),\n",
       " ('Refrescos Americanas LTDA', 'São Paulo', 'Brazil'),\n",
       " ('Refrescos Americanas LTDA', 'São Paulo', 'Brazil'),\n",
       " ('Refrescos Americanas LTDA', 'São Paulo', 'Brazil'),\n",
       " ('Refrescos Americanas LTDA', 'São Paulo', 'Brazil'),\n",
       " ('Tokyo Traders', 'Tokyo', 'Japan'),\n",
       " ('Tokyo Traders', 'Tokyo', 'Japan'),\n",
       " ('Tokyo Traders', 'Tokyo', 'Japan'),\n",
       " ('Tokyo Traders', 'Tokyo', 'Japan'),\n",
       " ('Tokyo Traders', 'Tokyo', 'Japan'),\n",
       " ('Franchi S.p.A.', 'Torino', 'Italy'),\n",
       " (\"La maison d''Asie\", 'Toulouse', 'France'),\n",
       " ('Bottom-Dollar Marketse', 'Tsawassen', 'Canada'),\n",
       " ('Laughing Bacchus Wine Cellars', 'Vancouver', 'Canada'),\n",
       " (\"La corne d''abondance\", 'Versailles', 'France'),\n",
       " ('Lazy K Kountry Store', 'Walla Walla', 'USA'),\n",
       " ('Zaanse Snoepfabriek', 'Zaandam', 'Netherlands'),\n",
       " ('Zaanse Snoepfabriek', 'Zaandam', 'Netherlands'),\n",
       " ('Zaanse Snoepfabriek', 'Zaandam', 'Netherlands'),\n",
       " ('Zaanse Snoepfabriek', 'Zaandam', 'Netherlands'),\n",
       " ('Zaanse Snoepfabriek', 'Zaandam', 'Netherlands'),\n",
       " ('Vaffeljernet', 'Århus', 'Denmark')]"
      ]
     },
     "execution_count": 140,
     "metadata": {},
     "output_type": "execute_result"
    }
   ],
   "source": [
    "cursor = con.cursor()\n",
    "cmd = \"\"\"\n",
    "SELECT CustomerName, City, Country\n",
    "FROM Customers\n",
    "ORDER BY\n",
    "(CASE\n",
    "    WHEN City IS NULL THEN Country\n",
    "    ELSE City\n",
    "END);\n",
    "\"\"\"\n",
    "cursor.execute(cmd)\n",
    "cursor.fetchall()"
   ]
  },
  {
   "cell_type": "markdown",
   "metadata": {},
   "source": [
    "### SQL Null Functions"
   ]
  },
  {
   "cell_type": "code",
   "execution_count": 142,
   "metadata": {},
   "outputs": [
    {
     "data": {
      "text/plain": [
       "[('Chais', 36),\n",
       " ('Chang', 38),\n",
       " ('Aniseed Syrup', 30),\n",
       " (\"Chef Anton's Cajun Seasoning\", 88),\n",
       " (\"Chef Anton's Gumbo Mix\", 85.4),\n",
       " (\"Grandma's Boysenberry Spread\", 125),\n",
       " (\"Uncle Bob's Organic Dried Pears\", 300),\n",
       " ('Northwoods Cranberry Sauce', 200),\n",
       " ('Mishi Kobe Niku', 970),\n",
       " ('Ikura', 372),\n",
       " ('Queso Cabrales', 189),\n",
       " ('Queso Manchego La Pastora', 342),\n",
       " ('Konbu', 84),\n",
       " ('Tofu', 302.25),\n",
       " ('Genen Shouyu', 124.0),\n",
       " ('Pavlova', 174.5),\n",
       " ('Alice Mutton', 507),\n",
       " ('Carnarvon Tigers', 937.5),\n",
       " ('Teatime Chocolate Biscuits', 101.19999999999999),\n",
       " (\"Sir Rodney's Marmalade\", 891),\n",
       " (\"Sir Rodney's Scones\", 110),\n",
       " (\"Gustaf's Knäckebröd\", 294),\n",
       " ('Tunnbröd', 126),\n",
       " ('Guaraná Fantástica', 49.5),\n",
       " ('NuNuCa Nuß-Nougat-Creme', 196),\n",
       " ('Gumbär Gummibärchen', 437.22),\n",
       " ('Schoggi Schokolade', 614.6),\n",
       " ('Rössle Sauerkraut', 866.4),\n",
       " ('Thüringer Rostbratwurst', 2228.2200000000003),\n",
       " ('Nord-Ost Matjeshering', 543.69),\n",
       " ('Gorgonzola Telino', 225.0),\n",
       " ('Mascarpone Fabioli', 576),\n",
       " ('Geitost', 47.5),\n",
       " ('Sasquatch Ale', 238),\n",
       " ('Steeleye Stout', 306),\n",
       " ('Inlagd Sill', 475),\n",
       " ('Gravad lax', 650),\n",
       " ('Côte de Blaye', 5006.5),\n",
       " ('Chartreuse verte', 342),\n",
       " ('Boston Crab Meat', 496.79999999999995),\n",
       " (\"Jack's New England Clam Chowder\", 260.55),\n",
       " ('Singaporean Hokkien Fried Mee', 350),\n",
       " ('Ipoh Coffee', 966),\n",
       " ('Gula Malacca', 427.9),\n",
       " ('Røgede sild', 275.5),\n",
       " ('Spegesild', 348),\n",
       " ('Zaanse koeken', 237.5),\n",
       " ('Chocolade', 318.75),\n",
       " ('Maxilaku', 520),\n",
       " ('Valkoinen suklaa', 422.5),\n",
       " ('Manjimup Dried Apples', 1643),\n",
       " ('Filo Mix', 203),\n",
       " ('Perth Pasties', 983.9999999999999),\n",
       " ('Tourtière', 230.95000000000002),\n",
       " ('Pâté chinois', 744),\n",
       " ('Gnocchi di nonna Alice', 1178),\n",
       " ('Ravioli Angelo', 604.5),\n",
       " ('Escargots de Bourgogne', 463.75),\n",
       " ('Raclette Courdavault', 1760),\n",
       " ('Camembert Pierrot', 1088),\n",
       " (\"Sirop d'érable\", 883.5),\n",
       " ('Tarte au sucre', 1577.6),\n",
       " ('Vegie-spread', 395.09999999999997),\n",
       " ('Wimmers gute Semmelknödel', 565.25),\n",
       " ('Louisiana Fiery Hot Pepper Sauce', 84.2),\n",
       " ('Louisiana Hot Spiced Okra', 68),\n",
       " ('Laughing Lumberjack Lager', 238),\n",
       " ('Scottish Longbreads', 137.5),\n",
       " ('Gudbrandsdalsost', 684),\n",
       " ('Outback Lager', 120),\n",
       " ('Fløtemysost', 408.5),\n",
       " ('Mozzarella di Giovanni', 626.4),\n",
       " ('Röd Kaviar', 375),\n",
       " ('Longlife Tofu', 110),\n",
       " ('Rhönbräu Klosterbier', 100.75),\n",
       " ('Lakkalikööri', 432),\n",
       " ('Original Frankfurter grüne Soße', 182)]"
      ]
     },
     "execution_count": 142,
     "metadata": {},
     "output_type": "execute_result"
    }
   ],
   "source": [
    "cursor = con.cursor()\n",
    "cmd = \"\"\"\n",
    "SELECT ProductName, Price * (CategoryID + IFNULL(SupplierID, 0))\n",
    "FROM Products;\n",
    "\"\"\"\n",
    "cursor.execute(cmd)\n",
    "cursor.fetchall()"
   ]
  },
  {
   "cell_type": "code",
   "execution_count": 143,
   "metadata": {},
   "outputs": [
    {
     "data": {
      "text/plain": [
       "[('Chais', 36),\n",
       " ('Chang', 38),\n",
       " ('Aniseed Syrup', 30),\n",
       " (\"Chef Anton's Cajun Seasoning\", 88),\n",
       " (\"Chef Anton's Gumbo Mix\", 85.4),\n",
       " (\"Grandma's Boysenberry Spread\", 125),\n",
       " (\"Uncle Bob's Organic Dried Pears\", 300),\n",
       " ('Northwoods Cranberry Sauce', 200),\n",
       " ('Mishi Kobe Niku', 970),\n",
       " ('Ikura', 372),\n",
       " ('Queso Cabrales', 189),\n",
       " ('Queso Manchego La Pastora', 342),\n",
       " ('Konbu', 84),\n",
       " ('Tofu', 302.25),\n",
       " ('Genen Shouyu', 124.0),\n",
       " ('Pavlova', 174.5),\n",
       " ('Alice Mutton', 507),\n",
       " ('Carnarvon Tigers', 937.5),\n",
       " ('Teatime Chocolate Biscuits', 101.19999999999999),\n",
       " (\"Sir Rodney's Marmalade\", 891),\n",
       " (\"Sir Rodney's Scones\", 110),\n",
       " (\"Gustaf's Knäckebröd\", 294),\n",
       " ('Tunnbröd', 126),\n",
       " ('Guaraná Fantástica', 49.5),\n",
       " ('NuNuCa Nuß-Nougat-Creme', 196),\n",
       " ('Gumbär Gummibärchen', 437.22),\n",
       " ('Schoggi Schokolade', 614.6),\n",
       " ('Rössle Sauerkraut', 866.4),\n",
       " ('Thüringer Rostbratwurst', 2228.2200000000003),\n",
       " ('Nord-Ost Matjeshering', 543.69),\n",
       " ('Gorgonzola Telino', 225.0),\n",
       " ('Mascarpone Fabioli', 576),\n",
       " ('Geitost', 47.5),\n",
       " ('Sasquatch Ale', 238),\n",
       " ('Steeleye Stout', 306),\n",
       " ('Inlagd Sill', 475),\n",
       " ('Gravad lax', 650),\n",
       " ('Côte de Blaye', 5006.5),\n",
       " ('Chartreuse verte', 342),\n",
       " ('Boston Crab Meat', 496.79999999999995),\n",
       " (\"Jack's New England Clam Chowder\", 260.55),\n",
       " ('Singaporean Hokkien Fried Mee', 350),\n",
       " ('Ipoh Coffee', 966),\n",
       " ('Gula Malacca', 427.9),\n",
       " ('Røgede sild', 275.5),\n",
       " ('Spegesild', 348),\n",
       " ('Zaanse koeken', 237.5),\n",
       " ('Chocolade', 318.75),\n",
       " ('Maxilaku', 520),\n",
       " ('Valkoinen suklaa', 422.5),\n",
       " ('Manjimup Dried Apples', 1643),\n",
       " ('Filo Mix', 203),\n",
       " ('Perth Pasties', 983.9999999999999),\n",
       " ('Tourtière', 230.95000000000002),\n",
       " ('Pâté chinois', 744),\n",
       " ('Gnocchi di nonna Alice', 1178),\n",
       " ('Ravioli Angelo', 604.5),\n",
       " ('Escargots de Bourgogne', 463.75),\n",
       " ('Raclette Courdavault', 1760),\n",
       " ('Camembert Pierrot', 1088),\n",
       " (\"Sirop d'érable\", 883.5),\n",
       " ('Tarte au sucre', 1577.6),\n",
       " ('Vegie-spread', 395.09999999999997),\n",
       " ('Wimmers gute Semmelknödel', 565.25),\n",
       " ('Louisiana Fiery Hot Pepper Sauce', 84.2),\n",
       " ('Louisiana Hot Spiced Okra', 68),\n",
       " ('Laughing Lumberjack Lager', 238),\n",
       " ('Scottish Longbreads', 137.5),\n",
       " ('Gudbrandsdalsost', 684),\n",
       " ('Outback Lager', 120),\n",
       " ('Fløtemysost', 408.5),\n",
       " ('Mozzarella di Giovanni', 626.4),\n",
       " ('Röd Kaviar', 375),\n",
       " ('Longlife Tofu', 110),\n",
       " ('Rhönbräu Klosterbier', 100.75),\n",
       " ('Lakkalikööri', 432),\n",
       " ('Original Frankfurter grüne Soße', 182)]"
      ]
     },
     "execution_count": 143,
     "metadata": {},
     "output_type": "execute_result"
    }
   ],
   "source": [
    "cursor = con.cursor()\n",
    "cmd = \"\"\"\n",
    "SELECT ProductName, Price * (CategoryID + COALESCE(SupplierID, 0))\n",
    "FROM Products;\n",
    "\"\"\"\n",
    "cursor.execute(cmd)\n",
    "cursor.fetchall()"
   ]
  },
  {
   "cell_type": "markdown",
   "metadata": {},
   "source": [
    "### SQL Stored Procedures\n",
    "SQLite3에서는 지원하지 않음"
   ]
  },
  {
   "cell_type": "markdown",
   "metadata": {},
   "source": [
    "### SQL Comments"
   ]
  },
  {
   "cell_type": "code",
   "execution_count": 151,
   "metadata": {},
   "outputs": [
    {
     "data": {
      "text/plain": [
       "[(1,),\n",
       " (2,),\n",
       " (3,),\n",
       " (4,),\n",
       " (5,),\n",
       " (6,),\n",
       " (7,),\n",
       " (8,),\n",
       " (9,),\n",
       " (10,),\n",
       " (11,),\n",
       " (12,),\n",
       " (13,),\n",
       " (14,),\n",
       " (15,),\n",
       " (16,),\n",
       " (17,),\n",
       " (18,),\n",
       " (19,),\n",
       " (20,),\n",
       " (21,),\n",
       " (22,),\n",
       " (23,),\n",
       " (24,),\n",
       " (25,),\n",
       " (26,),\n",
       " (27,),\n",
       " (28,),\n",
       " (29,),\n",
       " (30,),\n",
       " (31,),\n",
       " (32,),\n",
       " (33,),\n",
       " (34,),\n",
       " (35,),\n",
       " (36,),\n",
       " (37,),\n",
       " (38,),\n",
       " (39,),\n",
       " (40,),\n",
       " (41,),\n",
       " (42,),\n",
       " (43,),\n",
       " (44,),\n",
       " (45,),\n",
       " (46,),\n",
       " (47,),\n",
       " (48,),\n",
       " (49,),\n",
       " (50,),\n",
       " (51,),\n",
       " (52,),\n",
       " (53,),\n",
       " (54,),\n",
       " (55,),\n",
       " (56,),\n",
       " (57,),\n",
       " (58,),\n",
       " (59,),\n",
       " (60,),\n",
       " (61,),\n",
       " (62,),\n",
       " (63,),\n",
       " (64,),\n",
       " (65,),\n",
       " (66,),\n",
       " (67,),\n",
       " (68,),\n",
       " (69,),\n",
       " (70,),\n",
       " (71,),\n",
       " (72,),\n",
       " (73,),\n",
       " (74,),\n",
       " (75,),\n",
       " (76,),\n",
       " (77,)]"
      ]
     },
     "execution_count": 151,
     "metadata": {},
     "output_type": "execute_result"
    }
   ],
   "source": [
    "cursor = con.cursor()\n",
    "cmd = \"\"\"\n",
    "-- 우하하하하하\n",
    "SELECT ProductID /*,ProductName*/\n",
    "/*\n",
    "이거도 되나?\n",
    "*/\n",
    "FROM Products; -- 되나\n",
    "\"\"\"\n",
    "cursor.execute(cmd)\n",
    "cursor.fetchall()"
   ]
  },
  {
   "cell_type": "code",
   "execution_count": 152,
   "metadata": {},
   "outputs": [
    {
     "data": {
      "text/plain": [
       "[(43,\n",
       "  'Lazy K Kountry Store',\n",
       "  'John Steel',\n",
       "  '12 Orchestra Terrace',\n",
       "  'Walla Walla',\n",
       "  '99362',\n",
       "  'USA'),\n",
       " (45,\n",
       "  \"Let''s Stop N Shop\",\n",
       "  'Jaime Yorres',\n",
       "  '87 Polk St. Suite 5',\n",
       "  'San Francisco',\n",
       "  '94117',\n",
       "  'USA'),\n",
       " (48,\n",
       "  'Lonesome Pine Restaurant',\n",
       "  'Fran Wilson',\n",
       "  '89 Chiaroscuro Rd.',\n",
       "  'Portland',\n",
       "  '97219',\n",
       "  'USA'),\n",
       " (65,\n",
       "  'Rattlesnake Canyon Grocery',\n",
       "  'Paula Wilson',\n",
       "  '2817 Milton Dr.',\n",
       "  'Albuquerque',\n",
       "  '87110',\n",
       "  'USA'),\n",
       " (89,\n",
       "  'White Clover Markets',\n",
       "  'Karl Jablonski',\n",
       "  '305 - 14th Ave. S. Suite 3B',\n",
       "  'Seattle',\n",
       "  '98128',\n",
       "  'USA')]"
      ]
     },
     "execution_count": 152,
     "metadata": {},
     "output_type": "execute_result"
    }
   ],
   "source": [
    "cursor = con.cursor()\n",
    "cmd = \"\"\"\n",
    "SELECT * FROM Customers WHERE (CustomerName LIKE 'L%'\n",
    "OR CustomerName LIKE 'R%' /*OR CustomerName LIKE 'S%'\n",
    "OR CustomerName LIKE 'T%'*/ OR CustomerName LIKE 'W%')\n",
    "AND Country='USA'\n",
    "ORDER BY CustomerName;\n",
    "\"\"\"\n",
    "cursor.execute(cmd)\n",
    "cursor.fetchall()"
   ]
  },
  {
   "cell_type": "markdown",
   "metadata": {},
   "source": [
    "### SQL Operators\n",
    "Examples를 수행하며 모두 적용했음"
   ]
  }
 ],
 "metadata": {
  "kernelspec": {
   "display_name": "softeer",
   "language": "python",
   "name": "python3"
  },
  "language_info": {
   "codemirror_mode": {
    "name": "ipython",
    "version": 3
   },
   "file_extension": ".py",
   "mimetype": "text/x-python",
   "name": "python",
   "nbconvert_exporter": "python",
   "pygments_lexer": "ipython3",
   "version": "3.10.16"
  }
 },
 "nbformat": 4,
 "nbformat_minor": 2
}
