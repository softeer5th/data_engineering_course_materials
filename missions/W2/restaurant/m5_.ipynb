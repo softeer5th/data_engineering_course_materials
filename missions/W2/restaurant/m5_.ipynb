{
 "cells": [
  {
   "cell_type": "code",
   "execution_count": null,
   "metadata": {},
   "outputs": [],
   "source": [
    "import pandas\n",
    "import json\n"
   ]
  },
  {
   "cell_type": "code",
   "execution_count": null,
   "metadata": {},
   "outputs": [],
   "source": [
    "def get_restaurant():\n",
    "    # Kakaomap REST API 사용하기\n",
    "    # 카테고리로 장소 검색하기\n",
    "    # https://developers.kakao.com/docs/latest/ko/local/dev-guide#search-by-category\n",
    "\n",
    "    url = 'https://dapi.kakao.com/v2/local/search/category.${FORMAT}'"
   ]
  }
 ],
 "metadata": {
  "kernelspec": {
   "display_name": "base",
   "language": "python",
   "name": "python3"
  },
  "language_info": {
   "name": "python",
   "version": "3.12.7"
  }
 },
 "nbformat": 4,
 "nbformat_minor": 2
}
