{
 "cells": [
  {
   "cell_type": "code",
   "execution_count": 1,
   "metadata": {},
   "outputs": [],
   "source": [
    "import restaurant_extrator as ex\n",
    "import restaurant_transformer as tr\n",
    "import json\n",
    "\n",
    "# Const block\n",
    "PATH = 'data/'\n",
    "X = 127.06283102249932\n",
    "Y = 37.514322572335935\n",
    "R = 200  # 반경\n",
    "API_KEY = '15545f98091012bb544fdad53077cee2'\n",
    "RESTAURANTS_FILENAME = 'restaurant.json'\n",
    "REVIEWS_FILENAME = 'reviews.json'"
   ]
  },
  {
   "cell_type": "code",
   "execution_count": 2,
   "metadata": {},
   "outputs": [],
   "source": [
    "# Extract\n",
    "with open('/Users/speowo/workspace/Softeer_PR/missions/W2/restaurant/data/restaurant.json','r') as file:\n",
    "    restaurants_json = json.load(file)\n",
    "\n",
    "reviews_json = {'restaurants': []}\n",
    "\n",
    "try:\n",
    "    for restaurant_json in restaurants_json['documents']:\n",
    "        review_json = {}\n",
    "        review_json['id'] = restaurant_json['id']\n",
    "        url = restaurant_json['place_url']\n",
    "        review_json['text'] = ex.get_review_html(url)\n",
    "        reviews_json['restaurants'].append(review_json)\n",
    "finally:\n",
    "    ex.save_data_to_file(reviews_json,PATH,REVIEWS_FILENAME,'w')"
   ]
  },
  {
   "cell_type": "code",
   "execution_count": 2,
   "metadata": {},
   "outputs": [],
   "source": [
    "with open(PATH+'/'+REVIEWS_FILENAME, 'r') as file:\n",
    "    reviews_json = json.load(file)"
   ]
  },
  {
   "cell_type": "code",
   "execution_count": 3,
   "metadata": {},
   "outputs": [
    {
     "name": "stdout",
     "output_type": "stream",
     "text": [
      "3.7점\n"
     ]
    },
    {
     "ename": "AttributeError",
     "evalue": "'NoneType' object has no attribute 'text'",
     "output_type": "error",
     "traceback": [
      "\u001b[0;31m---------------------------------------------------------------------------\u001b[0m",
      "\u001b[0;31mAttributeError\u001b[0m                            Traceback (most recent call last)",
      "Cell \u001b[0;32mIn[3], line 2\u001b[0m\n\u001b[1;32m      1\u001b[0m \u001b[38;5;66;03m# Transform\u001b[39;00m\n\u001b[0;32m----> 2\u001b[0m ids_reviews \u001b[38;5;241m=\u001b[39m tr\u001b[38;5;241m.\u001b[39mget_reviews_from_json(reviews_json)\n",
      "File \u001b[0;32m~/workspace/Softeer_PR/missions/W2/restaurant/restaurant_transformer.py:25\u001b[0m, in \u001b[0;36mget_reviews_from_json\u001b[0;34m(reviews_json)\u001b[0m\n\u001b[1;32m     22\u001b[0m     \u001b[38;5;28;01mif\u001b[39;00m span:\n\u001b[1;32m     23\u001b[0m         reviews\u001b[38;5;241m.\u001b[39mappend(span)\n\u001b[0;32m---> 25\u001b[0m rating \u001b[38;5;241m=\u001b[39m soup\u001b[38;5;241m.\u001b[39mfind(class_\u001b[38;5;241m=\u001b[39m\u001b[38;5;124m'\u001b[39m\u001b[38;5;124mcolor_b\u001b[39m\u001b[38;5;124m'\u001b[39m)\u001b[38;5;241m.\u001b[39mtext\n\u001b[1;32m     26\u001b[0m \u001b[38;5;28mprint\u001b[39m(rating)\n\u001b[1;32m     27\u001b[0m \u001b[38;5;66;03m# reviews에 comments text 다 들어가 있다.\u001b[39;00m\n\u001b[1;32m     28\u001b[0m \u001b[38;5;66;03m# {'id' = id, 'comments' = [comments]}\u001b[39;00m\n",
      "\u001b[0;31mAttributeError\u001b[0m: 'NoneType' object has no attribute 'text'"
     ]
    }
   ],
   "source": [
    "# Transform\n",
    "ids_reviews = tr.get_reviews_from_json(reviews_json)\n",
    "print(ids_reviews)"
   ]
  }
 ],
 "metadata": {
  "kernelspec": {
   "display_name": "base",
   "language": "python",
   "name": "python3"
  },
  "language_info": {
   "codemirror_mode": {
    "name": "ipython",
    "version": 3
   },
   "file_extension": ".py",
   "mimetype": "text/x-python",
   "name": "python",
   "nbconvert_exporter": "python",
   "pygments_lexer": "ipython3",
   "version": "3.12.7"
  }
 },
 "nbformat": 4,
 "nbformat_minor": 2
}
