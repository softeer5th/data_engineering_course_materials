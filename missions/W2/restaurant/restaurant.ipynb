{
 "cells": [
  {
   "cell_type": "code",
   "execution_count": 1,
   "metadata": {},
   "outputs": [],
   "source": [
    "import restaurant_extrator as ex\n",
    "import restaurant_transformer as tr\n",
    "import json\n",
    "\n",
    "# Const block\n",
    "PATH = 'data/'\n",
    "X = 127.06283102249932\n",
    "Y = 37.514322572335935\n",
    "R = 200  # 반경\n",
    "API_KEY = '15545f98091012bb544fdad53077cee2'\n",
    "RESTAURANTS_FILENAME = 'restaurant.json'\n",
    "REVIEWS_FILENAME = 'reviews.json'"
   ]
  },
  {
   "cell_type": "code",
   "execution_count": 2,
   "metadata": {},
   "outputs": [],
   "source": []
  },
  {
   "cell_type": "code",
   "execution_count": 3,
   "metadata": {},
   "outputs": [],
   "source": [
    "# Extract\n",
    "with open('/Users/speowo/workspace/Softeer_PR/missions/W2/restaurant/data/restaurant.json','r') as file:\n",
    "    restaurants_json = json.load(file)\n",
    "\n",
    "reviews_json = {'restaurants': []}\n",
    "\n",
    "try:\n",
    "    for restaurant_json in restaurants_json['documents']:\n",
    "        review_json = {}\n",
    "        review_json['id'] = restaurant_json['id']\n",
    "        url = restaurant_json['place_url']\n",
    "        review_json['text'] = ex.get_review_html(url)\n",
    "        reviews_json['restaurants'].append(review_json)\n",
    "finally:\n",
    "    ex.save_data_to_file(reviews_json,PATH,REVIEWS_FILENAME,'w')"
   ]
  },
  {
   "cell_type": "code",
   "execution_count": 12,
   "metadata": {},
   "outputs": [],
   "source": [
    "with open(PATH+'/'+REVIEWS_FILENAME, 'r') as file:\n",
    "    reviews_json = json.load(file)"
   ]
  },
  {
   "cell_type": "code",
   "execution_count": 13,
   "metadata": {},
   "outputs": [
    {
     "ename": "AttributeError",
     "evalue": "ResultSet object has no attribute 'text'. You're probably treating a list of elements like a single element. Did you call find_all() when you meant to call find()?",
     "output_type": "error",
     "traceback": [
      "\u001b[0;31m---------------------------------------------------------------------------\u001b[0m",
      "\u001b[0;31mAttributeError\u001b[0m                            Traceback (most recent call last)",
      "Cell \u001b[0;32mIn[13], line 2\u001b[0m\n\u001b[1;32m      1\u001b[0m \u001b[38;5;66;03m# Transform\u001b[39;00m\n\u001b[0;32m----> 2\u001b[0m tr\u001b[38;5;241m.\u001b[39mget_reviews_from_html(reviews_json)\n",
      "File \u001b[0;32m~/workspace/Softeer_PR/missions/W2/restaurant/restaurant_transformer.py:15\u001b[0m, in \u001b[0;36mget_reviews_from_html\u001b[0;34m(reviews_json)\u001b[0m\n\u001b[1;32m     13\u001b[0m soup \u001b[38;5;241m=\u001b[39m BeautifulSoup(review_html, \u001b[38;5;124m'\u001b[39m\u001b[38;5;124mlxml\u001b[39m\u001b[38;5;124m'\u001b[39m)\n\u001b[1;32m     14\u001b[0m target \u001b[38;5;241m=\u001b[39m soup\u001b[38;5;241m.\u001b[39mfind_all(\u001b[38;5;124m'\u001b[39m\u001b[38;5;124mp\u001b[39m\u001b[38;5;124m'\u001b[39m, class_\u001b[38;5;241m=\u001b[39m\u001b[38;5;124m'\u001b[39m\u001b[38;5;124mtxt_comment txt_fold\u001b[39m\u001b[38;5;124m'\u001b[39m)\n\u001b[0;32m---> 15\u001b[0m \u001b[38;5;28mprint\u001b[39m(target\u001b[38;5;241m.\u001b[39mtext)\n",
      "File \u001b[0;32m/opt/anaconda3/lib/python3.12/site-packages/bs4/element.py:2433\u001b[0m, in \u001b[0;36mResultSet.__getattr__\u001b[0;34m(self, key)\u001b[0m\n\u001b[1;32m   2431\u001b[0m \u001b[38;5;28;01mdef\u001b[39;00m \u001b[38;5;21m__getattr__\u001b[39m(\u001b[38;5;28mself\u001b[39m, key):\n\u001b[1;32m   2432\u001b[0m \u001b[38;5;250m    \u001b[39m\u001b[38;5;124;03m\"\"\"Raise a helpful exception to explain a common code fix.\"\"\"\u001b[39;00m\n\u001b[0;32m-> 2433\u001b[0m     \u001b[38;5;28;01mraise\u001b[39;00m \u001b[38;5;167;01mAttributeError\u001b[39;00m(\n\u001b[1;32m   2434\u001b[0m         \u001b[38;5;124m\"\u001b[39m\u001b[38;5;124mResultSet object has no attribute \u001b[39m\u001b[38;5;124m'\u001b[39m\u001b[38;5;132;01m%s\u001b[39;00m\u001b[38;5;124m'\u001b[39m\u001b[38;5;124m. You\u001b[39m\u001b[38;5;124m'\u001b[39m\u001b[38;5;124mre probably treating a list of elements like a single element. Did you call find_all() when you meant to call find()?\u001b[39m\u001b[38;5;124m\"\u001b[39m \u001b[38;5;241m%\u001b[39m key\n\u001b[1;32m   2435\u001b[0m     )\n",
      "\u001b[0;31mAttributeError\u001b[0m: ResultSet object has no attribute 'text'. You're probably treating a list of elements like a single element. Did you call find_all() when you meant to call find()?"
     ]
    }
   ],
   "source": [
    "# Transform\n",
    "tr.get_reviews_from_html(reviews_json)"
   ]
  }
 ],
 "metadata": {
  "kernelspec": {
   "display_name": "base",
   "language": "python",
   "name": "python3"
  },
  "language_info": {
   "codemirror_mode": {
    "name": "ipython",
    "version": 3
   },
   "file_extension": ".py",
   "mimetype": "text/x-python",
   "name": "python",
   "nbconvert_exporter": "python",
   "pygments_lexer": "ipython3",
   "version": "3.12.7"
  }
 },
 "nbformat": 4,
 "nbformat_minor": 2
}
