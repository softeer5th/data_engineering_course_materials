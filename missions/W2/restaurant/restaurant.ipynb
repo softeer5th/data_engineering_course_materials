{
 "cells": [
  {
   "cell_type": "code",
   "execution_count": 1,
   "metadata": {},
   "outputs": [],
   "source": [
    "import restaurant_extrator as ex\n",
    "import json"
   ]
  },
  {
   "cell_type": "code",
   "execution_count": 2,
   "metadata": {},
   "outputs": [],
   "source": [
    "# Const block\n",
    "PATH = 'data/'\n",
    "X = 127.06283102249932\n",
    "Y = 37.514322572335935\n",
    "R = 200  # 반경\n",
    "API_KEY = '15545f98091012bb544fdad53077cee2'\n",
    "RESTAURANTS_FILENAME = 'restaurant.json'\n",
    "REVIEWS_FILENAME = 'reviews.json'"
   ]
  },
  {
   "cell_type": "code",
   "execution_count": 4,
   "metadata": {},
   "outputs": [],
   "source": [
    "# Extract\n",
    "with open('/Users/speowo/workspace/Softeer_PR/missions/W2/restaurant/data/restaurant.json','r') as file:\n",
    "    restaurants_json = json.load(file)\n",
    "\n",
    "reviews_json = {'restaurants': []}\n",
    "\n",
    "try:\n",
    "    for restaurant_json in restaurants_json['documents']:\n",
    "        review_json = {}\n",
    "        review_json['id'] = restaurant_json['id']\n",
    "        url = restaurant_json['place_url']\n",
    "        review_json['text'] = ex.get_review_html(url)\n",
    "        reviews_json['restaurants'].append(review_json)\n",
    "finally:\n",
    "    with open(PATH+REVIEWS_FILENAME,'w') as file:\n",
    "        json.dump(reviews_json, file)"
   ]
  },
  {
   "cell_type": "code",
   "execution_count": null,
   "metadata": {},
   "outputs": [],
   "source": [
    "# Transform"
   ]
  }
 ],
 "metadata": {
  "kernelspec": {
   "display_name": "base",
   "language": "python",
   "name": "python3"
  },
  "language_info": {
   "codemirror_mode": {
    "name": "ipython",
    "version": 3
   },
   "file_extension": ".py",
   "mimetype": "text/x-python",
   "name": "python",
   "nbconvert_exporter": "python",
   "pygments_lexer": "ipython3",
   "version": "3.12.7"
  }
 },
 "nbformat": 4,
 "nbformat_minor": 2
}
