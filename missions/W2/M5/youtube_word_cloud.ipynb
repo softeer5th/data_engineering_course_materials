{
 "cells": [
  {
   "cell_type": "code",
   "execution_count": 2,
   "metadata": {},
   "outputs": [
    {
     "data": {
      "text/plain": [
       "['private/config.ini']"
      ]
     },
     "execution_count": 2,
     "metadata": {},
     "output_type": "execute_result"
    }
   ],
   "source": [
    "from scraper.youtube_comments_scraper import YoutubeCommentsScraper\n",
    "from configparser import ConfigParser\n",
    "import pandas as pd\n",
    "import os\n",
    "import matplotlib.pyplot as plt\n",
    "from wordcloud import WordCloud\n",
    "from konlpy.tag import Okt\n",
    "import re\n",
    "from collections import defaultdict\n",
    "import spacy\n",
    "\n",
    "os.environ[\"JAVA_HOME\"] = \"/opt/homebrew/opt/openjdk\"\n",
    "\n",
    "config = ConfigParser()\n",
    "config.read(\"private/config.ini\")"
   ]
  },
  {
   "cell_type": "code",
   "execution_count": 3,
   "metadata": {},
   "outputs": [],
   "source": [
    "from typing import Literal\n",
    "\n",
    "\n",
    "API_KEY = config[\"youtube\"][\"api_key\"]\n",
    "\n",
    "KO_CHANNELS = [\n",
    "    \"UCcQTRi69dsVYHN3exePtZ1A\",  # KBS\n",
    "    \"UCF4Wxdo3inmxP-Y59wXDsFw\",  # MBC\n",
    "    \"UCkinYTS9IHqOEwR1Sze2JTw\",  # SBS\n",
    "    \"UChlgI3UHCOnwUGzWzbJ3H5w\",  # YTN\n",
    "    \"UCfq4V1DAuaojnr2ryvWNysw\",  # Channel A\n",
    "]\n",
    "\n",
    "EN_CHANNELS = [\n",
    "    \"UC16niRr50-MSBwiO3YDb3RA\", # BBC\n",
    "    \"UCupvZG-5ko_eiXAupbDfxWw\", # CNN\n",
    "    \"UCBi2mrWuNuyYy4gbM6fU18Q\", # ABC\n",
    "    \"UCNye-wNBqNL5ZzHSJj3l8Bg\", # Al Jazeera\n",
    "    \"UCqnbDFdCpuN8CMEg0VuEBqA\", # The New York Times\n",
    "]\n",
    "\n",
    "CHANNELS = KO_CHANNELS\n",
    "\n",
    "FILE_PATH = \"temp/youtube_news_comments_recent.csv\"\n",
    "\n",
    "LANG: Literal['ko', 'en'] = 'ko'"
   ]
  },
  {
   "cell_type": "code",
   "execution_count": 4,
   "metadata": {},
   "outputs": [
    {
     "name": "stdout",
     "output_type": "stream",
     "text": [
      "Open existing file: temp/youtube_news_comments_recent.csv\n"
     ]
    }
   ],
   "source": [
    "scraper = YoutubeCommentsScraper(API_KEY)\n",
    "\n",
    "if os.path.exists(FILE_PATH):\n",
    "    df = pd.read_csv(FILE_PATH, encoding=\"utf-8\")\n",
    "    print(f\"Open existing file: {FILE_PATH}\")\n",
    "else:\n",
    "    df = pd.DataFrame(scraper.scrape(CHANNELS, 50, 100, \"date\", \"relevance\"))\n",
    "    df.to_csv(FILE_PATH, index=False, encoding=\"utf-8\")\n",
    "    print(f\"Create new file: {FILE_PATH}\")"
   ]
  },
  {
   "cell_type": "code",
   "execution_count": 5,
   "metadata": {},
   "outputs": [],
   "source": [
    "def ko_preprocessor(df: pd.DataFrame) -> dict[str, int]:\n",
    "    \"\"\"\n",
    "    Preprocess Korean text and count the number of likes for each word.\n",
    "    :param df: DataFrame with text and likes columns.\n",
    "    :return: Dictionary with word and number of likes.\n",
    "    \"\"\"\n",
    "    okt = Okt()\n",
    "    word_dict = defaultdict(int)\n",
    "\n",
    "    for _, row in df.iterrows():\n",
    "        text = row[\"text\"]\n",
    "        likes = row[\"likes\"]\n",
    "\n",
    "        text = re.sub(r\"<[^>]+>\", \"\", text)\n",
    "        text = re.sub(r\"[^\\w\\s가-힣]\", \"\", text)\n",
    "        text = re.sub(r\"http\\S+|www.\\S+\", \"\", text)\n",
    "        text = re.sub(r\"\\([^)]*\\)\", \"\", text)\n",
    "        text = re.sub(r\"\\s+\", \" \", text).strip()\n",
    "\n",
    "        words = okt.nouns(text)\n",
    "        words = [word for word in words if len(word) > 1]\n",
    "\n",
    "        for word in words:\n",
    "            word_dict[word] += likes\n",
    "\n",
    "    return dict(word_dict)\n",
    "\n",
    "\n",
    "def en_preprocessor(df: pd.DataFrame) -> dict[str, int]:\n",
    "    nlp = spacy.load('en_core_web_sm')\n",
    "    word_dict = defaultdict(int)\n",
    "\n",
    "    for _, row in df.iterrows():\n",
    "        text = row[\"text\"]\n",
    "        likes = row[\"likes\"]\n",
    "        \n",
    "        text = re.sub(r\"<[^>]+>\", \"\", text)\n",
    "        text = re.sub(r\"http\\S+|www.\\S+\", \"\", text)\n",
    "        text = re.sub(r\"\\([^)]*\\)\", \"\", text)\n",
    "        text = re.sub(r\"\\s+\", \" \", text).strip()\n",
    "        \n",
    "        doc = nlp(text)\n",
    "        \n",
    "        words = [token.text for token in doc if token.pos_ in ['NOUN', 'PROPN'] and len(token.text) > 1]    \n",
    "        \n",
    "        # likes로 가중치 부여\n",
    "        for word in words:\n",
    "            word_dict[word] += likes\n",
    "            \n",
    "    return dict(word_dict)"
   ]
  },
  {
   "cell_type": "code",
   "execution_count": 6,
   "metadata": {},
   "outputs": [],
   "source": [
    "def preprocessor(df: pd.DataFrame, lang: Literal['ko', 'en']) -> dict[str, int]:\n",
    "    if lang == 'ko':\n",
    "        return ko_preprocessor(df)\n",
    "    elif lang == 'en':\n",
    "        return en_preprocessor(df)"
   ]
  },
  {
   "cell_type": "code",
   "execution_count": 7,
   "metadata": {},
   "outputs": [],
   "source": [
    "wordcloud = WordCloud(\n",
    "    width=800,\n",
    "    height=400,\n",
    "    max_words=300,\n",
    "    colormap=\"tab20c\",\n",
    "    font_path=\"/System/Library/Fonts/AppleSDGothicNeo.ttc\",\n",
    ")"
   ]
  },
  {
   "cell_type": "code",
   "execution_count": 8,
   "metadata": {},
   "outputs": [
    {
     "data": {
      "text/plain": [
       "<wordcloud.wordcloud.WordCloud at 0x130d90f80>"
      ]
     },
     "execution_count": 8,
     "metadata": {},
     "output_type": "execute_result"
    }
   ],
   "source": [
    "word_dict = preprocessor(df, LANG)\n",
    "wordcloud.generate_from_frequencies(word_dict)"
   ]
  },
  {
   "cell_type": "code",
   "execution_count": 10,
   "metadata": {},
   "outputs": [],
   "source": [
    "# Visualization\n",
    "# 최근 정치 관련 뉴스가 많아 WordCloud 결과는 일부러 생략하였습니다.\n",
    "\n",
    "# plt.figure(figsize=(20, 10))\n",
    "# plt.imshow(wordcloud)\n",
    "# plt.axis(\"off\")\n",
    "# plt.title(\"Popular Comments Word Cloud\")\n",
    "# plt.show()"
   ]
  }
 ],
 "metadata": {
  "kernelspec": {
   "display_name": ".venv",
   "language": "python",
   "name": "python3"
  },
  "language_info": {
   "codemirror_mode": {
    "name": "ipython",
    "version": 3
   },
   "file_extension": ".py",
   "mimetype": "text/x-python",
   "name": "python",
   "nbconvert_exporter": "python",
   "pygments_lexer": "ipython3",
   "version": "3.12.8"
  }
 },
 "nbformat": 4,
 "nbformat_minor": 2
}
