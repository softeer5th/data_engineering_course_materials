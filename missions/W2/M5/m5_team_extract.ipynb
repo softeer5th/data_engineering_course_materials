{
 "cells": [
  {
   "cell_type": "code",
   "execution_count": 10,
   "metadata": {},
   "outputs": [],
   "source": [
    "import requests\n",
    "from bs4 import BeautifulSoup\n",
    "import csv\n",
    "import time"
   ]
  },
  {
   "cell_type": "code",
   "execution_count": 15,
   "metadata": {},
   "outputs": [],
   "source": [
    "base_url = \"https://www.etoos.com/teacher/Evaluate/default.asp?\"\n",
    "teacher_id_list = [200180, 200439]\n",
    "page_range = 34\n",
    "# -> 총 데이터 개수 = 선생 수 x 페이지 범위 x 한 페이지 당 개수 = 2 x 34 x 15 = 1020\n",
    "teacher_prefix = \"TEACHER_ID=\"\n",
    "page_prefix = \"&page=\"\n",
    "path = \"./data/\"\n",
    "f_name = 'review.csv'\n",
    "csv_full_name = path + f_name\n",
    "\n",
    "def getFullUrl(teacher_id:int, page:int)->str:\n",
    "    global base_url\n",
    "    url = base_url + teacher_prefix + str(teacher_id) + page_prefix + str(page)\n",
    "    return url"
   ]
  },
  {
   "cell_type": "code",
   "execution_count": null,
   "metadata": {},
   "outputs": [],
   "source": [
    "review_list = []\n",
    "for teacher_id in teacher_id_list:\n",
    "    for page in range(1,page_range + 1):\n",
    "        print(\"curr page:\", page)\n",
    "        # 너무 자주보내면 응답을 안 줌\n",
    "        time.sleep(3)\n",
    "        response = requests.get(getFullUrl(teacher_id=teacher_id, page=page))\n",
    "        # 응답 성공\n",
    "        if response.status_code == 200:\n",
    "            # 한글 깨짐 방지 인코딩\n",
    "            response.encoding = 'euc-kr'\n",
    "            soup = BeautifulSoup(response.text, 'html.parser')\n",
    "            # 첫 페이지면 선생님 이름 가져오기\n",
    "            if page == 1:\n",
    "                teacher_name = soup.select_one(\"div#TeacherLeftGnbEach a.tit\").get_text(strip=True)\n",
    "                print(teacher_name)\n",
    "            # 리뷰가 적힌 행들 가져오기\n",
    "            rows = soup.select('tbody > tr')\n",
    "            for row in rows:\n",
    "                # 등록 번호 찾기\n",
    "                reg_num = row.select_one('td:nth-child(1)').get_text(strip=True)\n",
    "                # BEST 수강 후기는 매 페이지마다 표시되므로 스킵\n",
    "                if reg_num == \"BEST\": continue\n",
    "                # 리뷰 내용 찾기\n",
    "                review_text = row.select_one('td.wr_tit p.tit')\n",
    "                ## 쓸데없는 정보 제거( new! 표시 )\n",
    "                if review_text.span != None:\n",
    "                    review_text.span.decompose()\n",
    "                review_text = review_text.text.strip()\n",
    "                # 등록 날짜 찾기\n",
    "                date = row.select_one('td:nth-child(5)').get_text(strip=True)\n",
    "                # 한 행 출력\n",
    "                print(teacher_name, reg_num, review_text, date) \n",
    "                # csv로 저장할 행 생성\n",
    "                review = [teacher_name, reg_num, review_text, date]\n",
    "                # 전체 리뷰에 추가\n",
    "                review_list.append(review)"
   ]
  },
  {
   "cell_type": "code",
   "execution_count": 17,
   "metadata": {},
   "outputs": [],
   "source": [
    "# 파일로 저장\n",
    "with open(csv_full_name, \"a\", encoding=\"utf-8\", newline=\"\") as csv_file:\n",
    "    writer = csv.writer(csv_file)\n",
    "    # 헤더 작성\n",
    "    writer.writerow([\"teacher_name\", \"no\", \"text\", \"date\"])\n",
    "    # 데이터 작성\n",
    "    writer.writerows(review_list)"
   ]
  }
 ],
 "metadata": {
  "kernelspec": {
   "display_name": "softeer",
   "language": "python",
   "name": "python3"
  },
  "language_info": {
   "codemirror_mode": {
    "name": "ipython",
    "version": 3
   },
   "file_extension": ".py",
   "mimetype": "text/x-python",
   "name": "python",
   "nbconvert_exporter": "python",
   "pygments_lexer": "ipython3",
   "version": "3.10.16"
  }
 },
 "nbformat": 4,
 "nbformat_minor": 2
}
