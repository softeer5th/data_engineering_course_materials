{
 "cells": [
  {
   "cell_type": "code",
   "execution_count": 80,
   "metadata": {},
   "outputs": [],
   "source": [
    "import pandas as pd\n",
    "import matplotlib.pyplot as plt\n",
    "from wordcloud import WordCloud, STOPWORDS\n",
    "from multiprocessing import Pool\n",
    "import multiprocessing as mp\n",
    "import numpy as np\n",
    "import time"
   ]
  },
  {
   "cell_type": "code",
   "execution_count": 81,
   "metadata": {},
   "outputs": [],
   "source": [
    "s_time = time.time()\n",
    "path = './data/'\n",
    "data_name = 'training.1600000.processed.noemoticon.csv'\n",
    "full_name = path + data_name\n",
    "df = pd.read_csv(full_name, usecols=['target','text'])"
   ]
  },
  {
   "cell_type": "code",
   "execution_count": 82,
   "metadata": {},
   "outputs": [],
   "source": [
    "pos_df = df[df['target'] == 4].loc[:,'text'].str.split()\n",
    "neg_df = df[df['target'] == 0].loc[:,'text'].str.split()"
   ]
  },
  {
   "cell_type": "code",
   "execution_count": 83,
   "metadata": {},
   "outputs": [
    {
     "data": {
      "text/plain": [
       "800000    [I, LOVE, @Health4UandPets, u, guys, r, the, b...\n",
       "800001    [im, meeting, up, with, one, of, my, besties, ...\n",
       "800002    [@DaRealSunisaKim, Thanks, for, the, Twitter, ...\n",
       "800003    [Being, sick, can, be, really, cheap, when, it...\n",
       "800004    [@LovesBrooklyn2, he, has, that, effect, on, e...\n",
       "Name: text, dtype: object"
      ]
     },
     "execution_count": 83,
     "metadata": {},
     "output_type": "execute_result"
    }
   ],
   "source": [
    "pos_df.head()"
   ]
  },
  {
   "cell_type": "code",
   "execution_count": 84,
   "metadata": {},
   "outputs": [],
   "source": [
    "pos_exp_df = pos_df.explode().str.lower()\n",
    "neg_exp_df = neg_df.explode().str.lower()"
   ]
  },
  {
   "cell_type": "code",
   "execution_count": 85,
   "metadata": {},
   "outputs": [
    {
     "data": {
      "text/plain": [
       "800000                   i\n",
       "800000                love\n",
       "800000    @health4uandpets\n",
       "800000                   u\n",
       "800000                guys\n",
       "Name: text, dtype: object"
      ]
     },
     "execution_count": 85,
     "metadata": {},
     "output_type": "execute_result"
    }
   ],
   "source": [
    "pos_exp_df.head()"
   ]
  },
  {
   "cell_type": "code",
   "execution_count": 79,
   "metadata": {},
   "outputs": [
    {
     "name": "stdout",
     "output_type": "stream",
     "text": [
      "1.6081297397613525\n"
     ]
    }
   ],
   "source": [
    "t1 = time.time()\n",
    "pos_cnt_dict = pos_exp_df.value_counts().to_dict()\n",
    "print(time.time() - t1)\n",
    "neg_cnt_dict = neg_exp_df.value_counts().to_dict()"
   ]
  },
  {
   "cell_type": "code",
   "execution_count": 77,
   "metadata": {},
   "outputs": [
    {
     "name": "stdout",
     "output_type": "stream",
     "text": [
      "19.570289850234985\n"
     ]
    }
   ],
   "source": [
    "for s_word in STOPWORDS:\n",
    "    pos_cnt_dict.pop(s_word, None)\n",
    "    neg_cnt_dict.pop(s_word, None)\n",
    "\n",
    "e_time = time.time()\n",
    "print(e_time - s_time)"
   ]
  },
  {
   "cell_type": "code",
   "execution_count": 78,
   "metadata": {},
   "outputs": [],
   "source": [
    "# plt.subplot(211)\n",
    "# wc = WordCloud(\n",
    "#     font_path='AppleGothic',\n",
    "#     max_words=200,\n",
    "#     stopwords=STOPWORDS,\n",
    "#     height=800,\n",
    "#     width=1600,\n",
    "#     background_color='white'\n",
    "#     )\n",
    "# pos_wc_img = wc.generate_from_frequencies(pos_cnt_dict)\n",
    "# neg_wc_img = wc.generate_from_frequencies(neg_cnt_dict)\n",
    "# plt.imshow(pos_wc_img)\n",
    "# plt.title('Positive Tweets Word Cloud')\n",
    "# plt.subplot(212)\n",
    "# wc = WordCloud(\n",
    "#     font_path='AppleGothic',\n",
    "#     max_words=200,\n",
    "#     stopwords=STOPWORDS,\n",
    "#     height=800,\n",
    "#     width=1600,\n",
    "#     background_color='white'\n",
    "#     )\n",
    "# neg_wc_img = wc.generate_from_frequencies(neg_cnt_dict)\n",
    "# plt.imshow(neg_wc_img)\n",
    "# plt.title('Negative Tweets Word Cloud')\n",
    "# plt.tight_layout();"
   ]
  }
 ],
 "metadata": {
  "kernelspec": {
   "display_name": "softeer",
   "language": "python",
   "name": "python3"
  },
  "language_info": {
   "codemirror_mode": {
    "name": "ipython",
    "version": 3
   },
   "file_extension": ".py",
   "mimetype": "text/x-python",
   "name": "python",
   "nbconvert_exporter": "python",
   "pygments_lexer": "ipython3",
   "version": "3.10.16"
  }
 },
 "nbformat": 4,
 "nbformat_minor": 2
}
