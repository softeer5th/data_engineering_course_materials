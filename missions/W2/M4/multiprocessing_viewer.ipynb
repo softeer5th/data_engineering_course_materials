{
 "cells": [
  {
   "cell_type": "code",
   "execution_count": 6,
   "metadata": {},
   "outputs": [
    {
     "name": "stdout",
     "output_type": "stream",
     "text": [
      "Task no 0\n",
      "Task no 1\n",
      "Task no 2\n",
      "Task no 3\n",
      "Task no 4\n",
      "Task no 5\n",
      "Task no 6\n",
      "Task no 7\n",
      "Task no 8\n",
      "Task no 9\n",
      "Task no 0 is done by Process-1\n",
      "Task no 2 is done by Process-3\n",
      "Task no 1 is done by Process-2\n",
      "Task no 3 is done by Process-4\n",
      "Task no 4 is done by Process-1\n",
      "Task no 5 is done by Process-3\n",
      "Task no 6 is done by Process-2\n",
      "Task no 7 is done by Process-4\n",
      "Task no 8 is done by Process-3\n",
      "Task no 9 is done by Process-2\n"
     ]
    }
   ],
   "source": [
    "import multiprocessing_all_in_one\n",
    "\n",
    "multiprocessing_all_in_one.main()"
   ]
  }
 ],
 "metadata": {
  "kernelspec": {
   "display_name": ".venv",
   "language": "python",
   "name": "python3"
  },
  "language_info": {
   "name": "python",
   "version": "3.12.8"
  }
 },
 "nbformat": 4,
 "nbformat_minor": 2
}
