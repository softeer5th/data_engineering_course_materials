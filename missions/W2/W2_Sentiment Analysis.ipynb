{
 "cells": [
  {
   "cell_type": "markdown",
   "id": "9d1d3848-1f65-404d-804d-d4f02205d363",
   "metadata": {},
   "source": [
    "## W2M5 내용\n",
    "- 160만 개의 데이터셋 이용하기(missing data 없음)\n",
    "- Positive Sentiment, Negative Sentiment에 각각 해당하는 단어들을 모아서 word cloud를 화면에 표시하기\n",
    "- Word Cloud를 만들 때 사용할 단어들은 sampling을 통해서 선택하기\n",
    "- 하나의 word cloud에는 최대 200개의 단어만 표시하기"
   ]
  },
  {
   "cell_type": "code",
   "execution_count": null,
   "id": "b71127ab-1575-4e04-96c9-7c55e4c2a0f4",
   "metadata": {},
   "outputs": [],
   "source": []
  },
  {
   "cell_type": "code",
   "execution_count": null,
   "id": "24ec8525-f7bf-454d-95e1-32844a4d6e8b",
   "metadata": {},
   "outputs": [],
   "source": []
  },
  {
   "cell_type": "code",
   "execution_count": null,
   "id": "c441c81a-baaf-4ae4-b419-8a5eefca2d61",
   "metadata": {},
   "outputs": [],
   "source": []
  },
  {
   "cell_type": "code",
   "execution_count": null,
   "id": "0da6cc83-2056-4320-a423-c9839435bd09",
   "metadata": {},
   "outputs": [],
   "source": []
  },
  {
   "cell_type": "code",
   "execution_count": null,
   "id": "4c604f09-3d6b-4b56-b796-712bb8c84b27",
   "metadata": {},
   "outputs": [],
   "source": []
  },
  {
   "cell_type": "markdown",
   "id": "9d4a85c0-bdcc-45e1-8a61-383591216311",
   "metadata": {},
   "source": [
    "## Word Cloud의 작동 방법: 어떤 방식으로 시각화가 이루어지나?"
   ]
  },
  {
   "cell_type": "raw",
   "id": "1ccca510-f12f-4711-8f4c-34884089ce39",
   "metadata": {},
   "source": [
    "단어의 출현 횟수가 많을 수록 그 단어의 글자 크기가 크다. "
   ]
  },
  {
   "cell_type": "code",
   "execution_count": null,
   "id": "dcd1f8eb-771a-4d75-a6c8-e6e8d1cc2595",
   "metadata": {},
   "outputs": [],
   "source": []
  },
  {
   "cell_type": "code",
   "execution_count": null,
   "id": "0bbbecc0-6dba-4e4c-805f-9fb0ff4743fc",
   "metadata": {},
   "outputs": [],
   "source": []
  },
  {
   "cell_type": "code",
   "execution_count": null,
   "id": "4bca8402-4008-440f-8b42-8688c094983b",
   "metadata": {},
   "outputs": [],
   "source": []
  },
  {
   "cell_type": "markdown",
   "id": "22a16140-b689-45cd-951d-a9bbb7c1254c",
   "metadata": {},
   "source": [
    "## Predicting Election Results from Twitter Using Machine Learning Algorithms Summary "
   ]
  },
  {
   "cell_type": "markdown",
   "id": "b357b847-26f7-44d6-b1bf-6a97da37cbc5",
   "metadata": {},
   "source": [
    "### Introduction\n",
    "proposed a strategy to anticipate election results by consolidating sub-event discovery and sentimental analysis in micro blogs to break down as well as imagine political inclinations un covered by those social media users\n",
    "\n",
    "### Methodology\n",
    "use twitter data to predict the result of an election by gathering twitter information and evaluate it to anticipate the result of the election by analyzing the sentiment of twitter information about the contestants.\n",
    "\n",
    "### Results\n",
    "SVM with 15-fold corss-validation\n",
    "actual results of the election and our model prediction results are shown and these outcomes are very close to actual results\n",
    "\n",
    "### Conclusions\n",
    "results demonstrated that social media data can foresee with better exactness.\n",
    "\n",
    "### Discussion\n",
    "results demonstrated that social media data can foresee with better exactness.\n"
   ]
  },
  {
   "cell_type": "markdown",
   "id": "058066fc-241d-49c0-b420-b69029b57af8",
   "metadata": {},
   "source": [
    "#### Review\n",
    "기존에는 투표 결과를 예측하기 위해서는 출구조사 등의 방법을 이용했는데 SNS의 비정형화된 데이터를 수집한 뒤, 인공지능 모델을 활용해서 예측한 것이 결과에 부합했다는 사실이 놀라웠다. \n",
    "\n",
    "데이터 하나하나만 보면 그 사람의 의견을 알 수 있지만 전체적으로 어떤 의견을 가지고 있는지 파악하기에는 시간과 비용이 많이 소모된다.\n",
    "\n",
    "컴퓨터 기술을 이용하면 시작적으로, 비용적으로 저렴하게 전체의 의견을 파악할 수 있다."
   ]
  },
  {
   "cell_type": "code",
   "execution_count": null,
   "id": "0524dfaa-e4f6-4abf-9cd7-8fc97a49be00",
   "metadata": {},
   "outputs": [],
   "source": []
  }
 ],
 "metadata": {
  "kernelspec": {
   "display_name": "Python 3 (ipykernel)",
   "language": "python",
   "name": "python3"
  },
  "language_info": {
   "codemirror_mode": {
    "name": "ipython",
    "version": 3
   },
   "file_extension": ".py",
   "mimetype": "text/x-python",
   "name": "python",
   "nbconvert_exporter": "python",
   "pygments_lexer": "ipython3",
   "version": "3.12.8"
  }
 },
 "nbformat": 4,
 "nbformat_minor": 5
}
