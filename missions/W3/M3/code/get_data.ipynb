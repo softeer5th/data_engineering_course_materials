{
 "cells": [
  {
   "cell_type": "code",
   "execution_count": 8,
   "metadata": {},
   "outputs": [],
   "source": [
    "import requests\n",
    "url = \"https://gutenberg.net.au/ebooks01/0100021.txt\"\n",
    "file_name = \"book.txt\"\n",
    "response = requests.get(url)\n",
    "response\n",
    "if response.status_code == 200:\n",
    "    with open(file_name, \"w\") as file:\n",
    "        file.write(response.text)\n"
   ]
  }
 ],
 "metadata": {
  "kernelspec": {
   "display_name": "softeer",
   "language": "python",
   "name": "python3"
  },
  "language_info": {
   "codemirror_mode": {
    "name": "ipython",
    "version": 3
   },
   "file_extension": ".py",
   "mimetype": "text/x-python",
   "name": "python",
   "nbconvert_exporter": "python",
   "pygments_lexer": "ipython3",
   "version": "3.10.16"
  }
 },
 "nbformat": 4,
 "nbformat_minor": 2
}
