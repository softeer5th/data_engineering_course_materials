{
 "cells": [
  {
   "cell_type": "code",
   "execution_count": 6,
   "id": "e6a8d44d-41a0-426e-b3c0-73fbc711386a",
   "metadata": {},
   "outputs": [
    {
     "name": "stdout",
     "output_type": "stream",
     "text": [
      "Collecting pyspark\n",
      "  Downloading pyspark-3.5.4.tar.gz (317.3 MB)\n",
      "\u001b[K     |████████████████████████████████| 317.3 MB 187 kB/s eta 0:00:011\n",
      "\u001b[?25hCollecting py4j==0.10.9.7\n",
      "  Downloading py4j-0.10.9.7-py2.py3-none-any.whl (200 kB)\n",
      "\u001b[K     |████████████████████████████████| 200 kB 32.6 MB/s eta 0:00:01\n",
      "\u001b[?25hBuilding wheels for collected packages: pyspark\n",
      "  Building wheel fodone\n",
      "\u001b[?25h  Created wheel for pyspark: filename=pyspark-3.5.4-py2.py3-none-any.whl size=317849789 sha256=de04f077a97a37dcbee8ba1c19a4813cd5e0aa4e3d9fc11a2fadcc8deac85d93\n",
      "  Stored in directory: /root/.cache/pip/wheels/b9/0f/0a/1bf9096f5b49f278182d7fe905a82209f2090edb24a7352b72\n",
      "Successfully built pyspark\n",
      "Installing collected packages: py4j, pyspark\n",
      "Successfully installed py4j-0.10.9.7 pyspark-3.5.4\n",
      "Note: you may need to restart the kernel to use updated packages.\n"
     ]
    }
   ],
   "source": [
    "pip install pyspark"
   ]
  },
  {
   "cell_type": "code",
   "execution_count": 8,
   "id": "33b86bbf-363a-4e2c-97c9-8459698db3c2",
   "metadata": {},
   "outputs": [
    {
     "name": "stdout",
     "output_type": "stream",
     "text": [
      "+--------+--------------------+---------------------+---------------+-------------+----------+------------------+------------+------------+------------+-----------+-----+-------+----------+------------+---------------------+------------+--------------------+-----------+\n",
      "|VendorID|tpep_pickup_datetime|tpep_dropoff_datetime|passenger_count|trip_distance|RatecodeID|store_and_fwd_flag|PULocationID|DOLocationID|payment_type|fare_amount|extra|mta_tax|tip_amount|tolls_amount|improvement_surcharge|total_amount|congestion_surcharge|Airport_fee|\n",
      "+--------+--------------------+---------------------+---------------+-------------+----------+------------------+------------+------------+------------+-----------+-----+-------+----------+------------+---------------------+------------+--------------------+-----------+\n",
      "|       2| 2024-01-01 00:57:55|  2024-01-01 01:17:43|              1|         1.72|         1|                 N|         186|          79|           2|       17.7|  1.0|    0.5|       0.0|         0.0|                  1.0|        22.7|                 2.5|        0.0|\n",
      "|       1| 2024-01-01 00:03:00|  2024-01-01 00:09:36|              1|          1.8|         1|                 N|         140|         236|           1|       10.0|  3.5|    0.5|      3.75|         0.0|                  1.0|       18.75|                 2.5|        0.0|\n",
      "|       1| 2024-01-01 00:17:06|  2024-01-01 00:35:01|              1|          4.7|         1|                 N|         236|          79|           1|       23.3|  3.5|    0.5|       3.0|         0.0|                  1.0|        31.3|                 2.5|        0.0|\n",
      "|       1| 2024-01-01 00:36:38|  2024-01-01 00:44:56|              1|          1.4|         1|                 N|          79|         211|           1|       10.0|  3.5|    0.5|       2.0|         0.0|                  1.0|        17.0|                 2.5|        0.0|\n",
      "|       1| 2024-01-01 00:46:51|  2024-01-01 00:52:57|              1|          0.8|         1|                 N|         211|         148|           1|        7.9|  3.5|    0.5|       3.2|         0.0|                  1.0|        16.1|                 2.5|        0.0|\n",
      "+--------+--------------------+---------------------+---------------+-------------+----------+------------------+------------+------------+------------+-----------+-----+-------+----------+------------+---------------------+------------+--------------------+-----------+\n",
      "only showing top 5 rows\n",
      "\n"
     ]
    }
   ],
   "source": [
    "from pyspark.sql import SparkSession\n",
    "\n",
    "# Spark 세션 생성\n",
    "spark = SparkSession.builder.appName(\"NYC_Taxi_Analysis\").getOrCreate()\n",
    "\n",
    "# Parquet 파일 로드\n",
    "df = spark.read.parquet(\"/opt/spark/yellow_tripdata_2024-01.parquet\")\n",
    "\n",
    "# 데이터 확인\n",
    "df.show(5)\n"
   ]
  },
  {
   "cell_type": "code",
   "execution_count": 12,
   "id": "d3179009-ae17-4f91-b924-c0d315ce9de1",
   "metadata": {},
   "outputs": [
    {
     "name": "stdout",
     "output_type": "stream",
     "text": [
      "+--------------------+---------------------+-------------+\n",
      "|tpep_pickup_datetime|tpep_dropoff_datetime|trip_distance|\n",
      "+--------------------+---------------------+-------------+\n",
      "| 2024-01-01 00:57:55|  2024-01-01 01:17:43|         1.72|\n",
      "| 2024-01-01 00:03:00|  2024-01-01 00:09:36|          1.8|\n",
      "| 2024-01-01 00:17:06|  2024-01-01 00:35:01|          4.7|\n",
      "| 2024-01-01 00:36:38|  2024-01-01 00:44:56|          1.4|\n",
      "| 2024-01-01 00:46:51|  2024-01-01 00:52:57|          0.8|\n",
      "+--------------------+---------------------+-------------+\n",
      "only showing top 5 rows\n",
      "\n"
     ]
    }
   ],
   "source": [
    "df = df.select(\"tpep_pickup_datetime\", \"tpep_dropoff_datetime\", \"trip_distance\")\n",
    "\n",
    "df.show(5)"
   ]
  },
  {
   "cell_type": "code",
   "execution_count": 14,
   "id": "7250ac29-4398-4aa1-86cd-f6080c0a4cb2",
   "metadata": {},
   "outputs": [
    {
     "name": "stdout",
     "output_type": "stream",
     "text": [
      "+-------------+-------------------+-------------------+\n",
      "|trip_distance|        pickup_time|       dropoff_time|\n",
      "+-------------+-------------------+-------------------+\n",
      "|         1.72|2024-01-01 00:57:55|2024-01-01 01:17:43|\n",
      "|          1.8|2024-01-01 00:03:00|2024-01-01 00:09:36|\n",
      "|          4.7|2024-01-01 00:17:06|2024-01-01 00:35:01|\n",
      "|          1.4|2024-01-01 00:36:38|2024-01-01 00:44:56|\n",
      "|          0.8|2024-01-01 00:46:51|2024-01-01 00:52:57|\n",
      "+-------------+-------------------+-------------------+\n",
      "only showing top 5 rows\n",
      "\n"
     ]
    }
   ],
   "source": [
    "from pyspark.sql.functions import col, to_timestamp\n",
    "\n",
    "# 날짜 데이터 변환\n",
    "df = df.withColumn(\"pickup_time\", to_timestamp(col(\"tpep_pickup_datetime\"))) \\\n",
    "       .withColumn(\"dropoff_time\", to_timestamp(col(\"tpep_dropoff_datetime\"))) \\\n",
    "       .drop(\"tpep_pickup_datetime\", \"tpep_dropoff_datetime\")\n",
    "df.show(5)"
   ]
  },
  {
   "cell_type": "code",
   "execution_count": 15,
   "id": "aebb50aa-deff-4e70-851f-4e78a98385da",
   "metadata": {},
   "outputs": [
    {
     "name": "stdout",
     "output_type": "stream",
     "text": [
      "+-------------+-------------------+-------------------+\n",
      "|trip_distance|        pickup_time|       dropoff_time|\n",
      "+-------------+-------------------+-------------------+\n",
      "|         1.72|2024-01-01 00:57:55|2024-01-01 01:17:43|\n",
      "|          1.8|2024-01-01 00:03:00|2024-01-01 00:09:36|\n",
      "|          4.7|2024-01-01 00:17:06|2024-01-01 00:35:01|\n",
      "|          1.4|2024-01-01 00:36:38|2024-01-01 00:44:56|\n",
      "|          0.8|2024-01-01 00:46:51|2024-01-01 00:52:57|\n",
      "+-------------+-------------------+-------------------+\n",
      "only showing top 5 rows\n",
      "\n"
     ]
    }
   ],
   "source": [
    "# 비정상적인 데이터 제거 (이동 거리 0 이하, 승객 수 0 이하 제거)\n",
    "df = df.filter((col(\"trip_distance\") > 0) & (col(\"passenger_count\") > 0))\n",
    "\n",
    "# 결과 확인\n",
    "df.show(5)"
   ]
  },
  {
   "cell_type": "code",
   "execution_count": 16,
   "id": "cac0ca3f-9a38-4e02-8c7a-3d353f4dda80",
   "metadata": {},
   "outputs": [
    {
     "name": "stdout",
     "output_type": "stream",
     "text": [
      "평균 이동 시간: 944.0489715314447 초\n"
     ]
    }
   ],
   "source": [
    "# 평균 이동 시간 계산\n",
    "\n",
    "from pyspark.sql.functions import unix_timestamp, avg\n",
    "\n",
    "df = df.withColumn(\"trip_duration\", unix_timestamp(col(\"dropoff_time\")) - unix_timestamp(col(\"pickup_time\")))\n",
    "\n",
    "# 평균 이동 시간 계산\n",
    "avg_duration = df.select(avg(\"trip_duration\")).collect()[0][0]\n",
    "print(f\"평균 이동 시간: {avg_duration} 초\")\n"
   ]
  },
  {
   "cell_type": "code",
   "execution_count": 18,
   "id": "371b26cf-e5a2-45aa-9339-c6c805ce9e5a",
   "metadata": {},
   "outputs": [
    {
     "name": "stdout",
     "output_type": "stream",
     "text": [
      "평균 이동 거리: 3.3032988599662114 마일\n"
     ]
    }
   ],
   "source": [
    "# 평균 이동 거리 계산\n",
    "\n",
    "avg_distance = df.select(avg(\"trip_distance\")).collect()[0][0]\n",
    "print(f\"평균 이동 거리: {avg_distance} 마일\")\n"
   ]
  },
  {
   "cell_type": "code",
   "execution_count": 19,
   "id": "0331e162-c0a2-4f55-8a9e-707f3428d607",
   "metadata": {},
   "outputs": [
    {
     "name": "stderr",
     "output_type": "stream",
     "text": [
      "                                                                                "
     ]
    }
   ],
   "source": [
    "df.write.mode(\"overwrite\").parquet(\"output/nyc_taxi_analysis.parquet\")"
   ]
  },
  {
   "cell_type": "code",
   "execution_count": null,
   "id": "d30a70b2-ca8b-49d9-b112-d73e20ada165",
   "metadata": {},
   "outputs": [],
   "source": []
  }
 ],
 "metadata": {
  "kernelspec": {
   "display_name": "Python 3 (ipykernel)",
   "language": "python",
   "name": "python3"
  },
  "language_info": {
   "codemirror_mode": {
    "name": "ipython",
    "version": 3
   },
   "file_extension": ".py",
   "mimetype": "text/x-python",
   "name": "python",
   "nbconvert_exporter": "python",
   "pygments_lexer": "ipython3",
   "version": "3.9.2"
  }
 },
 "nbformat": 4,
 "nbformat_minor": 5
}
